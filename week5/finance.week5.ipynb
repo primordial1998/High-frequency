{
 "cells": [
  {
   "cell_type": "markdown",
   "metadata": {},
   "source": [
    "\n"
   ]
  },
  {
   "cell_type": "code",
   "execution_count": 22,
   "metadata": {
    "scrolled": true
   },
   "outputs": [
    {
     "data": {
      "text/plain": [
       "<function helper.get_signal_performance_result(all_period_signal, signal_dire, period, product_list, train_sample, test_sample)>"
      ]
     },
     "execution_count": 22,
     "metadata": {},
     "output_type": "execute_result"
    }
   ],
   "source": [
    "from helper import *\n",
    "from stats import *\n",
    "from imp import reload   \n",
    "import helper\n",
    "import stats\n",
    "reload(helper)\n",
    "reload(stats)\n",
    "get_signal_performance_result"
   ]
  },
  {
   "cell_type": "code",
   "execution_count": 23,
   "metadata": {},
   "outputs": [],
   "source": [
    "## parallel generate the distribution of a signal\n",
    "def par_get_all_signal(signal_name, file_list, product, period, HEAD_PATH=\"d:/intern\", SAVE_PATH=\"e:/intern\", DATA_PATH=\"d:/intern\"):\n",
    "    n_files = len(file_list)\n",
    "    all_signal = np.array([])\n",
    "    for file in file_list:\n",
    "        S = load(HEAD_PATH+\"/tmp pkl/\"+product+\"/\"+signal_name+\"/\"+file) ## signal\n",
    "        good = load(DATA_PATH+\"/good pkl/\"+product+\"/\"+file) ## good singal\n",
    "        signal = S[good]\n",
    "        moving_average(signal,period)\n",
    "        chosen = (np.arange(len(signal))+1) % period==0\n",
    "        all_signal = np.concatenate((all_signal, signal[chosen]), axis=0)\n",
    "    save(all_signal, SAVE_PATH+\"/all signal/\"+product+\".\"+signal_name+\".pkl\")"
   ]
  },
  {
   "cell_type": "markdown",
   "metadata": {},
   "source": [
    "- number of cores, set this number according to your computer"
   ]
  },
  {
   "cell_type": "code",
   "execution_count": 3,
   "metadata": {},
   "outputs": [
    {
     "data": {
      "text/plain": [
       "16"
      ]
     },
     "execution_count": 3,
     "metadata": {},
     "output_type": "execute_result"
    }
   ],
   "source": [
    "CORE_NUM = int(os.environ['NUMBER_OF_PROCESSORS'])\n",
    "CORE_NUM"
   ]
  },
  {
   "cell_type": "markdown",
   "metadata": {},
   "source": [
    "- sample product, you can change to your specific product symbol"
   ]
  },
  {
   "cell_type": "code",
   "execution_count": 4,
   "metadata": {},
   "outputs": [],
   "source": [
    "product_list = [\"IF\", \"IH\", \"IC\", \"T\", \"TF\"]"
   ]
  },
  {
   "cell_type": "code",
   "execution_count": 5,
   "metadata": {},
   "outputs": [],
   "source": [
    "import dask\n",
    "from dask import compute, delayed"
   ]
  },
  {
   "cell_type": "markdown",
   "metadata": {},
   "source": [
    "- sample period"
   ]
  },
  {
   "cell_type": "code",
   "execution_count": 6,
   "metadata": {},
   "outputs": [],
   "source": [
    "period = 4096"
   ]
  },
  {
   "cell_type": "code",
   "execution_count": 7,
   "metadata": {},
   "outputs": [
    {
     "data": {
      "text/plain": [
       "1092"
      ]
     },
     "execution_count": 7,
     "metadata": {},
     "output_type": "execute_result"
    }
   ],
   "source": [
    "all_dates = os.listdir(DATA_PATH + product_list[0])\n",
    "all_dates.sort()\n",
    "all_dates = np.array(all_dates)\n",
    "n_days = len(all_dates)\n",
    "n_days\n"
   ]
  },
  {
   "cell_type": "markdown",
   "metadata": {},
   "source": [
    "- choose an example day"
   ]
  },
  {
   "cell_type": "code",
   "execution_count": 8,
   "metadata": {},
   "outputs": [],
   "source": [
    "train_sample = all_dates<\"2018\"\n",
    "test_sample = all_dates>\"2018\"\n",
    "date_str = [n[0:8] for n in all_dates]\n",
    "format_dates = np.array([pd.to_datetime(d) for d in date_str])\n"
   ]
  },
  {
   "cell_type": "markdown",
   "metadata": {},
   "source": [
    "- Now we start our new topics:\n",
    "- cross-period signal\n",
    "- cross-symbol signal\n",
    "- arbitrage"
   ]
  },
  {
   "cell_type": "markdown",
   "metadata": {},
   "source": [
    "- First, we look at cross-period signal"
   ]
  },
  {
   "cell_type": "code",
   "execution_count": 10,
   "metadata": {},
   "outputs": [],
   "source": [
    "file = all_dates[10]\n",
    "product = \"IF\"\n",
    "SAVE_PATH = \"e:/intern\"\n",
    "signal_func = \"trade.imb\"\n",
    "period_list =  np.power(2, range(10,13))\n",
    "data = load(HEAD_PATH+\"/pkl tick/\"+product+\"/\"+file)"
   ]
  },
  {
   "cell_type": "markdown",
   "metadata": {},
   "source": [
    "- we can first generate good index of data\n",
    "- because loading data each time is too time consuming"
   ]
  },
  {
   "cell_type": "code",
   "execution_count": 11,
   "metadata": {},
   "outputs": [],
   "source": [
    "import os\n",
    "os.makedirs(HEAD_PATH + \"/good pkl\", exist_ok=True)\n",
    "for product in product_list:\n",
    "    os.makedirs(HEAD_PATH + \"/good pkl/\" + product, exist_ok=True)"
   ]
  },
  {
   "cell_type": "code",
   "execution_count": 1,
   "metadata": {},
   "outputs": [],
   "source": [
    "## calculate linear combination of signals using parameter weight\n",
    "def get_comb_signal(date, signal_func, product, period_list, HEAD_PATH, weight):\n",
    "    comb_signal = [] ## initial signal is empty\n",
    "    #good = load(HEAD_PATH+\"/good pkl/\"+product+\"/\"+date)\n",
    "    n_period = len(period_list) ## number of period\n",
    "    for i in range(n_period):\n",
    "        signal_name = signal_func+\".\"+str(period_list[i])\n",
    "        S = load(HEAD_PATH+\"/tmp pkl/\"+product+\"/\"+signal_name+\"/\"+date)\n",
    "        #S = S/np.std(S[good])/n_period\n",
    "        S = S*weight[i]\n",
    "        if len(comb_signal)==0: # if it's the first signal, just give it to comb_signal\n",
    "            comb_signal=S\n",
    "        else: \n",
    "            comb_signal += S ## otherwise, add the weighed value to comb_signal\n",
    "    save(comb_signal, HEAD_PATH+\"/tmp pkl/\"+product+\"/\"+signal_func+\".comb/\"+date) ## save the final result\n",
    "    "
   ]
  },
  {
   "cell_type": "code",
   "execution_count": 13,
   "metadata": {},
   "outputs": [],
   "source": [
    "os.makedirs(HEAD_PATH+\"/all signal\", exist_ok=True)\n",
    "dire_signal_list = [\"trade.imb\", \"total.trade.imb\", \"nr\", \"dbook\", \"range.pos\", \"price.osci\", \"ma.dif.10\", \"kdj.k\", \"kdj.j\"]\n",
    "range_signal_list = [\"\", \"range\", \"std\", \"volume.open.ratio\", \"trend.index\"]\n",
    "all_signal_list = np.array([])\n",
    "for range_signal in range_signal_list:\n",
    "    for dire_signal in dire_signal_list:\n",
    "        if len(range_signal)==0:\n",
    "            signal_name = dire_signal\n",
    "        else:\n",
    "            signal_name = dire_signal+\".\"+range_signal\n",
    "        all_signal_list = np.append(all_signal_list,signal_name)\n",
    "len(all_signal_list)\n",
    "all_comb_list = [signal+\".comb\" for signal in all_signal_list]\n",
    "all_period_signal = [signal+\".4096\" for signal in all_signal_list]\n",
    "weight = (1/np.sqrt(period_list))/(sum(1/np.sqrt(period_list)))"
   ]
  },
  {
   "cell_type": "code",
   "execution_count": 17,
   "metadata": {},
   "outputs": [],
   "source": [
    "for product in product_list:\n",
    "    for signal_func in all_signal_list:\n",
    "        os.makedirs(SAVE_PATH+\"/tmp pkl/\"+product+\"/\"+signal_func+\".comb\", exist_ok=True)"
   ]
  },
  {
   "cell_type": "code",
   "execution_count": 18,
   "metadata": {},
   "outputs": [
    {
     "name": "stdout",
     "output_type": "stream",
     "text": [
      "IF trade.imb\n",
      "IF total.trade.imb\n",
      "IF nr\n",
      "IF dbook\n",
      "IF range.pos\n",
      "IF price.osci\n",
      "IF ma.dif.10\n",
      "IF kdj.k\n",
      "IF kdj.j\n",
      "IF trade.imb.range\n",
      "IF total.trade.imb.range\n",
      "IF nr.range\n",
      "IF dbook.range\n",
      "IF range.pos.range\n",
      "IF price.osci.range\n",
      "IF ma.dif.10.range\n",
      "IF kdj.k.range\n",
      "IF kdj.j.range\n",
      "IF trade.imb.std\n",
      "IF total.trade.imb.std\n",
      "IF nr.std\n",
      "IF dbook.std\n",
      "IF range.pos.std\n",
      "IF price.osci.std\n",
      "IF ma.dif.10.std\n",
      "IF kdj.k.std\n",
      "IF kdj.j.std\n",
      "IF trade.imb.volume.open.ratio\n",
      "IF total.trade.imb.volume.open.ratio\n",
      "IF nr.volume.open.ratio\n",
      "IF dbook.volume.open.ratio\n",
      "IF range.pos.volume.open.ratio\n",
      "IF price.osci.volume.open.ratio\n",
      "IF ma.dif.10.volume.open.ratio\n",
      "IF kdj.k.volume.open.ratio\n",
      "IF kdj.j.volume.open.ratio\n",
      "IF trade.imb.trend.index\n",
      "IF total.trade.imb.trend.index\n",
      "IF nr.trend.index\n",
      "IF dbook.trend.index\n",
      "IF range.pos.trend.index\n",
      "IF price.osci.trend.index\n",
      "IF ma.dif.10.trend.index\n",
      "IF kdj.k.trend.index\n",
      "IF kdj.j.trend.index\n",
      "IH trade.imb\n",
      "IH total.trade.imb\n",
      "IH nr\n",
      "IH dbook\n",
      "IH range.pos\n",
      "IH price.osci\n",
      "IH ma.dif.10\n",
      "IH kdj.k\n",
      "IH kdj.j\n",
      "IH trade.imb.range\n",
      "IH total.trade.imb.range\n",
      "IH nr.range\n",
      "IH dbook.range\n",
      "IH range.pos.range\n",
      "IH price.osci.range\n",
      "IH ma.dif.10.range\n",
      "IH kdj.k.range\n",
      "IH kdj.j.range\n",
      "IH trade.imb.std\n",
      "IH total.trade.imb.std\n",
      "IH nr.std\n",
      "IH dbook.std\n",
      "IH range.pos.std\n",
      "IH price.osci.std\n",
      "IH ma.dif.10.std\n",
      "IH kdj.k.std\n",
      "IH kdj.j.std\n",
      "IH trade.imb.volume.open.ratio\n",
      "IH total.trade.imb.volume.open.ratio\n",
      "IH nr.volume.open.ratio\n",
      "IH dbook.volume.open.ratio\n",
      "IH range.pos.volume.open.ratio\n",
      "IH price.osci.volume.open.ratio\n",
      "IH ma.dif.10.volume.open.ratio\n",
      "IH kdj.k.volume.open.ratio\n",
      "IH kdj.j.volume.open.ratio\n",
      "IH trade.imb.trend.index\n",
      "IH total.trade.imb.trend.index\n",
      "IH nr.trend.index\n",
      "IH dbook.trend.index\n",
      "IH range.pos.trend.index\n",
      "IH price.osci.trend.index\n",
      "IH ma.dif.10.trend.index\n",
      "IH kdj.k.trend.index\n",
      "IH kdj.j.trend.index\n",
      "IC trade.imb\n",
      "IC total.trade.imb\n",
      "IC nr\n",
      "IC dbook\n",
      "IC range.pos\n",
      "IC price.osci\n",
      "IC ma.dif.10\n",
      "IC kdj.k\n",
      "IC kdj.j\n",
      "IC trade.imb.range\n",
      "IC total.trade.imb.range\n",
      "IC nr.range\n",
      "IC dbook.range\n",
      "IC range.pos.range\n",
      "IC price.osci.range\n",
      "IC ma.dif.10.range\n",
      "IC kdj.k.range\n",
      "IC kdj.j.range\n",
      "IC trade.imb.std\n",
      "IC total.trade.imb.std\n",
      "IC nr.std\n",
      "IC dbook.std\n",
      "IC range.pos.std\n",
      "IC price.osci.std\n",
      "IC ma.dif.10.std\n",
      "IC kdj.k.std\n",
      "IC kdj.j.std\n",
      "IC trade.imb.volume.open.ratio\n",
      "IC total.trade.imb.volume.open.ratio\n",
      "IC nr.volume.open.ratio\n",
      "IC dbook.volume.open.ratio\n",
      "IC range.pos.volume.open.ratio\n",
      "IC price.osci.volume.open.ratio\n",
      "IC ma.dif.10.volume.open.ratio\n",
      "IC kdj.k.volume.open.ratio\n",
      "IC kdj.j.volume.open.ratio\n",
      "IC trade.imb.trend.index\n",
      "IC total.trade.imb.trend.index\n",
      "IC nr.trend.index\n",
      "IC dbook.trend.index\n",
      "IC range.pos.trend.index\n",
      "IC price.osci.trend.index\n",
      "IC ma.dif.10.trend.index\n",
      "IC kdj.k.trend.index\n",
      "IC kdj.j.trend.index\n",
      "T trade.imb\n",
      "T total.trade.imb\n",
      "T nr\n",
      "T dbook\n",
      "T range.pos\n",
      "T price.osci\n",
      "T ma.dif.10\n",
      "T kdj.k\n",
      "T kdj.j\n",
      "T trade.imb.range\n",
      "T total.trade.imb.range\n",
      "T nr.range\n",
      "T dbook.range\n",
      "T range.pos.range\n",
      "T price.osci.range\n",
      "T ma.dif.10.range\n",
      "T kdj.k.range\n",
      "T kdj.j.range\n",
      "T trade.imb.std\n",
      "T total.trade.imb.std\n",
      "T nr.std\n",
      "T dbook.std\n",
      "T range.pos.std\n",
      "T price.osci.std\n",
      "T ma.dif.10.std\n",
      "T kdj.k.std\n",
      "T kdj.j.std\n",
      "T trade.imb.volume.open.ratio\n",
      "T total.trade.imb.volume.open.ratio\n",
      "T nr.volume.open.ratio\n",
      "T dbook.volume.open.ratio\n",
      "T range.pos.volume.open.ratio\n",
      "T price.osci.volume.open.ratio\n",
      "T ma.dif.10.volume.open.ratio\n",
      "T kdj.k.volume.open.ratio\n",
      "T kdj.j.volume.open.ratio\n",
      "T trade.imb.trend.index\n",
      "T total.trade.imb.trend.index\n",
      "T nr.trend.index\n",
      "T dbook.trend.index\n",
      "T range.pos.trend.index\n",
      "T price.osci.trend.index\n",
      "T ma.dif.10.trend.index\n",
      "T kdj.k.trend.index\n",
      "T kdj.j.trend.index\n",
      "TF trade.imb\n",
      "TF total.trade.imb\n",
      "TF nr\n",
      "TF dbook\n",
      "TF range.pos\n",
      "TF price.osci\n",
      "TF ma.dif.10\n",
      "TF kdj.k\n",
      "TF kdj.j\n",
      "TF trade.imb.range\n",
      "TF total.trade.imb.range\n",
      "TF nr.range\n",
      "TF dbook.range\n",
      "TF range.pos.range\n",
      "TF price.osci.range\n",
      "TF ma.dif.10.range\n",
      "TF kdj.k.range\n",
      "TF kdj.j.range\n",
      "TF trade.imb.std\n",
      "TF total.trade.imb.std\n",
      "TF nr.std\n",
      "TF dbook.std\n",
      "TF range.pos.std\n",
      "TF price.osci.std\n",
      "TF ma.dif.10.std\n",
      "TF kdj.k.std\n",
      "TF kdj.j.std\n",
      "TF trade.imb.volume.open.ratio\n",
      "TF total.trade.imb.volume.open.ratio\n",
      "TF nr.volume.open.ratio\n",
      "TF dbook.volume.open.ratio\n",
      "TF range.pos.volume.open.ratio\n",
      "TF price.osci.volume.open.ratio\n",
      "TF ma.dif.10.volume.open.ratio\n",
      "TF kdj.k.volume.open.ratio\n",
      "TF kdj.j.volume.open.ratio\n",
      "TF trade.imb.trend.index\n",
      "TF total.trade.imb.trend.index\n",
      "TF nr.trend.index\n",
      "TF dbook.trend.index\n",
      "TF range.pos.trend.index\n",
      "TF price.osci.trend.index\n",
      "TF ma.dif.10.trend.index\n",
      "TF kdj.k.trend.index\n",
      "TF kdj.j.trend.index\n",
      "Wall time: 3h 23min 39s\n"
     ]
    }
   ],
   "source": [
    "%%time\n",
    "for product in product_list:\n",
    "    for signal_func in all_signal_list:\n",
    "        print(product,signal_func)\n",
    "        parLapply(CORE_NUM, all_dates, get_comb_signal,signal_func=signal_func,  \n",
    "                  product=product, period_list=period_list,HEAD_PATH=SAVE_PATH, weight=weight)\n",
    "        \n",
    "##Wall time: 3h 23min 39s"
   ]
  },
  {
   "cell_type": "code",
   "execution_count": 25,
   "metadata": {},
   "outputs": [
    {
     "name": "stdout",
     "output_type": "stream",
     "text": [
      "IF\n",
      "IH\n",
      "IC\n",
      "T\n",
      "TF\n",
      "Wall time: 1h 33min 15s\n"
     ]
    }
   ],
   "source": [
    "%%time\n",
    "SAVE_PATH = \"e:/intern\"\n",
    "for product in product_list:\n",
    "    print(product)\n",
    "    parLapply(CORE_NUM, all_comb_list, par_get_all_signal, file_list=all_dates, product=product, period=4096, HEAD_PATH=SAVE_PATH,\n",
    "             SAVE_PATH = SAVE_PATH, DATA_PATH=SAVE_PATH);\n",
    "\n",
    "# IF\n",
    "# IH\n",
    "# IC\n",
    "# T\n",
    "# TF\n",
    "# Wall time: 1h 33min 15s"
   ]
  },
  {
   "cell_type": "code",
   "execution_count": 26,
   "metadata": {},
   "outputs": [
    {
     "name": "stdout",
     "output_type": "stream",
     "text": [
      "IF trade.imb\n",
      "reverse=1\n",
      "reverse=-1\n",
      "IF total.trade.imb\n",
      "reverse=1\n",
      "reverse=-1\n",
      "IF nr\n",
      "reverse=1\n",
      "reverse=-1\n",
      "IF dbook\n",
      "reverse=1\n",
      "reverse=-1\n",
      "IF range.pos\n",
      "reverse=1\n",
      "reverse=-1\n",
      "IF price.osci\n",
      "reverse=1\n"
     ]
    },
    {
     "name": "stderr",
     "output_type": "stream",
     "text": [
      "d:\\Anaconda3\\lib\\site-packages\\numpy\\lib\\function_base.py:3826: RuntimeWarning: Invalid value encountered in percentile\n",
      "  interpolation=interpolation)\n"
     ]
    },
    {
     "name": "stdout",
     "output_type": "stream",
     "text": [
      "reverse=-1\n",
      "IF ma.dif.10\n",
      "reverse=1\n",
      "reverse=-1\n",
      "IF kdj.k\n",
      "reverse=1\n",
      "reverse=-1\n",
      "IF kdj.j\n",
      "reverse=1\n",
      "reverse=-1\n",
      "IF trade.imb.range\n"
     ]
    },
    {
     "name": "stderr",
     "output_type": "stream",
     "text": [
      "d:\\Anaconda3\\lib\\site-packages\\numpy\\lib\\function_base.py:3826: RuntimeWarning: Invalid value encountered in percentile\n",
      "  interpolation=interpolation)\n"
     ]
    },
    {
     "name": "stdout",
     "output_type": "stream",
     "text": [
      "reverse=1\n",
      "reverse=-1\n",
      "IF total.trade.imb.range\n",
      "reverse=1\n"
     ]
    },
    {
     "name": "stderr",
     "output_type": "stream",
     "text": [
      "d:\\Anaconda3\\lib\\site-packages\\numpy\\lib\\function_base.py:3826: RuntimeWarning: Invalid value encountered in percentile\n",
      "  interpolation=interpolation)\n"
     ]
    },
    {
     "name": "stdout",
     "output_type": "stream",
     "text": [
      "reverse=-1\n",
      "IF nr.range\n",
      "reverse=1\n"
     ]
    },
    {
     "name": "stderr",
     "output_type": "stream",
     "text": [
      "d:\\Anaconda3\\lib\\site-packages\\numpy\\lib\\function_base.py:3826: RuntimeWarning: Invalid value encountered in percentile\n",
      "  interpolation=interpolation)\n"
     ]
    },
    {
     "name": "stdout",
     "output_type": "stream",
     "text": [
      "reverse=-1\n",
      "IF dbook.range\n",
      "reverse=1\n"
     ]
    },
    {
     "name": "stderr",
     "output_type": "stream",
     "text": [
      "d:\\Anaconda3\\lib\\site-packages\\numpy\\lib\\function_base.py:3826: RuntimeWarning: Invalid value encountered in percentile\n",
      "  interpolation=interpolation)\n"
     ]
    },
    {
     "name": "stdout",
     "output_type": "stream",
     "text": [
      "reverse=-1\n",
      "IF range.pos.range\n",
      "reverse=1\n"
     ]
    },
    {
     "name": "stderr",
     "output_type": "stream",
     "text": [
      "d:\\Anaconda3\\lib\\site-packages\\numpy\\lib\\function_base.py:3826: RuntimeWarning: Invalid value encountered in percentile\n",
      "  interpolation=interpolation)\n"
     ]
    },
    {
     "name": "stdout",
     "output_type": "stream",
     "text": [
      "reverse=-1\n",
      "IF price.osci.range\n",
      "reverse=1\n"
     ]
    },
    {
     "name": "stderr",
     "output_type": "stream",
     "text": [
      "d:\\Anaconda3\\lib\\site-packages\\numpy\\lib\\function_base.py:3826: RuntimeWarning: Invalid value encountered in percentile\n",
      "  interpolation=interpolation)\n"
     ]
    },
    {
     "name": "stdout",
     "output_type": "stream",
     "text": [
      "reverse=-1\n",
      "IF ma.dif.10.range\n",
      "reverse=1\n"
     ]
    },
    {
     "name": "stderr",
     "output_type": "stream",
     "text": [
      "d:\\Anaconda3\\lib\\site-packages\\numpy\\lib\\function_base.py:3826: RuntimeWarning: Invalid value encountered in percentile\n",
      "  interpolation=interpolation)\n"
     ]
    },
    {
     "name": "stdout",
     "output_type": "stream",
     "text": [
      "reverse=-1\n",
      "IF kdj.k.range\n",
      "reverse=1\n"
     ]
    },
    {
     "name": "stderr",
     "output_type": "stream",
     "text": [
      "d:\\Anaconda3\\lib\\site-packages\\numpy\\lib\\function_base.py:3826: RuntimeWarning: Invalid value encountered in percentile\n",
      "  interpolation=interpolation)\n"
     ]
    },
    {
     "name": "stdout",
     "output_type": "stream",
     "text": [
      "reverse=-1\n",
      "IF kdj.j.range\n",
      "reverse=1\n"
     ]
    },
    {
     "name": "stderr",
     "output_type": "stream",
     "text": [
      "d:\\Anaconda3\\lib\\site-packages\\numpy\\lib\\function_base.py:3826: RuntimeWarning: Invalid value encountered in percentile\n",
      "  interpolation=interpolation)\n"
     ]
    },
    {
     "name": "stdout",
     "output_type": "stream",
     "text": [
      "reverse=-1\n",
      "IF trade.imb.std\n",
      "reverse=1\n",
      "reverse=-1\n",
      "IF total.trade.imb.std\n",
      "reverse=1\n",
      "reverse=-1\n",
      "IF nr.std\n",
      "reverse=1\n",
      "reverse=-1\n",
      "IF dbook.std\n",
      "reverse=1\n",
      "reverse=-1\n",
      "IF range.pos.std\n",
      "reverse=1\n",
      "reverse=-1\n",
      "IF price.osci.std\n"
     ]
    },
    {
     "name": "stderr",
     "output_type": "stream",
     "text": [
      "d:\\Anaconda3\\lib\\site-packages\\numpy\\lib\\function_base.py:3826: RuntimeWarning: Invalid value encountered in percentile\n",
      "  interpolation=interpolation)\n"
     ]
    },
    {
     "name": "stdout",
     "output_type": "stream",
     "text": [
      "reverse=1\n",
      "reverse=-1\n",
      "IF ma.dif.10.std\n",
      "reverse=1\n",
      "reverse=-1\n",
      "IF kdj.k.std\n",
      "reverse=1\n",
      "reverse=-1\n",
      "IF kdj.j.std\n",
      "reverse=1\n",
      "reverse=-1\n",
      "IF trade.imb.volume.open.ratio\n",
      "reverse=1\n",
      "reverse=-1\n",
      "IF total.trade.imb.volume.open.ratio\n",
      "reverse=1\n",
      "reverse=-1\n",
      "IF nr.volume.open.ratio\n",
      "reverse=1\n",
      "reverse=-1\n",
      "IF dbook.volume.open.ratio\n",
      "reverse=1\n",
      "reverse=-1\n",
      "IF range.pos.volume.open.ratio\n",
      "reverse=1\n",
      "reverse=-1\n",
      "IF price.osci.volume.open.ratio\n",
      "reverse=1\n"
     ]
    },
    {
     "name": "stderr",
     "output_type": "stream",
     "text": [
      "d:\\Anaconda3\\lib\\site-packages\\numpy\\lib\\function_base.py:3826: RuntimeWarning: Invalid value encountered in percentile\n",
      "  interpolation=interpolation)\n"
     ]
    },
    {
     "name": "stdout",
     "output_type": "stream",
     "text": [
      "reverse=-1\n",
      "IF ma.dif.10.volume.open.ratio\n",
      "reverse=1\n",
      "reverse=-1\n",
      "IF kdj.k.volume.open.ratio\n",
      "reverse=1\n",
      "reverse=-1\n",
      "IF kdj.j.volume.open.ratio\n",
      "reverse=1\n",
      "reverse=-1\n",
      "IF trade.imb.trend.index\n"
     ]
    },
    {
     "name": "stderr",
     "output_type": "stream",
     "text": [
      "d:\\Anaconda3\\lib\\site-packages\\numpy\\lib\\function_base.py:3826: RuntimeWarning: Invalid value encountered in percentile\n",
      "  interpolation=interpolation)\n"
     ]
    },
    {
     "name": "stdout",
     "output_type": "stream",
     "text": [
      "reverse=1\n",
      "reverse=-1\n",
      "IF total.trade.imb.trend.index\n",
      "reverse=1\n"
     ]
    },
    {
     "name": "stderr",
     "output_type": "stream",
     "text": [
      "d:\\Anaconda3\\lib\\site-packages\\numpy\\lib\\function_base.py:3826: RuntimeWarning: Invalid value encountered in percentile\n",
      "  interpolation=interpolation)\n"
     ]
    },
    {
     "name": "stdout",
     "output_type": "stream",
     "text": [
      "reverse=-1\n",
      "IF nr.trend.index\n",
      "reverse=1\n"
     ]
    },
    {
     "name": "stderr",
     "output_type": "stream",
     "text": [
      "d:\\Anaconda3\\lib\\site-packages\\numpy\\lib\\function_base.py:3826: RuntimeWarning: Invalid value encountered in percentile\n",
      "  interpolation=interpolation)\n"
     ]
    },
    {
     "name": "stdout",
     "output_type": "stream",
     "text": [
      "reverse=-1\n",
      "IF dbook.trend.index\n",
      "reverse=1\n"
     ]
    },
    {
     "name": "stderr",
     "output_type": "stream",
     "text": [
      "d:\\Anaconda3\\lib\\site-packages\\numpy\\lib\\function_base.py:3826: RuntimeWarning: Invalid value encountered in percentile\n",
      "  interpolation=interpolation)\n"
     ]
    },
    {
     "name": "stdout",
     "output_type": "stream",
     "text": [
      "reverse=-1\n",
      "IF range.pos.trend.index\n",
      "reverse=1\n"
     ]
    },
    {
     "name": "stderr",
     "output_type": "stream",
     "text": [
      "d:\\Anaconda3\\lib\\site-packages\\numpy\\lib\\function_base.py:3826: RuntimeWarning: Invalid value encountered in percentile\n",
      "  interpolation=interpolation)\n"
     ]
    },
    {
     "name": "stdout",
     "output_type": "stream",
     "text": [
      "reverse=-1\n",
      "IF price.osci.trend.index\n",
      "reverse=1\n"
     ]
    },
    {
     "name": "stderr",
     "output_type": "stream",
     "text": [
      "d:\\Anaconda3\\lib\\site-packages\\numpy\\lib\\function_base.py:3826: RuntimeWarning: Invalid value encountered in percentile\n",
      "  interpolation=interpolation)\n"
     ]
    },
    {
     "name": "stdout",
     "output_type": "stream",
     "text": [
      "reverse=-1\n",
      "IF ma.dif.10.trend.index\n",
      "reverse=1\n"
     ]
    },
    {
     "name": "stderr",
     "output_type": "stream",
     "text": [
      "d:\\Anaconda3\\lib\\site-packages\\numpy\\lib\\function_base.py:3826: RuntimeWarning: Invalid value encountered in percentile\n",
      "  interpolation=interpolation)\n"
     ]
    },
    {
     "name": "stdout",
     "output_type": "stream",
     "text": [
      "reverse=-1\n",
      "IF kdj.k.trend.index\n",
      "reverse=1\n"
     ]
    },
    {
     "name": "stderr",
     "output_type": "stream",
     "text": [
      "d:\\Anaconda3\\lib\\site-packages\\numpy\\lib\\function_base.py:3826: RuntimeWarning: Invalid value encountered in percentile\n",
      "  interpolation=interpolation)\n"
     ]
    },
    {
     "name": "stdout",
     "output_type": "stream",
     "text": [
      "reverse=-1\n",
      "IF kdj.j.trend.index\n",
      "reverse=1\n"
     ]
    },
    {
     "name": "stderr",
     "output_type": "stream",
     "text": [
      "d:\\Anaconda3\\lib\\site-packages\\numpy\\lib\\function_base.py:3826: RuntimeWarning: Invalid value encountered in percentile\n",
      "  interpolation=interpolation)\n"
     ]
    },
    {
     "name": "stdout",
     "output_type": "stream",
     "text": [
      "reverse=-1\n",
      "IH trade.imb\n",
      "reverse=1\n",
      "reverse=-1\n",
      "IH total.trade.imb\n",
      "reverse=1\n",
      "reverse=-1\n",
      "IH nr\n",
      "reverse=1\n",
      "reverse=-1\n",
      "IH dbook\n",
      "reverse=1\n",
      "reverse=-1\n",
      "IH range.pos\n",
      "reverse=1\n",
      "reverse=-1\n",
      "IH price.osci\n",
      "reverse=1\n"
     ]
    },
    {
     "name": "stderr",
     "output_type": "stream",
     "text": [
      "d:\\Anaconda3\\lib\\site-packages\\numpy\\lib\\function_base.py:3826: RuntimeWarning: Invalid value encountered in percentile\n",
      "  interpolation=interpolation)\n"
     ]
    },
    {
     "name": "stdout",
     "output_type": "stream",
     "text": [
      "reverse=-1\n",
      "IH ma.dif.10\n",
      "reverse=1\n",
      "reverse=-1\n",
      "IH kdj.k\n",
      "reverse=1\n",
      "reverse=-1\n",
      "IH kdj.j\n",
      "reverse=1\n",
      "reverse=-1\n",
      "IH trade.imb.range\n",
      "reverse=1\n"
     ]
    },
    {
     "name": "stderr",
     "output_type": "stream",
     "text": [
      "d:\\Anaconda3\\lib\\site-packages\\numpy\\lib\\function_base.py:3826: RuntimeWarning: Invalid value encountered in percentile\n",
      "  interpolation=interpolation)\n"
     ]
    },
    {
     "name": "stdout",
     "output_type": "stream",
     "text": [
      "reverse=-1\n",
      "IH total.trade.imb.range\n",
      "reverse=1\n"
     ]
    },
    {
     "name": "stderr",
     "output_type": "stream",
     "text": [
      "d:\\Anaconda3\\lib\\site-packages\\numpy\\lib\\function_base.py:3826: RuntimeWarning: Invalid value encountered in percentile\n",
      "  interpolation=interpolation)\n"
     ]
    },
    {
     "name": "stdout",
     "output_type": "stream",
     "text": [
      "reverse=-1\n",
      "IH nr.range\n",
      "reverse=1\n"
     ]
    },
    {
     "name": "stderr",
     "output_type": "stream",
     "text": [
      "d:\\Anaconda3\\lib\\site-packages\\numpy\\lib\\function_base.py:3826: RuntimeWarning: Invalid value encountered in percentile\n",
      "  interpolation=interpolation)\n"
     ]
    },
    {
     "name": "stdout",
     "output_type": "stream",
     "text": [
      "reverse=-1\n",
      "IH dbook.range\n",
      "reverse=1\n"
     ]
    },
    {
     "name": "stderr",
     "output_type": "stream",
     "text": [
      "d:\\Anaconda3\\lib\\site-packages\\numpy\\lib\\function_base.py:3826: RuntimeWarning: Invalid value encountered in percentile\n",
      "  interpolation=interpolation)\n"
     ]
    },
    {
     "name": "stdout",
     "output_type": "stream",
     "text": [
      "reverse=-1\n",
      "IH range.pos.range\n",
      "reverse=1\n"
     ]
    },
    {
     "name": "stderr",
     "output_type": "stream",
     "text": [
      "d:\\Anaconda3\\lib\\site-packages\\numpy\\lib\\function_base.py:3826: RuntimeWarning: Invalid value encountered in percentile\n",
      "  interpolation=interpolation)\n"
     ]
    },
    {
     "name": "stdout",
     "output_type": "stream",
     "text": [
      "reverse=-1\n",
      "IH price.osci.range\n",
      "reverse=1\n"
     ]
    },
    {
     "name": "stderr",
     "output_type": "stream",
     "text": [
      "d:\\Anaconda3\\lib\\site-packages\\numpy\\lib\\function_base.py:3826: RuntimeWarning: Invalid value encountered in percentile\n",
      "  interpolation=interpolation)\n"
     ]
    },
    {
     "name": "stdout",
     "output_type": "stream",
     "text": [
      "reverse=-1\n",
      "IH ma.dif.10.range\n",
      "reverse=1\n"
     ]
    },
    {
     "name": "stderr",
     "output_type": "stream",
     "text": [
      "d:\\Anaconda3\\lib\\site-packages\\numpy\\lib\\function_base.py:3826: RuntimeWarning: Invalid value encountered in percentile\n",
      "  interpolation=interpolation)\n"
     ]
    },
    {
     "name": "stdout",
     "output_type": "stream",
     "text": [
      "reverse=-1\n",
      "IH kdj.k.range\n",
      "reverse=1\n"
     ]
    },
    {
     "name": "stderr",
     "output_type": "stream",
     "text": [
      "d:\\Anaconda3\\lib\\site-packages\\numpy\\lib\\function_base.py:3826: RuntimeWarning: Invalid value encountered in percentile\n",
      "  interpolation=interpolation)\n"
     ]
    },
    {
     "name": "stdout",
     "output_type": "stream",
     "text": [
      "reverse=-1\n",
      "IH kdj.j.range\n",
      "reverse=1\n"
     ]
    },
    {
     "name": "stderr",
     "output_type": "stream",
     "text": [
      "d:\\Anaconda3\\lib\\site-packages\\numpy\\lib\\function_base.py:3826: RuntimeWarning: Invalid value encountered in percentile\n",
      "  interpolation=interpolation)\n"
     ]
    },
    {
     "name": "stdout",
     "output_type": "stream",
     "text": [
      "reverse=-1\n",
      "IH trade.imb.std\n",
      "reverse=1\n",
      "reverse=-1\n",
      "IH total.trade.imb.std\n",
      "reverse=1\n",
      "reverse=-1\n",
      "IH nr.std\n",
      "reverse=1\n",
      "reverse=-1\n",
      "IH dbook.std\n",
      "reverse=1\n",
      "reverse=-1\n",
      "IH range.pos.std\n",
      "reverse=1\n",
      "reverse=-1\n",
      "IH price.osci.std\n"
     ]
    },
    {
     "name": "stderr",
     "output_type": "stream",
     "text": [
      "d:\\Anaconda3\\lib\\site-packages\\numpy\\lib\\function_base.py:3826: RuntimeWarning: Invalid value encountered in percentile\n",
      "  interpolation=interpolation)\n"
     ]
    },
    {
     "name": "stdout",
     "output_type": "stream",
     "text": [
      "reverse=1\n",
      "reverse=-1\n",
      "IH ma.dif.10.std\n",
      "reverse=1\n",
      "reverse=-1\n",
      "IH kdj.k.std\n",
      "reverse=1\n",
      "reverse=-1\n",
      "IH kdj.j.std\n",
      "reverse=1\n",
      "reverse=-1\n",
      "IH trade.imb.volume.open.ratio\n",
      "reverse=1\n",
      "reverse=-1\n",
      "IH total.trade.imb.volume.open.ratio\n",
      "reverse=1\n",
      "reverse=-1\n",
      "IH nr.volume.open.ratio\n",
      "reverse=1\n",
      "reverse=-1\n",
      "IH dbook.volume.open.ratio\n",
      "reverse=1\n",
      "reverse=-1\n",
      "IH range.pos.volume.open.ratio\n",
      "reverse=1\n",
      "reverse=-1\n",
      "IH price.osci.volume.open.ratio\n",
      "reverse=1\n"
     ]
    },
    {
     "name": "stderr",
     "output_type": "stream",
     "text": [
      "d:\\Anaconda3\\lib\\site-packages\\numpy\\lib\\function_base.py:3826: RuntimeWarning: Invalid value encountered in percentile\n",
      "  interpolation=interpolation)\n"
     ]
    },
    {
     "name": "stdout",
     "output_type": "stream",
     "text": [
      "reverse=-1\n",
      "IH ma.dif.10.volume.open.ratio\n",
      "reverse=1\n",
      "reverse=-1\n",
      "IH kdj.k.volume.open.ratio\n",
      "reverse=1\n",
      "reverse=-1\n",
      "IH kdj.j.volume.open.ratio\n",
      "reverse=1\n",
      "reverse=-1\n",
      "IH trade.imb.trend.index\n",
      "reverse=1\n"
     ]
    },
    {
     "name": "stderr",
     "output_type": "stream",
     "text": [
      "d:\\Anaconda3\\lib\\site-packages\\numpy\\lib\\function_base.py:3826: RuntimeWarning: Invalid value encountered in percentile\n",
      "  interpolation=interpolation)\n"
     ]
    },
    {
     "name": "stdout",
     "output_type": "stream",
     "text": [
      "reverse=-1\n",
      "IH total.trade.imb.trend.index\n",
      "reverse=1\n"
     ]
    },
    {
     "name": "stderr",
     "output_type": "stream",
     "text": [
      "d:\\Anaconda3\\lib\\site-packages\\numpy\\lib\\function_base.py:3826: RuntimeWarning: Invalid value encountered in percentile\n",
      "  interpolation=interpolation)\n"
     ]
    },
    {
     "name": "stdout",
     "output_type": "stream",
     "text": [
      "reverse=-1\n",
      "IH nr.trend.index\n",
      "reverse=1\n"
     ]
    },
    {
     "name": "stderr",
     "output_type": "stream",
     "text": [
      "d:\\Anaconda3\\lib\\site-packages\\numpy\\lib\\function_base.py:3826: RuntimeWarning: Invalid value encountered in percentile\n",
      "  interpolation=interpolation)\n"
     ]
    },
    {
     "name": "stdout",
     "output_type": "stream",
     "text": [
      "reverse=-1\n",
      "IH dbook.trend.index\n",
      "reverse=1\n"
     ]
    },
    {
     "name": "stderr",
     "output_type": "stream",
     "text": [
      "d:\\Anaconda3\\lib\\site-packages\\numpy\\lib\\function_base.py:3826: RuntimeWarning: Invalid value encountered in percentile\n",
      "  interpolation=interpolation)\n"
     ]
    },
    {
     "name": "stdout",
     "output_type": "stream",
     "text": [
      "reverse=-1\n",
      "IH range.pos.trend.index\n",
      "reverse=1\n"
     ]
    },
    {
     "name": "stderr",
     "output_type": "stream",
     "text": [
      "d:\\Anaconda3\\lib\\site-packages\\numpy\\lib\\function_base.py:3826: RuntimeWarning: Invalid value encountered in percentile\n",
      "  interpolation=interpolation)\n"
     ]
    },
    {
     "name": "stdout",
     "output_type": "stream",
     "text": [
      "reverse=-1\n",
      "IH price.osci.trend.index\n",
      "reverse=1\n"
     ]
    },
    {
     "name": "stderr",
     "output_type": "stream",
     "text": [
      "d:\\Anaconda3\\lib\\site-packages\\numpy\\lib\\function_base.py:3826: RuntimeWarning: Invalid value encountered in percentile\n",
      "  interpolation=interpolation)\n"
     ]
    },
    {
     "name": "stdout",
     "output_type": "stream",
     "text": [
      "reverse=-1\n",
      "IH ma.dif.10.trend.index\n",
      "reverse=1\n"
     ]
    },
    {
     "name": "stderr",
     "output_type": "stream",
     "text": [
      "d:\\Anaconda3\\lib\\site-packages\\numpy\\lib\\function_base.py:3826: RuntimeWarning: Invalid value encountered in percentile\n",
      "  interpolation=interpolation)\n"
     ]
    },
    {
     "name": "stdout",
     "output_type": "stream",
     "text": [
      "reverse=-1\n",
      "IH kdj.k.trend.index\n",
      "reverse=1\n"
     ]
    },
    {
     "name": "stderr",
     "output_type": "stream",
     "text": [
      "d:\\Anaconda3\\lib\\site-packages\\numpy\\lib\\function_base.py:3826: RuntimeWarning: Invalid value encountered in percentile\n",
      "  interpolation=interpolation)\n"
     ]
    },
    {
     "name": "stdout",
     "output_type": "stream",
     "text": [
      "reverse=-1\n",
      "IH kdj.j.trend.index\n",
      "reverse=1\n"
     ]
    },
    {
     "name": "stderr",
     "output_type": "stream",
     "text": [
      "d:\\Anaconda3\\lib\\site-packages\\numpy\\lib\\function_base.py:3826: RuntimeWarning: Invalid value encountered in percentile\n",
      "  interpolation=interpolation)\n"
     ]
    },
    {
     "name": "stdout",
     "output_type": "stream",
     "text": [
      "reverse=-1\n",
      "IC trade.imb\n",
      "reverse=1\n",
      "reverse=-1\n",
      "IC total.trade.imb\n",
      "reverse=1\n",
      "reverse=-1\n",
      "IC nr\n",
      "reverse=1\n",
      "reverse=-1\n",
      "IC dbook\n",
      "reverse=1\n",
      "reverse=-1\n",
      "IC range.pos\n",
      "reverse=1\n",
      "reverse=-1\n",
      "IC price.osci\n",
      "reverse=1\n"
     ]
    },
    {
     "name": "stderr",
     "output_type": "stream",
     "text": [
      "d:\\Anaconda3\\lib\\site-packages\\numpy\\lib\\function_base.py:3826: RuntimeWarning: Invalid value encountered in percentile\n",
      "  interpolation=interpolation)\n"
     ]
    },
    {
     "name": "stdout",
     "output_type": "stream",
     "text": [
      "reverse=-1\n",
      "IC ma.dif.10\n",
      "reverse=1\n",
      "reverse=-1\n",
      "IC kdj.k\n",
      "reverse=1\n",
      "reverse=-1\n",
      "IC kdj.j\n",
      "reverse=1\n",
      "reverse=-1\n",
      "IC trade.imb.range\n"
     ]
    },
    {
     "name": "stderr",
     "output_type": "stream",
     "text": [
      "d:\\Anaconda3\\lib\\site-packages\\numpy\\lib\\function_base.py:3826: RuntimeWarning: Invalid value encountered in percentile\n",
      "  interpolation=interpolation)\n"
     ]
    },
    {
     "name": "stdout",
     "output_type": "stream",
     "text": [
      "reverse=1\n",
      "reverse=-1\n",
      "IC total.trade.imb.range\n",
      "reverse=1\n"
     ]
    },
    {
     "name": "stderr",
     "output_type": "stream",
     "text": [
      "d:\\Anaconda3\\lib\\site-packages\\numpy\\lib\\function_base.py:3826: RuntimeWarning: Invalid value encountered in percentile\n",
      "  interpolation=interpolation)\n"
     ]
    },
    {
     "name": "stdout",
     "output_type": "stream",
     "text": [
      "reverse=-1\n",
      "IC nr.range\n",
      "reverse=1\n"
     ]
    },
    {
     "name": "stderr",
     "output_type": "stream",
     "text": [
      "d:\\Anaconda3\\lib\\site-packages\\numpy\\lib\\function_base.py:3826: RuntimeWarning: Invalid value encountered in percentile\n",
      "  interpolation=interpolation)\n"
     ]
    },
    {
     "name": "stdout",
     "output_type": "stream",
     "text": [
      "reverse=-1\n",
      "IC dbook.range\n",
      "reverse=1\n"
     ]
    },
    {
     "name": "stderr",
     "output_type": "stream",
     "text": [
      "d:\\Anaconda3\\lib\\site-packages\\numpy\\lib\\function_base.py:3826: RuntimeWarning: Invalid value encountered in percentile\n",
      "  interpolation=interpolation)\n"
     ]
    },
    {
     "name": "stdout",
     "output_type": "stream",
     "text": [
      "reverse=-1\n",
      "IC range.pos.range\n",
      "reverse=1\n"
     ]
    },
    {
     "name": "stderr",
     "output_type": "stream",
     "text": [
      "d:\\Anaconda3\\lib\\site-packages\\numpy\\lib\\function_base.py:3826: RuntimeWarning: Invalid value encountered in percentile\n",
      "  interpolation=interpolation)\n"
     ]
    },
    {
     "name": "stdout",
     "output_type": "stream",
     "text": [
      "reverse=-1\n",
      "IC price.osci.range\n",
      "reverse=1\n"
     ]
    },
    {
     "name": "stderr",
     "output_type": "stream",
     "text": [
      "d:\\Anaconda3\\lib\\site-packages\\numpy\\lib\\function_base.py:3826: RuntimeWarning: Invalid value encountered in percentile\n",
      "  interpolation=interpolation)\n"
     ]
    },
    {
     "name": "stdout",
     "output_type": "stream",
     "text": [
      "reverse=-1\n",
      "IC ma.dif.10.range\n",
      "reverse=1\n"
     ]
    },
    {
     "name": "stderr",
     "output_type": "stream",
     "text": [
      "d:\\Anaconda3\\lib\\site-packages\\numpy\\lib\\function_base.py:3826: RuntimeWarning: Invalid value encountered in percentile\n",
      "  interpolation=interpolation)\n"
     ]
    },
    {
     "name": "stdout",
     "output_type": "stream",
     "text": [
      "reverse=-1\n",
      "IC kdj.k.range\n",
      "reverse=1\n"
     ]
    },
    {
     "name": "stderr",
     "output_type": "stream",
     "text": [
      "d:\\Anaconda3\\lib\\site-packages\\numpy\\lib\\function_base.py:3826: RuntimeWarning: Invalid value encountered in percentile\n",
      "  interpolation=interpolation)\n"
     ]
    },
    {
     "name": "stdout",
     "output_type": "stream",
     "text": [
      "reverse=-1\n",
      "IC kdj.j.range\n",
      "reverse=1\n"
     ]
    },
    {
     "name": "stderr",
     "output_type": "stream",
     "text": [
      "d:\\Anaconda3\\lib\\site-packages\\numpy\\lib\\function_base.py:3826: RuntimeWarning: Invalid value encountered in percentile\n",
      "  interpolation=interpolation)\n"
     ]
    },
    {
     "name": "stdout",
     "output_type": "stream",
     "text": [
      "reverse=-1\n",
      "IC trade.imb.std\n",
      "reverse=1\n"
     ]
    },
    {
     "name": "stderr",
     "output_type": "stream",
     "text": [
      "d:\\Anaconda3\\lib\\site-packages\\numpy\\lib\\function_base.py:3826: RuntimeWarning: Invalid value encountered in percentile\n",
      "  interpolation=interpolation)\n"
     ]
    },
    {
     "name": "stdout",
     "output_type": "stream",
     "text": [
      "reverse=-1\n",
      "IC total.trade.imb.std\n",
      "reverse=1\n"
     ]
    },
    {
     "name": "stderr",
     "output_type": "stream",
     "text": [
      "d:\\Anaconda3\\lib\\site-packages\\numpy\\lib\\function_base.py:3826: RuntimeWarning: Invalid value encountered in percentile\n",
      "  interpolation=interpolation)\n"
     ]
    },
    {
     "name": "stdout",
     "output_type": "stream",
     "text": [
      "reverse=-1\n",
      "IC nr.std\n",
      "reverse=1\n"
     ]
    },
    {
     "name": "stderr",
     "output_type": "stream",
     "text": [
      "d:\\Anaconda3\\lib\\site-packages\\numpy\\lib\\function_base.py:3826: RuntimeWarning: Invalid value encountered in percentile\n",
      "  interpolation=interpolation)\n"
     ]
    },
    {
     "name": "stdout",
     "output_type": "stream",
     "text": [
      "reverse=-1\n",
      "IC dbook.std\n",
      "reverse=1\n"
     ]
    },
    {
     "name": "stderr",
     "output_type": "stream",
     "text": [
      "d:\\Anaconda3\\lib\\site-packages\\numpy\\lib\\function_base.py:3826: RuntimeWarning: Invalid value encountered in percentile\n",
      "  interpolation=interpolation)\n"
     ]
    },
    {
     "name": "stdout",
     "output_type": "stream",
     "text": [
      "reverse=-1\n",
      "IC range.pos.std\n",
      "reverse=1\n"
     ]
    },
    {
     "name": "stderr",
     "output_type": "stream",
     "text": [
      "d:\\Anaconda3\\lib\\site-packages\\numpy\\lib\\function_base.py:3826: RuntimeWarning: Invalid value encountered in percentile\n",
      "  interpolation=interpolation)\n"
     ]
    },
    {
     "name": "stdout",
     "output_type": "stream",
     "text": [
      "reverse=-1\n",
      "IC price.osci.std\n",
      "reverse=1\n"
     ]
    },
    {
     "name": "stderr",
     "output_type": "stream",
     "text": [
      "d:\\Anaconda3\\lib\\site-packages\\numpy\\lib\\function_base.py:3826: RuntimeWarning: Invalid value encountered in percentile\n",
      "  interpolation=interpolation)\n"
     ]
    },
    {
     "name": "stdout",
     "output_type": "stream",
     "text": [
      "reverse=-1\n",
      "IC ma.dif.10.std\n",
      "reverse=1\n"
     ]
    },
    {
     "name": "stderr",
     "output_type": "stream",
     "text": [
      "d:\\Anaconda3\\lib\\site-packages\\numpy\\lib\\function_base.py:3826: RuntimeWarning: Invalid value encountered in percentile\n",
      "  interpolation=interpolation)\n"
     ]
    },
    {
     "name": "stdout",
     "output_type": "stream",
     "text": [
      "reverse=-1\n",
      "IC kdj.k.std\n",
      "reverse=1\n"
     ]
    },
    {
     "name": "stderr",
     "output_type": "stream",
     "text": [
      "d:\\Anaconda3\\lib\\site-packages\\numpy\\lib\\function_base.py:3826: RuntimeWarning: Invalid value encountered in percentile\n",
      "  interpolation=interpolation)\n"
     ]
    },
    {
     "name": "stdout",
     "output_type": "stream",
     "text": [
      "reverse=-1\n",
      "IC kdj.j.std\n",
      "reverse=1\n"
     ]
    },
    {
     "name": "stderr",
     "output_type": "stream",
     "text": [
      "d:\\Anaconda3\\lib\\site-packages\\numpy\\lib\\function_base.py:3826: RuntimeWarning: Invalid value encountered in percentile\n",
      "  interpolation=interpolation)\n"
     ]
    },
    {
     "name": "stdout",
     "output_type": "stream",
     "text": [
      "reverse=-1\n",
      "IC trade.imb.volume.open.ratio\n",
      "reverse=1\n",
      "reverse=-1\n",
      "IC total.trade.imb.volume.open.ratio\n",
      "reverse=1\n",
      "reverse=-1\n",
      "IC nr.volume.open.ratio\n",
      "reverse=1\n",
      "reverse=-1\n",
      "IC dbook.volume.open.ratio\n",
      "reverse=1\n",
      "reverse=-1\n",
      "IC range.pos.volume.open.ratio\n",
      "reverse=1\n",
      "reverse=-1\n",
      "IC price.osci.volume.open.ratio\n",
      "reverse=1\n"
     ]
    },
    {
     "name": "stderr",
     "output_type": "stream",
     "text": [
      "d:\\Anaconda3\\lib\\site-packages\\numpy\\lib\\function_base.py:3826: RuntimeWarning: Invalid value encountered in percentile\n",
      "  interpolation=interpolation)\n"
     ]
    },
    {
     "name": "stdout",
     "output_type": "stream",
     "text": [
      "reverse=-1\n",
      "IC ma.dif.10.volume.open.ratio\n",
      "reverse=1\n",
      "reverse=-1\n",
      "IC kdj.k.volume.open.ratio\n",
      "reverse=1\n",
      "reverse=-1\n",
      "IC kdj.j.volume.open.ratio\n",
      "reverse=1\n",
      "reverse=-1\n",
      "IC trade.imb.trend.index\n",
      "reverse=1\n"
     ]
    },
    {
     "name": "stderr",
     "output_type": "stream",
     "text": [
      "d:\\Anaconda3\\lib\\site-packages\\numpy\\lib\\function_base.py:3826: RuntimeWarning: Invalid value encountered in percentile\n",
      "  interpolation=interpolation)\n"
     ]
    },
    {
     "name": "stdout",
     "output_type": "stream",
     "text": [
      "reverse=-1\n",
      "IC total.trade.imb.trend.index\n",
      "reverse=1\n"
     ]
    },
    {
     "name": "stderr",
     "output_type": "stream",
     "text": [
      "d:\\Anaconda3\\lib\\site-packages\\numpy\\lib\\function_base.py:3826: RuntimeWarning: Invalid value encountered in percentile\n",
      "  interpolation=interpolation)\n"
     ]
    },
    {
     "name": "stdout",
     "output_type": "stream",
     "text": [
      "reverse=-1\n",
      "IC nr.trend.index\n",
      "reverse=1\n"
     ]
    },
    {
     "name": "stderr",
     "output_type": "stream",
     "text": [
      "d:\\Anaconda3\\lib\\site-packages\\numpy\\lib\\function_base.py:3826: RuntimeWarning: Invalid value encountered in percentile\n",
      "  interpolation=interpolation)\n"
     ]
    },
    {
     "name": "stdout",
     "output_type": "stream",
     "text": [
      "reverse=-1\n",
      "IC dbook.trend.index\n",
      "reverse=1\n"
     ]
    },
    {
     "name": "stderr",
     "output_type": "stream",
     "text": [
      "d:\\Anaconda3\\lib\\site-packages\\numpy\\lib\\function_base.py:3826: RuntimeWarning: Invalid value encountered in percentile\n",
      "  interpolation=interpolation)\n"
     ]
    },
    {
     "name": "stdout",
     "output_type": "stream",
     "text": [
      "reverse=-1\n",
      "IC range.pos.trend.index\n",
      "reverse=1\n"
     ]
    },
    {
     "name": "stderr",
     "output_type": "stream",
     "text": [
      "d:\\Anaconda3\\lib\\site-packages\\numpy\\lib\\function_base.py:3826: RuntimeWarning: Invalid value encountered in percentile\n",
      "  interpolation=interpolation)\n"
     ]
    },
    {
     "name": "stdout",
     "output_type": "stream",
     "text": [
      "reverse=-1\n",
      "IC price.osci.trend.index\n",
      "reverse=1\n"
     ]
    },
    {
     "name": "stderr",
     "output_type": "stream",
     "text": [
      "d:\\Anaconda3\\lib\\site-packages\\numpy\\lib\\function_base.py:3826: RuntimeWarning: Invalid value encountered in percentile\n",
      "  interpolation=interpolation)\n"
     ]
    },
    {
     "name": "stdout",
     "output_type": "stream",
     "text": [
      "reverse=-1\n",
      "IC ma.dif.10.trend.index\n",
      "reverse=1\n"
     ]
    },
    {
     "name": "stderr",
     "output_type": "stream",
     "text": [
      "d:\\Anaconda3\\lib\\site-packages\\numpy\\lib\\function_base.py:3826: RuntimeWarning: Invalid value encountered in percentile\n",
      "  interpolation=interpolation)\n"
     ]
    },
    {
     "name": "stdout",
     "output_type": "stream",
     "text": [
      "reverse=-1\n",
      "IC kdj.k.trend.index\n",
      "reverse=1\n"
     ]
    },
    {
     "name": "stderr",
     "output_type": "stream",
     "text": [
      "d:\\Anaconda3\\lib\\site-packages\\numpy\\lib\\function_base.py:3826: RuntimeWarning: Invalid value encountered in percentile\n",
      "  interpolation=interpolation)\n"
     ]
    },
    {
     "name": "stdout",
     "output_type": "stream",
     "text": [
      "reverse=-1\n",
      "IC kdj.j.trend.index\n",
      "reverse=1\n"
     ]
    },
    {
     "name": "stderr",
     "output_type": "stream",
     "text": [
      "d:\\Anaconda3\\lib\\site-packages\\numpy\\lib\\function_base.py:3826: RuntimeWarning: Invalid value encountered in percentile\n",
      "  interpolation=interpolation)\n"
     ]
    },
    {
     "name": "stdout",
     "output_type": "stream",
     "text": [
      "reverse=-1\n",
      "T trade.imb\n",
      "reverse=1\n",
      "reverse=-1\n",
      "T total.trade.imb\n",
      "reverse=1\n",
      "reverse=-1\n",
      "T nr\n",
      "reverse=1\n",
      "reverse=-1\n",
      "T dbook\n",
      "reverse=1\n",
      "reverse=-1\n",
      "T range.pos\n",
      "reverse=1\n",
      "reverse=-1\n",
      "T price.osci\n",
      "reverse=1\n"
     ]
    },
    {
     "name": "stderr",
     "output_type": "stream",
     "text": [
      "d:\\Anaconda3\\lib\\site-packages\\numpy\\lib\\function_base.py:3826: RuntimeWarning: Invalid value encountered in percentile\n",
      "  interpolation=interpolation)\n"
     ]
    },
    {
     "name": "stdout",
     "output_type": "stream",
     "text": [
      "reverse=-1\n",
      "T ma.dif.10\n",
      "reverse=1\n",
      "reverse=-1\n",
      "T kdj.k\n",
      "reverse=1\n",
      "reverse=-1\n",
      "T kdj.j\n",
      "reverse=1\n",
      "reverse=-1\n",
      "T trade.imb.range\n"
     ]
    },
    {
     "name": "stderr",
     "output_type": "stream",
     "text": [
      "d:\\Anaconda3\\lib\\site-packages\\numpy\\lib\\function_base.py:3826: RuntimeWarning: Invalid value encountered in percentile\n",
      "  interpolation=interpolation)\n"
     ]
    },
    {
     "name": "stdout",
     "output_type": "stream",
     "text": [
      "reverse=1\n",
      "reverse=-1\n",
      "T total.trade.imb.range\n",
      "reverse=1\n"
     ]
    },
    {
     "name": "stderr",
     "output_type": "stream",
     "text": [
      "d:\\Anaconda3\\lib\\site-packages\\numpy\\lib\\function_base.py:3826: RuntimeWarning: Invalid value encountered in percentile\n",
      "  interpolation=interpolation)\n"
     ]
    },
    {
     "name": "stdout",
     "output_type": "stream",
     "text": [
      "reverse=-1\n",
      "T nr.range\n",
      "reverse=1\n"
     ]
    },
    {
     "name": "stderr",
     "output_type": "stream",
     "text": [
      "d:\\Anaconda3\\lib\\site-packages\\numpy\\lib\\function_base.py:3826: RuntimeWarning: Invalid value encountered in percentile\n",
      "  interpolation=interpolation)\n"
     ]
    },
    {
     "name": "stdout",
     "output_type": "stream",
     "text": [
      "reverse=-1\n",
      "T dbook.range\n",
      "reverse=1\n"
     ]
    },
    {
     "name": "stderr",
     "output_type": "stream",
     "text": [
      "d:\\Anaconda3\\lib\\site-packages\\numpy\\lib\\function_base.py:3826: RuntimeWarning: Invalid value encountered in percentile\n",
      "  interpolation=interpolation)\n"
     ]
    },
    {
     "name": "stdout",
     "output_type": "stream",
     "text": [
      "reverse=-1\n",
      "T range.pos.range\n",
      "reverse=1\n"
     ]
    },
    {
     "name": "stderr",
     "output_type": "stream",
     "text": [
      "d:\\Anaconda3\\lib\\site-packages\\numpy\\lib\\function_base.py:3826: RuntimeWarning: Invalid value encountered in percentile\n",
      "  interpolation=interpolation)\n"
     ]
    },
    {
     "name": "stdout",
     "output_type": "stream",
     "text": [
      "reverse=-1\n",
      "T price.osci.range\n",
      "reverse=1\n"
     ]
    },
    {
     "name": "stderr",
     "output_type": "stream",
     "text": [
      "d:\\Anaconda3\\lib\\site-packages\\numpy\\lib\\function_base.py:3826: RuntimeWarning: Invalid value encountered in percentile\n",
      "  interpolation=interpolation)\n"
     ]
    },
    {
     "name": "stdout",
     "output_type": "stream",
     "text": [
      "reverse=-1\n",
      "T ma.dif.10.range\n",
      "reverse=1\n"
     ]
    },
    {
     "name": "stderr",
     "output_type": "stream",
     "text": [
      "d:\\Anaconda3\\lib\\site-packages\\numpy\\lib\\function_base.py:3826: RuntimeWarning: Invalid value encountered in percentile\n",
      "  interpolation=interpolation)\n"
     ]
    },
    {
     "name": "stdout",
     "output_type": "stream",
     "text": [
      "reverse=-1\n",
      "T kdj.k.range\n",
      "reverse=1\n"
     ]
    },
    {
     "name": "stderr",
     "output_type": "stream",
     "text": [
      "d:\\Anaconda3\\lib\\site-packages\\numpy\\lib\\function_base.py:3826: RuntimeWarning: Invalid value encountered in percentile\n",
      "  interpolation=interpolation)\n"
     ]
    },
    {
     "name": "stdout",
     "output_type": "stream",
     "text": [
      "reverse=-1\n",
      "T kdj.j.range\n",
      "reverse=1\n"
     ]
    },
    {
     "name": "stderr",
     "output_type": "stream",
     "text": [
      "d:\\Anaconda3\\lib\\site-packages\\numpy\\lib\\function_base.py:3826: RuntimeWarning: Invalid value encountered in percentile\n",
      "  interpolation=interpolation)\n"
     ]
    },
    {
     "name": "stdout",
     "output_type": "stream",
     "text": [
      "reverse=-1\n",
      "T trade.imb.std\n",
      "reverse=1\n",
      "reverse=-1\n",
      "T total.trade.imb.std\n",
      "reverse=1\n",
      "reverse=-1\n",
      "T nr.std\n",
      "reverse=1\n",
      "reverse=-1\n",
      "T dbook.std\n",
      "reverse=1\n",
      "reverse=-1\n",
      "T range.pos.std\n",
      "reverse=1\n",
      "reverse=-1\n",
      "T price.osci.std\n",
      "reverse=1\n"
     ]
    },
    {
     "name": "stderr",
     "output_type": "stream",
     "text": [
      "d:\\Anaconda3\\lib\\site-packages\\numpy\\lib\\function_base.py:3826: RuntimeWarning: Invalid value encountered in percentile\n",
      "  interpolation=interpolation)\n"
     ]
    },
    {
     "name": "stdout",
     "output_type": "stream",
     "text": [
      "reverse=-1\n",
      "T ma.dif.10.std\n",
      "reverse=1\n",
      "reverse=-1\n",
      "T kdj.k.std\n",
      "reverse=1\n",
      "reverse=-1\n",
      "T kdj.j.std\n",
      "reverse=1\n",
      "reverse=-1\n",
      "T trade.imb.volume.open.ratio\n",
      "reverse=1\n",
      "reverse=-1\n",
      "T total.trade.imb.volume.open.ratio\n",
      "reverse=1\n",
      "reverse=-1\n",
      "T nr.volume.open.ratio\n",
      "reverse=1\n",
      "reverse=-1\n",
      "T dbook.volume.open.ratio\n",
      "reverse=1\n",
      "reverse=-1\n",
      "T range.pos.volume.open.ratio\n",
      "reverse=1\n",
      "reverse=-1\n",
      "T price.osci.volume.open.ratio\n",
      "reverse=1\n"
     ]
    },
    {
     "name": "stderr",
     "output_type": "stream",
     "text": [
      "d:\\Anaconda3\\lib\\site-packages\\numpy\\lib\\function_base.py:3826: RuntimeWarning: Invalid value encountered in percentile\n",
      "  interpolation=interpolation)\n"
     ]
    },
    {
     "name": "stdout",
     "output_type": "stream",
     "text": [
      "reverse=-1\n",
      "T ma.dif.10.volume.open.ratio\n",
      "reverse=1\n",
      "reverse=-1\n",
      "T kdj.k.volume.open.ratio\n",
      "reverse=1\n",
      "reverse=-1\n",
      "T kdj.j.volume.open.ratio\n",
      "reverse=1\n",
      "reverse=-1\n",
      "T trade.imb.trend.index\n",
      "reverse=1\n"
     ]
    },
    {
     "name": "stderr",
     "output_type": "stream",
     "text": [
      "d:\\Anaconda3\\lib\\site-packages\\numpy\\lib\\function_base.py:3826: RuntimeWarning: Invalid value encountered in percentile\n",
      "  interpolation=interpolation)\n"
     ]
    },
    {
     "name": "stdout",
     "output_type": "stream",
     "text": [
      "reverse=-1\n",
      "T total.trade.imb.trend.index\n",
      "reverse=1\n"
     ]
    },
    {
     "name": "stderr",
     "output_type": "stream",
     "text": [
      "d:\\Anaconda3\\lib\\site-packages\\numpy\\lib\\function_base.py:3826: RuntimeWarning: Invalid value encountered in percentile\n",
      "  interpolation=interpolation)\n"
     ]
    },
    {
     "name": "stdout",
     "output_type": "stream",
     "text": [
      "reverse=-1\n",
      "T nr.trend.index\n",
      "reverse=1\n"
     ]
    },
    {
     "name": "stderr",
     "output_type": "stream",
     "text": [
      "d:\\Anaconda3\\lib\\site-packages\\numpy\\lib\\function_base.py:3826: RuntimeWarning: Invalid value encountered in percentile\n",
      "  interpolation=interpolation)\n"
     ]
    },
    {
     "name": "stdout",
     "output_type": "stream",
     "text": [
      "reverse=-1\n",
      "T dbook.trend.index\n",
      "reverse=1\n"
     ]
    },
    {
     "name": "stderr",
     "output_type": "stream",
     "text": [
      "d:\\Anaconda3\\lib\\site-packages\\numpy\\lib\\function_base.py:3826: RuntimeWarning: Invalid value encountered in percentile\n",
      "  interpolation=interpolation)\n"
     ]
    },
    {
     "name": "stdout",
     "output_type": "stream",
     "text": [
      "reverse=-1\n",
      "T range.pos.trend.index\n",
      "reverse=1\n"
     ]
    },
    {
     "name": "stderr",
     "output_type": "stream",
     "text": [
      "d:\\Anaconda3\\lib\\site-packages\\numpy\\lib\\function_base.py:3826: RuntimeWarning: Invalid value encountered in percentile\n",
      "  interpolation=interpolation)\n"
     ]
    },
    {
     "name": "stdout",
     "output_type": "stream",
     "text": [
      "reverse=-1\n",
      "T price.osci.trend.index\n",
      "reverse=1\n"
     ]
    },
    {
     "name": "stderr",
     "output_type": "stream",
     "text": [
      "d:\\Anaconda3\\lib\\site-packages\\numpy\\lib\\function_base.py:3826: RuntimeWarning: Invalid value encountered in percentile\n",
      "  interpolation=interpolation)\n"
     ]
    },
    {
     "name": "stdout",
     "output_type": "stream",
     "text": [
      "reverse=-1\n",
      "T ma.dif.10.trend.index\n",
      "reverse=1\n"
     ]
    },
    {
     "name": "stderr",
     "output_type": "stream",
     "text": [
      "d:\\Anaconda3\\lib\\site-packages\\numpy\\lib\\function_base.py:3826: RuntimeWarning: Invalid value encountered in percentile\n",
      "  interpolation=interpolation)\n"
     ]
    },
    {
     "name": "stdout",
     "output_type": "stream",
     "text": [
      "reverse=-1\n",
      "T kdj.k.trend.index\n",
      "reverse=1\n"
     ]
    },
    {
     "name": "stderr",
     "output_type": "stream",
     "text": [
      "d:\\Anaconda3\\lib\\site-packages\\numpy\\lib\\function_base.py:3826: RuntimeWarning: Invalid value encountered in percentile\n",
      "  interpolation=interpolation)\n"
     ]
    },
    {
     "name": "stdout",
     "output_type": "stream",
     "text": [
      "reverse=-1\n",
      "T kdj.j.trend.index\n",
      "reverse=1\n"
     ]
    },
    {
     "name": "stderr",
     "output_type": "stream",
     "text": [
      "d:\\Anaconda3\\lib\\site-packages\\numpy\\lib\\function_base.py:3826: RuntimeWarning: Invalid value encountered in percentile\n",
      "  interpolation=interpolation)\n"
     ]
    },
    {
     "name": "stdout",
     "output_type": "stream",
     "text": [
      "reverse=-1\n",
      "TF trade.imb\n",
      "reverse=1\n",
      "reverse=-1\n",
      "TF total.trade.imb\n",
      "reverse=1\n",
      "reverse=-1\n",
      "TF nr\n",
      "reverse=1\n",
      "reverse=-1\n",
      "TF dbook\n",
      "reverse=1\n",
      "reverse=-1\n",
      "TF range.pos\n",
      "reverse=1\n",
      "reverse=-1\n",
      "TF price.osci\n",
      "reverse=1\n"
     ]
    },
    {
     "name": "stderr",
     "output_type": "stream",
     "text": [
      "d:\\Anaconda3\\lib\\site-packages\\numpy\\lib\\function_base.py:3826: RuntimeWarning: Invalid value encountered in percentile\n",
      "  interpolation=interpolation)\n"
     ]
    },
    {
     "name": "stdout",
     "output_type": "stream",
     "text": [
      "reverse=-1\n",
      "TF ma.dif.10\n",
      "reverse=1\n",
      "reverse=-1\n",
      "TF kdj.k\n",
      "reverse=1\n",
      "reverse=-1\n",
      "TF kdj.j\n",
      "reverse=1\n",
      "reverse=-1\n",
      "TF trade.imb.range\n",
      "reverse=1\n"
     ]
    },
    {
     "name": "stderr",
     "output_type": "stream",
     "text": [
      "d:\\Anaconda3\\lib\\site-packages\\numpy\\lib\\function_base.py:3826: RuntimeWarning: Invalid value encountered in percentile\n",
      "  interpolation=interpolation)\n"
     ]
    },
    {
     "name": "stdout",
     "output_type": "stream",
     "text": [
      "reverse=-1\n",
      "TF total.trade.imb.range\n",
      "reverse=1\n"
     ]
    },
    {
     "name": "stderr",
     "output_type": "stream",
     "text": [
      "d:\\Anaconda3\\lib\\site-packages\\numpy\\lib\\function_base.py:3826: RuntimeWarning: Invalid value encountered in percentile\n",
      "  interpolation=interpolation)\n"
     ]
    },
    {
     "name": "stdout",
     "output_type": "stream",
     "text": [
      "reverse=-1\n",
      "TF nr.range\n",
      "reverse=1\n"
     ]
    },
    {
     "name": "stderr",
     "output_type": "stream",
     "text": [
      "d:\\Anaconda3\\lib\\site-packages\\numpy\\lib\\function_base.py:3826: RuntimeWarning: Invalid value encountered in percentile\n",
      "  interpolation=interpolation)\n"
     ]
    },
    {
     "name": "stdout",
     "output_type": "stream",
     "text": [
      "reverse=-1\n",
      "TF dbook.range\n",
      "reverse=1\n"
     ]
    },
    {
     "name": "stderr",
     "output_type": "stream",
     "text": [
      "d:\\Anaconda3\\lib\\site-packages\\numpy\\lib\\function_base.py:3826: RuntimeWarning: Invalid value encountered in percentile\n",
      "  interpolation=interpolation)\n"
     ]
    },
    {
     "name": "stdout",
     "output_type": "stream",
     "text": [
      "reverse=-1\n",
      "TF range.pos.range\n",
      "reverse=1\n"
     ]
    },
    {
     "name": "stderr",
     "output_type": "stream",
     "text": [
      "d:\\Anaconda3\\lib\\site-packages\\numpy\\lib\\function_base.py:3826: RuntimeWarning: Invalid value encountered in percentile\n",
      "  interpolation=interpolation)\n"
     ]
    },
    {
     "name": "stdout",
     "output_type": "stream",
     "text": [
      "reverse=-1\n",
      "TF price.osci.range\n",
      "reverse=1\n"
     ]
    },
    {
     "name": "stderr",
     "output_type": "stream",
     "text": [
      "d:\\Anaconda3\\lib\\site-packages\\numpy\\lib\\function_base.py:3826: RuntimeWarning: Invalid value encountered in percentile\n",
      "  interpolation=interpolation)\n"
     ]
    },
    {
     "name": "stdout",
     "output_type": "stream",
     "text": [
      "reverse=-1\n",
      "TF ma.dif.10.range\n",
      "reverse=1\n"
     ]
    },
    {
     "name": "stderr",
     "output_type": "stream",
     "text": [
      "d:\\Anaconda3\\lib\\site-packages\\numpy\\lib\\function_base.py:3826: RuntimeWarning: Invalid value encountered in percentile\n",
      "  interpolation=interpolation)\n"
     ]
    },
    {
     "name": "stdout",
     "output_type": "stream",
     "text": [
      "reverse=-1\n",
      "TF kdj.k.range\n",
      "reverse=1\n"
     ]
    },
    {
     "name": "stderr",
     "output_type": "stream",
     "text": [
      "d:\\Anaconda3\\lib\\site-packages\\numpy\\lib\\function_base.py:3826: RuntimeWarning: Invalid value encountered in percentile\n",
      "  interpolation=interpolation)\n"
     ]
    },
    {
     "name": "stdout",
     "output_type": "stream",
     "text": [
      "reverse=-1\n",
      "TF kdj.j.range\n",
      "reverse=1\n"
     ]
    },
    {
     "name": "stderr",
     "output_type": "stream",
     "text": [
      "d:\\Anaconda3\\lib\\site-packages\\numpy\\lib\\function_base.py:3826: RuntimeWarning: Invalid value encountered in percentile\n",
      "  interpolation=interpolation)\n"
     ]
    },
    {
     "name": "stdout",
     "output_type": "stream",
     "text": [
      "reverse=-1\n",
      "TF trade.imb.std\n",
      "reverse=1\n",
      "reverse=-1\n",
      "TF total.trade.imb.std\n",
      "reverse=1\n",
      "reverse=-1\n",
      "TF nr.std\n",
      "reverse=1\n",
      "reverse=-1\n",
      "TF dbook.std\n",
      "reverse=1\n",
      "reverse=-1\n",
      "TF range.pos.std\n",
      "reverse=1\n",
      "reverse=-1\n",
      "TF price.osci.std\n",
      "reverse=1\n"
     ]
    },
    {
     "name": "stderr",
     "output_type": "stream",
     "text": [
      "d:\\Anaconda3\\lib\\site-packages\\numpy\\lib\\function_base.py:3826: RuntimeWarning: Invalid value encountered in percentile\n",
      "  interpolation=interpolation)\n"
     ]
    },
    {
     "name": "stdout",
     "output_type": "stream",
     "text": [
      "reverse=-1\n",
      "TF ma.dif.10.std\n",
      "reverse=1\n",
      "reverse=-1\n",
      "TF kdj.k.std\n",
      "reverse=1\n",
      "reverse=-1\n",
      "TF kdj.j.std\n",
      "reverse=1\n",
      "reverse=-1\n",
      "TF trade.imb.volume.open.ratio\n",
      "reverse=1\n",
      "reverse=-1\n",
      "TF total.trade.imb.volume.open.ratio\n",
      "reverse=1\n",
      "reverse=-1\n",
      "TF nr.volume.open.ratio\n",
      "reverse=1\n",
      "reverse=-1\n",
      "TF dbook.volume.open.ratio\n",
      "reverse=1\n",
      "reverse=-1\n",
      "TF range.pos.volume.open.ratio\n",
      "reverse=1\n",
      "reverse=-1\n",
      "TF price.osci.volume.open.ratio\n",
      "reverse=1\n"
     ]
    },
    {
     "name": "stderr",
     "output_type": "stream",
     "text": [
      "d:\\Anaconda3\\lib\\site-packages\\numpy\\lib\\function_base.py:3826: RuntimeWarning: Invalid value encountered in percentile\n",
      "  interpolation=interpolation)\n"
     ]
    },
    {
     "name": "stdout",
     "output_type": "stream",
     "text": [
      "reverse=-1\n",
      "TF ma.dif.10.volume.open.ratio\n",
      "reverse=1\n",
      "reverse=-1\n",
      "TF kdj.k.volume.open.ratio\n",
      "reverse=1\n",
      "reverse=-1\n",
      "TF kdj.j.volume.open.ratio\n",
      "reverse=1\n",
      "reverse=-1\n",
      "TF trade.imb.trend.index\n",
      "reverse=1\n"
     ]
    },
    {
     "name": "stderr",
     "output_type": "stream",
     "text": [
      "d:\\Anaconda3\\lib\\site-packages\\numpy\\lib\\function_base.py:3826: RuntimeWarning: Invalid value encountered in percentile\n",
      "  interpolation=interpolation)\n"
     ]
    },
    {
     "name": "stdout",
     "output_type": "stream",
     "text": [
      "reverse=-1\n",
      "TF total.trade.imb.trend.index\n",
      "reverse=1\n"
     ]
    },
    {
     "name": "stderr",
     "output_type": "stream",
     "text": [
      "d:\\Anaconda3\\lib\\site-packages\\numpy\\lib\\function_base.py:3826: RuntimeWarning: Invalid value encountered in percentile\n",
      "  interpolation=interpolation)\n"
     ]
    },
    {
     "name": "stdout",
     "output_type": "stream",
     "text": [
      "reverse=-1\n",
      "TF nr.trend.index\n",
      "reverse=1\n"
     ]
    },
    {
     "name": "stderr",
     "output_type": "stream",
     "text": [
      "d:\\Anaconda3\\lib\\site-packages\\numpy\\lib\\function_base.py:3826: RuntimeWarning: Invalid value encountered in percentile\n",
      "  interpolation=interpolation)\n"
     ]
    },
    {
     "name": "stdout",
     "output_type": "stream",
     "text": [
      "reverse=-1\n",
      "TF dbook.trend.index\n",
      "reverse=1\n"
     ]
    },
    {
     "name": "stderr",
     "output_type": "stream",
     "text": [
      "d:\\Anaconda3\\lib\\site-packages\\numpy\\lib\\function_base.py:3826: RuntimeWarning: Invalid value encountered in percentile\n",
      "  interpolation=interpolation)\n"
     ]
    },
    {
     "name": "stdout",
     "output_type": "stream",
     "text": [
      "reverse=-1\n",
      "TF range.pos.trend.index\n",
      "reverse=1\n"
     ]
    },
    {
     "name": "stderr",
     "output_type": "stream",
     "text": [
      "d:\\Anaconda3\\lib\\site-packages\\numpy\\lib\\function_base.py:3826: RuntimeWarning: Invalid value encountered in percentile\n",
      "  interpolation=interpolation)\n"
     ]
    },
    {
     "name": "stdout",
     "output_type": "stream",
     "text": [
      "reverse=-1\n",
      "TF price.osci.trend.index\n",
      "reverse=1\n"
     ]
    },
    {
     "name": "stderr",
     "output_type": "stream",
     "text": [
      "d:\\Anaconda3\\lib\\site-packages\\numpy\\lib\\function_base.py:3826: RuntimeWarning: Invalid value encountered in percentile\n",
      "  interpolation=interpolation)\n"
     ]
    },
    {
     "name": "stdout",
     "output_type": "stream",
     "text": [
      "reverse=-1\n",
      "TF ma.dif.10.trend.index\n",
      "reverse=1\n"
     ]
    },
    {
     "name": "stderr",
     "output_type": "stream",
     "text": [
      "d:\\Anaconda3\\lib\\site-packages\\numpy\\lib\\function_base.py:3826: RuntimeWarning: Invalid value encountered in percentile\n",
      "  interpolation=interpolation)\n"
     ]
    },
    {
     "name": "stdout",
     "output_type": "stream",
     "text": [
      "reverse=-1\n",
      "TF kdj.k.trend.index\n",
      "reverse=1\n"
     ]
    },
    {
     "name": "stderr",
     "output_type": "stream",
     "text": [
      "d:\\Anaconda3\\lib\\site-packages\\numpy\\lib\\function_base.py:3826: RuntimeWarning: Invalid value encountered in percentile\n",
      "  interpolation=interpolation)\n"
     ]
    },
    {
     "name": "stdout",
     "output_type": "stream",
     "text": [
      "reverse=-1\n",
      "TF kdj.j.trend.index\n",
      "reverse=1\n"
     ]
    },
    {
     "name": "stderr",
     "output_type": "stream",
     "text": [
      "d:\\Anaconda3\\lib\\site-packages\\numpy\\lib\\function_base.py:3826: RuntimeWarning: Invalid value encountered in percentile\n",
      "  interpolation=interpolation)\n"
     ]
    },
    {
     "name": "stdout",
     "output_type": "stream",
     "text": [
      "reverse=-1\n",
      "Wall time: 12h 18min 25s\n"
     ]
    }
   ],
   "source": [
    "%%time\n",
    "SIGNAL_PATH = \"e:/intern\"\n",
    "for product in product_list:\n",
    "    spread = product_info[product][\"spread\"]\n",
    "    tranct = product_info[product][\"tranct\"]\n",
    "    tranct_ratio = product_info[product][\"tranct.ratio\"]\n",
    "    if product==\"IF\" or product==\"IH\" or product==\"IC\":\n",
    "        atr_filter = 100\n",
    "        avg_pnl = 10\n",
    "    else:\n",
    "        atr_filter = 20\n",
    "        avg_pnl = 2\n",
    "    for signal in all_signal_list:\n",
    "        print(product, signal)\n",
    "        evaluate_signal(signal, all_dates, product, avg_pnl, 20, CORE_NUM, HEAD_PATH, SIGNAL_PATH,\n",
    "                period=\"comb\", split_str=\"2018\", tranct=tranct, \n",
    "                max_spread=spread*1.1, tranct_ratio=tranct_ratio, atr_filter=atr_filter, save_path=\"signal result atr\")\n",
    "#Wall time: 12h 18min 25s\n",
    "\n"
   ]
  },
  {
   "cell_type": "markdown",
   "metadata": {},
   "source": [
    "- now we compare the result of comb signal and previous signal"
   ]
  },
  {
   "cell_type": "code",
   "execution_count": 27,
   "metadata": {},
   "outputs": [],
   "source": [
    "result_atr = get_signal_performance_result(all_period_signal, \"signal result atr\", \"4096\", product_list, train_sample, test_sample)\n",
    "result_comb= get_signal_performance_result(all_comb_list, \"signal result atr\", \"comb\", product_list, train_sample, test_sample)"
   ]
  },
  {
   "cell_type": "code",
   "execution_count": 29,
   "metadata": {},
   "outputs": [
    {
     "name": "stdout",
     "output_type": "stream",
     "text": [
      "4096 signals: 9\n",
      "train sharpe:  0.881048735863792\n",
      "test sharpe:  0.7237253273942355\n",
      "comb signals: 4\n",
      "train sharpe:  0.716140364741529\n",
      "test sharpe:  0.7436314661985906\n"
     ]
    }
   ],
   "source": [
    "min_num=0\n",
    "good_trend = (result_atr[\"trend.signal.stat\"][\"num\"]>min_num) & (result_atr[\"trend.signal.stat\"][\"trainSharpe\"]>0.5) & (result_atr[\"trend.signal.stat\"][\"testSharpe\"]>0.5)\n",
    "good_reverse = (result_atr[\"reverse.signal.stat\"][\"num\"]>min_num) & (result_atr[\"reverse.signal.stat\"][\"trainSharpe\"]>0.5) & (result_atr[\"reverse.signal.stat\"][\"testSharpe\"]>0.5)\n",
    "print(\"4096 signals: \"+ str(sum(good_trend | good_reverse)))\n",
    "train_sharpe = np.mean(np.append(result_atr[\"trend.signal.stat\"][\"trainSharpe\"][good_trend],\n",
    "                  result_atr[\"reverse.signal.stat\"][\"trainSharpe\"][good_reverse]))\n",
    "test_sharpe = np.mean(np.append(result_atr[\"trend.signal.stat\"][\"testSharpe\"][good_trend],\n",
    "                  result_atr[\"reverse.signal.stat\"][\"testSharpe\"][good_reverse]))\n",
    "print(\"train sharpe: \", train_sharpe)\n",
    "print(\"test sharpe: \", test_sharpe)\n",
    "good_trend = (result_comb[\"trend.signal.stat\"][\"num\"]>min_num) & (result_comb[\"trend.signal.stat\"][\"trainSharpe\"]>0.5) & (result_comb[\"trend.signal.stat\"][\"testSharpe\"]>0.5)\n",
    "good_reverse = (result_comb[\"reverse.signal.stat\"][\"num\"]>min_num) & (result_comb[\"reverse.signal.stat\"][\"trainSharpe\"]>0.5) & (result_comb[\"reverse.signal.stat\"][\"testSharpe\"]>0.5)\n",
    "print(\"comb signals: \"+ str(sum(good_trend | good_reverse)))\n",
    "train_sharpe = np.mean(np.append(result_comb[\"trend.signal.stat\"][\"trainSharpe\"][good_trend],\n",
    "                  result_comb[\"reverse.signal.stat\"][\"trainSharpe\"][good_reverse]))\n",
    "test_sharpe = np.mean(np.append(result_comb[\"trend.signal.stat\"][\"testSharpe\"][good_trend],\n",
    "                  result_comb[\"reverse.signal.stat\"][\"testSharpe\"][good_reverse]))\n",
    "print(\"train sharpe: \", train_sharpe)\n",
    "print(\"test sharpe: \", test_sharpe)\n",
    "\n",
    "# 4096 signals: 9\n",
    "# train sharpe:  0.881048735863792\n",
    "# test sharpe:  0.7237253273942355\n",
    "# comb signals: 4\n",
    "# train sharpe:  0.716140364741529\n",
    "# test sharpe:  0.7436314661985906\n",
    "\n",
    "\n"
   ]
  },
  {
   "cell_type": "code",
   "execution_count": 31,
   "metadata": {},
   "outputs": [
    {
     "name": "stdout",
     "output_type": "stream",
     "text": [
      "4096 signals: 7\n",
      "train sharpe:  0.96399685819483\n",
      "test sharpe:  0.7082561565252351\n",
      "comb signals: 3\n",
      "train sharpe:  0.7807526187370396\n",
      "test sharpe:  0.7755854316735825\n"
     ]
    }
   ],
   "source": [
    "min_num=1\n",
    "good_trend = (result_atr[\"trend.signal.stat\"][\"num\"]>min_num) & (result_atr[\"trend.signal.stat\"][\"trainSharpe\"]>0.5) & (result_atr[\"trend.signal.stat\"][\"testSharpe\"]>0.5)\n",
    "good_reverse = (result_atr[\"reverse.signal.stat\"][\"num\"]>min_num) & (result_atr[\"reverse.signal.stat\"][\"trainSharpe\"]>0.5) & (result_atr[\"reverse.signal.stat\"][\"testSharpe\"]>0.5)\n",
    "print(\"4096 signals: \"+ str(sum(good_trend | good_reverse)))\n",
    "train_sharpe = np.mean(np.append(result_atr[\"trend.signal.stat\"][\"trainSharpe\"][good_trend],\n",
    "                  result_atr[\"reverse.signal.stat\"][\"trainSharpe\"][good_reverse]))\n",
    "test_sharpe = np.mean(np.append(result_atr[\"trend.signal.stat\"][\"testSharpe\"][good_trend],\n",
    "                  result_atr[\"reverse.signal.stat\"][\"testSharpe\"][good_reverse]))\n",
    "print(\"train sharpe: \", train_sharpe)\n",
    "print(\"test sharpe: \", test_sharpe)\n",
    "good_trend = (result_comb[\"trend.signal.stat\"][\"num\"]>min_num) & (result_comb[\"trend.signal.stat\"][\"trainSharpe\"]>0.5) & (result_comb[\"trend.signal.stat\"][\"testSharpe\"]>0.5)\n",
    "good_reverse = (result_comb[\"reverse.signal.stat\"][\"num\"]>min_num) & (result_comb[\"reverse.signal.stat\"][\"trainSharpe\"]>0.5) & (result_comb[\"reverse.signal.stat\"][\"testSharpe\"]>0.5)\n",
    "print(\"comb signals: \"+ str(sum(good_trend | good_reverse)))\n",
    "train_sharpe = np.mean(np.append(result_comb[\"trend.signal.stat\"][\"trainSharpe\"][good_trend],\n",
    "                  result_comb[\"reverse.signal.stat\"][\"trainSharpe\"][good_reverse]))\n",
    "test_sharpe = np.mean(np.append(result_comb[\"trend.signal.stat\"][\"testSharpe\"][good_trend],\n",
    "                  result_comb[\"reverse.signal.stat\"][\"testSharpe\"][good_reverse]))\n",
    "print(\"train sharpe: \", train_sharpe)\n",
    "print(\"test sharpe: \", test_sharpe)\n",
    "\n",
    "# 4096 signals: 7\n",
    "# train sharpe:  0.96399685819483\n",
    "# test sharpe:  0.7082561565252351\n",
    "# comb signals: 3\n",
    "# train sharpe:  0.7807526187370396\n",
    "# test sharpe:  0.7755854316735825\n",
    "\n",
    "\n",
    "\n"
   ]
  },
  {
   "cell_type": "markdown",
   "metadata": {},
   "source": [
    "- with this experiment we find that generally signal of 4096 ticks perform worse than combination of signals of 1024/2048/4096\n",
    "- what about signals with atr filter?"
   ]
  },
  {
   "cell_type": "markdown",
   "metadata": {},
   "source": [
    "- we can see that with atr fitler the result is a little bit worse \n",
    "- also we can see that signal of 4096 ticks perform better than combination of signals\n",
    "- maybe we can use strategies of each period (1024/2048/4096) and then combine them together\n",
    "- rather than combine them first and then construct strategies\n",
    "- now we go to cross-symbol signals and arbitrage\n",
    "- we can do rb-hc at first because they have many duplicate time stamps"
   ]
  },
  {
   "cell_type": "code",
   "execution_count": 32,
   "metadata": {},
   "outputs": [],
   "source": [
    "product_x = \"IF\"\n",
    "product_y = \"IH\"\n",
    "data_x = load(HEAD_PATH+\"/pkl tick/\"+product_x+\"/\"+all_dates[100])\n",
    "data_y = load(HEAD_PATH+\"/pkl tick/\"+product_y+\"/\"+all_dates[100])"
   ]
  },
  {
   "cell_type": "code",
   "execution_count": 33,
   "metadata": {},
   "outputs": [
    {
     "data": {
      "text/plain": [
       "0    2016-04-28 09:29:00.500\n",
       "1    2016-04-28 09:30:00.500\n",
       "2    2016-04-28 09:30:01.000\n",
       "3    2016-04-28 09:30:01.500\n",
       "4    2016-04-28 09:30:02.000\n",
       "5    2016-04-28 09:30:02.500\n",
       "6    2016-04-28 09:30:03.000\n",
       "7    2016-04-28 09:30:03.500\n",
       "8    2016-04-28 09:30:04.000\n",
       "9    2016-04-28 09:30:04.500\n",
       "Name: date.time, dtype: object"
      ]
     },
     "execution_count": 33,
     "metadata": {},
     "output_type": "execute_result"
    }
   ],
   "source": [
    "data_x[\"date.time\"][0:10]"
   ]
  },
  {
   "cell_type": "code",
   "execution_count": 34,
   "metadata": {},
   "outputs": [
    {
     "data": {
      "text/plain": [
       "0    2016-04-28 09:29:00.500\n",
       "1    2016-04-28 09:30:00.500\n",
       "2    2016-04-28 09:30:01.000\n",
       "3    2016-04-28 09:30:01.500\n",
       "4    2016-04-28 09:30:02.000\n",
       "5    2016-04-28 09:30:02.500\n",
       "6    2016-04-28 09:30:03.000\n",
       "7    2016-04-28 09:30:03.500\n",
       "8    2016-04-28 09:30:04.000\n",
       "9    2016-04-28 09:30:04.500\n",
       "Name: date.time, dtype: object"
      ]
     },
     "execution_count": 34,
     "metadata": {},
     "output_type": "execute_result"
    }
   ],
   "source": [
    "data_y[\"date.time\"][0:10]"
   ]
  },
  {
   "cell_type": "code",
   "execution_count": 35,
   "metadata": {},
   "outputs": [],
   "source": [
    "os.makedirs(HEAD_PATH+\"/comb time\", exist_ok=True)\n",
    "os.makedirs(HEAD_PATH+\"/comb time/\"+product_x+\"_\"+product_y, exist_ok=True)"
   ]
  },
  {
   "cell_type": "code",
   "execution_count": 36,
   "metadata": {},
   "outputs": [],
   "source": [
    "from collections import Counter\n",
    "def get_finance_comb_pos(date, product_x, product_y, HEAD_PATH):\n",
    "    data_x = load(HEAD_PATH+\"/pkl tick/\"+product_x+\"/\"+date)\n",
    "    data_y = load(HEAD_PATH+\"/pkl tick/\"+product_y+\"/\"+date)\n",
    "    comb_time = np.intersect1d(data_x[\"date.time\"], data_y[\"date.time\"])\n",
    "    comb_time_set = set(comb_time) ## delete duplicate times\n",
    "    time_x = [element in comb_time_set for element in data_x[\"date.time\"]] ## if in intersect then true, otherwise false\n",
    "    time_y = [element in comb_time_set for element in data_y[\"date.time\"]]\n",
    "    if len(comb_time_set)!=len(time_x) or len(comb_time_set)!=len(time_y):\n",
    "        count_x = Counter(data_x[\"date.time\"])\n",
    "        count_y = Counter(data_y[\"date.time\"])\n",
    "        good_x = [count_x[x]==1 and count_y[x]==1 for x in data_x[\"date.time\"]]\n",
    "        good_y = [count_x[x]==1 and count_y[x]==1 for x in data_y[\"date.time\"]]\n",
    "        time_x = (time_x and good_x)\n",
    "        time_y = (time_y and good_y)\n",
    "    save([time_x, time_y], HEAD_PATH+\"/comb time/\"+product_x+\"_\"+product_y+\"/\"+date)"
   ]
  },
  {
   "cell_type": "markdown",
   "metadata": {},
   "source": [
    "- let's go to arbitrage"
   ]
  },
  {
   "cell_type": "code",
   "execution_count": null,
   "metadata": {},
   "outputs": [],
   "source": [
    "%%time\n",
    "result = parLapply(CORE_NUM, all_dates, get_finance_comb_pos, product_x=product_x, product_y=product_y, HEAD_PATH=HEAD_PATH)\n",
    "\n",
    "#Wall time: 3min 4s"
   ]
  },
  {
   "cell_type": "code",
   "execution_count": 44,
   "metadata": {},
   "outputs": [],
   "source": [
    "def par_get_arb_all_signal(signal_name, file_list, product_x, product_y, period, HEAD_PATH=\"d:/intern\", SAVE_PATH=\"e:/intern\"):\n",
    "    n_files = len(file_list)\n",
    "    all_signal = np.array([])\n",
    "    for file in file_list:\n",
    "        S_x = load(SAVE_PATH+\"/tmp pkl/\"+product_x+\"/\"+signal_name+\"/\"+file)\n",
    "        S_y = load(SAVE_PATH+\"/tmp pkl/\"+product_y+\"/\"+signal_name+\"/\"+file)\n",
    "        [time_x, time_y] = load(HEAD_PATH+\"/comb time/\"+product_x+\"_\"+product_y+\"/\"+file)\n",
    "        signal = S_x[time_x] - S_y[time_y] ## calculate the difference of signal\n",
    "        moving_average(signal,period)\n",
    "        chosen = (np.arange(len(signal))+1) % period==0\n",
    "        all_signal = np.concatenate((all_signal, signal[chosen]), axis=0)\n",
    "    save(all_signal, SAVE_PATH+\"/all signal/\"+product_x+\"_\"+product_y+\".\"+signal_name+\".pkl\")\n"
   ]
  },
  {
   "cell_type": "code",
   "execution_count": 45,
   "metadata": {},
   "outputs": [
    {
     "name": "stdout",
     "output_type": "stream",
     "text": [
      "Wall time: 1min 21s\n"
     ]
    }
   ],
   "source": [
    "%%time\n",
    "result = par_get_arb_all_signal(\"total.trade.imb.comb\",  file_list=all_dates, product_x=\"IF\", \n",
    "                   product_y = \"IH\", period=4096, HEAD_PATH=HEAD_PATH, SAVE_PATH=SAVE_PATH)\n",
    "\n",
    "# Wall time: 1min 21s"
   ]
  },
  {
   "cell_type": "code",
   "execution_count": 78,
   "metadata": {},
   "outputs": [],
   "source": [
    "## use signal of product_x to trade product_y\n",
    "from collections import OrderedDict\n",
    "def get_cross_signal_pnl(file, product_x, product_y, signal_name, thre_mat, reverse=1, tranct=1.1e-4, max_spread=0.61, tranct_ratio=True, \n",
    "                         HEAD_PATH=\"d:/intern\",SAVE_PATH=\"e:/intern\",atr_filter=0, rebate=0):\n",
    "    ## load data\n",
    "    good_x = load(SAVE_PATH+\"/good pkl/\"+product_x+\"/\"+file)\n",
    "    data = load(HEAD_PATH+\"/pkl tick/\"+product_y+\"/\"+file)\n",
    "    [time_x, time_y] = load(HEAD_PATH+\"/comb time/\"+product_x+\"_\"+product_y+\"/\"+file)\n",
    "    S = load(SAVE_PATH+\"/tmp pkl/\"+product_x+\"/\"+signal_name+\"/\"+file) ## signal from product_x\n",
    "    pred = S*reverse\n",
    "    pred = pred[time_x] ## use duplicate ticks\n",
    "    atr = load(SAVE_PATH+\"/tmp pkl/\"+product_x+\"/\"+\"atr.4096\"+\"/\"+file)\n",
    "    atr = atr[time_x].reset_index(drop=True)\n",
    "    data = data[time_y].reset_index(drop=True) ## use duplicate ticks \n",
    "    atr = atr[data[\"good\"]].reset_index(drop=True)\n",
    "    pred = pred[data[\"good\"]]\n",
    "    data = data[data[\"good\"]].reset_index(drop=True)    \n",
    "    #atr = atr[time_x].reset_index(drop=True)\n",
    "    #data = data[time_y].reset_index(drop=True)\n",
    "    #n_bar = len(data)\n",
    "    \n",
    "    ## load signal\n",
    "    \n",
    "    ## we don't know the signal is positive correlated or negative correlated  \n",
    "    #n_thre = len(thre_mat)\n",
    "    count = 0;\n",
    "    cur_spread = data[\"ask\"]-data[\"bid\"]\n",
    "    result = pd.DataFrame(data=OrderedDict([(\"open\", thre_mat[\"open\"].values), (\"close\", thre_mat[\"close\"].values),\n",
    "                               (\"num\", 0), (\"avg.pnl\", 0), (\"pnl\", 0), (\"avg.ret\", 0), (\"ret\", 0)]), \n",
    "                          index=thre_mat.index)\n",
    "\n",
    "    for thre in thre_mat.iterrows():\n",
    "        count = count+1\n",
    "        buy = pred>thre[1][\"open\"]\n",
    "        sell = pred<-thre[1][\"open\"]\n",
    "        signal = pd.Series(data=0, index=data.index)\n",
    "        position = signal.copy()\n",
    "        signal[buy] = 1\n",
    "        signal[sell] = -1\n",
    "        signal[atr<atr_filter]=0\n",
    "        scratch = -thre[1][\"close\"]\n",
    "        position_pos = pd.Series(data=np.nan, index=data.index)\n",
    "        position_pos.iloc[0] = 0\n",
    "        position_pos[(signal==1) & (data[\"next.ask\"]>0) & (data[\"next.bid\"]>0) & (cur_spread<max_spread)] = 1\n",
    "        position_pos[(pred< -scratch) & (data[\"next.bid\"]>0) & (cur_spread<max_spread)] = 0\n",
    "        position_pos.ffill(inplace=True)\n",
    "        pre_pos = position_pos.shift(1)\n",
    "        notional_position_pos = pd.Series(data=0, index=data.index)\n",
    "        notional_position_pos[position_pos==1] = 1\n",
    "        notional_position_pos[(position_pos==1) & (pre_pos==1)] = np.nan\n",
    "        notional_position_pos[(notional_position_pos==1)] = 1/data[\"next.ask\"][(notional_position_pos==1)]\n",
    "        notional_position_pos.ffill(inplace=True)\n",
    "        position_neg = pd.Series(data=np.nan, index=data.index)\n",
    "        position_neg.iloc[0] = 0\n",
    "        position_neg[(signal==-1) & (data[\"next.ask\"]>0) & (data[\"next.bid\"]>0) & (cur_spread<max_spread)] = -1\n",
    "        position_neg[(pred> scratch) & (data[\"next.ask\"]>0) & (cur_spread<max_spread)] = 0\n",
    "        position_neg.ffill(inplace=True)\n",
    "        pre_neg = position_neg.shift(1)\n",
    "        notional_position_neg = pd.Series(data=0, index=data.index)\n",
    "        notional_position_neg[position_neg==-1] = -1\n",
    "        notional_position_neg[(position_neg==-1) & (pre_neg==-1)] = np.nan\n",
    "        notional_position_neg[(notional_position_neg==-1)] = -1/data[\"next.bid\"][(notional_position_neg==-1)]\n",
    "        notional_position_neg.ffill(inplace=True)\n",
    "        position = position_pos + position_neg\n",
    "        notional_position = notional_position_pos+notional_position_neg\n",
    "        #position[n_bar-1] = 0\n",
    "        position.iloc[0] = 0\n",
    "        position.iloc[-10:] = 0\n",
    "        notional_position.iloc[0] = 0\n",
    "        notional_position.iloc[-2:] = 0\n",
    "        change_pos = position - position.shift(1)\n",
    "        notional_change_pos = notional_position-notional_position.shift(1)\n",
    "        change_pos.iloc[0] = 0\n",
    "        notional_change_pos.iloc[0] = 0\n",
    "        change_base = pd.Series(data=0, index=data.index)\n",
    "        change_buy = change_pos>0\n",
    "        change_sell = change_pos<0\n",
    "        if (tranct_ratio):\n",
    "            change_base[change_buy] = data[\"next.ask\"][change_buy]*(1+tranct)\n",
    "            change_base[change_sell] = data[\"next.bid\"][change_sell]*(1-tranct)\n",
    "        else:\n",
    "            change_base[change_buy] = data[\"next.ask\"][change_buy]+tranct\n",
    "            change_base[change_sell] = data[\"next.bid\"][change_sell]-tranct\n",
    "        final_pnl = -sum(change_base*change_pos)\n",
    "        num = sum((position!=0) & (change_pos!=0))\n",
    "        ret = -sum(change_base*notional_change_pos)\n",
    "        if num == 0:\n",
    "            result.loc[thre[0], (\"num\", \"avg.pnl\", \"pnl\", \"avg.ret\", \"ret\")] = (0,0,0,0,0)\n",
    "            return result\n",
    "        else:\n",
    "            avg_pnl = np.divide(final_pnl, num)\n",
    "            avg_ret = np.divide(ret,num)\n",
    "            result.loc[thre[0], (\"num\", \"avg.pnl\", \"pnl\", \"avg.ret\", \"ret\")] = (num, avg_pnl, final_pnl, avg_ret,ret)\n",
    "    return result\n"
   ]
  },
  {
   "cell_type": "code",
   "execution_count": 72,
   "metadata": {},
   "outputs": [],
   "source": [
    "signal_name = \"total.trade.imb.comb\" \n",
    "all_signal = load(SAVE_PATH+\"/all signal/\"+product_x+\".\"+signal_name+\".pkl\")"
   ]
  },
  {
   "cell_type": "code",
   "execution_count": 73,
   "metadata": {},
   "outputs": [],
   "source": [
    "thre_list = []\n",
    "open_list = np.quantile(abs(all_signal), np.append(np.arange(0.991,0.999,0.001),np.arange(0.9991,0.9999,0.0001)))\n",
    "for cartesian in itertools.product(open_list, np.array([0.2, 0.4, 0.6, 0.8, 1.0])):\n",
    "        thre_list.append((cartesian[0], -cartesian[0] * cartesian[1]))\n",
    "thre_list = np.array(thre_list)\n",
    "thre_mat = pd.DataFrame(data=OrderedDict([(\"open\", thre_list[:, 0]), (\"close\", thre_list[:, 1])]))"
   ]
  },
  {
   "cell_type": "code",
   "execution_count": 74,
   "metadata": {},
   "outputs": [],
   "source": [
    "from collections import OrderedDict\n",
    "def get_cross_signal_stat(signal_name, thre_mat, product_x, product_y, all_dates, CORE_NUM, split_str=\"2018\", reverse=1, tranct=1.1e-4, \n",
    "                    max_spread=0.61, tranct_ratio=True, HEAD_PATH=\"d:/intern\", SAVE_PATH=\"e:/intern\", min_pnl=2, min_num=20, atr_filter=0):\n",
    "    train_sample = all_dates<split_str\n",
    "    test_sample = all_dates>split_str\n",
    "    with dask.config.set(scheduler='processes', num_workers=CORE_NUM):\n",
    "        f_par = functools.partial(get_cross_signal_pnl, product_x=product_x, product_y=product_y, signal_name=signal_name, thre_mat=thre_mat,\n",
    "                                 reverse=reverse, tranct=tranct, max_spread=max_spread, tranct_ratio=tranct_ratio, \n",
    "                                  HEAD_PATH=HEAD_PATH, SAVE_PATH=SAVE_PATH,atr_filter=atr_filter)\n",
    "        train_result = compute([delayed(f_par)(file) for file in all_dates[train_sample]])[0]\n",
    "    train_stat = get_hft_summary(train_result, thre_mat, sum(train_sample))\n",
    "    with dask.config.set(scheduler='processes', num_workers=CORE_NUM):\n",
    "        f_par = functools.partial(get_cross_signal_pnl, product_x=product_x, product_y=product_y, signal_name=signal_name, thre_mat=thre_mat,\n",
    "                                  reverse=reverse, tranct=tranct, max_spread=max_spread, tranct_ratio=tranct_ratio, \n",
    "                                  HEAD_PATH=HEAD_PATH, SAVE_PATH=SAVE_PATH, atr_filter=atr_filter)\n",
    "        test_result = compute([delayed(f_par)(file) for file in all_dates[test_sample]])[0]\n",
    "    test_stat = get_hft_summary(test_result, thre_mat, sum(test_sample))\n",
    "    return OrderedDict([(\"train.stat\", train_stat), (\"test.stat\", test_stat)])\n"
   ]
  },
  {
   "cell_type": "code",
   "execution_count": 75,
   "metadata": {},
   "outputs": [],
   "source": [
    "def evaluate_cross_signal(signal, all_dates, product_x, product_y, min_pnl, min_num, HEAD_PATH, SAVE_PATH,\n",
    "                    CORE_NUM, period=4096, split_str=\"2018\", tranct=1.1e-4, \n",
    "                    max_spread=0.61, tranct_ratio=True, atr_filter=0, save_path=\"signal result\"):\n",
    "    signal_name = signal+\".\"+str(period)\n",
    "    all_signal = load(SAVE_PATH+\"/all signal/\"+product_x+\".\"+signal_name+\".pkl\")\n",
    "    tranct = product_info[product_y][\"tranct\"]\n",
    "    tranct_ratio = product_info[product_y][\"tranct.ratio\"]\n",
    "    open_list = np.quantile(abs(all_signal), np.append(np.arange(0.991,0.999,0.001),np.arange(0.9991,0.9999,0.0001)))\n",
    "    thre_list = []\n",
    "    for cartesian in itertools.product(open_list, np.array([0.2, 0.4, 0.6, 0.8, 1.0])):\n",
    "        thre_list.append((cartesian[0], -cartesian[0] * cartesian[1]))\n",
    "    thre_list = np.array(thre_list)\n",
    "    thre_mat = pd.DataFrame(data=OrderedDict([(\"open\", thre_list[:, 0]), (\"close\", thre_list[:, 1])]))\n",
    "    print(\"reverse=1\")\n",
    "    trend_signal_stat = get_cross_signal_stat(signal_name, thre_mat, product_x, product_y, all_dates, CORE_NUM, split_str=\"2018\", reverse=1, tranct=tranct, \n",
    "                    max_spread=max_spread, tranct_ratio=tranct_ratio, HEAD_PATH=HEAD_PATH, SAVE_PATH=SAVE_PATH,min_pnl=min_pnl, min_num=min_num, atr_filter=atr_filter)\n",
    "    print(\"reverse=-1\")\n",
    "    reverse_signal_stat = get_cross_signal_stat(signal_name, thre_mat, product_x, product_y, all_dates, CORE_NUM, split_str=\"2018\", reverse=-1, tranct=tranct, \n",
    "                    max_spread=max_spread, tranct_ratio=tranct_ratio, HEAD_PATH=HEAD_PATH, SAVE_PATH=SAVE_PATH, min_pnl=min_pnl, min_num=min_num, atr_filter=atr_filter)\n",
    "    stat_result = OrderedDict([(\"trend.signal.stat\", trend_signal_stat), (\"reverse.signal.stat\", reverse_signal_stat)])    \n",
    "    save(stat_result, HEAD_PATH+\"/\"+save_path+\"/\"+product_x+\"_\"+product_y+\".\"+signal_name+\".pkl\")\n"
   ]
  },
  {
   "cell_type": "code",
   "execution_count": 79,
   "metadata": {
    "scrolled": true
   },
   "outputs": [
    {
     "name": "stdout",
     "output_type": "stream",
     "text": [
      "reverse=1\n",
      "reverse=-1\n",
      "Wall time: 4min 31s\n"
     ]
    }
   ],
   "source": [
    "%%time\n",
    "result = evaluate_cross_signal(\"total.trade.imb\", all_dates, \"IF\",\"IH\", 20, 20, HEAD_PATH, SAVE_PATH,\n",
    "                CORE_NUM, period=\"comb\", split_str=\"2018\", tranct=0.25e-4, \n",
    "                max_spread=0.22, tranct_ratio=False, atr_filter=100, save_path=\"signal result atr\")\n",
    "\n",
    "# reverse=1\n",
    "# reverse=-1\n",
    "# Wall time: 4min 31s\n"
   ]
  },
  {
   "cell_type": "code",
   "execution_count": 85,
   "metadata": {},
   "outputs": [],
   "source": [
    "result = load(HEAD_PATH+\"/signal result atr/IF_IH.total.trade.imb.comb.pkl\")"
   ]
  },
  {
   "cell_type": "code",
   "execution_count": 91,
   "metadata": {},
   "outputs": [
    {
     "name": "stdout",
     "output_type": "stream",
     "text": [
      "0.8343249196536064 1.0795484808462001\n"
     ]
    },
    {
     "data": {
      "image/png": "[encoded data removed]",
      "text/plain": [
       "<Figure size 1152x720 with 1 Axes>"
      ]
     },
     "metadata": {
      "needs_background": "light"
     },
     "output_type": "display_data"
    }
   ],
   "source": [
    "train_stat =result[\"trend.signal.stat\"][\"train.stat\"]\n",
    "good_strat = (train_stat[\"final.result\"][\"avg.pnl\"]>2) & (train_stat[\"final.result\"][\"num\"]>20)\n",
    "train_pnl = train_stat[\"daily.pnl\"].loc[:, good_strat].sum(axis=1)/sum(good_strat)\n",
    "test_stat =result[\"trend.signal.stat\"][\"test.stat\"]\n",
    "test_pnl = test_stat[\"daily.pnl\"].loc[:, good_strat].sum(axis=1)/sum(good_strat)\n",
    "pnl = np.append(train_pnl, test_pnl)\n",
    "plt.figure(1, figsize=(16, 10));\n",
    "plt.title(\"\");\n",
    "plt.xlabel(\"date\");\n",
    "plt.ylabel(\"pnl\");\n",
    "plt.title(product_x+\" to \"+product_y+\" trend\");\n",
    "plt.plot(format_dates, pnl.cumsum());\n",
    "plt.plot(format_dates[test_sample], pnl.cumsum()[test_sample])\n",
    "print(sharpe(train_pnl), sharpe(test_pnl))\n",
    "## 0.8343249196536064 1.0795484808462001\n",
    "\n"
   ]
  },
  {
   "cell_type": "markdown",
   "metadata": {},
   "source": [
    "- we can see that strategies in training set can still perform well in test set"
   ]
  },
  {
   "cell_type": "code",
   "execution_count": 127,
   "metadata": {
    "scrolled": true
   },
   "outputs": [],
   "source": [
    "from collections import OrderedDict\n",
    "def get_arb_signal_pnl(file, product_x, product_y, signal_name, thre_mat, reverse=1, tranct=1.1e-4, max_spread_x=1.1,\n",
    "                       max_spread_y=1.1,tranct_ratio=True, HEAD_PATH=\"d:/intern\", SAVE_PATH=\"e:/intern\", rebate=0):\n",
    "    ## load data\n",
    "    data_x = load(HEAD_PATH+\"/pkl tick/\"+product_x+\"/\"+file)\n",
    "    data_y = load(HEAD_PATH+\"/pkl tick/\"+product_y+\"/\"+file)\n",
    "    [time_x, time_y] = load(HEAD_PATH+\"/comb time/\"+product_x+\"_\"+product_y+\"/\"+file)\n",
    "    S_x = load(SAVE_PATH+\"/tmp pkl/\"+product_x+\"/\"+signal_name+\"/\"+file)\n",
    "    S_y = load(SAVE_PATH+\"/tmp pkl/\"+product_y+\"/\"+signal_name+\"/\"+file)\n",
    "    S = S_x[time_x] - S_y[time_y]    ## calculate the difference of signals               \n",
    "    pred = S*reverse\n",
    "    data_y = data_y[time_y].reset_index(drop=True)\n",
    "    data_x = data_x[time_x].reset_index(drop=True)\n",
    "    good_x = data_x[\"good\"]\n",
    "    good_y = data_y[\"good\"]\n",
    "    pred = pred[good_x & good_y]\n",
    "    data_x = data_x[good_x & good_y].reset_index(drop=True)    \n",
    "    data_y = data_y[good_x & good_y].reset_index(drop=True)\n",
    "    result = pd.DataFrame(data=OrderedDict([(\"open\", thre_mat[\"open\"].values), (\"close\", thre_mat[\"close\"].values),\n",
    "                               (\"num\", 0), (\"avg.pnl\", 0), (\"pnl\", 0), (\"avg.ret\", 0), (\"ret\", 0)]), \n",
    "                          index=thre_mat.index)\n",
    "    count = 0;\n",
    "    cur_spread_x = data_x[\"ask\"]-data_x[\"bid\"]\n",
    "    cur_spread_y = data_y[\"ask\"]-data_y[\"bid\"]\n",
    "    for thre in thre_mat.iterrows():\n",
    "        count = count+1\n",
    "        buy = pred>thre[1][\"open\"]\n",
    "        sell = pred<-thre[1][\"open\"]\n",
    "        signal = pd.Series(data=0, index=data_x.index)\n",
    "        position = signal.copy()\n",
    "        signal[buy] = 1\n",
    "        signal[sell] = -1\n",
    "        scratch = -thre[1][\"close\"]\n",
    "        position_pos = pd.Series(data=np.nan, index=data_x.index)\n",
    "        position_pos.iloc[0] = 0\n",
    "        position_pos[(signal==1) & (data_x[\"next.ask\"]>0) & (data_x[\"next.bid\"]>0) & (cur_spread_x<max_spread_x) &\n",
    "                    (data_y[\"next.ask\"]>0) & (data_y[\"next.bid\"]>0) & (cur_spread_y<max_spread_y)] = 1\n",
    "        position_pos[(pred< -scratch) & (data_x[\"next.bid\"]>0) & (data_y[\"next.ask\"]>0) & (cur_spread_x<max_spread_x) &\n",
    "                    (cur_spread_y<max_spread_y)] = 0\n",
    "        position_pos.ffill(inplace=True)\n",
    "        pre_pos = position_pos.shift(1)\n",
    "        notional_position_pos_x = pd.Series(data=0, index=data_x.index)\n",
    "        notional_position_pos_y = pd.Series(data=0, index=data_y.index)\n",
    "        notional_position_pos_y[position_pos==1] = 1\n",
    "        notional_position_pos_y[(position_pos==1) & (pre_pos==1)] = np.nan\n",
    "        notional_position_pos_x[(notional_position_pos_x==1)] = 1/data_x[\"next.ask\"][(notional_position_pos_x==1)]\n",
    "        notional_position_pos_y[(notional_position_pos_y==1)] = -1/data_y[\"next.bid\"][(notional_position_pos_y==1)]\n",
    "        notional_position_pos_x.ffill(inplace=True)\n",
    "        notional_position_pos_y.ffill(inplace=True)\n",
    "        position_neg = pd.Series(data=np.nan, index=data_x.index)\n",
    "        position_neg.iloc[0] = 0\n",
    "        position_neg[(signal==-1) & (data_x[\"next.ask\"]>0) & (data_x[\"next.bid\"]>0) & (cur_spread_x<max_spread_x) &\n",
    "                    (data_y[\"next.ask\"]>0) & (data_y[\"next.bid\"]>0) & (cur_spread_y<max_spread_y)] = -1\n",
    "        position_neg[(pred> scratch) & (data_x[\"next.ask\"]>0) & (data_y[\"next.bid\"]>0) & (cur_spread_y<max_spread_y)] = 0\n",
    "        position_neg.ffill(inplace=True)\n",
    "        pre_neg = position_neg.shift(1)\n",
    "        notional_position_neg_x = pd.Series(data=0, index=data_x.index)\n",
    "        notional_position_neg_y = pd.Series(data=0, index=data_y.index)\n",
    "        notional_position_neg_y[position_neg==-1] = -1\n",
    "        notional_position_neg_y[(position_neg==-1) & (pre_neg==-1)] = np.nan\n",
    "        notional_position_neg_x[(notional_position_neg_x==-1)] = -1/data_x[\"next.bid\"][(notional_position_neg_x==-1)]\n",
    "        notional_position_neg_y[(notional_position_neg_y==-1)] = 1/data_y[\"next.ask\"][(notional_position_neg_y==-1)]\n",
    "        notional_position_neg_x.ffill(inplace=True)\n",
    "        notional_position_neg_y.ffill(inplace=True)\n",
    "        position = position_pos + position_neg\n",
    "        notional_position_x = notional_position_pos_x+notional_position_neg_x\n",
    "        notional_position_y = notional_position_pos_y+notional_position_neg_y\n",
    "        #position[n_bar-1] = 0\n",
    "        position.iloc[0] = 0\n",
    "        position.iloc[-10:] = 0\n",
    "        notional_position_x.iloc[0] = 0\n",
    "        notional_position_y.iloc[0] = 0\n",
    "        notional_position_x.iloc[-10:] = 0\n",
    "        notional_position_y.iloc[-10:] = 0\n",
    "        notional_change_pos_x = notional_position_x-notional_position_x.shift(1)\n",
    "        notional_change_pos_y = notional_position_y-notional_position_y.shift(1)\n",
    "        change_pos = position - position.shift(1)\n",
    "        change_pos.iloc[0] = 0\n",
    "        change_base = pd.Series(data=0, index=data_x.index)\n",
    "        notional_change_pos_x.iloc[0] = 0\n",
    "        notional_change_pos_y.iloc[0] = 0\n",
    "        change_base_x = pd.Series(data=0, index=data_x.index)\n",
    "        change_base_y = pd.Series(data=0, index=data_y.index)\n",
    "        \n",
    "        change_buy = change_pos>0\n",
    "        change_sell = change_pos<0\n",
    "        if (tranct_ratio):\n",
    "            change_base[change_buy] = data_x[\"next.ask\"][change_buy]*(1+tranct)-data_y[\"next.bid\"][change_buy]*(1-tranct)\n",
    "            change_base[change_sell] = data_x[\"next.bid\"][change_sell]*(1-tranct)-data_y[\"next.ask\"][change_sell]*(1+tranct)\n",
    "            change_base_x[change_buy] = data_x[\"next.ask\"][change_buy]*(1+tranct)\n",
    "            change_base_x[change_sell] = data_x[\"next.bid\"][change_sell]*(1-tranct)\n",
    "            change_base_y[change_buy] = data_y[\"next.bid\"][change_buy]*(1-tranct)\n",
    "            change_base_y[change_sell] = data_y[\"next.ask\"][change_sell]*(1+tranct)\n",
    "        else:\n",
    "            change_base[change_buy] = data_x[\"next.ask\"][change_buy]+tranct-(data_y[\"next.bid\"][change_buy]-tranct)\n",
    "            change_base[change_sell] = data_x[\"next.bid\"][change_sell]-tranct-(data_y[\"next.ask\"][change_sell]+tranct)\n",
    "            change_base_x[change_buy] = data_x[\"next.ask\"][change_buy]+tranct\n",
    "            change_base_x[change_sell] = data_x[\"next.bid\"][change_sell]-tranct\n",
    "            change_base_y[change_buy] = data_y[\"next.bid\"][change_buy]-tranct\n",
    "            change_base_y[change_sell] = data_y[\"next.ask\"][change_sell]+tranct\n",
    "        final_pnl = -sum(change_base*change_pos)\n",
    "        ret = -sum(change_base_x*notional_change_pos_x)-sum(change_base_y*notional_change_pos_y)\n",
    "        num = sum((position!=0) & (change_pos!=0))\n",
    "        if num == 0:\n",
    "            result.loc[thre[0], (\"num\", \"avg.pnl\", \"pnl\", \"avg.ret\", \"ret\")] = (0,0,0,0,0)\n",
    "            return result\n",
    "        else:\n",
    "            avg_pnl = np.divide(final_pnl, num)\n",
    "            avg_ret = np.divide(ret,num)\n",
    "            result.loc[thre[0], (\"num\", \"avg.pnl\", \"pnl\", \"avg.ret\", \"ret\")] = (num, avg_pnl, final_pnl, avg_ret,ret)\n",
    "    return result\n"
   ]
  },
  {
   "cell_type": "code",
   "execution_count": 152,
   "metadata": {},
   "outputs": [],
   "source": [
    "signal_name = \"total.trade.imb.comb\" \n",
    "product_x = \"IF\"\n",
    "product_y = \"IH\"\n",
    "all_signal = load(SAVE_PATH+\"/all signal/\"+product_x+\"_\"+product_y+\".\"+signal_name+\".pkl\")\n",
    "thre_list = []\n",
    "open_list = np.arange(0.1,0.3,0.01)\n",
    "for cartesian in itertools.product(open_list, np.array([0.2, 0.4, 0.6, 0.8, 1.0])):\n",
    "        thre_list.append((cartesian[0], -cartesian[0] * cartesian[1]))\n",
    "thre_list = np.array(thre_list)\n",
    "thre_mat = pd.DataFrame(data=OrderedDict([(\"open\", thre_list[:, 0]), (\"close\", thre_list[:, 1])]))"
   ]
  },
  {
   "cell_type": "code",
   "execution_count": 154,
   "metadata": {},
   "outputs": [
    {
     "name": "stdout",
     "output_type": "stream",
     "text": [
      "Wall time: 4min 35s\n"
     ]
    }
   ],
   "source": [
    "%%time\n",
    "train_result = parLapply(CORE_NUM, all_dates[train_sample], get_arb_signal_pnl, product_x=product_x, product_y=product_y, signal_name=\"total.trade.imb.comb\",\n",
    "                  thre_mat=thre_mat, reverse=1, tranct=0.25e-4, max_spread_x=0.61, max_spread_y=0.61,tranct_ratio=True)\n",
    "test_result = parLapply(CORE_NUM, all_dates[test_sample], get_arb_signal_pnl, product_x=product_x, product_y=product_y, signal_name=\"total.trade.imb.comb\",\n",
    "                  thre_mat=thre_mat, reverse=1, tranct=0.25e-4, max_spread_x=0.61, max_spread_y=0.61,tranct_ratio=True)\n",
    "# Wall time: 4min 35s"
   ]
  },
  {
   "cell_type": "code",
   "execution_count": 155,
   "metadata": {},
   "outputs": [
    {
     "data": {
      "text/plain": [
       "0"
      ]
     },
     "execution_count": 155,
     "metadata": {},
     "output_type": "execute_result"
    }
   ],
   "source": [
    "train_stat = get_hft_summary(train_result, thre_mat,sum(train_sample))\n",
    "good_strat = (train_stat[\"final.result\"][\"avg.pnl\"]>0) & (train_stat[\"final.result\"][\"num\"]>0)\n",
    "sum(good_strat)"
   ]
  },
  {
   "cell_type": "code",
   "execution_count": 156,
   "metadata": {},
   "outputs": [
    {
     "data": {
      "text/html": [
       "<div>\n",
       "<style scoped>\n",
       "    .dataframe tbody tr th:only-of-type {\n",
       "        vertical-align: middle;\n",
       "    }\n",
       "\n",
       "    .dataframe tbody tr th {\n",
       "        vertical-align: top;\n",
       "    }\n",
       "\n",
       "    .dataframe thead th {\n",
       "        text-align: right;\n",
       "    }\n",
       "</style>\n",
       "<table border=\"1\" class=\"dataframe\">\n",
       "  <thead>\n",
       "    <tr style=\"text-align: right;\">\n",
       "      <th></th>\n",
       "      <th>open</th>\n",
       "      <th>close</th>\n",
       "      <th>num</th>\n",
       "      <th>avg.pnl</th>\n",
       "      <th>total.pnl</th>\n",
       "      <th>sharpe</th>\n",
       "      <th>drawdown</th>\n",
       "      <th>max.drawdown</th>\n",
       "      <th>avg.ret</th>\n",
       "      <th>total.ret</th>\n",
       "      <th>sharpe.ret</th>\n",
       "      <th>drawdown.ret</th>\n",
       "      <th>max.drawdown.ret</th>\n",
       "      <th>mar</th>\n",
       "      <th>mar.ret</th>\n",
       "    </tr>\n",
       "  </thead>\n",
       "  <tbody>\n",
       "    <tr>\n",
       "      <th>0</th>\n",
       "      <td>0.10</td>\n",
       "      <td>-0.020</td>\n",
       "      <td>559</td>\n",
       "      <td>-1.462445</td>\n",
       "      <td>-817.507015</td>\n",
       "      <td>-1.247239</td>\n",
       "      <td>1014.856180</td>\n",
       "      <td>1033.269215</td>\n",
       "      <td>-0.000722</td>\n",
       "      <td>-0.403731</td>\n",
       "      <td>-1.809576</td>\n",
       "      <td>0.417832</td>\n",
       "      <td>0.417832</td>\n",
       "      <td>-0.791185</td>\n",
       "      <td>-0.966253</td>\n",
       "    </tr>\n",
       "    <tr>\n",
       "      <th>1</th>\n",
       "      <td>0.10</td>\n",
       "      <td>-0.040</td>\n",
       "      <td>538</td>\n",
       "      <td>-1.627700</td>\n",
       "      <td>-875.702680</td>\n",
       "      <td>-1.362540</td>\n",
       "      <td>1087.048775</td>\n",
       "      <td>1109.374205</td>\n",
       "      <td>-0.000795</td>\n",
       "      <td>-0.427909</td>\n",
       "      <td>-1.955215</td>\n",
       "      <td>0.436886</td>\n",
       "      <td>0.436886</td>\n",
       "      <td>-0.789366</td>\n",
       "      <td>-0.979452</td>\n",
       "    </tr>\n",
       "    <tr>\n",
       "      <th>2</th>\n",
       "      <td>0.10</td>\n",
       "      <td>-0.060</td>\n",
       "      <td>521</td>\n",
       "      <td>-1.715216</td>\n",
       "      <td>-893.627345</td>\n",
       "      <td>-1.377561</td>\n",
       "      <td>1114.175470</td>\n",
       "      <td>1119.404865</td>\n",
       "      <td>-0.000830</td>\n",
       "      <td>-0.432669</td>\n",
       "      <td>-1.973891</td>\n",
       "      <td>0.442357</td>\n",
       "      <td>0.442357</td>\n",
       "      <td>-0.798306</td>\n",
       "      <td>-0.978100</td>\n",
       "    </tr>\n",
       "    <tr>\n",
       "      <th>3</th>\n",
       "      <td>0.10</td>\n",
       "      <td>-0.080</td>\n",
       "      <td>512</td>\n",
       "      <td>-1.720078</td>\n",
       "      <td>-880.679825</td>\n",
       "      <td>-1.321085</td>\n",
       "      <td>1093.828575</td>\n",
       "      <td>1094.161315</td>\n",
       "      <td>-0.000826</td>\n",
       "      <td>-0.423110</td>\n",
       "      <td>-1.896257</td>\n",
       "      <td>0.424189</td>\n",
       "      <td>0.424189</td>\n",
       "      <td>-0.804890</td>\n",
       "      <td>-0.997454</td>\n",
       "    </tr>\n",
       "    <tr>\n",
       "      <th>4</th>\n",
       "      <td>0.10</td>\n",
       "      <td>-0.100</td>\n",
       "      <td>510</td>\n",
       "      <td>-1.763271</td>\n",
       "      <td>-899.268415</td>\n",
       "      <td>-1.338247</td>\n",
       "      <td>1117.015320</td>\n",
       "      <td>1117.015320</td>\n",
       "      <td>-0.000839</td>\n",
       "      <td>-0.427919</td>\n",
       "      <td>-1.908257</td>\n",
       "      <td>0.433109</td>\n",
       "      <td>0.433109</td>\n",
       "      <td>-0.805064</td>\n",
       "      <td>-0.988017</td>\n",
       "    </tr>\n",
       "    <tr>\n",
       "      <th>...</th>\n",
       "      <td>...</td>\n",
       "      <td>...</td>\n",
       "      <td>...</td>\n",
       "      <td>...</td>\n",
       "      <td>...</td>\n",
       "      <td>...</td>\n",
       "      <td>...</td>\n",
       "      <td>...</td>\n",
       "      <td>...</td>\n",
       "      <td>...</td>\n",
       "      <td>...</td>\n",
       "      <td>...</td>\n",
       "      <td>...</td>\n",
       "      <td>...</td>\n",
       "      <td>...</td>\n",
       "    </tr>\n",
       "    <tr>\n",
       "      <th>95</th>\n",
       "      <td>0.29</td>\n",
       "      <td>-0.058</td>\n",
       "      <td>5</td>\n",
       "      <td>-1.199291</td>\n",
       "      <td>-5.996455</td>\n",
       "      <td>-0.422311</td>\n",
       "      <td>11.840665</td>\n",
       "      <td>11.840665</td>\n",
       "      <td>-0.000435</td>\n",
       "      <td>-0.002175</td>\n",
       "      <td>-0.719022</td>\n",
       "      <td>0.003022</td>\n",
       "      <td>0.003022</td>\n",
       "      <td>-0.506429</td>\n",
       "      <td>-0.719847</td>\n",
       "    </tr>\n",
       "    <tr>\n",
       "      <th>96</th>\n",
       "      <td>0.29</td>\n",
       "      <td>-0.116</td>\n",
       "      <td>5</td>\n",
       "      <td>-1.159286</td>\n",
       "      <td>-5.796430</td>\n",
       "      <td>-0.411716</td>\n",
       "      <td>11.640640</td>\n",
       "      <td>11.640640</td>\n",
       "      <td>-0.000434</td>\n",
       "      <td>-0.002169</td>\n",
       "      <td>-0.717889</td>\n",
       "      <td>0.003015</td>\n",
       "      <td>0.003015</td>\n",
       "      <td>-0.497948</td>\n",
       "      <td>-0.719252</td>\n",
       "    </tr>\n",
       "    <tr>\n",
       "      <th>97</th>\n",
       "      <td>0.29</td>\n",
       "      <td>-0.174</td>\n",
       "      <td>5</td>\n",
       "      <td>-1.159286</td>\n",
       "      <td>-5.796430</td>\n",
       "      <td>-0.411716</td>\n",
       "      <td>11.640640</td>\n",
       "      <td>11.640640</td>\n",
       "      <td>-0.000434</td>\n",
       "      <td>-0.002169</td>\n",
       "      <td>-0.717889</td>\n",
       "      <td>0.003015</td>\n",
       "      <td>0.003015</td>\n",
       "      <td>-0.497948</td>\n",
       "      <td>-0.719252</td>\n",
       "    </tr>\n",
       "    <tr>\n",
       "      <th>98</th>\n",
       "      <td>0.29</td>\n",
       "      <td>-0.232</td>\n",
       "      <td>5</td>\n",
       "      <td>-1.159286</td>\n",
       "      <td>-5.796430</td>\n",
       "      <td>-0.411716</td>\n",
       "      <td>11.640640</td>\n",
       "      <td>11.640640</td>\n",
       "      <td>-0.000434</td>\n",
       "      <td>-0.002169</td>\n",
       "      <td>-0.717889</td>\n",
       "      <td>0.003015</td>\n",
       "      <td>0.003015</td>\n",
       "      <td>-0.497948</td>\n",
       "      <td>-0.719252</td>\n",
       "    </tr>\n",
       "    <tr>\n",
       "      <th>99</th>\n",
       "      <td>0.29</td>\n",
       "      <td>-0.290</td>\n",
       "      <td>5</td>\n",
       "      <td>-1.159286</td>\n",
       "      <td>-5.796430</td>\n",
       "      <td>-0.411716</td>\n",
       "      <td>11.640640</td>\n",
       "      <td>11.640640</td>\n",
       "      <td>-0.000434</td>\n",
       "      <td>-0.002169</td>\n",
       "      <td>-0.717889</td>\n",
       "      <td>0.003015</td>\n",
       "      <td>0.003015</td>\n",
       "      <td>-0.497948</td>\n",
       "      <td>-0.719252</td>\n",
       "    </tr>\n",
       "  </tbody>\n",
       "</table>\n",
       "<p>100 rows × 15 columns</p>\n",
       "</div>"
      ],
      "text/plain": [
       "    open  close  num   avg.pnl   total.pnl    sharpe     drawdown  \\\n",
       "0   0.10 -0.020  559 -1.462445 -817.507015 -1.247239  1014.856180   \n",
       "1   0.10 -0.040  538 -1.627700 -875.702680 -1.362540  1087.048775   \n",
       "2   0.10 -0.060  521 -1.715216 -893.627345 -1.377561  1114.175470   \n",
       "3   0.10 -0.080  512 -1.720078 -880.679825 -1.321085  1093.828575   \n",
       "4   0.10 -0.100  510 -1.763271 -899.268415 -1.338247  1117.015320   \n",
       "..   ...    ...  ...       ...         ...       ...          ...   \n",
       "95  0.29 -0.058    5 -1.199291   -5.996455 -0.422311    11.840665   \n",
       "96  0.29 -0.116    5 -1.159286   -5.796430 -0.411716    11.640640   \n",
       "97  0.29 -0.174    5 -1.159286   -5.796430 -0.411716    11.640640   \n",
       "98  0.29 -0.232    5 -1.159286   -5.796430 -0.411716    11.640640   \n",
       "99  0.29 -0.290    5 -1.159286   -5.796430 -0.411716    11.640640   \n",
       "\n",
       "    max.drawdown   avg.ret  total.ret  sharpe.ret  drawdown.ret  \\\n",
       "0    1033.269215 -0.000722  -0.403731   -1.809576      0.417832   \n",
       "1    1109.374205 -0.000795  -0.427909   -1.955215      0.436886   \n",
       "2    1119.404865 -0.000830  -0.432669   -1.973891      0.442357   \n",
       "3    1094.161315 -0.000826  -0.423110   -1.896257      0.424189   \n",
       "4    1117.015320 -0.000839  -0.427919   -1.908257      0.433109   \n",
       "..           ...       ...        ...         ...           ...   \n",
       "95     11.840665 -0.000435  -0.002175   -0.719022      0.003022   \n",
       "96     11.640640 -0.000434  -0.002169   -0.717889      0.003015   \n",
       "97     11.640640 -0.000434  -0.002169   -0.717889      0.003015   \n",
       "98     11.640640 -0.000434  -0.002169   -0.717889      0.003015   \n",
       "99     11.640640 -0.000434  -0.002169   -0.717889      0.003015   \n",
       "\n",
       "    max.drawdown.ret       mar   mar.ret  \n",
       "0           0.417832 -0.791185 -0.966253  \n",
       "1           0.436886 -0.789366 -0.979452  \n",
       "2           0.442357 -0.798306 -0.978100  \n",
       "3           0.424189 -0.804890 -0.997454  \n",
       "4           0.433109 -0.805064 -0.988017  \n",
       "..               ...       ...       ...  \n",
       "95          0.003022 -0.506429 -0.719847  \n",
       "96          0.003015 -0.497948 -0.719252  \n",
       "97          0.003015 -0.497948 -0.719252  \n",
       "98          0.003015 -0.497948 -0.719252  \n",
       "99          0.003015 -0.497948 -0.719252  \n",
       "\n",
       "[100 rows x 15 columns]"
      ]
     },
     "execution_count": 156,
     "metadata": {},
     "output_type": "execute_result"
    }
   ],
   "source": [
    "train_stat[\"final.result\"]"
   ]
  },
  {
   "cell_type": "code",
   "execution_count": null,
   "metadata": {},
   "outputs": [],
   "source": []
  },
  {
   "cell_type": "markdown",
   "metadata": {},
   "source": [
    "- we can see that there are no good strategies for a-m arbitrage\n",
    "- the reason may be that oil contracts have too low volatility and intraday trading cannot cover transaction cost\n"
   ]
  },
  {
   "cell_type": "code",
   "execution_count": 157,
   "metadata": {},
   "outputs": [],
   "source": [
    "test_stat = get_hft_summary(test_result, thre_mat,sum(test_sample))"
   ]
  },
  {
   "cell_type": "code",
   "execution_count": 159,
   "metadata": {},
   "outputs": [
    {
     "data": {
      "text/html": [
       "<div>\n",
       "<style scoped>\n",
       "    .dataframe tbody tr th:only-of-type {\n",
       "        vertical-align: middle;\n",
       "    }\n",
       "\n",
       "    .dataframe tbody tr th {\n",
       "        vertical-align: top;\n",
       "    }\n",
       "\n",
       "    .dataframe thead th {\n",
       "        text-align: right;\n",
       "    }\n",
       "</style>\n",
       "<table border=\"1\" class=\"dataframe\">\n",
       "  <thead>\n",
       "    <tr style=\"text-align: right;\">\n",
       "      <th></th>\n",
       "      <th>open</th>\n",
       "      <th>close</th>\n",
       "      <th>num</th>\n",
       "      <th>avg.pnl</th>\n",
       "      <th>total.pnl</th>\n",
       "      <th>sharpe</th>\n",
       "      <th>drawdown</th>\n",
       "      <th>max.drawdown</th>\n",
       "      <th>avg.ret</th>\n",
       "      <th>total.ret</th>\n",
       "      <th>sharpe.ret</th>\n",
       "      <th>drawdown.ret</th>\n",
       "      <th>max.drawdown.ret</th>\n",
       "      <th>mar</th>\n",
       "      <th>mar.ret</th>\n",
       "    </tr>\n",
       "  </thead>\n",
       "  <tbody>\n",
       "    <tr>\n",
       "      <th>0</th>\n",
       "      <td>0.10</td>\n",
       "      <td>-0.020</td>\n",
       "      <td>340</td>\n",
       "      <td>-1.015418</td>\n",
       "      <td>-345.242190</td>\n",
       "      <td>-1.406897</td>\n",
       "      <td>371.238510</td>\n",
       "      <td>381.109245</td>\n",
       "      <td>-0.000487</td>\n",
       "      <td>-0.165419</td>\n",
       "      <td>-3.024417</td>\n",
       "      <td>0.173143</td>\n",
       "      <td>0.176621</td>\n",
       "      <td>-0.905888</td>\n",
       "      <td>-0.936579</td>\n",
       "    </tr>\n",
       "    <tr>\n",
       "      <th>1</th>\n",
       "      <td>0.10</td>\n",
       "      <td>-0.040</td>\n",
       "      <td>329</td>\n",
       "      <td>-1.240628</td>\n",
       "      <td>-408.166465</td>\n",
       "      <td>-1.521822</td>\n",
       "      <td>451.232065</td>\n",
       "      <td>462.520010</td>\n",
       "      <td>-0.000537</td>\n",
       "      <td>-0.176524</td>\n",
       "      <td>-3.034777</td>\n",
       "      <td>0.187663</td>\n",
       "      <td>0.191573</td>\n",
       "      <td>-0.882484</td>\n",
       "      <td>-0.921449</td>\n",
       "    </tr>\n",
       "    <tr>\n",
       "      <th>2</th>\n",
       "      <td>0.10</td>\n",
       "      <td>-0.060</td>\n",
       "      <td>325</td>\n",
       "      <td>-1.053687</td>\n",
       "      <td>-342.448255</td>\n",
       "      <td>-1.192728</td>\n",
       "      <td>393.024210</td>\n",
       "      <td>441.966780</td>\n",
       "      <td>-0.000509</td>\n",
       "      <td>-0.165412</td>\n",
       "      <td>-2.627247</td>\n",
       "      <td>0.183691</td>\n",
       "      <td>0.187078</td>\n",
       "      <td>-0.774828</td>\n",
       "      <td>-0.884187</td>\n",
       "    </tr>\n",
       "    <tr>\n",
       "      <th>3</th>\n",
       "      <td>0.10</td>\n",
       "      <td>-0.080</td>\n",
       "      <td>322</td>\n",
       "      <td>-1.239696</td>\n",
       "      <td>-399.182060</td>\n",
       "      <td>-1.358032</td>\n",
       "      <td>434.926715</td>\n",
       "      <td>497.270840</td>\n",
       "      <td>-0.000559</td>\n",
       "      <td>-0.180036</td>\n",
       "      <td>-2.938854</td>\n",
       "      <td>0.190722</td>\n",
       "      <td>0.193801</td>\n",
       "      <td>-0.802746</td>\n",
       "      <td>-0.928975</td>\n",
       "    </tr>\n",
       "    <tr>\n",
       "      <th>4</th>\n",
       "      <td>0.10</td>\n",
       "      <td>-0.100</td>\n",
       "      <td>319</td>\n",
       "      <td>-1.219942</td>\n",
       "      <td>-389.161645</td>\n",
       "      <td>-1.285462</td>\n",
       "      <td>425.506135</td>\n",
       "      <td>495.326370</td>\n",
       "      <td>-0.000572</td>\n",
       "      <td>-0.182334</td>\n",
       "      <td>-2.865540</td>\n",
       "      <td>0.192875</td>\n",
       "      <td>0.197058</td>\n",
       "      <td>-0.785667</td>\n",
       "      <td>-0.925282</td>\n",
       "    </tr>\n",
       "    <tr>\n",
       "      <th>...</th>\n",
       "      <td>...</td>\n",
       "      <td>...</td>\n",
       "      <td>...</td>\n",
       "      <td>...</td>\n",
       "      <td>...</td>\n",
       "      <td>...</td>\n",
       "      <td>...</td>\n",
       "      <td>...</td>\n",
       "      <td>...</td>\n",
       "      <td>...</td>\n",
       "      <td>...</td>\n",
       "      <td>...</td>\n",
       "      <td>...</td>\n",
       "      <td>...</td>\n",
       "      <td>...</td>\n",
       "    </tr>\n",
       "    <tr>\n",
       "      <th>95</th>\n",
       "      <td>0.29</td>\n",
       "      <td>-0.058</td>\n",
       "      <td>0</td>\n",
       "      <td>0.000000</td>\n",
       "      <td>0.000000</td>\n",
       "      <td>0.000000</td>\n",
       "      <td>0.000000</td>\n",
       "      <td>0.000000</td>\n",
       "      <td>0.000000</td>\n",
       "      <td>0.000000</td>\n",
       "      <td>0.000000</td>\n",
       "      <td>0.000000</td>\n",
       "      <td>0.000000</td>\n",
       "      <td>NaN</td>\n",
       "      <td>NaN</td>\n",
       "    </tr>\n",
       "    <tr>\n",
       "      <th>96</th>\n",
       "      <td>0.29</td>\n",
       "      <td>-0.116</td>\n",
       "      <td>0</td>\n",
       "      <td>0.000000</td>\n",
       "      <td>0.000000</td>\n",
       "      <td>0.000000</td>\n",
       "      <td>0.000000</td>\n",
       "      <td>0.000000</td>\n",
       "      <td>0.000000</td>\n",
       "      <td>0.000000</td>\n",
       "      <td>0.000000</td>\n",
       "      <td>0.000000</td>\n",
       "      <td>0.000000</td>\n",
       "      <td>NaN</td>\n",
       "      <td>NaN</td>\n",
       "    </tr>\n",
       "    <tr>\n",
       "      <th>97</th>\n",
       "      <td>0.29</td>\n",
       "      <td>-0.174</td>\n",
       "      <td>0</td>\n",
       "      <td>0.000000</td>\n",
       "      <td>0.000000</td>\n",
       "      <td>0.000000</td>\n",
       "      <td>0.000000</td>\n",
       "      <td>0.000000</td>\n",
       "      <td>0.000000</td>\n",
       "      <td>0.000000</td>\n",
       "      <td>0.000000</td>\n",
       "      <td>0.000000</td>\n",
       "      <td>0.000000</td>\n",
       "      <td>NaN</td>\n",
       "      <td>NaN</td>\n",
       "    </tr>\n",
       "    <tr>\n",
       "      <th>98</th>\n",
       "      <td>0.29</td>\n",
       "      <td>-0.232</td>\n",
       "      <td>0</td>\n",
       "      <td>0.000000</td>\n",
       "      <td>0.000000</td>\n",
       "      <td>0.000000</td>\n",
       "      <td>0.000000</td>\n",
       "      <td>0.000000</td>\n",
       "      <td>0.000000</td>\n",
       "      <td>0.000000</td>\n",
       "      <td>0.000000</td>\n",
       "      <td>0.000000</td>\n",
       "      <td>0.000000</td>\n",
       "      <td>NaN</td>\n",
       "      <td>NaN</td>\n",
       "    </tr>\n",
       "    <tr>\n",
       "      <th>99</th>\n",
       "      <td>0.29</td>\n",
       "      <td>-0.290</td>\n",
       "      <td>0</td>\n",
       "      <td>0.000000</td>\n",
       "      <td>0.000000</td>\n",
       "      <td>0.000000</td>\n",
       "      <td>0.000000</td>\n",
       "      <td>0.000000</td>\n",
       "      <td>0.000000</td>\n",
       "      <td>0.000000</td>\n",
       "      <td>0.000000</td>\n",
       "      <td>0.000000</td>\n",
       "      <td>0.000000</td>\n",
       "      <td>NaN</td>\n",
       "      <td>NaN</td>\n",
       "    </tr>\n",
       "  </tbody>\n",
       "</table>\n",
       "<p>100 rows × 15 columns</p>\n",
       "</div>"
      ],
      "text/plain": [
       "    open  close  num   avg.pnl   total.pnl    sharpe    drawdown  \\\n",
       "0   0.10 -0.020  340 -1.015418 -345.242190 -1.406897  371.238510   \n",
       "1   0.10 -0.040  329 -1.240628 -408.166465 -1.521822  451.232065   \n",
       "2   0.10 -0.060  325 -1.053687 -342.448255 -1.192728  393.024210   \n",
       "3   0.10 -0.080  322 -1.239696 -399.182060 -1.358032  434.926715   \n",
       "4   0.10 -0.100  319 -1.219942 -389.161645 -1.285462  425.506135   \n",
       "..   ...    ...  ...       ...         ...       ...         ...   \n",
       "95  0.29 -0.058    0  0.000000    0.000000  0.000000    0.000000   \n",
       "96  0.29 -0.116    0  0.000000    0.000000  0.000000    0.000000   \n",
       "97  0.29 -0.174    0  0.000000    0.000000  0.000000    0.000000   \n",
       "98  0.29 -0.232    0  0.000000    0.000000  0.000000    0.000000   \n",
       "99  0.29 -0.290    0  0.000000    0.000000  0.000000    0.000000   \n",
       "\n",
       "    max.drawdown   avg.ret  total.ret  sharpe.ret  drawdown.ret  \\\n",
       "0     381.109245 -0.000487  -0.165419   -3.024417      0.173143   \n",
       "1     462.520010 -0.000537  -0.176524   -3.034777      0.187663   \n",
       "2     441.966780 -0.000509  -0.165412   -2.627247      0.183691   \n",
       "3     497.270840 -0.000559  -0.180036   -2.938854      0.190722   \n",
       "4     495.326370 -0.000572  -0.182334   -2.865540      0.192875   \n",
       "..           ...       ...        ...         ...           ...   \n",
       "95      0.000000  0.000000   0.000000    0.000000      0.000000   \n",
       "96      0.000000  0.000000   0.000000    0.000000      0.000000   \n",
       "97      0.000000  0.000000   0.000000    0.000000      0.000000   \n",
       "98      0.000000  0.000000   0.000000    0.000000      0.000000   \n",
       "99      0.000000  0.000000   0.000000    0.000000      0.000000   \n",
       "\n",
       "    max.drawdown.ret       mar   mar.ret  \n",
       "0           0.176621 -0.905888 -0.936579  \n",
       "1           0.191573 -0.882484 -0.921449  \n",
       "2           0.187078 -0.774828 -0.884187  \n",
       "3           0.193801 -0.802746 -0.928975  \n",
       "4           0.197058 -0.785667 -0.925282  \n",
       "..               ...       ...       ...  \n",
       "95          0.000000       NaN       NaN  \n",
       "96          0.000000       NaN       NaN  \n",
       "97          0.000000       NaN       NaN  \n",
       "98          0.000000       NaN       NaN  \n",
       "99          0.000000       NaN       NaN  \n",
       "\n",
       "[100 rows x 15 columns]"
      ]
     },
     "execution_count": 159,
     "metadata": {},
     "output_type": "execute_result"
    }
   ],
   "source": [
    "test_stat[\"final.result\"]"
   ]
  },
  {
   "cell_type": "code",
   "execution_count": null,
   "metadata": {},
   "outputs": [],
   "source": []
  }
 ],
 "metadata": {
  "kernelspec": {
   "display_name": "Python 3",
   "language": "python",
   "name": "python3"
  },
  "language_info": {
   "codemirror_mode": {
    "name": "ipython",
    "version": 3
   },
   "file_extension": ".py",
   "mimetype": "text/x-python",
   "name": "python",
   "nbconvert_exporter": "python",
   "pygments_lexer": "ipython3",
   "version": "3.7.4"
  }
 },
 "nbformat": 4,
 "nbformat_minor": 2
}
