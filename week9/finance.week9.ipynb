{
 "cells": [
  {
   "cell_type": "code",
   "execution_count": 259,
   "metadata": {},
   "outputs": [
    {
     "data": {
      "text/plain": [
       "<function helper.get_signal_stat(signal_name, thre_mat, product, all_dates, CORE_NUM, split_str='2018', reverse=1, tranct=0.00011, max_spread=0.61, tranct_ratio=True, min_pnl=2, min_num=20, atr_filter=0, HEAD_PATH='d:/intern', SIGNAL_PATH='d:/intern')>"
      ]
     },
     "execution_count": 259,
     "metadata": {},
     "output_type": "execute_result"
    }
   ],
   "source": [
    "from helper import *\n",
    "from stats import *\n",
    "from product_info import *\n",
    "from imp import reload  \n",
    "import helper\n",
    "import stats\n",
    "reload(helper)\n",
    "reload(stats)\n",
    "par_get_daily_pred\n",
    "par_get_all_signal\n",
    "get_signal_stat"
   ]
  },
  {
   "cell_type": "code",
   "execution_count": 2,
   "metadata": {},
   "outputs": [
    {
     "data": {
      "text/plain": [
       "16"
      ]
     },
     "execution_count": 2,
     "metadata": {},
     "output_type": "execute_result"
    }
   ],
   "source": [
    "CORE_NUM = int(os.environ['NUMBER_OF_PROCESSORS'])\n",
    "CORE_NUM"
   ]
  },
  {
   "cell_type": "code",
   "execution_count": 3,
   "metadata": {},
   "outputs": [],
   "source": [
    "product_list = [\"IF\", \"IH\", \"IC\", \"T\", \"TF\"]"
   ]
  },
  {
   "cell_type": "code",
   "execution_count": 4,
   "metadata": {},
   "outputs": [],
   "source": [
    "period = 4096"
   ]
  },
  {
   "cell_type": "code",
   "execution_count": 5,
   "metadata": {},
   "outputs": [
    {
     "data": {
      "text/plain": [
       "1092"
      ]
     },
     "execution_count": 5,
     "metadata": {},
     "output_type": "execute_result"
    }
   ],
   "source": [
    "all_dates = os.listdir(DATA_PATH + product_list[0])\n",
    "all_dates.sort()\n",
    "all_dates = np.array(all_dates)\n",
    "n_days = len(all_dates)\n",
    "n_days\n",
    "## 1092"
   ]
  },
  {
   "cell_type": "code",
   "execution_count": 6,
   "metadata": {},
   "outputs": [],
   "source": [
    "import dask\n",
    "from dask import compute, delayed\n",
    "import sklearn.preprocessing"
   ]
  },
  {
   "cell_type": "code",
   "execution_count": 7,
   "metadata": {},
   "outputs": [],
   "source": [
    "os.makedirs(HEAD_PATH+\"/all signal\", exist_ok=True)\n",
    "dire_signal_list = [\"trade.imb\", \"total.trade.imb\", \"nr\", \"dbook\", \"range.pos\", \"price.osci\", \"ma.dif.10\", \"kdj.k\", \"kdj.j\"]\n",
    "range_signal_list = [\"\", \"range\", \"std\", \"volume.open.ratio\", \"trend.index\"]\n",
    "all_signal_list = np.array([])\n",
    "for range_signal in range_signal_list:\n",
    "    for dire_signal in dire_signal_list:\n",
    "        if len(range_signal)==0:\n",
    "            signal_name = dire_signal\n",
    "        else:\n",
    "            signal_name = dire_signal+\".\"+range_signal\n",
    "        all_signal_list = np.append(all_signal_list,signal_name)\n",
    "signal_list = [signal+\".4096\" for signal in all_signal_list]\n",
    "np.append(signal_list, [\"ret.4096\", \"ret.4096.001\", \"ret.4096.002\"])\n",
    "n_signal = len(signal_list)"
   ]
  },
  {
   "cell_type": "code",
   "execution_count": 8,
   "metadata": {},
   "outputs": [
    {
     "name": "stdout",
     "output_type": "stream",
     "text": [
      "510\n",
      "582\n"
     ]
    },
    {
     "data": {
      "text/plain": [
       "Timestamp('2018-01-02 00:00:00')"
      ]
     },
     "execution_count": 8,
     "metadata": {},
     "output_type": "execute_result"
    }
   ],
   "source": [
    "train_sample = all_dates<\"2018\"\n",
    "test_sample = all_dates>\"2018\"\n",
    "date_str = [n[0:8] for n in all_dates]\n",
    "format_dates = np.array([pd.to_datetime(d) for d in date_str])\n",
    "print(sum(train_sample))\n",
    "print(sum(test_sample))\n",
    "format_dates[test_sample][0]"
   ]
  },
  {
   "cell_type": "code",
   "execution_count": 49,
   "metadata": {},
   "outputs": [],
   "source": [
    "from sklearn import linear_model\n",
    "from sklearn.model_selection import cross_val_score\n",
    "from sklearn.linear_model import lasso_path, LassoCV\n",
    "from sklearn.preprocessing import StandardScaler\n",
    "#y_signal = \"ret.\"+str(period)+\".004\"\n",
    "y_signal = \"ret.\"+str(period)"
   ]
  },
  {
   "cell_type": "markdown",
   "metadata": {},
   "source": [
    "- at first we try using lasso for them together "
   ]
  },
  {
   "cell_type": "code",
   "execution_count": 50,
   "metadata": {},
   "outputs": [],
   "source": [
    "ori_mat = load(HEAD_PATH+\"/train test mat/\"+product_list[0]+\".train.mat.pkl\")\n",
    "signal_names = ori_mat.columns[0:-4]\n",
    "signal_names\n",
    "col_names = ori_mat.columns"
   ]
  },
  {
   "cell_type": "code",
   "execution_count": 51,
   "metadata": {},
   "outputs": [
    {
     "data": {
      "text/plain": [
       "(2045, 45)"
      ]
     },
     "execution_count": 51,
     "metadata": {},
     "output_type": "execute_result"
    }
   ],
   "source": [
    "train_mat = load(HEAD_PATH+\"/train test mat/\"+product_list[0]+\".train.mat.pkl\")\n",
    "train_mat = train_mat[signal_names]\n",
    "#train_mat = pd.DataFrame(data=sklearn.preprocessing.scale(train_mat, with_mean=False), columns=signal_names)\n",
    "train_mat.shape\n",
    "## (2045, 45)"
   ]
  },
  {
   "cell_type": "code",
   "execution_count": 78,
   "metadata": {},
   "outputs": [
    {
     "name": "stdout",
     "output_type": "stream",
     "text": [
      "IF (2045, 49)\n",
      "IH (1431, 49)\n",
      "IC (2048, 49)\n"
     ]
    }
   ],
   "source": [
    "train_mat = load(HEAD_PATH+\"/train test mat/\"+product_list[0]+\".train.mat.pkl\")\n",
    "train_mat = pd.DataFrame(data=sklearn.preprocessing.scale(train_mat, with_mean=False), columns=col_names)\n",
    "print(product_list[0], train_mat.shape)\n",
    "for product in product_list[1:3]:\n",
    "    cur_mat = load(HEAD_PATH+\"/train test mat/\"+product+\".train.mat.pkl\")\n",
    "    cur_mat = pd.DataFrame(data=sklearn.preprocessing.scale(cur_mat, with_mean=False), columns=col_names)\n",
    "    print(product, cur_mat.shape)\n",
    "    train_mat = train_mat.append(cur_mat)\n",
    "\n",
    "# IF (2045, 49)\n",
    "# IH (1431, 49)\n",
    "# IC (2048, 49)\n",
    "\n"
   ]
  },
  {
   "cell_type": "code",
   "execution_count": 91,
   "metadata": {},
   "outputs": [
    {
     "data": {
      "text/plain": [
       "array(['trade.imb.range.4096', 'total.trade.imb.range.4096',\n",
       "       'ma.dif.10.range.4096', 'trade.imb.std.4096',\n",
       "       'total.trade.imb.std.4096', 'ma.dif.10.std.4096'], dtype='<U38')"
      ]
     },
     "execution_count": 91,
     "metadata": {},
     "output_type": "execute_result"
    }
   ],
   "source": [
    "result = forward_selected(train_mat[train_mat.columns[:-3]], \"ret.\"+str(period))"
   ]
  },
  {
   "cell_type": "code",
   "execution_count": 146,
   "metadata": {},
   "outputs": [],
   "source": [
    "pos = [np.where(signal_list==x)[0][0] for x in result[\"chosen.signals\"]]"
   ]
  },
  {
   "cell_type": "code",
   "execution_count": 92,
   "metadata": {},
   "outputs": [],
   "source": [
    "train_std_mat = dict([])\n",
    "for product in product_list:\n",
    "    cur_mat = load(HEAD_PATH+\"/train test mat/\"+product+\".train.mat.pkl\")\n",
    "    train_std_mat[product] = np.std(cur_mat)"
   ]
  },
  {
   "cell_type": "code",
   "execution_count": 151,
   "metadata": {},
   "outputs": [
    {
     "name": "stdout",
     "output_type": "stream",
     "text": [
      "(5524, 11)\n",
      "[ 0.          0.          0.          0.          0.         -0.05195899\n",
      "  0.          0.          0.          0.09357218 -0.0425371   0.\n",
      "  0.          0.         -0.35163503  0.          0.          0.19263128\n",
      " -0.08827555  0.          0.          0.          0.          0.55179563\n",
      " -0.11277601  0.         -0.26074473  0.01137263  0.          0.\n",
      "  0.          0.          0.          0.          0.          0.\n",
      "  0.          0.          0.          0.          0.          0.\n",
      "  0.          0.02213094  0.        ]\n"
     ]
    }
   ],
   "source": [
    "#x_train = train_mat.iloc[:, :n_sigl].values\n",
    "x_train = train_mat[result[\"chosen.signals\"]]\n",
    "#x_train = train_mat[signal_list[chosen_signals]]\n",
    "y_train = train_mat.loc[:, y_signal].values\n",
    "print(np.shape(x_train))\n",
    "scaler =  StandardScaler(copy=True, with_mean=False, with_std=True)\n",
    "scaler.fit(x_train)\n",
    "x_std = np.sqrt(scaler.var_)\n",
    "x_train_normal = scaler.transform(x_train)\n",
    "model = LassoCV(n_alphas=100, fit_intercept=False, cv=5, max_iter=10000).fit(x_train_normal, y_train)\n",
    "fit_coef = np.zeros(n_signal)\n",
    "fit_coef[pos] = model.coef_/x_std\n",
    "print(fit_coef)\n",
    "\n",
    "# (5524, 11)\n",
    "# [ 0.          0.          0.          0.          0.         -0.05195899\n",
    "#   0.          0.          0.          0.09357218 -0.0425371   0.\n",
    "#   0.          0.         -0.35163503  0.          0.          0.19263128\n",
    "#  -0.08827555  0.          0.          0.          0.          0.55179563\n",
    "#  -0.11277601  0.         -0.26074473  0.01137263  0.          0.\n",
    "#   0.          0.          0.          0.          0.          0.\n",
    "#   0.          0.          0.          0.          0.          0.\n",
    "#   0.          0.02213094  0.        ]\n",
    "\n",
    "\n",
    "\n"
   ]
  },
  {
   "cell_type": "code",
   "execution_count": 152,
   "metadata": {},
   "outputs": [
    {
     "name": "stdout",
     "output_type": "stream",
     "text": [
      "IF\n",
      "price.osci.4096                    -0.000587\n",
      "trade.imb.range.4096                0.000615\n",
      "total.trade.imb.range.4096         -0.000135\n",
      "price.osci.range.4096              -0.000140\n",
      "kdj.j.range.4096                    0.000077\n",
      "trade.imb.std.4096                 -0.002539\n",
      "price.osci.std.4096                 0.000895\n",
      "ma.dif.10.std.4096                 -0.011869\n",
      "kdj.j.std.4096                     -0.000434\n",
      "trade.imb.volume.open.ratio.4096    0.022328\n",
      "kdj.k.trend.index.4096              0.000336\n",
      "dtype: float64\n",
      "IH\n",
      "price.osci.4096                    -0.000645\n",
      "trade.imb.range.4096                0.001381\n",
      "total.trade.imb.range.4096         -0.000233\n",
      "price.osci.range.4096              -0.000206\n",
      "kdj.j.range.4096                    0.000112\n",
      "trade.imb.std.4096                 -0.005568\n",
      "price.osci.std.4096                 0.001313\n",
      "ma.dif.10.std.4096                 -0.016948\n",
      "kdj.j.std.4096                     -0.000609\n",
      "trade.imb.volume.open.ratio.4096    0.021724\n",
      "kdj.k.trend.index.4096              0.000363\n",
      "dtype: float64\n",
      "IC\n",
      "price.osci.4096                    -0.000789\n",
      "trade.imb.range.4096                0.000369\n",
      "total.trade.imb.range.4096         -0.000077\n",
      "price.osci.range.4096              -0.000080\n",
      "kdj.j.range.4096                    0.000044\n",
      "trade.imb.std.4096                 -0.001353\n",
      "price.osci.std.4096                 0.000501\n",
      "ma.dif.10.std.4096                 -0.004492\n",
      "kdj.j.std.4096                     -0.000236\n",
      "trade.imb.volume.open.ratio.4096    0.028255\n",
      "kdj.k.trend.index.4096              0.000460\n",
      "dtype: float64\n"
     ]
    }
   ],
   "source": [
    "coef_list=dict([])\n",
    "for product in product_list[:3]:\n",
    "    coef = fit_coef*train_std_mat[product][y_signal]/train_std_mat[product][signal_names]\n",
    "    coef_list[product] = coef\n",
    "    print(product)\n",
    "    print(coef[coef!=0])\n",
    "    \n",
    "# IF\n",
    "# price.osci.4096                    -0.000587\n",
    "# trade.imb.range.4096                0.000615\n",
    "# total.trade.imb.range.4096         -0.000135\n",
    "# price.osci.range.4096              -0.000140\n",
    "# kdj.j.range.4096                    0.000077\n",
    "# trade.imb.std.4096                 -0.002539\n",
    "# price.osci.std.4096                 0.000895\n",
    "# ma.dif.10.std.4096                 -0.011869\n",
    "# kdj.j.std.4096                     -0.000434\n",
    "# trade.imb.volume.open.ratio.4096    0.022328\n",
    "# kdj.k.trend.index.4096              0.000336\n",
    "# dtype: float64\n",
    "# IH\n",
    "# price.osci.4096                    -0.000645\n",
    "# trade.imb.range.4096                0.001381\n",
    "# total.trade.imb.range.4096         -0.000233\n",
    "# price.osci.range.4096              -0.000206\n",
    "# kdj.j.range.4096                    0.000112\n",
    "# trade.imb.std.4096                 -0.005568\n",
    "# price.osci.std.4096                 0.001313\n",
    "# ma.dif.10.std.4096                 -0.016948\n",
    "# kdj.j.std.4096                     -0.000609\n",
    "# trade.imb.volume.open.ratio.4096    0.021724\n",
    "# kdj.k.trend.index.4096              0.000363\n",
    "# dtype: float64\n",
    "# IC\n",
    "# price.osci.4096                    -0.000789\n",
    "# trade.imb.range.4096                0.000369\n",
    "# total.trade.imb.range.4096         -0.000077\n",
    "# price.osci.range.4096              -0.000080\n",
    "# kdj.j.range.4096                    0.000044\n",
    "# trade.imb.std.4096                 -0.001353\n",
    "# price.osci.std.4096                 0.000501\n",
    "# ma.dif.10.std.4096                 -0.004492\n",
    "# kdj.j.std.4096                     -0.000236\n",
    "# trade.imb.volume.open.ratio.4096    0.028255\n",
    "# kdj.k.trend.index.4096              0.000460\n",
    "# dtype: float64"
   ]
  },
  {
   "cell_type": "code",
   "execution_count": 153,
   "metadata": {},
   "outputs": [],
   "source": [
    "SAVE_PATH = \"e:/intern\"\n",
    "#save(coef_list, SAVE_PATH+\"/finance.lasso.pkl\")\n",
    "save(coef_list, SAVE_PATH+\"/index.lasso.pkl\")"
   ]
  },
  {
   "cell_type": "code",
   "execution_count": 154,
   "metadata": {},
   "outputs": [],
   "source": [
    "#coef_list = load(SAVE_PATH+\"/finance.lasso.pkl\")\n",
    "coef_list = load(SAVE_PATH+\"/index.lasso.pkl\")"
   ]
  },
  {
   "cell_type": "code",
   "execution_count": 155,
   "metadata": {},
   "outputs": [],
   "source": [
    "strat = \"overall.lasso.\"+str(period)\n",
    "   \n",
    "for product in product_list:\n",
    "    os.makedirs(\"e:/intern\"+\"/tmp pkl/\"+product+\"/\"+strat, exist_ok=True)"
   ]
  },
  {
   "cell_type": "code",
   "execution_count": 157,
   "metadata": {},
   "outputs": [
    {
     "name": "stdout",
     "output_type": "stream",
     "text": [
      "IF\n",
      "IH\n",
      "IC\n",
      "Wall time: 22min 26s\n"
     ]
    }
   ],
   "source": [
    "%%time\n",
    "for product in product_list[0:3]:\n",
    "    print(product)\n",
    "    coef = coef_list[product]\n",
    "    parLapply(CORE_NUM, all_dates, par_get_daily_pred, \n",
    "              product=product, coef=coef, strat=strat, HEAD_PATH=\"e:/intern\", SAVE_PATH=\"e:/intern\")\n",
    "\n",
    "# IF\n",
    "# IH\n",
    "# IC\n",
    "# Wall time: 22min 26s\n",
    "\n"
   ]
  },
  {
   "cell_type": "code",
   "execution_count": 158,
   "metadata": {},
   "outputs": [
    {
     "name": "stdout",
     "output_type": "stream",
     "text": [
      "IF\n",
      "IH\n",
      "IC\n",
      "Wall time: 1min 30s\n"
     ]
    }
   ],
   "source": [
    "%%time\n",
    "for product in product_list[:3]:\n",
    "    print(product)\n",
    "    par_get_all_signal(strat, all_dates, product, 4096, SAVE_PATH=\"e:/intern\")\n",
    "\n",
    "# IF\n",
    "# IH\n",
    "# IC\n",
    "# T\n",
    "# TF\n",
    "# Wall time: 3min 22s\n"
   ]
  },
  {
   "cell_type": "code",
   "execution_count": 159,
   "metadata": {},
   "outputs": [
    {
     "name": "stdout",
     "output_type": "stream",
     "text": [
      "reverse=1\n",
      "reverse=1\n",
      "reverse=1\n",
      "Wall time: 7min 16s\n"
     ]
    }
   ],
   "source": [
    "%%time\n",
    "for product in product_list[:3]:\n",
    "    spread = product_info[product][\"spread\"]\n",
    "    tranct = product_info[product][\"tranct\"]\n",
    "    tranct_ratio = product_info[product][\"tranct.ratio\"]\n",
    "    evaluate_signal(\"overall.lasso\", all_dates, product, 2, 20, CORE_NUM, HEAD_PATH, \"e:/intern\",\n",
    "                    period=4096, split_str=\"2018\", tranct=tranct, \n",
    "                    max_spread=spread*1.1, tranct_ratio=tranct_ratio, atr_filter=20, save_path=\"signal result atr\",reverse=1)\n",
    "\n",
    "# reverse=1\n",
    "# reverse=1\n",
    "# Wall time: 3min 41s\n",
    "\n"
   ]
  },
  {
   "cell_type": "code",
   "execution_count": 160,
   "metadata": {
    "scrolled": true
   },
   "outputs": [
    {
     "name": "stdout",
     "output_type": "stream",
     "text": [
      "IF train sharpe  0.5382723555283818 test sharpe  0.9297478470109406\n",
      "IH train sharpe  0.3015850553271201 test sharpe  -0.2627275976746257\n",
      "IC train sharpe  0.5217126788528591 test sharpe  0.8105542278366956\n",
      "train sharpe:  0.6174139012165428 test sharpe:  0.6998230576278767\n"
     ]
    },
    {
     "data": {
      "image/png": "[encoded data removed]",
      "text/plain": [
       "<Figure size 1152x720 with 1 Axes>"
      ]
     },
     "metadata": {
      "needs_background": "light"
     },
     "output_type": "display_data"
    }
   ],
   "source": [
    "i = 0\n",
    "strat = \"overall.lasso.4096\"\n",
    "test_all_pnl = np.zeros([sum(test_sample), len(product_list)])\n",
    "train_all_pnl = np.zeros([sum(train_sample), len(product_list)])\n",
    "min_pnl = 2\n",
    "min_num = 10\n",
    "for product in product_list[:3]:\n",
    "    spread = product_info[product][\"spread\"]\n",
    "    signal_stat = load(HEAD_PATH+\"/signal result atr/\"+product+\".\"+strat+\".trend.pkl\")\n",
    "    train_stat = signal_stat[\"train.stat\"]\n",
    "    good_strat = (train_stat[\"final.result\"][\"avg.pnl\"]>min_pnl*spread) & (train_stat[\"final.result\"][\"num\"]>min_num)\n",
    "    train_pnl = train_stat[\"daily.ret\"].loc[:, good_strat].sum(axis=1)/sum(good_strat)\n",
    "    test_stat = signal_stat[\"test.stat\"]\n",
    "    test_pnl = test_stat[\"daily.ret\"].loc[:, good_strat].sum(axis=1)/sum(good_strat)\n",
    "    print(product, \"train sharpe \", sharpe(train_pnl), \"test sharpe \", sharpe(test_pnl))\n",
    "    test_all_pnl[:,i] = test_pnl\n",
    "    train_all_pnl[:,i] = train_pnl\n",
    "    i = i+1\n",
    "train_portfolio = np.array(np.mean(train_all_pnl, axis=1))\n",
    "test_portfolio = np.array(np.mean(test_all_pnl, axis=1))\n",
    "all_portfolio = np.append(train_portfolio, test_portfolio)\n",
    "plt.figure(1, figsize=(16, 10));\n",
    "plt.title(\"\");\n",
    "plt.xlabel(\"date\");\n",
    "plt.ylabel(\"pnl\");\n",
    "plt.title(\"portfolio\");\n",
    "plt.plot(format_dates, all_portfolio.cumsum());\n",
    "plt.plot(format_dates[test_sample], all_portfolio.cumsum()[test_sample])\n",
    "print(\"train sharpe: \", sharpe(train_portfolio), \"test sharpe: \", sharpe(test_portfolio))    \n",
    "\n",
    "# IF train sharpe  0.5382723555283818 test sharpe  0.9297478470109406\n",
    "# IH train sharpe  0.3015850553271201 test sharpe  -0.2627275976746257\n",
    "# IC train sharpe  0.5217126788528591 test sharpe  0.8105542278366956\n",
    "# train sharpe:  0.6174139012165428 test sharpe:  0.6998230576278767\n",
    "\n",
    "\n",
    "\n",
    "\n"
   ]
  },
  {
   "cell_type": "markdown",
   "metadata": {},
   "source": [
    "- we can see that the result is much better than before\n",
    "- so we can use this method for rolling models\n",
    "- However, using the previous method may be too slow\n",
    "- we calcualte the predictions values of each product using 26 mintues, and other time add up together would be 30 mintues\n",
    "- if we are rolling on a monthly basis\n",
    "- from 201801 to 201908 there are 20 months\n",
    "- so it may use 10 hours for the rolling"
   ]
  },
  {
   "cell_type": "markdown",
   "metadata": {},
   "source": [
    "- rolling model"
   ]
  },
  {
   "cell_type": "markdown",
   "metadata": {},
   "source": [
    "- at first we need to know how many ticks every day"
   ]
  },
  {
   "cell_type": "code",
   "execution_count": 161,
   "metadata": {},
   "outputs": [],
   "source": [
    "daily_ticks = dict([])\n",
    "all_mat = dict([])\n",
    "for product in product_list:\n",
    "    daily_num = load(HEAD_PATH+\"/daily num/\"+product+\".pkl\")\n",
    "    daily_ticks[product] = daily_num\n",
    "    test_mat = load(HEAD_PATH+\"/train test mat/\"+product+\".test.mat.pkl\")\n",
    "    train_mat = load(HEAD_PATH+\"/train test mat/\"+product+\".train.mat.pkl\")\n",
    "    all_mat[product] = pd.concat((train_mat, test_mat))"
   ]
  },
  {
   "cell_type": "markdown",
   "metadata": {},
   "source": [
    "- at first we can try a not so intensive method\n",
    "- we can get the starting day for train"
   ]
  },
  {
   "cell_type": "code",
   "execution_count": 162,
   "metadata": {},
   "outputs": [],
   "source": [
    "from sklearn import linear_model\n",
    "from sklearn.model_selection import cross_val_score\n",
    "from sklearn.linear_model import lasso_path, LassoCV"
   ]
  },
  {
   "cell_type": "markdown",
   "metadata": {},
   "source": [
    "- at first we can try a not so intensive method\n",
    "- we can get the starting day for train"
   ]
  },
  {
   "cell_type": "code",
   "execution_count": 163,
   "metadata": {},
   "outputs": [],
   "source": [
    "from sklearn.preprocessing import StandardScaler"
   ]
  },
  {
   "cell_type": "markdown",
   "metadata": {},
   "source": [
    "- now we generate prediction values for next 22 days"
   ]
  },
  {
   "cell_type": "markdown",
   "metadata": {},
   "source": [
    "- now we can combien all these and get a function for rolling\n",
    "- we can also use calendar month rather than 22 days"
   ]
  },
  {
   "cell_type": "code",
   "execution_count": 164,
   "metadata": {},
   "outputs": [],
   "source": [
    "month = np.array([file[:6] for file in all_dates])"
   ]
  },
  {
   "cell_type": "code",
   "execution_count": 165,
   "metadata": {},
   "outputs": [
    {
     "data": {
      "text/plain": [
       "(array(['201512', '201601', '201602', '201603', '201604', '201605',\n",
       "        '201606', '201607', '201608', '201609', '201610', '201611',\n",
       "        '201612', '201701', '201702', '201703', '201704', '201705',\n",
       "        '201706', '201707', '201708', '201709', '201710', '201711',\n",
       "        '201712', '201801', '201802', '201803', '201804', '201805',\n",
       "        '201806', '201807', '201808', '201809', '201810', '201811',\n",
       "        '201812', '201901', '201902', '201903', '201904', '201905',\n",
       "        '201906', '201907', '201908', '201909', '201910', '201911',\n",
       "        '201912', '202001', '202002', '202003', '202004', '202005'],\n",
       "       dtype='<U6'),\n",
       " array([22, 20, 16, 23, 20, 21, 20, 21, 23, 20, 16, 22, 22, 18, 18, 23, 18,\n",
       "        20, 22, 21, 23, 21, 17, 22, 21, 22, 15, 22, 18, 22, 20, 22, 23, 19,\n",
       "        18, 22, 20, 22, 15, 21, 21, 20, 19, 23, 22, 20, 18, 21, 22, 16, 20,\n",
       "        22, 20, 17], dtype=int64))"
      ]
     },
     "execution_count": 165,
     "metadata": {},
     "output_type": "execute_result"
    }
   ],
   "source": [
    "month_len = np.unique(month, return_counts=True)\n",
    "month_len\n",
    "\n",
    "# (array(['201512', '201601', '201602', '201603', '201604', '201605',\n",
    "#         '201606', '201607', '201608', '201609', '201610', '201611',\n",
    "#         '201612', '201701', '201702', '201703', '201704', '201705',\n",
    "#         '201706', '201707', '201708', '201709', '201710', '201711',\n",
    "#         '201712', '201801', '201802', '201803', '201804', '201805',\n",
    "#         '201806', '201807', '201808', '201809', '201810', '201811',\n",
    "#         '201812', '201901', '201902', '201903', '201904', '201905',\n",
    "#         '201906', '201907', '201908', '201909', '201910', '201911',\n",
    "#         '201912', '202001', '202002', '202003', '202004', '202005'],\n",
    "#        dtype='<U6'),\n",
    "#  array([22, 20, 16, 23, 20, 21, 20, 21, 23, 20, 16, 22, 22, 18, 18, 23, 18,\n",
    "#         20, 22, 21, 23, 21, 17, 22, 21, 22, 15, 22, 18, 22, 20, 22, 23, 19,\n",
    "#         18, 22, 20, 22, 15, 21, 21, 20, 19, 23, 22, 20, 18, 21, 22, 16, 20,\n",
    "#         22, 20, 17], dtype=int64))"
   ]
  },
  {
   "cell_type": "code",
   "execution_count": 179,
   "metadata": {},
   "outputs": [],
   "source": [
    "train_tick_start = dict([]) ## startting ticks of training set\n",
    "train_tick_end = dict([])   ## ending ticks of training set\n",
    "cum_daily_ticks = dict([]) ## cumulative of number of ticks by product\n",
    "train_mat = np.zeros((0,n_signal))\n",
    "y_train = np.array([])\n",
    "for product in product_list[:3]: ## combine data sets together and then fit the model\n",
    "    cum_daily_ticks[product] = daily_ticks[product].cumsum()\n",
    "    train_tick_start[product] = 0\n",
    "    train_tick_end[product] = int(cum_daily_ticks[product][train_end]-1) \n",
    "    x_train = all_mat[product].iloc[train_tick_start[product]:train_tick_end[product], :n_signal].values\n",
    "    cur_y_train = all_mat[product][y_signal][train_tick_start[product]:train_tick_end[product]]\n",
    "    scaler.fit(x_train)\n",
    "    x_train = scaler.transform(x_train) ## normalize data before combine\n",
    "    train_std_mat[product] = np.sqrt(scaler.var_)\n",
    "    train_mat = np.append(train_mat,x_train, axis=0)\n",
    "    y_train = np.append(y_train, cur_y_train)"
   ]
  },
  {
   "cell_type": "code",
   "execution_count": 188,
   "metadata": {},
   "outputs": [],
   "source": [
    "train_mat = pd.DataFrame(train_mat, columns=signal_list)\n",
    "train"
   ]
  },
  {
   "cell_type": "code",
   "execution_count": 192,
   "metadata": {},
   "outputs": [],
   "source": [
    "train_mat[y_signal] = y_train\n",
    "result = forward_selected(train_mat, y_signal)\n",
    "pos = [np.where(signal_list==x)[0][0] for x in result[\"chosen.signals\"]]"
   ]
  },
  {
   "cell_type": "code",
   "execution_count": 195,
   "metadata": {},
   "outputs": [],
   "source": [
    "## training multiple products together with rolling model\n",
    "## train_start: start day to train\n",
    "## train_end: end day to train\n",
    "## forward_len: length of test sets\n",
    "## strat: name of strategy\n",
    "## single_product: the products that need to train separately\n",
    "## combine_product: the products that need to train together\n",
    "def get_multiple_lasso_roll_model(train_start, train_end, y_signal, forward_len, strat, \n",
    "                          single_product, combine_product, period=4096, SAVE_PATH=\"e:/intern\"):\n",
    "    product_list = np.append(single_product, combine_product) ## all of the products\n",
    "    cum_daily_ticks = dict([]) ## cumulative of number of ticks by product\n",
    "    train_tick_start = dict([]) ## startting ticks of training set\n",
    "    train_tick_end = dict([])   ## ending ticks of training set\n",
    "    test_tick_start = dict([]) ## startting ticks of test set\n",
    "    test_tick_end = dict([]) ## ending ticks of test set\n",
    "    scaler =  StandardScaler(copy=True, with_mean=False, with_std=True)\n",
    "    for product in product_list:\n",
    "        cum_daily_ticks[product] = daily_ticks[product].cumsum()\n",
    "        if train_start==0:\n",
    "            train_tick_start[product] = 0\n",
    "        else:\n",
    "            train_tick_start[product] = int(cum_daily_ticks[product][train_start-1]+1)\n",
    "        train_tick_end[product] = int(cum_daily_ticks[product][train_end]-1) \n",
    "        ## the last tick would use future data that in the test sample for response variable y, so we need to minus 1 here\n",
    "        test_tick_start[product] = int(train_tick_end[product]+2) ## we minus 1 in train_tick_end, so need to plus 2 for test_tick_start\n",
    "        test_tick_end[product] = int(cum_daily_ticks[product][train_end+1]) ## we only use 1 month as test sample so plus 1 here\n",
    "    coef_list = dict([])\n",
    "    for product in single_product: ## train products in single_product separately \n",
    "        x_train = all_mat[product].iloc[train_tick_start[product]:train_tick_end[product], :n_signal].values\n",
    "        y_train = all_mat[product][y_signal][train_tick_start[product]:train_tick_end[product]]\n",
    "        n_train = x_train.shape[0]\n",
    "        scaler =  StandardScaler(copy=True, with_mean=False, with_std=True)\n",
    "        scaler.fit(x_train)\n",
    "        x_std = np.sqrt(scaler.var_)\n",
    "        x_train_normal = scaler.transform(x_train)\n",
    "        model = LassoCV(n_alphas=100, fit_intercept=False, cv=5, max_iter=10000).fit(x_train_normal, y_train)\n",
    "        coef = model.coef_ / x_std\n",
    "        coef_list[product] = coef\n",
    "    train_std_mat = dict([])\n",
    "    y_std = dict([])\n",
    "    train_mat = np.zeros((0,n_signal))\n",
    "    y_train = np.array([])\n",
    "    for product in combine_product: ## combine data sets together and then fit the model\n",
    "        x_train = all_mat[product].iloc[train_tick_start[product]:train_tick_end[product], :n_signal].values\n",
    "        cur_y_train = all_mat[product][y_signal][train_tick_start[product]:train_tick_end[product]]\n",
    "        scaler.fit(x_train)\n",
    "        x_train = scaler.transform(x_train) ## normalize data before combine\n",
    "        train_std_mat[product] = np.sqrt(scaler.var_)\n",
    "        train_mat = np.append(train_mat,x_train, axis=0)\n",
    "        y_std[product] = np.std(cur_y_train)\n",
    "        y_train = np.append(y_train, cur_y_train/y_std[product])\n",
    "    train_mat = pd.DataFrame(train_mat, columns=signal_list)\n",
    "    train_mat[y_signal] = y_train\n",
    "    result = forward_selected(train_mat, y_signal)\n",
    "    x_train = train_mat[result[\"chosen.signals\"]]\n",
    "    pos = [np.where(signal_list==x)[0][0] for x in result[\"chosen.signals\"]]\n",
    "    scaler =  StandardScaler(copy=True, with_mean=False, with_std=True)\n",
    "    scaler.fit(x_train)\n",
    "    x_std = np.sqrt(scaler.var_)\n",
    "    x_train_normal = scaler.transform(x_train) ## normalized the combined data again\n",
    "    model = LassoCV(n_alphas=100, fit_intercept=False, cv=10, max_iter=10000).fit(x_train_normal, y_train)\n",
    "    fit_coef = np.zeros(n_signal)\n",
    "    fit_coef[pos] = model.coef_/x_std ## transform to the value before second normaliztion\n",
    "    #model = LassoCV(n_alphas=100, fit_intercept=False, cv=10, max_iter=10000).fit(train_mat, y_train)\n",
    "    #fit_coef = model.coef_\n",
    "    for product in combine_product:\n",
    "        coef_list[product] = fit_coef*y_std[product]/train_std_mat[product] ## transform to the value before the first normalization\n",
    "    os.makedirs(SAVE_PATH+\"/model\", exist_ok=True)\n",
    "    save(coef_list, SAVE_PATH+\"/model/\"+strat+\".pkl\")\n",
    "    \n"
   ]
  },
  {
   "cell_type": "code",
   "execution_count": 196,
   "metadata": {},
   "outputs": [
    {
     "name": "stdout",
     "output_type": "stream",
     "text": [
      "['201801' '201802' '201803' '201804' '201805' '201806' '201807' '201808'\n",
      " '201809' '201810' '201811' '201812' '201901' '201902' '201903' '201904'\n",
      " '201905' '201906' '201907' '201908' '201909' '201910' '201911' '201912'\n",
      " '202001' '202002' '202003' '202004' '202005']\n"
     ]
    }
   ],
   "source": [
    "test_range = np.where(month_len[0] > \"2018\" )[0]\n",
    "print(month_len[0][test_range])\n",
    "start_month = 0\n",
    "end_month = sum(month_len[0] < \"2018\")-1\n",
    "cum_month_len = np.cumsum(month_len[1])\n",
    "\n",
    "# ['201801' '201802' '201803' '201804' '201805' '201806' '201807' '201808'\n",
    "#  '201809' '201810' '201811' '201812' '201901' '201902' '201903' '201904'\n",
    "#  '201905' '201906' '201907' '201908' '201909' '201910' '201911' '201912'\n",
    "#  '202001' '202002']\n",
    "\n"
   ]
  },
  {
   "cell_type": "code",
   "execution_count": 197,
   "metadata": {},
   "outputs": [
    {
     "name": "stdout",
     "output_type": "stream",
     "text": [
      "25 201801\n",
      "26 201802\n",
      "27 201803\n",
      "28 201804\n",
      "29 201805\n",
      "30 201806\n",
      "31 201807\n",
      "32 201808\n",
      "33 201809\n",
      "34 201810\n",
      "35 201811\n",
      "36 201812\n",
      "37 201901\n",
      "38 201902\n",
      "39 201903\n",
      "40 201904\n",
      "41 201905\n",
      "42 201906\n",
      "43 201907\n",
      "44 201908\n",
      "45 201909\n",
      "46 201910\n",
      "47 201911\n",
      "48 201912\n",
      "49 202001\n",
      "50 202002\n",
      "51 202003\n",
      "52 202004\n",
      "53 202005\n",
      "Wall time: 19min 49s\n"
     ]
    }
   ],
   "source": [
    "%%time\n",
    "#strat = \"universal.lasso.4096\"\n",
    "#strat = \"rolling.lasso.4096\"\n",
    "strat = \"roll.lasso.4096\" ## with double normalization\n",
    "#y_signal = \"ret.4096.004\"\n",
    "y_signal = \"ret.4096\"\n",
    "start_month = 0\n",
    "end_month = sum(month_len[0] < \"2018\")-1\n",
    "for i_test in test_range:\n",
    "    forward_len = month_len[1][i_test]\n",
    "    train_start = 0 if start_month==0 else cum_month_len[start_month-1]\n",
    "    train_end = cum_month_len[end_month]-1\n",
    "    print(i_test, month_len[0][i_test])\n",
    "    get_multiple_lasso_roll_model(train_start, train_end, y_signal, forward_len, strat+\".\"+month_len[0][i_test], \n",
    "                          [], product_list[:3], period=4096, SAVE_PATH=\"e:/intern\")\n",
    "    start_month = start_month+1\n",
    "    end_month = end_month+1\n",
    "    \n",
    "# 25 201801\n",
    "# 26 201802\n",
    "# 27 201803\n",
    "# 28 201804\n",
    "# 29 201805\n",
    "# 30 201806\n",
    "# 31 201807\n",
    "# 32 201808\n",
    "# 33 201809\n",
    "# 34 201810\n",
    "# 35 201811\n",
    "# 36 201812\n",
    "# 37 201901\n",
    "# 38 201902\n",
    "# 39 201903\n",
    "# 40 201904\n",
    "# 41 201905\n",
    "# 42 201906\n",
    "# 43 201907\n",
    "# 44 201908\n",
    "# 45 201909\n",
    "# 46 201910\n",
    "# 47 201911\n",
    "# 48 201912\n",
    "# 49 202001\n",
    "# 50 202002\n",
    "# 51 202003\n",
    "# 52 202004\n",
    "# 53 202005\n",
    "# Wall time: 19min 49s"
   ]
  },
  {
   "cell_type": "markdown",
   "metadata": {},
   "source": [
    "- Then we can generate prediction values of each model"
   ]
  },
  {
   "cell_type": "code",
   "execution_count": 198,
   "metadata": {},
   "outputs": [
    {
     "name": "stdout",
     "output_type": "stream",
     "text": [
      "25 201801\n",
      "26 201802\n",
      "27 201803\n",
      "28 201804\n",
      "29 201805\n",
      "30 201806\n",
      "31 201807\n",
      "32 201808\n",
      "33 201809\n",
      "34 201810\n",
      "35 201811\n",
      "36 201812\n",
      "37 201901\n",
      "38 201902\n",
      "39 201903\n",
      "40 201904\n",
      "41 201905\n",
      "42 201906\n",
      "43 201907\n",
      "44 201908\n",
      "45 201909\n",
      "46 201910\n",
      "47 201911\n",
      "48 201912\n",
      "49 202001\n",
      "50 202002\n",
      "51 202003\n",
      "52 202004\n",
      "53 202005\n",
      "Wall time: 1h 7min\n"
     ]
    }
   ],
   "source": [
    "%%time\n",
    "start_month = 0\n",
    "SAVE_PATH = \"e:/intern\"\n",
    "end_month = sum(month_len[0] < \"2018\")-1\n",
    "for i_test in test_range:\n",
    "    forward_len = month_len[1][i_test]\n",
    "    train_start = 0 if start_month==0 else cum_month_len[start_month-1]\n",
    "    train_end = cum_month_len[end_month]-1\n",
    "    print(i_test, month_len[0][i_test])\n",
    "    strat_name = strat+\".\"+month_len[0][i_test]\n",
    "    coef_list = load(SAVE_PATH+\"/model/\"+strat_name+\".pkl\")\n",
    "    for product in product_list[0:3]:\n",
    "        coef = coef_list[product]\n",
    "        os.makedirs(SAVE_PATH+\"/tmp pkl/\"+product+\"/\"+strat_name, exist_ok=True)\n",
    "        ## each model has training set from train_start to train_end, and a test set until train_end+forward_len, so \n",
    "        ## we need to generate values of all_dates[train_start:(train_end+forward_len)+1], plus 1 to include train_end+forward_len\n",
    "        parLapply(CORE_NUM, all_dates[train_start:(train_end+forward_len)+1], par_get_daily_pred, \n",
    "                  product=product, coef=coef, strat=strat_name, HEAD_PATH=\"e:/intern\",SAVE_PATH=\"e:/intern\")\n",
    "    start_month = start_month+1\n",
    "    end_month = end_month+1\n",
    "\n",
    "# 25 201801\n",
    "# 26 201802\n",
    "# 27 201803\n",
    "# 28 201804\n",
    "# 29 201805\n",
    "# 30 201806\n",
    "# 31 201807\n",
    "# 32 201808\n",
    "# 33 201809\n",
    "# 34 201810\n",
    "# 35 201811\n",
    "# 36 201812\n",
    "# 37 201901\n",
    "# 38 201902\n",
    "# 39 201903\n",
    "# 40 201904\n",
    "# 41 201905\n",
    "# 42 201906\n",
    "# 43 201907\n",
    "# 44 201908\n",
    "# 45 201909\n",
    "# 46 201910\n",
    "# 47 201911\n",
    "# 48 201912\n",
    "# 49 202001\n",
    "# 50 202002\n",
    "# 51 202003\n",
    "# 52 202004\n",
    "# 53 202005\n",
    "# Wall time: 1h 7min\n"
   ]
  },
  {
   "cell_type": "code",
   "execution_count": 201,
   "metadata": {},
   "outputs": [
    {
     "name": "stdout",
     "output_type": "stream",
     "text": [
      "201801 20151202.pkl 20171229.pkl\n",
      "201802 20160104.pkl 20180131.pkl\n",
      "201803 20160201.pkl 20180228.pkl\n",
      "201804 20160301.pkl 20180330.pkl\n",
      "201805 20160401.pkl 20180427.pkl\n",
      "201806 20160503.pkl 20180531.pkl\n",
      "201807 20160601.pkl 20180629.pkl\n",
      "201808 20160701.pkl 20180731.pkl\n",
      "201809 20160801.pkl 20180831.pkl\n",
      "201810 20160901.pkl 20180928.pkl\n",
      "201811 20161010.pkl 20181031.pkl\n",
      "201812 20161101.pkl 20181130.pkl\n",
      "201901 20161201.pkl 20181228.pkl\n",
      "201902 20170103.pkl 20190131.pkl\n",
      "201903 20170203.pkl 20190228.pkl\n",
      "201904 20170301.pkl 20190329.pkl\n",
      "201905 20170405.pkl 20190430.pkl\n",
      "201906 20170502.pkl 20190531.pkl\n",
      "201907 20170601.pkl 20190628.pkl\n",
      "201908 20170703.pkl 20190731.pkl\n",
      "201909 20170801.pkl 20190830.pkl\n",
      "201910 20170901.pkl 20190930.pkl\n",
      "201911 20171009.pkl 20191031.pkl\n",
      "201912 20171101.pkl 20191129.pkl\n",
      "202001 20171201.pkl 20191231.pkl\n",
      "202002 20180102.pkl 20200123.pkl\n",
      "202003 20180201.pkl 20200228.pkl\n",
      "202004 20180301.pkl 20200331.pkl\n",
      "202005 20180402.pkl 20200430.pkl\n",
      "Wall time: 18min 13s\n"
     ]
    }
   ],
   "source": [
    "%%time\n",
    "#strat = \"universal.lasso.4096\"\n",
    "#strat = \"rolling.lasso.4096\"\n",
    "strat = \"roll.lasso.4096\"\n",
    "start_month = 0\n",
    "end_month = sum(month_len[0] < \"2018\")-1\n",
    "for i_test in test_range:\n",
    "    train_start = 0 if start_month==0 else cum_month_len[start_month-1]\n",
    "    train_end = cum_month_len[end_month]-1\n",
    "    print(month_len[0][i_test], all_dates[train_start], all_dates[train_end])\n",
    "    ## we only generte distribution on training set, not on test set\n",
    "    for product in product_list[:3]:\n",
    "        par_get_all_signal(strat+\".\"+month_len[0][i_test], all_dates[train_start:(train_end+1)], product, 4096, SAVE_PATH=\"e:/intern\")\n",
    "    start_month = start_month+1\n",
    "    end_month = end_month+1\n",
    "\n",
    "# 201801 20151202.pkl 20171229.pkl\n",
    "# 201802 20160104.pkl 20180131.pkl\n",
    "# 201803 20160201.pkl 20180228.pkl\n",
    "# 201804 20160301.pkl 20180330.pkl\n",
    "# 201805 20160401.pkl 20180427.pkl\n",
    "# 201806 20160503.pkl 20180531.pkl\n",
    "# 201807 20160601.pkl 20180629.pkl\n",
    "# 201808 20160701.pkl 20180731.pkl\n",
    "# 201809 20160801.pkl 20180831.pkl\n",
    "# 201810 20160901.pkl 20180928.pkl\n",
    "# 201811 20161010.pkl 20181031.pkl\n",
    "# 201812 20161101.pkl 20181130.pkl\n",
    "# 201901 20161201.pkl 20181228.pkl\n",
    "# 201902 20170103.pkl 20190131.pkl\n",
    "# 201903 20170203.pkl 20190228.pkl\n",
    "# 201904 20170301.pkl 20190329.pkl\n",
    "# 201905 20170405.pkl 20190430.pkl\n",
    "# 201906 20170502.pkl 20190531.pkl\n",
    "# 201907 20170601.pkl 20190628.pkl\n",
    "# 201908 20170703.pkl 20190731.pkl\n",
    "# 201909 20170801.pkl 20190830.pkl\n",
    "# 201910 20170901.pkl 20190930.pkl\n",
    "# 201911 20171009.pkl 20191031.pkl\n",
    "# 201912 20171101.pkl 20191129.pkl\n",
    "# 202001 20171201.pkl 20191231.pkl\n",
    "# 202002 20180102.pkl 20200123.pkl\n",
    "# 202003 20180201.pkl 20200228.pkl\n",
    "# 202004 20180301.pkl 20200331.pkl\n",
    "# 202005 20180402.pkl 20200430.pkl\n",
    "# Wall time: 18min 13s"
   ]
  },
  {
   "cell_type": "code",
   "execution_count": 202,
   "metadata": {},
   "outputs": [],
   "source": [
    "## get rolling statistics of the strategy performance\n",
    "def get_lasso_roll_result(product, strat,test_range, month_len, atr_filter=0, save_path=\"signal result atr\", \n",
    "                          HEAD_PATH=\"d:/intern\", SIGNAL_PATH=\"e:/intern\"):\n",
    "    start_month = 0\n",
    "    end_month = sum(month_len[0] < \"2018\")-1\n",
    "    tranct = product_info[product][\"tranct\"]\n",
    "    tranct_ratio = product_info[product][\"tranct.ratio\"]\n",
    "    spread = product_info[product][\"spread\"]\n",
    "    for i_test in test_range:\n",
    "        forward_len = month_len[1][i_test]\n",
    "        train_start = 0 if start_month==0 else cum_month_len[start_month-1]\n",
    "        train_end = cum_month_len[end_month]-1\n",
    "        strat_name = strat+\".\"+month_len[0][i_test]\n",
    "        print(product, i_test, strat_name)\n",
    "        all_signal = load(SIGNAL_PATH+\"/all signal/\"+product+\".\"+strat_name+\".pkl\")\n",
    "        open_list = np.quantile(abs(all_signal), np.append(np.arange(0.991,0.999,0.001),np.arange(0.9991,0.9999,0.0001)))\n",
    "        thre_list = []\n",
    "        for cartesian in itertools.product(open_list, np.array([0.2, 0.4, 0.6, 0.8, 1.0])):\n",
    "            thre_list.append((cartesian[0], -cartesian[0] * cartesian[1]))\n",
    "        thre_list = np.array(thre_list)\n",
    "        thre_mat = pd.DataFrame(data=OrderedDict([(\"open\", thre_list[:, 0]), (\"close\", thre_list[:, 1])]))\n",
    "        train_result = parLapply(CORE_NUM, all_dates[train_start:(train_end+1)], get_signal_pnl, \n",
    "                             product=product, signal_name=strat_name, thre_mat=thre_mat, reverse=1, tranct=tranct, \n",
    "                             max_spread=spread*1.1, tranct_ratio=tranct_ratio, HEAD_PATH=HEAD_PATH, SIGNAL_PATH=SIGNAL_PATH,\n",
    "                            atr_filter=atr_filter, rebate=0)\n",
    "        train_stat = get_hft_summary(train_result, thre_mat, train_end-train_start+1)\n",
    "        test_result = parLapply(CORE_NUM, all_dates[(train_end+1):(train_end+forward_len+1)], get_signal_pnl, \n",
    "                            product=product, signal_name=strat_name, thre_mat=thre_mat, reverse=1, tranct=tranct, \n",
    "                             max_spread=spread*1.1, tranct_ratio=tranct_ratio, HEAD_PATH=HEAD_PATH, SIGNAL_PATH=SIGNAL_PATH,\n",
    "                            atr_filter=atr_filter, rebate=0)\n",
    "        test_stat = get_hft_summary(test_result, thre_mat, forward_len)\n",
    "        stat_result = OrderedDict([(\"train.stat\", train_stat), (\"test.stat\", test_stat)])    \n",
    "        save(stat_result, HEAD_PATH+\"/\"+save_path+\"/\"+product+\".\"+strat_name+\".pkl\")\n",
    "        start_month = start_month+1\n",
    "        end_month = end_month+1\n"
   ]
  },
  {
   "cell_type": "code",
   "execution_count": 204,
   "metadata": {},
   "outputs": [
    {
     "name": "stdout",
     "output_type": "stream",
     "text": [
      "IF 25 roll.lasso.4096.201801\n",
      "IF 26 roll.lasso.4096.201802\n",
      "IF 27 roll.lasso.4096.201803\n",
      "IF 28 roll.lasso.4096.201804\n",
      "IF 29 roll.lasso.4096.201805\n",
      "IF 30 roll.lasso.4096.201806\n",
      "IF 31 roll.lasso.4096.201807\n",
      "IF 32 roll.lasso.4096.201808\n",
      "IF 33 roll.lasso.4096.201809\n",
      "IF 34 roll.lasso.4096.201810\n",
      "IF 35 roll.lasso.4096.201811\n",
      "IF 36 roll.lasso.4096.201812\n",
      "IF 37 roll.lasso.4096.201901\n",
      "IF 38 roll.lasso.4096.201902\n",
      "IF 39 roll.lasso.4096.201903\n",
      "IF 40 roll.lasso.4096.201904\n",
      "IF 41 roll.lasso.4096.201905\n",
      "IF 42 roll.lasso.4096.201906\n",
      "IF 43 roll.lasso.4096.201907\n",
      "IF 44 roll.lasso.4096.201908\n",
      "IF 45 roll.lasso.4096.201909\n",
      "IF 46 roll.lasso.4096.201910\n",
      "IF 47 roll.lasso.4096.201911\n",
      "IF 48 roll.lasso.4096.201912\n",
      "IF 49 roll.lasso.4096.202001\n",
      "IF 50 roll.lasso.4096.202002\n",
      "IF 51 roll.lasso.4096.202003\n",
      "IF 52 roll.lasso.4096.202004\n",
      "IF 53 roll.lasso.4096.202005\n",
      "IH 25 roll.lasso.4096.201801\n",
      "IH 26 roll.lasso.4096.201802\n",
      "IH 27 roll.lasso.4096.201803\n",
      "IH 28 roll.lasso.4096.201804\n",
      "IH 29 roll.lasso.4096.201805\n",
      "IH 30 roll.lasso.4096.201806\n",
      "IH 31 roll.lasso.4096.201807\n",
      "IH 32 roll.lasso.4096.201808\n",
      "IH 33 roll.lasso.4096.201809\n",
      "IH 34 roll.lasso.4096.201810\n",
      "IH 35 roll.lasso.4096.201811\n",
      "IH 36 roll.lasso.4096.201812\n",
      "IH 37 roll.lasso.4096.201901\n",
      "IH 38 roll.lasso.4096.201902\n",
      "IH 39 roll.lasso.4096.201903\n",
      "IH 40 roll.lasso.4096.201904\n",
      "IH 41 roll.lasso.4096.201905\n",
      "IH 42 roll.lasso.4096.201906\n",
      "IH 43 roll.lasso.4096.201907\n",
      "IH 44 roll.lasso.4096.201908\n",
      "IH 45 roll.lasso.4096.201909\n",
      "IH 46 roll.lasso.4096.201910\n",
      "IH 47 roll.lasso.4096.201911\n",
      "IH 48 roll.lasso.4096.201912\n",
      "IH 49 roll.lasso.4096.202001\n",
      "IH 50 roll.lasso.4096.202002\n",
      "IH 51 roll.lasso.4096.202003\n",
      "IH 52 roll.lasso.4096.202004\n",
      "IH 53 roll.lasso.4096.202005\n",
      "IC 25 roll.lasso.4096.201801\n",
      "IC 26 roll.lasso.4096.201802\n",
      "IC 27 roll.lasso.4096.201803\n",
      "IC 28 roll.lasso.4096.201804\n",
      "IC 29 roll.lasso.4096.201805\n",
      "IC 30 roll.lasso.4096.201806\n",
      "IC 31 roll.lasso.4096.201807\n",
      "IC 32 roll.lasso.4096.201808\n",
      "IC 33 roll.lasso.4096.201809\n",
      "IC 34 roll.lasso.4096.201810\n",
      "IC 35 roll.lasso.4096.201811\n",
      "IC 36 roll.lasso.4096.201812\n",
      "IC 37 roll.lasso.4096.201901\n",
      "IC 38 roll.lasso.4096.201902\n",
      "IC 39 roll.lasso.4096.201903\n",
      "IC 40 roll.lasso.4096.201904\n",
      "IC 41 roll.lasso.4096.201905\n",
      "IC 42 roll.lasso.4096.201906\n",
      "IC 43 roll.lasso.4096.201907\n",
      "IC 44 roll.lasso.4096.201908\n",
      "IC 45 roll.lasso.4096.201909\n",
      "IC 46 roll.lasso.4096.201910\n",
      "IC 47 roll.lasso.4096.201911\n",
      "IC 48 roll.lasso.4096.201912\n",
      "IC 49 roll.lasso.4096.202001\n",
      "IC 50 roll.lasso.4096.202002\n",
      "IC 51 roll.lasso.4096.202003\n",
      "IC 52 roll.lasso.4096.202004\n",
      "IC 53 roll.lasso.4096.202005\n",
      "Wall time: 1h 36min 13s\n"
     ]
    }
   ],
   "source": [
    "%%time\n",
    "#strat = \"universal.lasso.4096\"\n",
    "#strat = \"rolling.lasso.4096\"\n",
    "strat = \"roll.lasso.4096\"\n",
    "for product in product_list[0:3]:\n",
    "    get_lasso_roll_result(product, strat, test_range, month_len, atr_filter=20)\n",
    "\n",
    "# IF 25 roll.lasso.4096.201801\n",
    "# IF 26 roll.lasso.4096.201802\n",
    "# IF 27 roll.lasso.4096.201803\n",
    "# IF 28 roll.lasso.4096.201804\n",
    "# IF 29 roll.lasso.4096.201805\n",
    "# IF 30 roll.lasso.4096.201806\n",
    "# IF 31 roll.lasso.4096.201807\n",
    "# IF 32 roll.lasso.4096.201808\n",
    "# IF 33 roll.lasso.4096.201809\n",
    "# IF 34 roll.lasso.4096.201810\n",
    "# IF 35 roll.lasso.4096.201811\n",
    "# IF 36 roll.lasso.4096.201812\n",
    "# IF 37 roll.lasso.4096.201901\n",
    "# IF 38 roll.lasso.4096.201902\n",
    "# IF 39 roll.lasso.4096.201903\n",
    "# IF 40 roll.lasso.4096.201904\n",
    "# IF 41 roll.lasso.4096.201905\n",
    "# IF 42 roll.lasso.4096.201906\n",
    "# IF 43 roll.lasso.4096.201907\n",
    "# IF 44 roll.lasso.4096.201908\n",
    "# IF 45 roll.lasso.4096.201909\n",
    "# IF 46 roll.lasso.4096.201910\n",
    "# IF 47 roll.lasso.4096.201911\n",
    "# IF 48 roll.lasso.4096.201912\n",
    "# IF 49 roll.lasso.4096.202001\n",
    "# IF 50 roll.lasso.4096.202002\n",
    "# IF 51 roll.lasso.4096.202003\n",
    "# IF 52 roll.lasso.4096.202004\n",
    "# IF 53 roll.lasso.4096.202005\n",
    "# IH 25 roll.lasso.4096.201801\n",
    "# IH 26 roll.lasso.4096.201802\n",
    "# IH 27 roll.lasso.4096.201803\n",
    "# IH 28 roll.lasso.4096.201804\n",
    "# IH 29 roll.lasso.4096.201805\n",
    "# IH 30 roll.lasso.4096.201806\n",
    "# IH 31 roll.lasso.4096.201807\n",
    "# IH 32 roll.lasso.4096.201808\n",
    "# IH 33 roll.lasso.4096.201809\n",
    "# IH 34 roll.lasso.4096.201810\n",
    "# IH 35 roll.lasso.4096.201811\n",
    "# IH 36 roll.lasso.4096.201812\n",
    "# IH 37 roll.lasso.4096.201901\n",
    "# IH 38 roll.lasso.4096.201902\n",
    "# IH 39 roll.lasso.4096.201903\n",
    "# IH 40 roll.lasso.4096.201904\n",
    "# IH 41 roll.lasso.4096.201905\n",
    "# IH 42 roll.lasso.4096.201906\n",
    "# IH 43 roll.lasso.4096.201907\n",
    "# IH 44 roll.lasso.4096.201908\n",
    "# IH 45 roll.lasso.4096.201909\n",
    "# IH 46 roll.lasso.4096.201910\n",
    "# IH 47 roll.lasso.4096.201911\n",
    "# IH 48 roll.lasso.4096.201912\n",
    "# IH 49 roll.lasso.4096.202001\n",
    "# IH 50 roll.lasso.4096.202002\n",
    "# IH 51 roll.lasso.4096.202003\n",
    "# IH 52 roll.lasso.4096.202004\n",
    "# IH 53 roll.lasso.4096.202005\n",
    "# IC 25 roll.lasso.4096.201801\n",
    "# IC 26 roll.lasso.4096.201802\n",
    "# IC 27 roll.lasso.4096.201803\n",
    "# IC 28 roll.lasso.4096.201804\n",
    "# IC 29 roll.lasso.4096.201805\n",
    "# IC 30 roll.lasso.4096.201806\n",
    "# IC 31 roll.lasso.4096.201807\n",
    "# IC 32 roll.lasso.4096.201808\n",
    "# IC 33 roll.lasso.4096.201809\n",
    "# IC 34 roll.lasso.4096.201810\n",
    "# IC 35 roll.lasso.4096.201811\n",
    "# IC 36 roll.lasso.4096.201812\n",
    "# IC 37 roll.lasso.4096.201901\n",
    "# IC 38 roll.lasso.4096.201902\n",
    "# IC 39 roll.lasso.4096.201903\n",
    "# IC 40 roll.lasso.4096.201904\n",
    "# IC 41 roll.lasso.4096.201905\n",
    "# IC 42 roll.lasso.4096.201906\n",
    "# IC 43 roll.lasso.4096.201907\n",
    "# IC 44 roll.lasso.4096.201908\n",
    "# IC 45 roll.lasso.4096.201909\n",
    "# IC 46 roll.lasso.4096.201910\n",
    "# IC 47 roll.lasso.4096.201911\n",
    "# IC 48 roll.lasso.4096.201912\n",
    "# IC 49 roll.lasso.4096.202001\n",
    "# IC 50 roll.lasso.4096.202002\n",
    "# IC 51 roll.lasso.4096.202003\n",
    "# IC 52 roll.lasso.4096.202004\n",
    "# IC 53 roll.lasso.4096.202005\n",
    "# Wall time: 1h 36min 13s"
   ]
  },
  {
   "cell_type": "code",
   "execution_count": 260,
   "metadata": {},
   "outputs": [
    {
     "data": {
      "text/plain": [
       "array([0., 0., 0.])"
      ]
     },
     "execution_count": 260,
     "metadata": {},
     "output_type": "execute_result"
    }
   ],
   "source": [
    "zero_divide(np.zeros(3),0)"
   ]
  },
  {
   "cell_type": "code",
   "execution_count": 264,
   "metadata": {},
   "outputs": [
    {
     "name": "stdout",
     "output_type": "stream",
     "text": [
      "sharpe  0.7461707241443614\n"
     ]
    },
    {
     "data": {
      "image/png": "[encoded data removed]",
      "text/plain": [
       "<Figure size 1152x720 with 1 Axes>"
      ]
     },
     "metadata": {
      "needs_background": "light"
     },
     "output_type": "display_data"
    }
   ],
   "source": [
    "n_product = len(product_list[0:3])\n",
    "save_path = \"signal result atr\"\n",
    "#strat = \"universal.lasso.4096\"\n",
    "#strat = \"rolling.lasso.4096\"\n",
    "strat = \"roll.lasso.4096\"\n",
    "start_month = 0\n",
    "min_pnl = 10\n",
    "min_num = 20\n",
    "end_month = sum(month_len[0] < \"2018\")-1\n",
    "all_pnl = np.array([])\n",
    "for i_test in test_range:\n",
    "    forward_len = month_len[1][i_test]\n",
    "    train_start = 0 if start_month==0 else cum_month_len[start_month-1]\n",
    "    train_end = cum_month_len[end_month]-1\n",
    "    strat_name = strat+\".\"+month_len[0][i_test]\n",
    "    train_mat = np.zeros((train_end-train_start+1, n_product))\n",
    "    test_mat = np.zeros((forward_len, n_product))\n",
    "    for i_product in range(n_product):\n",
    "        product = product_list[i_product]\n",
    "        stat_result = load(HEAD_PATH+\"/\"+save_path+\"/\"+product+\".\"+strat_name+\".pkl\")\n",
    "        train_stat = stat_result[\"train.stat\"]\n",
    "        test_stat = stat_result[\"test.stat\"]\n",
    "        spread = product_info[product][\"spread\"]\n",
    "        good_strat = (train_stat[\"final.result\"][\"avg.pnl\"]>min_pnl*spread) & (train_stat[\"final.result\"][\"num\"]>min_num)\n",
    "        train_pnl = train_stat[\"daily.ret\"].loc[:, good_strat].sum(axis=1)/sum(good_strat) \n",
    "        train_pnl[np.isnan(train_pnl)]=0\n",
    "        train_mat[:,i_product] = train_pnl\n",
    "        test_pnl = test_stat[\"daily.ret\"].loc[:, good_strat].sum(axis=1)/sum(good_strat)\n",
    "        test_pnl[np.isnan(test_pnl)]=0\n",
    "        test_mat[:,i_product] = test_pnl\n",
    "    sharpe_mat = np.apply_along_axis(sharpe, 0, train_mat)\n",
    "    sharpe_weight = zero_divide(sharpe_mat, np.sum(sharpe_mat))\n",
    "    #parity_weight = risk_parity(train_mat)\n",
    "    #diagonal_weight = risk_parity(train_mat, only_diag=True)\n",
    "    avg_test_pnl = test_mat.mean(axis=1)\n",
    "    #avg_test_pnl = np.dot(test_mat, sharpe_weight)\n",
    "    #print(len(avg_test_pnl_mean)==len(avg_test_pnl))\n",
    "    #avg_test_pnl = np.dot(test_mat, parity_weight)\n",
    "    #avg_test_pnl = np.dot(test_mat, diagonal_weight)\n",
    "    all_pnl = np.append(all_pnl, avg_test_pnl)\n",
    "    #print(all_pnl)\n",
    "    #print(len(all_pnl), len(avg_test_pnl))\n",
    "    start_month = start_month+1\n",
    "    end_month = end_month+1\n",
    "plt.figure(1, figsize=(16, 10))\n",
    "plt.title(\"monthly roll lasso\")\n",
    "plt.xlabel(\"date\")\n",
    "plt.ylabel(\"pnl\")\n",
    "plt.plot(format_dates[test_sample], all_pnl.cumsum());\n",
    "print(\"sharpe \", sharpe(all_pnl))\n",
    "\n",
    "## sharpe  0.7461707241443614  ## avg\n",
    "## sharpe  1.4661086101373344 ## sharpe\n",
    "## sharpe  1.739788502944618 ## risk parity\n",
    "## sharpe  1.7661071787278613 ## diagonal risk parity\n"
   ]
  },
  {
   "cell_type": "code",
   "execution_count": null,
   "metadata": {},
   "outputs": [],
   "source": []
  }
 ],
 "metadata": {
  "kernelspec": {
   "display_name": "Python 3",
   "language": "python",
   "name": "python3"
  },
  "language_info": {
   "codemirror_mode": {
    "name": "ipython",
    "version": 3
   },
   "file_extension": ".py",
   "mimetype": "text/x-python",
   "name": "python",
   "nbconvert_exporter": "python",
   "pygments_lexer": "ipython3",
   "version": "3.7.0"
  }
 },
 "nbformat": 4,
 "nbformat_minor": 2
}
