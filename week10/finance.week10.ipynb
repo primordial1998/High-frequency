{
 "cells": [
  {
   "cell_type": "markdown",
   "metadata": {},
   "source": [
    "\n"
   ]
  },
  {
   "cell_type": "code",
   "execution_count": 1,
   "metadata": {},
   "outputs": [],
   "source": [
    "\n"
   ]
  },
  {
   "cell_type": "code",
   "execution_count": 1,
   "metadata": {},
   "outputs": [
    {
     "data": {
      "text/plain": [
       "<module 'stats' from 'C:\\\\Users\\\\dell\\\\stats.py'>"
      ]
     },
     "execution_count": 1,
     "metadata": {},
     "output_type": "execute_result"
    }
   ],
   "source": [
    "from helper import *\n",
    "from stats import *\n",
    "from product_info import *\n",
    "from imp import reload  \n",
    "import helper\n",
    "import stats\n",
    "reload(helper)\n",
    "reload(stats)"
   ]
  },
  {
   "cell_type": "code",
   "execution_count": 3,
   "metadata": {},
   "outputs": [
    {
     "data": {
      "text/plain": [
       "16"
      ]
     },
     "execution_count": 3,
     "metadata": {},
     "output_type": "execute_result"
    }
   ],
   "source": [
    "CORE_NUM = int(os.environ['NUMBER_OF_PROCESSORS'])\n",
    "CORE_NUM\n",
    "## 16"
   ]
  },
  {
   "cell_type": "code",
   "execution_count": 4,
   "metadata": {},
   "outputs": [],
   "source": [
    "product_list = [\"IF\", \"IH\", \"IC\", \"T\", \"TF\"]"
   ]
  },
  {
   "cell_type": "code",
   "execution_count": 5,
   "metadata": {},
   "outputs": [],
   "source": [
    "period = 4096"
   ]
  },
  {
   "cell_type": "code",
   "execution_count": 6,
   "metadata": {},
   "outputs": [
    {
     "data": {
      "text/plain": [
       "1092"
      ]
     },
     "execution_count": 6,
     "metadata": {},
     "output_type": "execute_result"
    }
   ],
   "source": [
    "all_dates = os.listdir(DATA_PATH + product_list[0])\n",
    "all_dates.sort()\n",
    "all_dates = np.array(all_dates)\n",
    "n_days = len(all_dates)\n",
    "n_days\n",
    "## 1092"
   ]
  },
  {
   "cell_type": "code",
   "execution_count": 7,
   "metadata": {},
   "outputs": [],
   "source": [
    "import dask\n",
    "from dask import compute, delayed\n",
    "import sklearn.preprocessing"
   ]
  },
  {
   "cell_type": "markdown",
   "metadata": {},
   "source": [
    "\n",
    "- it may affect previous result but the result is still accpetable"
   ]
  },
  {
   "cell_type": "code",
   "execution_count": 8,
   "metadata": {},
   "outputs": [],
   "source": [
    "train_sample = all_dates<\"2018\"\n",
    "test_sample = all_dates>\"2018\"\n",
    "date_str = [n[0:8] for n in all_dates]\n",
    "format_dates = np.array([pd.to_datetime(d) for d in date_str])"
   ]
  },
  {
   "cell_type": "code",
   "execution_count": 9,
   "metadata": {},
   "outputs": [],
   "source": [
    "os.makedirs(HEAD_PATH+\"/all signal\", exist_ok=True)\n",
    "dire_signal_list = [\"trade.imb\", \"total.trade.imb\", \"nr\", \"dbook\", \"range.pos\", \"price.osci\", \"ma.dif.10\", \"kdj.k\", \"kdj.j\"]\n",
    "range_signal_list = [\"\", \"range\", \"std\", \"volume.open.ratio\", \"trend.index\"]\n",
    "all_signal_list = np.array([])\n",
    "for range_signal in range_signal_list:\n",
    "    for dire_signal in dire_signal_list:\n",
    "        if len(range_signal)==0:\n",
    "            signal_name = dire_signal\n",
    "        else:\n",
    "            signal_name = dire_signal+\".\"+range_signal\n",
    "        all_signal_list = np.append(all_signal_list,signal_name)\n",
    "signal_list = [signal+\".4096\" for signal in all_signal_list]\n",
    "np.append(signal_list, [\"ret.4096\", \"ret.4096.001\", \"ret.4096.002\"])\n",
    "n_signal = len(signal_list)"
   ]
  },
  {
   "cell_type": "code",
   "execution_count": 10,
   "metadata": {},
   "outputs": [],
   "source": [
    "from sklearn import linear_model\n",
    "from sklearn.model_selection import cross_val_score\n",
    "from sklearn.linear_model import lasso_path, LassoCV\n",
    "from sklearn.preprocessing import StandardScaler\n",
    "y_signal = \"ret.\"+str(period)+\".004\""
   ]
  },
  {
   "cell_type": "markdown",
   "metadata": {},
   "source": [
    "\n",
    "- we can load xgboost and lightgbm at first"
   ]
  },
  {
   "cell_type": "code",
   "execution_count": 11,
   "metadata": {},
   "outputs": [],
   "source": [
    "import xgboost as xgb\n",
    "import lightgbm as lgb\n",
    "import os"
   ]
  },
  {
   "cell_type": "code",
   "execution_count": 12,
   "metadata": {},
   "outputs": [],
   "source": [
    "from sklearn.ensemble import GradientBoostingRegressor\n",
    "from sklearn.model_selection import GridSearchCV"
   ]
  },
  {
   "cell_type": "code",
   "execution_count": 13,
   "metadata": {},
   "outputs": [],
   "source": [
    "ori_mat = load(HEAD_PATH+\"/train test mat/\"+product_list[0]+\".train.mat.pkl\")\n",
    "signal_names = ori_mat.columns[0:-3]\n",
    "signal_names\n",
    "col_names = ori_mat.columns"
   ]
  },
  {
   "cell_type": "code",
   "execution_count": 14,
   "metadata": {},
   "outputs": [
    {
     "name": "stdout",
     "output_type": "stream",
     "text": [
      "IF (2045, 49)\n",
      "IH (1431, 49)\n",
      "IC (2048, 49)\n"
     ]
    }
   ],
   "source": [
    "train_mat = load(HEAD_PATH+\"/train test mat/\"+product_list[0]+\".train.mat.pkl\")\n",
    "\n",
    "print(product_list[0], train_mat.shape)\n",
    "for product in product_list[1:3]:\n",
    "    cur_mat = load(HEAD_PATH+\"/train test mat/\"+product+\".train.mat.pkl\")\n",
    "    cur_mat = pd.DataFrame(data=sklearn.preprocessing.scale(cur_mat, with_mean=False), columns=col_names)\n",
    "    print(product, cur_mat.shape)\n",
    "    train_mat = train_mat.append(cur_mat)\n",
    "\n",
    "# IF (2045, 49)\n",
    "# IH (1431, 49)\n",
    "# IC (2048, 49)\n"
   ]
  },
  {
   "cell_type": "code",
   "execution_count": 15,
   "metadata": {},
   "outputs": [],
   "source": [
    "train_std_mat = dict([])\n",
    "train_mat = load(HEAD_PATH+\"/train test mat/\"+product_list[0]+\".train.mat.pkl\")\n",
    "train_mat = train_mat[0:0]\n",
    "test_mat = train_mat\n",
    "for product in product_list[:3]:\n",
    "    cur_train_mat = load(HEAD_PATH+\"/train test mat/\"+product+\".train.mat.pkl\")\n",
    "    train_std_mat[product] = np.std(cur_train_mat)\n",
    "    train_mat = train_mat.append(cur_train_mat/train_std_mat[product])\n",
    "    cur_test_mat = load(HEAD_PATH+\"/train test mat/\"+product+\".test.mat.pkl\")\n",
    "    test_mat = test_mat.append(cur_test_mat/train_std_mat[product])"
   ]
  },
  {
   "cell_type": "code",
   "execution_count": 16,
   "metadata": {},
   "outputs": [
    {
     "name": "stdout",
     "output_type": "stream",
     "text": [
      "(5524, 49)\n",
      "(9251, 49)\n"
     ]
    }
   ],
   "source": [
    "print(train_mat.shape)\n",
    "print(test_mat.shape)\n",
    "\n",
    "# (5524, 49)\n",
    "# (9251, 49)\n",
    "\n",
    "\n"
   ]
  },
  {
   "cell_type": "code",
   "execution_count": 17,
   "metadata": {},
   "outputs": [],
   "source": [
    "x_train = train_mat.iloc[:, :n_signal].values\n",
    "y_train = train_mat.loc[:, y_signal].values"
   ]
  },
  {
   "cell_type": "code",
   "execution_count": 19,
   "metadata": {},
   "outputs": [],
   "source": [
    "strat = \"gbm.4096\""
   ]
  },
  {
   "cell_type": "markdown",
   "metadata": {},
   "source": [
    "- create a directory for the first strate"
   ]
  },
  {
   "cell_type": "code",
   "execution_count": 20,
   "metadata": {},
   "outputs": [],
   "source": [
    "for product in product_list:\n",
    "    os.makedirs(\"e:/intern\"+\"/tmp pkl/\"+product+\"/\"+strat, exist_ok=True)"
   ]
  },
  {
   "cell_type": "code",
   "execution_count": 21,
   "metadata": {},
   "outputs": [],
   "source": [
    "gb1 = GradientBoostingRegressor(random_state=0)\n",
    "param_grid = {\n",
    "        'n_estimators': np.arange(10,200,10),\n",
    "        'max_depth': [3,4,5,6,7,8,9,10],\n",
    "        'learning_rate':[0.01,0.1],\n",
    "        'min_samples_leaf': [10,20], \n",
    "    \n",
    "}\n"
   ]
  },
  {
   "cell_type": "code",
   "execution_count": 22,
   "metadata": {},
   "outputs": [
    {
     "name": "stdout",
     "output_type": "stream",
     "text": [
      "Wall time: 29min 17s\n"
     ]
    },
    {
     "data": {
      "text/plain": [
       "GridSearchCV(cv=5, error_score='raise-deprecating',\n",
       "             estimator=GradientBoostingRegressor(alpha=0.9,\n",
       "                                                 criterion='friedman_mse',\n",
       "                                                 init=None, learning_rate=0.1,\n",
       "                                                 loss='ls', max_depth=3,\n",
       "                                                 max_features=None,\n",
       "                                                 max_leaf_nodes=None,\n",
       "                                                 min_impurity_decrease=0.0,\n",
       "                                                 min_impurity_split=None,\n",
       "                                                 min_samples_leaf=1,\n",
       "                                                 min_samples_split=2,\n",
       "                                                 min_weight_fraction_leaf=0.0,\n",
       "                                                 n_estimators=100,\n",
       "                                                 n_iter...\n",
       "                                                 subsample=1.0, tol=0.0001,\n",
       "                                                 validation_fraction=0.1,\n",
       "                                                 verbose=0, warm_start=False),\n",
       "             iid='warn', n_jobs=16,\n",
       "             param_grid={'learning_rate': [0.01, 0.1],\n",
       "                         'max_depth': [3, 4, 5, 6, 7, 8, 9, 10],\n",
       "                         'min_samples_leaf': [10, 20],\n",
       "                         'n_estimators': array([ 10,  20,  30,  40,  50,  60,  70,  80,  90, 100, 110, 120, 130,\n",
       "       140, 150, 160, 170, 180, 190])},\n",
       "             pre_dispatch='2*n_jobs', refit=True, return_train_score=False,\n",
       "             scoring=None, verbose=0)"
      ]
     },
     "execution_count": 22,
     "metadata": {},
     "output_type": "execute_result"
    }
   ],
   "source": [
    "%%time\n",
    "gbm1 = GridSearchCV(gb1, param_grid, n_jobs=CORE_NUM, cv=5);\n",
    "gbm1.fit(x_train, y_train);\n",
    "# Wall time: 29min 17s\n",
    "\n",
    "\n",
    "\n"
   ]
  },
  {
   "cell_type": "code",
   "execution_count": 23,
   "metadata": {},
   "outputs": [
    {
     "data": {
      "text/plain": [
       "(5524, 45)"
      ]
     },
     "execution_count": 23,
     "metadata": {},
     "output_type": "execute_result"
    }
   ],
   "source": [
    "x_train.shape"
   ]
  },
  {
   "cell_type": "code",
   "execution_count": 25,
   "metadata": {},
   "outputs": [
    {
     "name": "stdout",
     "output_type": "stream",
     "text": [
      "Gradient boosted tree regression...\n",
      "Best Params:\n",
      "{'learning_rate': 0.01, 'max_depth': 3, 'min_samples_leaf': 20, 'n_estimators': 40}\n",
      "Best CV Score:\n",
      "0.001769038868692521\n"
     ]
    }
   ],
   "source": [
    "print('Gradient boosted tree regression...')\n",
    "print('Best Params:')\n",
    "print(gbm1.best_params_)\n",
    "print('Best CV Score:')\n",
    "print(gbm1.best_score_)\n",
    "save(gbm1, HEAD_PATH+\"/index.gbm.4096.pkl\")\n",
    "# Gradient boosted tree regression...\n",
    "# Best Params:\n",
    "# {'learning_rate': 0.01, 'max_depth': 3, 'min_samples_leaf': 20, 'n_estimators': 40}\n",
    "# Best CV Score:\n",
    "# 0.001769038868692521\n",
    "\n",
    "\n",
    "\n"
   ]
  },
  {
   "cell_type": "code",
   "execution_count": 26,
   "metadata": {},
   "outputs": [
    {
     "name": "stdout",
     "output_type": "stream",
     "text": [
      "Wall time: 24min 5s\n"
     ]
    },
    {
     "data": {
      "text/plain": [
       "''"
      ]
     },
     "execution_count": 26,
     "metadata": {},
     "output_type": "execute_result"
    }
   ],
   "source": [
    "%%time\n",
    "for product in product_list[:3]:\n",
    "    parLapply(CORE_NUM, all_dates, get_daily_gbm, \n",
    "          product=product, signal_list=signal_list, \n",
    "          model=gbm1, strat=strat, HEAD_PATH=HEAD_PATH, SAVE_PATH=\"e:/intern\", train_std=np.array(train_std_mat[product][:n_signal]))\n",
    ";\n",
    "# Wall time: 24min 5s\n"
   ]
  },
  {
   "cell_type": "code",
   "execution_count": 27,
   "metadata": {},
   "outputs": [
    {
     "name": "stdout",
     "output_type": "stream",
     "text": [
      "gbm.4096\n"
     ]
    }
   ],
   "source": [
    "signal_name = strat\n",
    "SAVE_PATH = \"e:/intern\"\n",
    "print(strat)"
   ]
  },
  {
   "cell_type": "code",
   "execution_count": 29,
   "metadata": {},
   "outputs": [
    {
     "name": "stdout",
     "output_type": "stream",
     "text": [
      "Wall time: 2min 25s\n"
     ]
    }
   ],
   "source": [
    "%%time\n",
    "for product in product_list[0:3]:\n",
    "    par_get_all_signal(strat, all_dates, product, 4096, SAVE_PATH=\"e:/intern\")\n",
    "\n",
    "## Wall time: 2min 25s"
   ]
  },
  {
   "cell_type": "code",
   "execution_count": 30,
   "metadata": {},
   "outputs": [
    {
     "name": "stdout",
     "output_type": "stream",
     "text": [
      "reverse=1\n",
      "reverse=1\n",
      "reverse=1\n",
      "Wall time: 8min 26s\n"
     ]
    }
   ],
   "source": [
    "%%time\n",
    "for product in product_list[0:3]:\n",
    "    spread = product_info[product][\"spread\"]\n",
    "    tranct = product_info[product][\"tranct\"]\n",
    "    tranct_ratio = product_info[product][\"tranct.ratio\"]\n",
    "    evaluate_signal(\"gbm\", all_dates, product, 2, 20, CORE_NUM, HEAD_PATH, SAVE_PATH,\n",
    "                    period=4096, split_str=\"2018\", tranct=tranct, \n",
    "                    max_spread=spread+0.1, tranct_ratio=tranct_ratio, atr_filter=20, save_path=\"signal result atr\",reverse=1)\n",
    "\n",
    "# reverse=1\n",
    "# reverse=1\n",
    "# reverse=1\n",
    "# Wall time: 8min 26s\n",
    "\n"
   ]
  },
  {
   "cell_type": "code",
   "execution_count": 36,
   "metadata": {},
   "outputs": [
    {
     "name": "stdout",
     "output_type": "stream",
     "text": [
      "IF train sharpe  0.4832430170458094 test sharpe  0.2983703814089415\n",
      "IC train sharpe  0.41217571806037334 test sharpe  1.4127392902644593\n",
      "train sharpe:  0.5424312794946722 test sharpe:  1.2711659663574644\n"
     ]
    },
    {
     "data": {
      "image/png": "[encoded data removed]",
      "text/plain": [
       "<Figure size 1152x720 with 1 Axes>"
      ]
     },
     "metadata": {
      "needs_background": "light"
     },
     "output_type": "display_data"
    }
   ],
   "source": [
    "i = 0\n",
    "strat = \"gbm.4096\"\n",
    "test_all_pnl = np.zeros([sum(test_sample), len(product_list)])\n",
    "train_all_pnl = np.zeros([sum(train_sample), len(product_list)])\n",
    "min_pnl = 10\n",
    "min_num = 10\n",
    "for product in product_list[0:3]:\n",
    "    spread = product_info[product][\"spread\"]\n",
    "    signal_stat = load(HEAD_PATH+\"/signal result atr/\"+product+\".\"+strat+\".trend.pkl\")\n",
    "    train_stat = signal_stat[\"train.stat\"]\n",
    "    good_strat = (train_stat[\"final.result\"][\"avg.pnl\"]>min_pnl*spread) & (train_stat[\"final.result\"][\"num\"]>min_num)\n",
    "    if (sum(good_strat)>0):\n",
    "        train_pnl = train_stat[\"daily.ret\"].loc[:, good_strat].sum(axis=1)/sum(good_strat)\n",
    "        test_stat = signal_stat[\"test.stat\"]\n",
    "        test_pnl = test_stat[\"daily.ret\"].loc[:, good_strat].sum(axis=1)/sum(good_strat)\n",
    "        print(product, \"train sharpe \", sharpe(train_pnl), \"test sharpe \", sharpe(test_pnl))\n",
    "        test_all_pnl[:,i] = test_pnl\n",
    "        train_all_pnl[:,i] = train_pnl\n",
    "        i = i+1\n",
    "train_portfolio = np.array(np.mean(train_all_pnl, axis=1))\n",
    "test_portfolio = np.array(np.mean(test_all_pnl, axis=1))\n",
    "all_portfolio = np.append(train_portfolio, test_portfolio)\n",
    "plt.figure(1, figsize=(16, 10));\n",
    "plt.title(\"\");\n",
    "plt.xlabel(\"date\");\n",
    "plt.ylabel(\"pnl\");\n",
    "plt.title(\"portfolio\");\n",
    "plt.plot(format_dates, all_portfolio.cumsum());\n",
    "plt.plot(format_dates[test_sample], all_portfolio.cumsum()[test_sample])\n",
    "print(\"train sharpe: \", sharpe(train_portfolio), \"test sharpe: \", sharpe(test_portfolio))    \n",
    "\n",
    "# IF train sharpe  0.4832430170458094 test sharpe  0.2983703814089415\n",
    "# IC train sharpe  0.41217571806037334 test sharpe  1.4127392902644593\n",
    "# train sharpe:  0.5424312794946722 test sharpe:  1.2711659663574644\n",
    "\n",
    "    "
   ]
  },
  {
   "cell_type": "markdown",
   "metadata": {},
   "source": [
    "- now we can go on with rolling gbm model\n",
    "- it's added this term of course"
   ]
  },
  {
   "cell_type": "code",
   "execution_count": 37,
   "metadata": {},
   "outputs": [],
   "source": [
    "month = np.array([file[:6] for file in all_dates])\n",
    "month_len = np.unique(month, return_counts=True)"
   ]
  },
  {
   "cell_type": "code",
   "execution_count": 39,
   "metadata": {},
   "outputs": [],
   "source": [
    "## rolling model for gradient boosting machine\n",
    "## returned value is the training sample standard deviation and the final model\n",
    "def get_multiple_gbm_roll_model(train_start, train_end, y_signal, forward_len, strat, \n",
    "                          product_list, period=4096, SAVE_PATH=\"e:/intern\"):\n",
    "    cum_daily_ticks = dict([])\n",
    "    train_tick_start = dict([])\n",
    "    train_tick_end = dict([])   \n",
    "    test_tick_start = dict([])\n",
    "    test_tick_end = dict([])\n",
    "    scaler =  StandardScaler(copy=True, with_mean=False, with_std=True)\n",
    "    for product in product_list:\n",
    "        cum_daily_ticks[product] = daily_ticks[product].cumsum()\n",
    "        if train_start==0:\n",
    "            train_tick_start[product] = 0\n",
    "        else:\n",
    "            train_tick_start[product] = int(cum_daily_ticks[product][train_start-1]+1)\n",
    "        train_tick_end[product] = int(cum_daily_ticks[product][train_end]-1)\n",
    "        test_tick_start[product] = int(train_tick_end[product]+2)\n",
    "        test_tick_end[product] = int(cum_daily_ticks[product][train_end+1])\n",
    "    coef_list = dict([])\n",
    "    gb1 = GradientBoostingRegressor(random_state=0)\n",
    "    gb1 = GradientBoostingRegressor(random_state=0)\n",
    "    param_grid = {\n",
    "            'n_estimators': np.arange(10,100,10),\n",
    "            'max_depth': [3,4,5,6,7,8],\n",
    "            'learning_rate':[0.01],\n",
    "            'min_samples_leaf': [20], \n",
    "    }\n",
    "    model = GridSearchCV(gb1, param_grid, n_jobs=CORE_NUM, cv=5);\n",
    "    train_std_mat = dict([])\n",
    "    train_mat = np.zeros((0,n_signal))\n",
    "    y_train = np.array([])\n",
    "    for product in product_list:\n",
    "        x_train = all_mat[product].iloc[train_tick_start[product]:train_tick_end[product], :n_signal].values\n",
    "        cur_y_train = all_mat[product][y_signal][train_tick_start[product]:train_tick_end[product]]\n",
    "        scaler.fit(x_train)\n",
    "        x_train = scaler.transform(x_train)\n",
    "        train_std_mat[product] = np.sqrt(scaler.var_)\n",
    "        train_mat = np.append(train_mat,x_train, axis=0)\n",
    "        y_train = np.append(y_train, cur_y_train)\n",
    "    model.fit(train_mat, y_train);\n",
    "    os.makedirs(SAVE_PATH+\"/model\", exist_ok=True)\n",
    "    save([train_std_mat, model], SAVE_PATH+\"/model/\"+strat+\".pkl\")\n",
    "    \n"
   ]
  },
  {
   "cell_type": "code",
   "execution_count": 40,
   "metadata": {},
   "outputs": [
    {
     "name": "stdout",
     "output_type": "stream",
     "text": [
      "['201801' '201802' '201803' '201804' '201805' '201806' '201807' '201808'\n",
      " '201809' '201810' '201811' '201812' '201901' '201902' '201903' '201904'\n",
      " '201905' '201906' '201907' '201908' '201909' '201910' '201911' '201912'\n",
      " '202001' '202002' '202003' '202004' '202005']\n"
     ]
    }
   ],
   "source": [
    "test_range = np.where(month_len[0] > \"2018\" )[0]\n",
    "print(month_len[0][test_range])\n",
    "start_month = 0\n",
    "end_month = sum(month_len[0] < \"2018\")-1\n",
    "cum_month_len = np.cumsum(month_len[1])\n",
    "\n",
    "# ['201801' '201802' '201803' '201804' '201805' '201806' '201807' '201808'\n",
    "#  '201809' '201810' '201811' '201812' '201901' '201902' '201903' '201904'\n",
    "#  '201905' '201906' '201907' '201908' '201909' '201910' '201911' '201912'\n",
    "#  '202001' '202002' '202003' '202004' '202005']\n",
    "\n"
   ]
  },
  {
   "cell_type": "code",
   "execution_count": 41,
   "metadata": {},
   "outputs": [],
   "source": [
    "daily_ticks = dict([])\n",
    "all_mat = dict([])\n",
    "for product in product_list:\n",
    "    daily_num = load(HEAD_PATH+\"/daily num/\"+product+\".pkl\")\n",
    "    daily_ticks[product] = daily_num\n",
    "    test_mat = load(HEAD_PATH+\"/train test mat/\"+product+\".test.mat.pkl\")\n",
    "    train_mat = load(HEAD_PATH+\"/train test mat/\"+product+\".train.mat.pkl\")\n",
    "    all_mat[product] = pd.concat((train_mat, test_mat))"
   ]
  },
  {
   "cell_type": "code",
   "execution_count": 42,
   "metadata": {},
   "outputs": [
    {
     "name": "stdout",
     "output_type": "stream",
     "text": [
      "25 201801\n",
      "26 201802\n",
      "27 201803\n",
      "28 201804\n",
      "29 201805\n",
      "30 201806\n",
      "31 201807\n",
      "32 201808\n",
      "33 201809\n",
      "34 201810\n",
      "35 201811\n",
      "36 201812\n",
      "37 201901\n",
      "38 201902\n",
      "39 201903\n",
      "40 201904\n",
      "41 201905\n",
      "42 201906\n",
      "43 201907\n",
      "44 201908\n",
      "45 201909\n",
      "46 201910\n",
      "47 201911\n",
      "48 201912\n",
      "49 202001\n",
      "50 202002\n",
      "51 202003\n",
      "52 202004\n",
      "53 202005\n",
      "Wall time: 1h 12min 21s\n"
     ]
    }
   ],
   "source": [
    "%%time\n",
    "strat = \"gbm.4096\"\n",
    "y_signal = \"ret.4096.004\"\n",
    "start_month = 0\n",
    "end_month = sum(month_len[0] < \"2018\")-1\n",
    "for i_test in test_range:\n",
    "    forward_len = month_len[1][i_test]\n",
    "    train_start = 0 if start_month==0 else cum_month_len[start_month-1]\n",
    "    train_end = cum_month_len[end_month]-1\n",
    "    print(i_test, month_len[0][i_test])\n",
    "    get_multiple_gbm_roll_model(train_start, train_end, y_signal, forward_len, strat+\".\"+month_len[0][i_test], \n",
    "                          product_list, period=4096, SAVE_PATH=\"e:/intern\")\n",
    "    start_month = start_month+1\n",
    "    end_month = end_month+1\n",
    "\n",
    "# 25 201801\n",
    "# 26 201802\n",
    "# 27 201803\n",
    "# 28 201804\n",
    "# 29 201805\n",
    "# 30 201806\n",
    "# 31 201807\n",
    "# 32 201808\n",
    "# 33 201809\n",
    "# 34 201810\n",
    "# 35 201811\n",
    "# 36 201812\n",
    "# 37 201901\n",
    "# 38 201902\n",
    "# 39 201903\n",
    "# 40 201904\n",
    "# 41 201905\n",
    "# 42 201906\n",
    "# 43 201907\n",
    "# 44 201908\n",
    "# 45 201909\n",
    "# 46 201910\n",
    "# 47 201911\n",
    "# 48 201912\n",
    "# 49 202001\n",
    "# 50 202002\n",
    "# Wall time: 1h 38min 40s\n"
   ]
  },
  {
   "cell_type": "markdown",
   "metadata": {},
   "source": [
    "- now we can generate values of each model"
   ]
  },
  {
   "cell_type": "code",
   "execution_count": 43,
   "metadata": {},
   "outputs": [
    {
     "name": "stdout",
     "output_type": "stream",
     "text": [
      "25 201801\n",
      "26 201802\n",
      "27 201803\n",
      "28 201804\n",
      "29 201805\n",
      "30 201806\n",
      "31 201807\n",
      "32 201808\n",
      "33 201809\n",
      "34 201810\n",
      "35 201811\n",
      "36 201812\n",
      "37 201901\n",
      "38 201902\n",
      "39 201903\n",
      "40 201904\n",
      "41 201905\n",
      "42 201906\n",
      "43 201907\n",
      "44 201908\n",
      "45 201909\n",
      "46 201910\n",
      "47 201911\n",
      "48 201912\n",
      "49 202001\n",
      "50 202002\n",
      "51 202003\n",
      "52 202004\n",
      "53 202005\n",
      "Wall time: 6h 15min 39s\n"
     ]
    }
   ],
   "source": [
    "%%time\n",
    "start_month = 0\n",
    "SAVE_PATH = \"e:/intern\"\n",
    "end_month = sum(month_len[0] < \"2018\")-1\n",
    "for i_test in test_range:\n",
    "    forward_len = month_len[1][i_test]\n",
    "    train_start = 0 if start_month==0 else cum_month_len[start_month-1]\n",
    "    train_end = cum_month_len[end_month]-1\n",
    "    print(i_test, month_len[0][i_test])\n",
    "    strat_name = strat+\".\"+month_len[0][i_test]\n",
    "    train_std_mat, model = load(SAVE_PATH+\"/model/\"+strat_name+\".pkl\")\n",
    "    for product in product_list:\n",
    "        os.makedirs(SAVE_PATH+\"/tmp pkl/\"+product+\"/\"+strat_name, exist_ok=True)\n",
    "        parLapply(CORE_NUM,all_dates[train_start:(train_end+forward_len+1)], get_daily_gbm, \n",
    "          product=product, signal_list=signal_list, \n",
    "          model=model, strat=strat_name, HEAD_PATH=HEAD_PATH, SAVE_PATH=\"e:/intern\", train_std=np.array(train_std_mat[product][:n_signal]))\n",
    "    start_month = start_month+1\n",
    "    end_month = end_month+1\n",
    "\n",
    "# 25 201801\n",
    "# 26 201802\n",
    "# 27 201803\n",
    "# 28 201804\n",
    "# 29 201805\n",
    "# 30 201806\n",
    "# 31 201807\n",
    "# 32 201808\n",
    "# 33 201809\n",
    "# 34 201810\n",
    "# 35 201811\n",
    "# 36 201812\n",
    "# 37 201901\n",
    "# 38 201902\n",
    "# 39 201903\n",
    "# 40 201904\n",
    "# 41 201905\n",
    "# 42 201906\n",
    "# 43 201907\n",
    "# 44 201908\n",
    "# 45 201909\n",
    "# 46 201910\n",
    "# 47 201911\n",
    "# 48 201912\n",
    "# 49 202001\n",
    "# 50 202002\n",
    "# Wall time: 5h 57min 44s\n"
   ]
  },
  {
   "cell_type": "code",
   "execution_count": 45,
   "metadata": {},
   "outputs": [
    {
     "name": "stdout",
     "output_type": "stream",
     "text": [
      "201801 20151202.pkl 20171229.pkl\n",
      "201802 20160104.pkl 20180131.pkl\n",
      "201803 20160201.pkl 20180228.pkl\n",
      "201804 20160301.pkl 20180330.pkl\n",
      "201805 20160401.pkl 20180427.pkl\n",
      "201806 20160503.pkl 20180531.pkl\n",
      "201807 20160601.pkl 20180629.pkl\n",
      "201808 20160701.pkl 20180731.pkl\n",
      "201809 20160801.pkl 20180831.pkl\n",
      "201810 20160901.pkl 20180928.pkl\n",
      "201811 20161010.pkl 20181031.pkl\n",
      "201812 20161101.pkl 20181130.pkl\n",
      "201901 20161201.pkl 20181228.pkl\n",
      "201902 20170103.pkl 20190131.pkl\n",
      "201903 20170203.pkl 20190228.pkl\n",
      "201904 20170301.pkl 20190329.pkl\n",
      "201905 20170405.pkl 20190430.pkl\n",
      "201906 20170502.pkl 20190531.pkl\n",
      "201907 20170601.pkl 20190628.pkl\n",
      "201908 20170703.pkl 20190731.pkl\n",
      "201909 20170801.pkl 20190830.pkl\n",
      "201910 20170901.pkl 20190930.pkl\n",
      "201911 20171009.pkl 20191031.pkl\n",
      "201912 20171101.pkl 20191129.pkl\n",
      "202001 20171201.pkl 20191231.pkl\n",
      "202002 20180102.pkl 20200123.pkl\n",
      "202003 20180201.pkl 20200228.pkl\n",
      "202004 20180301.pkl 20200331.pkl\n",
      "202005 20180402.pkl 20200430.pkl\n",
      "Wall time: 7min 11s\n"
     ]
    }
   ],
   "source": [
    "%%time\n",
    "strat = \"gbm.4096\"\n",
    "start_month = 0\n",
    "end_month = sum(month_len[0] < \"2018\")-1\n",
    "for i_test in test_range:\n",
    "    train_start = 0 if start_month==0 else cum_month_len[start_month-1]\n",
    "    train_end = cum_month_len[end_month]-1\n",
    "    print(month_len[0][i_test], all_dates[train_start], all_dates[train_end])\n",
    "    for product in product_list[0:3]:\n",
    "        par_get_all_signal(strat+\".\"+month_len[0][i_test], all_dates[train_start:(train_end+1)], product, 4096, SAVE_PATH=\"e:/intern\")\n",
    "    start_month = start_month+1\n",
    "    end_month = end_month+1\n",
    "\n",
    "# 201801 20151202.pkl 20171229.pkl\n",
    "# 201802 20160104.pkl 20180131.pkl\n",
    "# 201803 20160201.pkl 20180228.pkl\n",
    "# 201804 20160301.pkl 20180330.pkl\n",
    "# 201805 20160401.pkl 20180427.pkl\n",
    "# 201806 20160503.pkl 20180531.pkl\n",
    "# 201807 20160601.pkl 20180629.pkl\n",
    "# 201808 20160701.pkl 20180731.pkl\n",
    "# 201809 20160801.pkl 20180831.pkl\n",
    "# 201810 20160901.pkl 20180928.pkl\n",
    "# 201811 20161010.pkl 20181031.pkl\n",
    "# 201812 20161101.pkl 20181130.pkl\n",
    "# 201901 20161201.pkl 20181228.pkl\n",
    "# 201902 20170103.pkl 20190131.pkl\n",
    "# 201903 20170203.pkl 20190228.pkl\n",
    "# 201904 20170301.pkl 20190329.pkl\n",
    "# 201905 20170405.pkl 20190430.pkl\n",
    "# 201906 20170502.pkl 20190531.pkl\n",
    "# 201907 20170601.pkl 20190628.pkl\n",
    "# 201908 20170703.pkl 20190731.pkl\n",
    "# 201909 20170801.pkl 20190830.pkl\n",
    "# 201910 20170901.pkl 20190930.pkl\n",
    "# 201911 20171009.pkl 20191031.pkl\n",
    "# 201912 20171101.pkl 20191129.pkl\n",
    "# 202001 20171201.pkl 20191231.pkl\n",
    "# 202002 20180102.pkl 20200123.pkl\n",
    "# Wall time: 6min 39s\n"
   ]
  },
  {
   "cell_type": "code",
   "execution_count": 46,
   "metadata": {},
   "outputs": [],
   "source": [
    "def get_roll_result(product, strat,test_range, month_len, atr_filter=0, save_path=\"signal result atr\", \n",
    "                          HEAD_PATH=\"d:/intern\", SIGNAL_PATH=\"e:/intern\"):\n",
    "    start_month = 0\n",
    "    end_month = sum(month_len[0] < \"2018\")-1\n",
    "    tranct = product_info[product][\"tranct\"]\n",
    "    tranct_ratio = product_info[product][\"tranct.ratio\"]\n",
    "    spread = product_info[product][\"spread\"]\n",
    "    for i_test in test_range:\n",
    "        forward_len = month_len[1][i_test]\n",
    "        train_start = 0 if start_month==0 else cum_month_len[start_month-1]\n",
    "        train_end = cum_month_len[end_month]-1\n",
    "        strat_name = strat+\".\"+month_len[0][i_test]\n",
    "        print(product, i_test, strat_name)\n",
    "        all_signal = load(SIGNAL_PATH+\"/all signal/\"+product+\".\"+strat_name+\".pkl\")\n",
    "        open_list = np.quantile(abs(all_signal), np.append(np.arange(0.991,0.999,0.001),np.arange(0.9991,0.9999,0.0001)))\n",
    "        thre_list = []\n",
    "        for cartesian in itertools.product(open_list, np.array([0.2, 0.4, 0.6, 0.8, 1.0])):\n",
    "            thre_list.append((cartesian[0], -cartesian[0] * cartesian[1]))\n",
    "        thre_list = np.array(thre_list)\n",
    "        thre_mat = pd.DataFrame(data=OrderedDict([(\"open\", thre_list[:, 0]), (\"close\", thre_list[:, 1])]))\n",
    "        train_result = parLapply(CORE_NUM, all_dates[train_start:(train_end+1)], get_signal_pnl, \n",
    "                             product=product, signal_name=strat_name, thre_mat=thre_mat, reverse=1, tranct=tranct, \n",
    "                             max_spread=spread*1.1, tranct_ratio=tranct_ratio, HEAD_PATH=HEAD_PATH, SIGNAL_PATH=SIGNAL_PATH,\n",
    "                            atr_filter=atr_filter, rebate=0)\n",
    "        train_stat = get_hft_summary(train_result, thre_mat, train_end-train_start+1)\n",
    "        test_result = parLapply(CORE_NUM, all_dates[(train_end+1):(train_end+forward_len+1)], get_signal_pnl, \n",
    "                            product=product, signal_name=strat_name, thre_mat=thre_mat, reverse=1, tranct=tranct, \n",
    "                             max_spread=spread*1.1, tranct_ratio=tranct_ratio, HEAD_PATH=HEAD_PATH, SIGNAL_PATH=SIGNAL_PATH,\n",
    "                            atr_filter=atr_filter, rebate=0)\n",
    "        test_stat = get_hft_summary(test_result, thre_mat, forward_len)\n",
    "        stat_result = OrderedDict([(\"train.stat\", train_stat), (\"test.stat\", test_stat)])    \n",
    "        save(stat_result, HEAD_PATH+\"/\"+save_path+\"/\"+product+\".\"+strat_name+\".pkl\")\n",
    "        start_month = start_month+1\n",
    "        end_month = end_month+1\n"
   ]
  },
  {
   "cell_type": "code",
   "execution_count": 47,
   "metadata": {},
   "outputs": [
    {
     "name": "stdout",
     "output_type": "stream",
     "text": [
      "IF 25 gbm.4096.201801\n",
      "IF 26 gbm.4096.201802\n",
      "IF 27 gbm.4096.201803\n",
      "IF 28 gbm.4096.201804\n",
      "IF 29 gbm.4096.201805\n",
      "IF 30 gbm.4096.201806\n",
      "IF 31 gbm.4096.201807\n",
      "IF 32 gbm.4096.201808\n",
      "IF 33 gbm.4096.201809\n",
      "IF 34 gbm.4096.201810\n",
      "IF 35 gbm.4096.201811\n",
      "IF 36 gbm.4096.201812\n",
      "IF 37 gbm.4096.201901\n",
      "IF 38 gbm.4096.201902\n",
      "IF 39 gbm.4096.201903\n",
      "IF 40 gbm.4096.201904\n",
      "IF 41 gbm.4096.201905\n",
      "IF 42 gbm.4096.201906\n",
      "IF 43 gbm.4096.201907\n",
      "IF 44 gbm.4096.201908\n",
      "IF 45 gbm.4096.201909\n",
      "IF 46 gbm.4096.201910\n",
      "IF 47 gbm.4096.201911\n",
      "IF 48 gbm.4096.201912\n",
      "IF 49 gbm.4096.202001\n",
      "IF 50 gbm.4096.202002\n",
      "IF 51 gbm.4096.202003\n",
      "IF 52 gbm.4096.202004\n",
      "IF 53 gbm.4096.202005\n",
      "IH 25 gbm.4096.201801\n",
      "IH 26 gbm.4096.201802\n",
      "IH 27 gbm.4096.201803\n",
      "IH 28 gbm.4096.201804\n",
      "IH 29 gbm.4096.201805\n",
      "IH 30 gbm.4096.201806\n",
      "IH 31 gbm.4096.201807\n",
      "IH 32 gbm.4096.201808\n",
      "IH 33 gbm.4096.201809\n",
      "IH 34 gbm.4096.201810\n",
      "IH 35 gbm.4096.201811\n",
      "IH 36 gbm.4096.201812\n",
      "IH 37 gbm.4096.201901\n",
      "IH 38 gbm.4096.201902\n",
      "IH 39 gbm.4096.201903\n",
      "IH 40 gbm.4096.201904\n",
      "IH 41 gbm.4096.201905\n",
      "IH 42 gbm.4096.201906\n",
      "IH 43 gbm.4096.201907\n",
      "IH 44 gbm.4096.201908\n",
      "IH 45 gbm.4096.201909\n",
      "IH 46 gbm.4096.201910\n",
      "IH 47 gbm.4096.201911\n",
      "IH 48 gbm.4096.201912\n",
      "IH 49 gbm.4096.202001\n",
      "IH 50 gbm.4096.202002\n",
      "IH 51 gbm.4096.202003\n",
      "IH 52 gbm.4096.202004\n",
      "IH 53 gbm.4096.202005\n",
      "IC 25 gbm.4096.201801\n",
      "IC 26 gbm.4096.201802\n",
      "IC 27 gbm.4096.201803\n",
      "IC 28 gbm.4096.201804\n",
      "IC 29 gbm.4096.201805\n",
      "IC 30 gbm.4096.201806\n",
      "IC 31 gbm.4096.201807\n",
      "IC 32 gbm.4096.201808\n",
      "IC 33 gbm.4096.201809\n",
      "IC 34 gbm.4096.201810\n",
      "IC 35 gbm.4096.201811\n",
      "IC 36 gbm.4096.201812\n",
      "IC 37 gbm.4096.201901\n",
      "IC 38 gbm.4096.201902\n",
      "IC 39 gbm.4096.201903\n",
      "IC 40 gbm.4096.201904\n",
      "IC 41 gbm.4096.201905\n",
      "IC 42 gbm.4096.201906\n",
      "IC 43 gbm.4096.201907\n",
      "IC 44 gbm.4096.201908\n",
      "IC 45 gbm.4096.201909\n",
      "IC 46 gbm.4096.201910\n",
      "IC 47 gbm.4096.201911\n",
      "IC 48 gbm.4096.201912\n",
      "IC 49 gbm.4096.202001\n",
      "IC 50 gbm.4096.202002\n",
      "IC 51 gbm.4096.202003\n",
      "IC 52 gbm.4096.202004\n",
      "IC 53 gbm.4096.202005\n",
      "Wall time: 1h 50min 27s\n"
     ]
    }
   ],
   "source": [
    "%%time\n",
    "strat = \"gbm.4096\"\n",
    "for product in product_list[0:3]:\n",
    "    get_roll_result(product, strat, test_range, month_len, atr_filter=20)\n",
    "\n",
    "## Wall time: 3h 8min 45s"
   ]
  },
  {
   "cell_type": "code",
   "execution_count": 49,
   "metadata": {},
   "outputs": [
    {
     "name": "stdout",
     "output_type": "stream",
     "text": [
      "sharpe  0.19856018913586373\n"
     ]
    },
    {
     "data": {
      "image/png": "[encoded data removed]",
      "text/plain": [
       "<Figure size 1152x720 with 1 Axes>"
      ]
     },
     "metadata": {
      "needs_background": "light"
     },
     "output_type": "display_data"
    }
   ],
   "source": [
    "n_product = len(product_list[0:3])\n",
    "save_path = \"signal result atr\"\n",
    "strat = \"gbm.4096\"\n",
    "start_month = 0\n",
    "end_month = sum(month_len[0] < \"2018\")-1\n",
    "all_pnl = np.array([])\n",
    "for i_test in test_range:\n",
    "    forward_len = month_len[1][i_test]\n",
    "    train_start = 0 if start_month==0 else cum_month_len[start_month-1]\n",
    "    train_end = cum_month_len[end_month]-1\n",
    "    strat_name = strat+\".\"+month_len[0][i_test]\n",
    "    train_mat = np.zeros((train_end-train_start+1, n_product))\n",
    "    test_mat = np.zeros((forward_len, n_product))\n",
    "    for i_product in range(n_product):\n",
    "        product = product_list[i_product]\n",
    "        stat_result = load(HEAD_PATH+\"/\"+save_path+\"/\"+product+\".\"+strat_name+\".pkl\")\n",
    "        train_stat = stat_result[\"train.stat\"]\n",
    "        test_stat = stat_result[\"test.stat\"]\n",
    "        spread = product_info[product][\"spread\"]\n",
    "        good_strat = (train_stat[\"final.result\"][\"avg.pnl\"]>10*spread)\n",
    "        train_pnl = train_stat[\"daily.ret\"].loc[:, good_strat].sum(axis=1)/sum(good_strat) \n",
    "        train_pnl[np.isnan(train_pnl)]=0\n",
    "        train_mat[:,i_product] = train_pnl\n",
    "        test_pnl = test_stat[\"daily.ret\"].loc[:, good_strat].sum(axis=1)/sum(good_strat)\n",
    "        test_pnl[np.isnan(test_pnl)]=0\n",
    "        test_mat[:,i_product] = test_pnl\n",
    "    sharpe_mat = np.apply_along_axis(sharpe, 0, train_mat)\n",
    "    sharpe_weight = zero_divide(sharpe_mat, np.sum(sharpe_mat))\n",
    "    #parity_weight = risk_parity(train_mat)\n",
    "    #diagonal_weight = risk_parity(train_mat, only_diag=True)\n",
    "    #avg_test_pnl = test_mat.mean(axis=1)\n",
    "    avg_test_pnl = np.dot(test_mat, sharpe_weight)\n",
    "    #avg_test_pnl = np.dot(test_mat, parity_weight)\n",
    "    #avg_test_pnl = np.dot(test_mat, diagonal_weight)\n",
    "    all_pnl = np.append(all_pnl, avg_test_pnl)\n",
    "    start_month = start_month+1\n",
    "    end_month = end_month+1\n",
    "plt.figure(1, figsize=(16, 10))\n",
    "plt.title(\"monthly roll lasso\")\n",
    "plt.xlabel(\"date\")\n",
    "plt.ylabel(\"pnl\")\n",
    "plt.plot(all_pnl.cumsum());\n",
    "print(\"sharpe \", sharpe(all_pnl))\n",
    "\n",
    "## sharpe 0.19856018913586373\n",
    "\n"
   ]
  },
  {
   "cell_type": "markdown",
   "metadata": {},
   "source": [
    "- Now let's start with xgboost"
   ]
  },
  {
   "cell_type": "code",
   "execution_count": 50,
   "metadata": {},
   "outputs": [],
   "source": [
    "import xgboost as xgb"
   ]
  },
  {
   "cell_type": "markdown",
   "metadata": {},
   "source": [
    "- we need to create specific train and test data sets for xgboost"
   ]
  },
  {
   "cell_type": "code",
   "execution_count": 51,
   "metadata": {
    "scrolled": false
   },
   "outputs": [],
   "source": [
    "cv_params = {'max_depth': [3,4,5,6,7,8,9,10], \n",
    "             'n_estimators': np.arange(10,200,10)}\n",
    "ind_params = {'learning_rate': 0.1,\n",
    "              \"min_samples_leaf\":[10,20],\n",
    "              'seed':100, 'objective': 'reg:linear'}\n",
    "xgb_cv = GridSearchCV(xgb.XGBRegressor(**ind_params), \n",
    "                            cv_params, \n",
    "                            cv = 5, n_jobs = -1) "
   ]
  },
  {
   "cell_type": "code",
   "execution_count": 52,
   "metadata": {},
   "outputs": [
    {
     "name": "stdout",
     "output_type": "stream",
     "text": [
      "Wall time: 9min 30s\n"
     ]
    },
    {
     "data": {
      "text/plain": [
       "GridSearchCV(cv=5, error_score='raise-deprecating',\n",
       "             estimator=XGBRegressor(base_score=0.5, booster='gbtree',\n",
       "                                    colsample_bylevel=1, colsample_bytree=1,\n",
       "                                    gamma=0, importance_type='gain',\n",
       "                                    learning_rate=0.1, max_delta_step=0,\n",
       "                                    max_depth=3, min_child_weight=1,\n",
       "                                    min_samples_leaf=[10, 20], missing=None,\n",
       "                                    n_estimators=100, n_jobs=1, nthread=None,\n",
       "                                    objective='reg:linear', random_state=0,\n",
       "                                    reg_alpha=0, reg_lambda=1,\n",
       "                                    scale_pos_weight=1, seed=100, silent=True,\n",
       "                                    subsample=1),\n",
       "             iid='warn', n_jobs=-1,\n",
       "             param_grid={'max_depth': [3, 4, 5, 6, 7, 8, 9, 10],\n",
       "                         'n_estimators': array([ 10,  20,  30,  40,  50,  60,  70,  80,  90, 100, 110, 120, 130,\n",
       "       140, 150, 160, 170, 180, 190])},\n",
       "             pre_dispatch='2*n_jobs', refit=True, return_train_score=False,\n",
       "             scoring=None, verbose=0)"
      ]
     },
     "execution_count": 52,
     "metadata": {},
     "output_type": "execute_result"
    }
   ],
   "source": [
    "%%time\n",
    "xgb_cv.fit(x_train, y_train);\n",
    "\n",
    "# Wall time: 9min 30s\n",
    "\n",
    "# GridSearchCV(cv=5, error_score='raise-deprecating',\n",
    "#              estimator=XGBRegressor(base_score=0.5, booster='gbtree',\n",
    "#                                     colsample_bylevel=1, colsample_bytree=1,\n",
    "#                                     gamma=0, importance_type='gain',\n",
    "#                                     learning_rate=0.1, max_delta_step=0,\n",
    "#                                     max_depth=3, min_child_weight=1,\n",
    "#                                     min_samples_leaf=[10, 20], missing=None,\n",
    "#                                     n_estimators=100, n_jobs=1, nthread=None,\n",
    "#                                     objective='reg:linear', random_state=0,\n",
    "#                                     reg_alpha=0, reg_lambda=1,\n",
    "#                                     scale_pos_weight=1, seed=100, silent=True,\n",
    "#                                     subsample=1),\n",
    "#              iid='warn', n_jobs=-1,\n",
    "#              param_grid={'max_depth': [3, 4, 5, 6, 7, 8, 9, 10],\n",
    "#                          'n_estimators': array([ 10,  20,  30,  40,  50,  60,  70,  80,  90, 100, 110, 120, 130,\n",
    "#        140, 150, 160, 170, 180, 190])},\n",
    "#              pre_dispatch='2*n_jobs', refit=True, return_train_score=False,\n",
    "#              scoring=None, verbose=0)"
   ]
  },
  {
   "cell_type": "code",
   "execution_count": 53,
   "metadata": {},
   "outputs": [
    {
     "data": {
      "text/plain": [
       "{'max_depth': 3, 'n_estimators': 20}"
      ]
     },
     "execution_count": 53,
     "metadata": {},
     "output_type": "execute_result"
    }
   ],
   "source": [
    "#best_parameters, score, _ = max(xgb_cv.grid_scorer, key=lambda x: x[1])\n",
    "xgb_cv.best_params_\n",
    "## {'max_depth': 3, 'n_estimators': 20}"
   ]
  },
  {
   "cell_type": "code",
   "execution_count": 57,
   "metadata": {},
   "outputs": [],
   "source": [
    "strat = \"xgb.index.4096\"\n",
    "signal_name = strat"
   ]
  },
  {
   "cell_type": "code",
   "execution_count": 58,
   "metadata": {},
   "outputs": [],
   "source": [
    "SAVE_PATH = \"e:/intern\"\n",
    "for product in product_list:\n",
    "    os.makedirs(SAVE_PATH+\"/tmp pkl/\"+product+\"/\"+strat, exist_ok=True)\n"
   ]
  },
  {
   "cell_type": "markdown",
   "metadata": {},
   "source": [
    "- we can plot them to check the result"
   ]
  },
  {
   "cell_type": "code",
   "execution_count": 59,
   "metadata": {},
   "outputs": [
    {
     "name": "stdout",
     "output_type": "stream",
     "text": [
      "Wall time: 23min 20s\n"
     ]
    },
    {
     "data": {
      "text/plain": [
       "''"
      ]
     },
     "execution_count": 59,
     "metadata": {},
     "output_type": "execute_result"
    }
   ],
   "source": [
    "%%time\n",
    "for product in product_list[0:3]:\n",
    "    parLapply(CORE_NUM, all_dates, get_daily_gbm, \n",
    "          product=product, signal_list=signal_list, \n",
    "          model=xgb_cv, strat=strat, HEAD_PATH=HEAD_PATH, SAVE_PATH=\"e:/intern\", train_std=np.array(train_std_mat[product][:n_signal]))\n",
    ";\n",
    "# Wall time: 23min 20s\n"
   ]
  },
  {
   "cell_type": "code",
   "execution_count": 60,
   "metadata": {},
   "outputs": [
    {
     "name": "stdout",
     "output_type": "stream",
     "text": [
      "Wall time: 42.1 s\n"
     ]
    }
   ],
   "source": [
    "%%time\n",
    "for product in product_list[0:3]:\n",
    "    par_get_all_signal(strat, all_dates, product, 4096, SAVE_PATH=\"e:/intern\")\n",
    "    \n",
    "#  Wall time: 1min 1s\n"
   ]
  },
  {
   "cell_type": "code",
   "execution_count": 62,
   "metadata": {},
   "outputs": [
    {
     "name": "stdout",
     "output_type": "stream",
     "text": [
      "reverse=1\n",
      "reverse=1\n",
      "reverse=1\n",
      "Wall time: 8min 47s\n"
     ]
    }
   ],
   "source": [
    "%%time\n",
    "for product in product_list[0:3]:\n",
    "    spread = product_info[product][\"spread\"]\n",
    "    tranct = product_info[product][\"tranct\"]\n",
    "    tranct_ratio = product_info[product][\"tranct.ratio\"]\n",
    "    evaluate_signal(\"xgb.index\", all_dates, product, 10, 20, CORE_NUM, HEAD_PATH, SAVE_PATH,\n",
    "                    period=4096, split_str=\"2018\", tranct=tranct, \n",
    "                    max_spread=spread*1.1, tranct_ratio=tranct_ratio, atr_filter=20, save_path=\"signal result atr\",reverse=1)\n",
    "\n",
    "# reverse=1\n",
    "# reverse=1\n",
    "# reverse=1\n",
    "# Wall time: 8min 47s\n"
   ]
  },
  {
   "cell_type": "code",
   "execution_count": 63,
   "metadata": {
    "scrolled": true
   },
   "outputs": [
    {
     "name": "stdout",
     "output_type": "stream",
     "text": [
      "IF train sharpe  0.27315546737391305 test sharpe  0.31311520562906986\n",
      "IH train sharpe  0.36267660381586125 test sharpe  0.7779509367252966\n",
      "IC train sharpe  0.7327980584582787 test sharpe  0.4972038999082831\n",
      "train sharpe:  0.5879259984932361 test sharpe:  0.7164349811569111\n"
     ]
    },
    {
     "data": {
      "image/png": "[encoded data removed]",
      "text/plain": [
       "<Figure size 1152x720 with 1 Axes>"
      ]
     },
     "metadata": {
      "needs_background": "light"
     },
     "output_type": "display_data"
    }
   ],
   "source": [
    "i = 0\n",
    "strat = \"xgb.index.4096\"\n",
    "test_all_pnl = np.zeros([sum(test_sample), len(product_list[0:3])])\n",
    "train_all_pnl = np.zeros([sum(train_sample), len(product_list[0:3])])\n",
    "min_pnl = 2\n",
    "min_num = 10\n",
    "for product in product_list[0:3]:\n",
    "    spread = product_info[product][\"spread\"]\n",
    "    signal_stat = load(HEAD_PATH+\"/signal result atr/\"+product+\".\"+strat+\".trend.pkl\")\n",
    "    train_stat = signal_stat[\"train.stat\"]\n",
    "    good_strat = (train_stat[\"final.result\"][\"avg.pnl\"]>min_pnl*spread) & (train_stat[\"final.result\"][\"num\"]>min_num)\n",
    "    if sum(good_strat)>0:\n",
    "        train_pnl = train_stat[\"daily.ret\"].loc[:, good_strat].sum(axis=1)/sum(good_strat)\n",
    "        test_stat = signal_stat[\"test.stat\"]\n",
    "        test_pnl = test_stat[\"daily.ret\"].loc[:, good_strat].sum(axis=1)/sum(good_strat)\n",
    "        print(product, \"train sharpe \", sharpe(train_pnl), \"test sharpe \", sharpe(test_pnl))\n",
    "        test_all_pnl[:,i] = test_pnl\n",
    "        train_all_pnl[:,i] = train_pnl\n",
    "    else:\n",
    "        train_pnl = np.zeros(np.shape(train_stat[\"daily.ret\"])[0])\n",
    "        test_stat = signal_stat[\"test.stat\"]\n",
    "        test_pnl = np.zeros(np.shape(test_stat[\"daily.ret\"])[0])\n",
    "    test_all_pnl[:,i] = test_pnl\n",
    "    train_all_pnl[:,i] = train_pnl\n",
    "    i = i+1\n",
    "train_portfolio = np.array(np.mean(train_all_pnl, axis=1))\n",
    "test_portfolio = np.array(np.mean(test_all_pnl, axis=1))\n",
    "all_portfolio = np.append(train_portfolio, test_portfolio)\n",
    "plt.figure(1, figsize=(16, 10));\n",
    "plt.title(\"\");\n",
    "plt.xlabel(\"date\");\n",
    "plt.ylabel(\"pnl\");\n",
    "plt.title(\"portfolio\");\n",
    "plt.plot(format_dates, all_portfolio.cumsum());\n",
    "plt.plot(format_dates[test_sample], all_portfolio.cumsum()[test_sample])\n",
    "print(\"train sharpe: \", sharpe(train_portfolio), \"test sharpe: \", sharpe(test_portfolio))    \n",
    "\n",
    "# IF train sharpe  0.27315546737391305 test sharpe  0.31311520562906986\n",
    "# IH train sharpe  0.36267660381586125 test sharpe  0.7779509367252966\n",
    "# IC train sharpe  0.7327980584582787 test sharpe  0.4972038999082831\n",
    "# train sharpe:  0.5879259984932361 test sharpe:  0.7164349811569111\n"
   ]
  },
  {
   "cell_type": "markdown",
   "metadata": {},
   "source": [
    "\n",
    "- SUMMARY\n",
    "\n",
    "\n",
    "- today we compare two tree-based models: gradient boosting machine and xgboost\n",
    "- but the result is pretty bad\n",
    "- you can try to tune the parameter to see whether we could improve it"
   ]
  },
  {
   "cell_type": "code",
   "execution_count": null,
   "metadata": {},
   "outputs": [],
   "source": []
  },
  {
   "cell_type": "code",
   "execution_count": null,
   "metadata": {},
   "outputs": [],
   "source": []
  },
  {
   "cell_type": "code",
   "execution_count": null,
   "metadata": {},
   "outputs": [],
   "source": []
  }
 ],
 "metadata": {
  "kernelspec": {
   "display_name": "Python 3",
   "language": "python",
   "name": "python3"
  },
  "language_info": {
   "codemirror_mode": {
    "name": "ipython",
    "version": 3
   },
   "file_extension": ".py",
   "mimetype": "text/x-python",
   "name": "python",
   "nbconvert_exporter": "python",
   "pygments_lexer": "ipython3",
   "version": "3.7.0"
  }
 },
 "nbformat": 4,
 "nbformat_minor": 2
}
