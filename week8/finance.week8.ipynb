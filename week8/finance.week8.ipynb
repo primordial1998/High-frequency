{
 "cells": [
  {
   "cell_type": "markdown",
   "metadata": {},
   "source": [
    "\n",
    "The most simple linear regression without regularization"
   ]
  },
  {
   "cell_type": "code",
   "execution_count": 9,
   "metadata": {},
   "outputs": [
    {
     "data": {
      "text/plain": [
       "<function helper.get_daily_pred(file_name, product, signal_list, coef, strat, HEAD_PATH)>"
      ]
     },
     "execution_count": 9,
     "metadata": {},
     "output_type": "execute_result"
    }
   ],
   "source": [
    "from helper import *\n",
    "from stats import *\n",
    "from product_info import *\n",
    "from imp import reload  \n",
    "import helper\n",
    "import stats\n",
    "reload(helper)\n",
    "reload(stats)\n",
    "get_daily_pred\n"
   ]
  },
  {
   "cell_type": "code",
   "execution_count": 10,
   "metadata": {},
   "outputs": [
    {
     "data": {
      "text/plain": [
       "16"
      ]
     },
     "execution_count": 10,
     "metadata": {},
     "output_type": "execute_result"
    }
   ],
   "source": [
    "CORE_NUM = int(os.environ['NUMBER_OF_PROCESSORS'])\n",
    "CORE_NUM"
   ]
  },
  {
   "cell_type": "code",
   "execution_count": 11,
   "metadata": {},
   "outputs": [],
   "source": [
    "product_list = [\"IF\", \"IH\", \"IC\", \"T\", \"TF\"]"
   ]
  },
  {
   "cell_type": "code",
   "execution_count": 12,
   "metadata": {},
   "outputs": [],
   "source": [
    "period = 4096"
   ]
  },
  {
   "cell_type": "code",
   "execution_count": 13,
   "metadata": {},
   "outputs": [
    {
     "data": {
      "text/plain": [
       "1092"
      ]
     },
     "execution_count": 13,
     "metadata": {},
     "output_type": "execute_result"
    }
   ],
   "source": [
    "import os\n",
    "all_dates = os.listdir(DATA_PATH + product_list[0])\n",
    "all_dates.sort()\n",
    "all_dates = np.array(all_dates)\n",
    "n_days = len(all_dates)\n",
    "n_days\n",
    "## 1092"
   ]
  },
  {
   "cell_type": "code",
   "execution_count": 14,
   "metadata": {},
   "outputs": [],
   "source": [
    "import dask\n",
    "from dask import compute, delayed\n",
    "import sklearn.preprocessing"
   ]
  },
  {
   "cell_type": "code",
   "execution_count": 25,
   "metadata": {},
   "outputs": [],
   "source": [
    "os.makedirs(HEAD_PATH+\"/all signal\", exist_ok=True)\n",
    "dire_signal_list = [\"trade.imb\", \"total.trade.imb\", \"nr\", \"dbook\", \"range.pos\", \"price.osci\", \"ma.dif.10\", \"kdj.k\", \"kdj.j\"]\n",
    "range_signal_list = [\"\", \"range\", \"std\", \"volume.open.ratio\", \"trend.index\"]\n",
    "all_signal_list = np.array([])\n",
    "for range_signal in range_signal_list:\n",
    "    for dire_signal in dire_signal_list:\n",
    "        if len(range_signal)==0:\n",
    "            signal_name = dire_signal\n",
    "        else:\n",
    "            signal_name = dire_signal+\".\"+range_signal\n",
    "        all_signal_list = np.append(all_signal_list,signal_name)\n",
    "signal_list = [signal+\".4096\" for signal in all_signal_list]\n",
    "np.append(signal_list, [\"ret.4096\", \"ret.4096.001\", \"ret.4096.002\"])\n",
    "n_signal = len(signal_list)"
   ]
  },
  {
   "cell_type": "code",
   "execution_count": 26,
   "metadata": {},
   "outputs": [],
   "source": [
    "train_sample = all_dates<\"2018\"\n",
    "test_sample = all_dates>\"2018\"\n",
    "date_str = [n[0:8] for n in all_dates]\n",
    "format_dates = np.array([pd.to_datetime(d) for d in date_str])"
   ]
  },
  {
   "cell_type": "markdown",
   "metadata": {},
   "source": [
    "- let's begin with week 8"
   ]
  },
  {
   "cell_type": "code",
   "execution_count": 67,
   "metadata": {},
   "outputs": [],
   "source": [
    "from sklearn import linear_model\n",
    "from sklearn.model_selection import cross_val_score\n",
    "from sklearn.linear_model import lasso_path, LassoCV, RidgeCV\n",
    "from sklearn.preprocessing import StandardScaler\n",
    "#y_signal = \"ret.\"+str(period)+\".002\"\n",
    "\n",
    "\n",
    "\n"
   ]
  },
  {
   "cell_type": "code",
   "execution_count": 40,
   "metadata": {},
   "outputs": [],
   "source": [
    "product = product_list[0]\n",
    "train_mat = load(HEAD_PATH+\"/train test mat/\"+product+\".train.mat.pkl\")\n",
    "y_signal = \"ret.4096.004\""
   ]
  },
  {
   "cell_type": "code",
   "execution_count": 47,
   "metadata": {},
   "outputs": [
    {
     "name": "stdout",
     "output_type": "stream",
     "text": [
      "IF\n",
      "[-0.         -0.00096642  0.         -0.         -0.         -0.\n",
      " -0.          0.         -0.         -0.         -0.          0.\n",
      "  0.00115256  0.         -0.         -0.          0.          0.\n",
      " -0.         -0.00022247  0.          0.         -0.         -0.\n",
      " -0.          0.         -0.         -0.         -0.          0.\n",
      " -0.         -0.         -0.         -0.1628261   0.         -0.\n",
      " -0.         -0.          0.01665425  0.          0.          0.\n",
      "  0.          0.          0.        ]\n",
      "IH\n",
      "[-0. -0. -0.  0. -0.  0. -0.  0. -0. -0. -0. -0. -0. -0. -0. -0. -0. -0.\n",
      " -0. -0. -0. -0. -0. -0. -0. -0. -0. -0. -0. -0.  0. -0.  0. -0.  0.  0.\n",
      " -0. -0. -0.  0. -0.  0. -0.  0. -0.]\n",
      "IC\n",
      "[ 2.79450142e-03  0.00000000e+00  0.00000000e+00  0.00000000e+00\n",
      "  0.00000000e+00  0.00000000e+00  7.95739585e-02  0.00000000e+00\n",
      "  0.00000000e+00 -0.00000000e+00 -0.00000000e+00 -0.00000000e+00\n",
      " -0.00000000e+00 -0.00000000e+00  0.00000000e+00 -4.55564374e-04\n",
      " -1.35510491e-06 -0.00000000e+00 -0.00000000e+00 -0.00000000e+00\n",
      " -0.00000000e+00 -6.99160360e-03 -0.00000000e+00  0.00000000e+00\n",
      " -0.00000000e+00 -0.00000000e+00 -0.00000000e+00 -0.00000000e+00\n",
      "  0.00000000e+00 -0.00000000e+00  0.00000000e+00  0.00000000e+00\n",
      "  0.00000000e+00 -0.00000000e+00  0.00000000e+00  0.00000000e+00\n",
      " -0.00000000e+00 -3.52135377e-03  0.00000000e+00  6.29118674e-02\n",
      "  0.00000000e+00  0.00000000e+00 -0.00000000e+00  0.00000000e+00\n",
      "  0.00000000e+00]\n"
     ]
    }
   ],
   "source": [
    "coef_list=dict([])\n",
    "y_signal = \"ret.\"+str(period)\n",
    "for product in product_list[0:3]:\n",
    "    train_mat = load(HEAD_PATH+\"/train test mat/\"+product+\".train.mat.pkl\")\n",
    "    x_train = train_mat.iloc[:, :n_signal].values\n",
    "    y_train = train_mat.loc[:, y_signal].values\n",
    "    scaler =  StandardScaler(copy=True, with_mean=False, with_std=True)\n",
    "    scaler.fit(x_train)\n",
    "    x_std = np.sqrt(scaler.var_)\n",
    "    x_train_normal = scaler.transform(x_train)\n",
    "    y_std = np.std(y_train)\n",
    "    model = LassoCV(n_alphas=100, fit_intercept=False, cv=5, max_iter=10000).fit(x_train_normal, y_train/y_std)\n",
    "    coef = model.coef_/x_std*y_std\n",
    "    print(product)\n",
    "    print(coef)\n",
    "    coef_list[product] = coef\n",
    "    \n",
    "# IF\n",
    "# [-0.         -0.00096642  0.         -0.         -0.         -0.\n",
    "#  -0.          0.         -0.         -0.         -0.          0.\n",
    "#   0.00115256  0.         -0.         -0.          0.          0.\n",
    "#  -0.         -0.00022247  0.          0.         -0.         -0.\n",
    "#  -0.          0.         -0.         -0.         -0.          0.\n",
    "#  -0.         -0.         -0.         -0.1628261   0.         -0.\n",
    "#  -0.         -0.          0.01665425  0.          0.          0.\n",
    "#   0.          0.          0.        ]\n",
    "# IH\n",
    "# [-0. -0. -0.  0. -0.  0. -0.  0. -0. -0. -0. -0. -0. -0. -0. -0. -0. -0.\n",
    "#  -0. -0. -0. -0. -0. -0. -0. -0. -0. -0. -0. -0.  0. -0.  0. -0.  0.  0.\n",
    "#  -0. -0. -0.  0. -0.  0. -0.  0. -0.]\n",
    "# IC\n",
    "# [ 2.79450142e-03  0.00000000e+00  0.00000000e+00  0.00000000e+00\n",
    "#   0.00000000e+00  0.00000000e+00  7.95739585e-02  0.00000000e+00\n",
    "#   0.00000000e+00 -0.00000000e+00 -0.00000000e+00 -0.00000000e+00\n",
    "#  -0.00000000e+00 -0.00000000e+00  0.00000000e+00 -4.55564374e-04\n",
    "#  -1.35510491e-06 -0.00000000e+00 -0.00000000e+00 -0.00000000e+00\n",
    "#  -0.00000000e+00 -6.99160360e-03 -0.00000000e+00  0.00000000e+00\n",
    "#  -0.00000000e+00 -0.00000000e+00 -0.00000000e+00 -0.00000000e+00\n",
    "#   0.00000000e+00 -0.00000000e+00  0.00000000e+00  0.00000000e+00\n",
    "#   0.00000000e+00 -0.00000000e+00  0.00000000e+00  0.00000000e+00\n",
    "#  -0.00000000e+00 -3.52135377e-03  0.00000000e+00  6.29118674e-02\n",
    "#   0.00000000e+00  0.00000000e+00 -0.00000000e+00  0.00000000e+00\n",
    "#   0.00000000e+00]"
   ]
  },
  {
   "cell_type": "markdown",
   "metadata": {},
   "source": [
    "- it seems the result is ok"
   ]
  },
  {
   "cell_type": "code",
   "execution_count": 48,
   "metadata": {},
   "outputs": [
    {
     "name": "stdout",
     "output_type": "stream",
     "text": [
      "IF\n",
      "[-0.         -0.00085136  0.         -0.         -0.         -0.\n",
      " -0.          0.          0.         -0.         -0.          0.\n",
      "  0.00094878  0.         -0.         -0.          0.          0.\n",
      " -0.         -0.00020652  0.          0.         -0.         -0.\n",
      " -0.          0.         -0.         -0.         -0.          0.\n",
      "  0.         -0.         -0.         -0.          0.         -0.\n",
      " -0.         -0.          0.00765008  0.          0.          0.\n",
      "  0.          0.          0.        ]\n",
      "IH\n",
      "[-0.00000000e+00 -0.00000000e+00  0.00000000e+00  0.00000000e+00\n",
      " -0.00000000e+00  0.00000000e+00 -0.00000000e+00  0.00000000e+00\n",
      "  0.00000000e+00 -4.82777068e-20 -0.00000000e+00 -0.00000000e+00\n",
      "  0.00000000e+00 -0.00000000e+00 -0.00000000e+00 -0.00000000e+00\n",
      " -0.00000000e+00 -0.00000000e+00 -0.00000000e+00 -0.00000000e+00\n",
      " -0.00000000e+00 -0.00000000e+00 -0.00000000e+00 -0.00000000e+00\n",
      " -0.00000000e+00 -0.00000000e+00 -0.00000000e+00 -0.00000000e+00\n",
      " -0.00000000e+00 -0.00000000e+00  0.00000000e+00  0.00000000e+00\n",
      "  0.00000000e+00 -0.00000000e+00  0.00000000e+00  0.00000000e+00\n",
      " -0.00000000e+00 -0.00000000e+00 -0.00000000e+00  0.00000000e+00\n",
      "  0.00000000e+00  0.00000000e+00 -0.00000000e+00  0.00000000e+00\n",
      " -0.00000000e+00]\n",
      "IC\n",
      "[ 0.00000000e+00  0.00000000e+00  0.00000000e+00  0.00000000e+00\n",
      "  0.00000000e+00  0.00000000e+00  1.82786373e-02  0.00000000e+00\n",
      "  0.00000000e+00 -0.00000000e+00 -0.00000000e+00 -0.00000000e+00\n",
      " -0.00000000e+00 -0.00000000e+00  0.00000000e+00 -2.78848278e-04\n",
      " -0.00000000e+00 -2.44612367e-06 -2.71706565e-04 -4.77856980e-05\n",
      " -0.00000000e+00 -5.59753746e-03 -0.00000000e+00  3.84372852e-05\n",
      " -0.00000000e+00 -0.00000000e+00 -0.00000000e+00 -0.00000000e+00\n",
      " -0.00000000e+00 -0.00000000e+00  1.50745351e-02 -0.00000000e+00\n",
      "  0.00000000e+00 -0.00000000e+00 -0.00000000e+00 -0.00000000e+00\n",
      " -0.00000000e+00 -0.00000000e+00  0.00000000e+00  1.88628809e-02\n",
      "  0.00000000e+00  0.00000000e+00 -0.00000000e+00 -0.00000000e+00\n",
      " -0.00000000e+00]\n"
     ]
    }
   ],
   "source": [
    "coef_list=dict([])\n",
    "y_signal = \"ret.\"+str(period)+\".004\"\n",
    "for product in product_list[0:3]:\n",
    "    train_mat = load(HEAD_PATH+\"/train test mat/\"+product+\".train.mat.pkl\")\n",
    "    x_train = train_mat.iloc[:, :n_signal].values\n",
    "    y_train = train_mat.loc[:, y_signal].values\n",
    "    scaler =  StandardScaler(copy=True, with_mean=False, with_std=True)\n",
    "    scaler.fit(x_train)\n",
    "    x_std = np.sqrt(scaler.var_)\n",
    "    x_train_normal = scaler.transform(x_train)\n",
    "    y_std = np.std(y_train)\n",
    "    model = LassoCV(n_alphas=100, fit_intercept=False, cv=5, max_iter=10000).fit(x_train_normal, y_train/y_std)\n",
    "    coef = model.coef_/x_std*y_std\n",
    "    print(product)\n",
    "    print(coef)\n",
    "    coef_list[product] = coef\n",
    "\n",
    "# IF\n",
    "# [-0.         -0.00085136  0.         -0.         -0.         -0.\n",
    "#  -0.          0.          0.         -0.         -0.          0.\n",
    "#   0.00094878  0.         -0.         -0.          0.          0.\n",
    "#  -0.         -0.00020652  0.          0.         -0.         -0.\n",
    "#  -0.          0.         -0.         -0.         -0.          0.\n",
    "#   0.         -0.         -0.         -0.          0.         -0.\n",
    "#  -0.         -0.          0.00765008  0.          0.          0.\n",
    "#   0.          0.          0.        ]\n",
    "# IH\n",
    "# [-0.00000000e+00 -0.00000000e+00  0.00000000e+00  0.00000000e+00\n",
    "#  -0.00000000e+00  0.00000000e+00 -0.00000000e+00  0.00000000e+00\n",
    "#   0.00000000e+00 -4.82777068e-20 -0.00000000e+00 -0.00000000e+00\n",
    "#   0.00000000e+00 -0.00000000e+00 -0.00000000e+00 -0.00000000e+00\n",
    "#  -0.00000000e+00 -0.00000000e+00 -0.00000000e+00 -0.00000000e+00\n",
    "#  -0.00000000e+00 -0.00000000e+00 -0.00000000e+00 -0.00000000e+00\n",
    "#  -0.00000000e+00 -0.00000000e+00 -0.00000000e+00 -0.00000000e+00\n",
    "#  -0.00000000e+00 -0.00000000e+00  0.00000000e+00  0.00000000e+00\n",
    "#   0.00000000e+00 -0.00000000e+00  0.00000000e+00  0.00000000e+00\n",
    "#  -0.00000000e+00 -0.00000000e+00 -0.00000000e+00  0.00000000e+00\n",
    "#   0.00000000e+00  0.00000000e+00 -0.00000000e+00  0.00000000e+00\n",
    "#  -0.00000000e+00]\n",
    "# IC\n",
    "# [ 0.00000000e+00  0.00000000e+00  0.00000000e+00  0.00000000e+00\n",
    "#   0.00000000e+00  0.00000000e+00  1.82786373e-02  0.00000000e+00\n",
    "#   0.00000000e+00 -0.00000000e+00 -0.00000000e+00 -0.00000000e+00\n",
    "#  -0.00000000e+00 -0.00000000e+00  0.00000000e+00 -2.78848278e-04\n",
    "#  -0.00000000e+00 -2.44612367e-06 -2.71706565e-04 -4.77856980e-05\n",
    "#  -0.00000000e+00 -5.59753746e-03 -0.00000000e+00  3.84372852e-05\n",
    "#  -0.00000000e+00 -0.00000000e+00 -0.00000000e+00 -0.00000000e+00\n",
    "#  -0.00000000e+00 -0.00000000e+00  1.50745351e-02 -0.00000000e+00\n",
    "#   0.00000000e+00 -0.00000000e+00 -0.00000000e+00 -0.00000000e+00\n",
    "#  -0.00000000e+00 -0.00000000e+00  0.00000000e+00  1.88628809e-02\n",
    "#   0.00000000e+00  0.00000000e+00 -0.00000000e+00 -0.00000000e+00\n",
    "#  -0.00000000e+00]\n"
   ]
  },
  {
   "cell_type": "code",
   "execution_count": 49,
   "metadata": {},
   "outputs": [],
   "source": [
    "SAVE_PATH = \"e:/intern\""
   ]
  },
  {
   "cell_type": "code",
   "execution_count": 50,
   "metadata": {},
   "outputs": [],
   "source": [
    "save(coef_list, SAVE_PATH+\"/coef.ret.4096.004.pkl\")"
   ]
  },
  {
   "cell_type": "markdown",
   "metadata": {},
   "source": [
    "- we can see that the result is not good"
   ]
  },
  {
   "cell_type": "markdown",
   "metadata": {},
   "source": [
    "- it's still not good. So we cannot use lasso model"
   ]
  },
  {
   "cell_type": "code",
   "execution_count": 51,
   "metadata": {},
   "outputs": [],
   "source": [
    "def par_get_signal_mat(file_name, product, signal_list, HEAD_PATH, SAVE_PATH):\n",
    "    data = load(HEAD_PATH+\"/pkl tick/\"+product+\"/\"+file_name)\n",
    "    signal_mat = functools.reduce(functools.partial(get_signal_mat, product=product, file_name=file_name, HEAD_PATH=SAVE_PATH), signal_list, None)\n",
    "    save(signal_mat, SAVE_PATH+\"/signal mat pkl/\"+product+\"/\"+file_name)"
   ]
  },
  {
   "cell_type": "code",
   "execution_count": 52,
   "metadata": {},
   "outputs": [],
   "source": [
    "def par_get_daily_pred(file_name, product, coef, strat, HEAD_PATH):\n",
    "    signal_mat = load(HEAD_PATH+\"/signal mat pkl/\"+product+\"/\"+file_name)\n",
    "    S = np.dot(signal_mat.transpose(),coef)\n",
    "    save(S, HEAD_PATH+\"/tmp pkl/\"+product+\"/\"+strat+\"/\"+file_name)      \n"
   ]
  },
  {
   "cell_type": "markdown",
   "metadata": {},
   "source": [
    "\n",
    "- now let's try lasso regression"
   ]
  },
  {
   "cell_type": "code",
   "execution_count": 53,
   "metadata": {},
   "outputs": [],
   "source": [
    "strat = \"lasso.004.\"+str(period)\n",
    "for product in product_list:\n",
    "    os.makedirs(\"e:/intern\"+\"/tmp pkl/\"+product+\"/\"+strat, exist_ok=True)"
   ]
  },
  {
   "cell_type": "code",
   "execution_count": 54,
   "metadata": {},
   "outputs": [],
   "source": [
    "coef_list = load(SAVE_PATH+\"/coef.ret.4096.004.pkl\")"
   ]
  },
  {
   "cell_type": "code",
   "execution_count": 27,
   "metadata": {},
   "outputs": [],
   "source": [
    "## good are MA,ZC"
   ]
  },
  {
   "cell_type": "code",
   "execution_count": 55,
   "metadata": {},
   "outputs": [],
   "source": [
    "for product in [\"IF\", \"IC\"]:\n",
    "    os.makedirs(\"e:/intern\"+\"/tmp pkl/\"+product+\"/\"+strat, exist_ok=True)"
   ]
  },
  {
   "cell_type": "code",
   "execution_count": 72,
   "metadata": {},
   "outputs": [],
   "source": [
    "os.makedirs(\"e:/intern\"+\"/signal mat pkl\", exist_ok=True)\n",
    "for product in product_list:\n",
    "    os.makedirs(\"e:/intern\"+\"/signal mat pkl/\"+product, exist_ok=True)"
   ]
  },
  {
   "cell_type": "code",
   "execution_count": 74,
   "metadata": {},
   "outputs": [
    {
     "name": "stdout",
     "output_type": "stream",
     "text": [
      "IH\n",
      "Wall time: 14min 5s\n"
     ]
    }
   ],
   "source": [
    "%%time\n",
    "#for product in [\"IF\",\"IC\"]:\n",
    "for product in [\"IH\"]:\n",
    "    print(product)\n",
    "    parLapply(CORE_NUM, all_dates, par_get_signal_mat, product=product, signal_list=signal_list, HEAD_PATH=HEAD_PATH, SAVE_PATH=SAVE_PATH)\n",
    "    \n",
    "# IF\n",
    "# IC\n",
    "# Wall time: 31min 42s\n",
    "\n",
    "\n"
   ]
  },
  {
   "cell_type": "code",
   "execution_count": 59,
   "metadata": {},
   "outputs": [
    {
     "name": "stdout",
     "output_type": "stream",
     "text": [
      "IF\n",
      "IC\n",
      "Wall time: 12min 6s\n"
     ]
    }
   ],
   "source": [
    "%%time\n",
    "for product in [\"IF\",\"IC\"]:\n",
    "    print(product)\n",
    "    coef = coef_list[product]\n",
    "    parLapply(CORE_NUM, all_dates, par_get_daily_pred, \n",
    "              product=product, coef=coef, strat=strat, HEAD_PATH=\"e:/intern\")\n",
    "\n",
    "# IF\n",
    "# IC\n",
    "# Wall time: 12min 6s\n"
   ]
  },
  {
   "cell_type": "code",
   "execution_count": 60,
   "metadata": {},
   "outputs": [
    {
     "name": "stdout",
     "output_type": "stream",
     "text": [
      "Wall time: 32.1 s\n"
     ]
    }
   ],
   "source": [
    "%%time\n",
    "for product in [\"IF\",\"IC\"]:\n",
    "    par_get_all_signal(strat, all_dates, product, 4096, SAVE_PATH=\"e:/intern\")\n",
    "\n",
    "## Wall time: 32.1 s\n"
   ]
  },
  {
   "cell_type": "code",
   "execution_count": 63,
   "metadata": {},
   "outputs": [
    {
     "name": "stdout",
     "output_type": "stream",
     "text": [
      "reverse=1\n",
      "reverse=1\n",
      "Wall time: 3min 41s\n"
     ]
    }
   ],
   "source": [
    "%%time\n",
    "for product in [\"IF\",\"IC\"]:\n",
    "    spread = product_info[product][\"spread\"]\n",
    "    evaluate_signal(\"lasso.004\", all_dates, product, 2, 20, \n",
    "                    CORE_NUM, HEAD_PATH, SAVE_PATH, period=4096, split_str=\"2018\", tranct=1.1e-4, \n",
    "                    max_spread=spread*1.1, tranct_ratio=True, atr_filter=20, save_path=\"signal result atr\",reverse=1)\n",
    "\n",
    "# reverse=1\n",
    "# reverse=1\n",
    "# Wall time: 3min 41s\n"
   ]
  },
  {
   "cell_type": "code",
   "execution_count": 64,
   "metadata": {},
   "outputs": [
    {
     "name": "stdout",
     "output_type": "stream",
     "text": [
      "IF train sharpe  0.6474985360778703 test sharpe  0.6894928922767609\n",
      "IC train sharpe  0.2506268046173083 test sharpe  -0.6988084905894827\n",
      "train sharpe:  0.5451733058079553 test sharpe:  -0.23175453098720702\n"
     ]
    },
    {
     "data": {
      "image/png": "[encoded data removed]",
      "text/plain": [
       "<Figure size 1152x720 with 1 Axes>"
      ]
     },
     "metadata": {
      "needs_background": "light"
     },
     "output_type": "display_data"
    }
   ],
   "source": [
    "i = 0\n",
    "strat = \"lasso.004.4096\"\n",
    "test_all_pnl = np.zeros([sum(test_sample), 4])\n",
    "train_all_pnl = np.zeros([sum(train_sample), 4])\n",
    "min_pnl = 10\n",
    "min_num = 10\n",
    "for product in [\"IF\",\"IC\"]:\n",
    "    spread = product_info[product][\"spread\"]\n",
    "    signal_stat = load(HEAD_PATH+\"/signal result atr/\"+product+\".\"+strat+\".trend.pkl\")\n",
    "    train_stat = signal_stat[\"train.stat\"]\n",
    "    good_strat = (train_stat[\"final.result\"][\"avg.pnl\"]>min_pnl*spread) & (train_stat[\"final.result\"][\"num\"]>min_num)\n",
    "    train_pnl = train_stat[\"daily.ret\"].loc[:, good_strat].sum(axis=1)/sum(good_strat)\n",
    "    test_stat = signal_stat[\"test.stat\"]\n",
    "    test_pnl = test_stat[\"daily.ret\"].loc[:, good_strat].sum(axis=1)/sum(good_strat)\n",
    "    print(product, \"train sharpe \", sharpe(train_pnl), \"test sharpe \", sharpe(test_pnl))\n",
    "    test_all_pnl[:,i] = test_pnl\n",
    "    train_all_pnl[:,i] = train_pnl\n",
    "    i = i+1\n",
    "train_portfolio = np.array(np.mean(train_all_pnl, axis=1))\n",
    "test_portfolio = np.array(np.mean(test_all_pnl, axis=1))\n",
    "all_portfolio = np.append(train_portfolio, test_portfolio)\n",
    "plt.figure(1, figsize=(16, 10));\n",
    "plt.title(\"\");\n",
    "plt.xlabel(\"date\");\n",
    "plt.ylabel(\"pnl\");\n",
    "plt.title(\"portfolio\");\n",
    "plt.plot(format_dates, all_portfolio.cumsum());\n",
    "plt.plot(format_dates[test_sample], all_portfolio.cumsum()[test_sample])\n",
    "print(\"train sharpe: \", sharpe(train_portfolio), \"test sharpe: \", sharpe(test_portfolio))    \n",
    "\n",
    "# IF train sharpe  0.6474985360778703 test sharpe  0.6894928922767609\n",
    "# IC train sharpe  0.2506268046173083 test sharpe  -0.6988084905894827\n",
    "# train sharpe:  0.5451733058079553 test sharpe:  -0.23175453098720702\n",
    "\n",
    "\n"
   ]
  },
  {
   "cell_type": "markdown",
   "metadata": {},
   "source": [
    "- The result is not good\n",
    "- Now we go to ridge"
   ]
  },
  {
   "cell_type": "code",
   "execution_count": null,
   "metadata": {},
   "outputs": [],
   "source": []
  },
  {
   "cell_type": "code",
   "execution_count": 68,
   "metadata": {},
   "outputs": [
    {
     "name": "stdout",
     "output_type": "stream",
     "text": [
      "IF\n",
      "[-4.73012272e-03 -3.94525592e-03 -4.58967561e-02 -3.16602343e-02\n",
      "  1.90575126e-03 -6.00875478e-04 -4.88238949e-02  5.21036021e-04\n",
      " -1.00774965e-03  3.54145595e-04  1.72313258e-04 -8.84883221e-04\n",
      "  5.90067185e-03  2.00150493e-04  6.71851466e-06 -2.06170730e-03\n",
      " -6.12473624e-05  4.02101843e-05 -2.31777980e-03 -9.02990241e-04\n",
      "  7.78987643e-03 -9.70072065e-03 -1.28441742e-03  4.51844578e-04\n",
      " -8.37123369e-03  1.44888030e-04 -7.32245514e-05  7.19038559e-02\n",
      "  1.05533016e-02  1.54182092e-01 -2.17012134e-01  1.76695241e-02\n",
      " -4.87374578e-03 -1.21810015e+00 -2.52252314e-03  3.41700655e-04\n",
      "  1.01930910e-02 -4.11421337e-03  3.45151659e-02 -7.63510065e-03\n",
      " -1.68879015e-03 -3.68019879e-04  7.58581458e-02 -8.45420304e-05\n",
      "  1.70435748e-03]\n",
      "IH\n",
      "[ 3.10628399e-02 -2.07102390e-02  6.75283943e-02  6.25192477e-03\n",
      " -6.57625983e-03  4.28291980e-04 -1.61361749e-01  2.50459930e-03\n",
      "  2.97542205e-04 -2.18981531e-03  6.04830375e-04  5.56847732e-04\n",
      "  6.02907880e-03 -1.49373574e-04  1.19687453e-05 -3.15043869e-03\n",
      " -4.27708936e-05 -6.46160248e-05 -1.27860800e-03  1.35212278e-03\n",
      "  1.26526121e-04 -2.96277009e-02  8.97448114e-04  3.69831876e-04\n",
      " -1.11144256e-02 -1.80425677e-04  3.60805530e-05  4.88261818e-04\n",
      "  4.05567077e-02 -4.99100418e-01  1.36052005e-01  4.67994735e-03\n",
      " -1.20079167e-02  1.99182878e+00  7.39125950e-03  3.80271999e-03\n",
      "  2.25595003e-02 -6.49257507e-03  1.90518916e-02 -6.71682313e-03\n",
      "  5.45630742e-03  3.17856604e-04 -5.60142472e-02 -2.26434151e-03\n",
      " -8.98887374e-04]\n",
      "IC\n",
      "[ 1.57286976e-02  2.34427969e-03 -6.46901692e-02 -1.11062939e-01\n",
      "  3.52314824e-03 -4.91545038e-04  5.70930668e-01 -2.93364835e-04\n",
      " -1.66699895e-03  2.40249364e-04 -1.37825348e-04  8.22145697e-04\n",
      "  3.00491952e-03 -4.28051371e-05  1.23430657e-05 -2.07374817e-03\n",
      " -3.66086920e-05 -1.06142966e-05  4.55602274e-04 -3.59455833e-05\n",
      " -1.14718257e-03 -2.28975352e-02 -4.92935164e-04  2.10167325e-04\n",
      "  3.68001910e-03  7.87950417e-06  8.03022741e-05 -1.39845052e-01\n",
      "  7.52437159e-03 -1.90273233e-01  1.05918813e+00  1.57449376e-02\n",
      " -1.53863122e-02 -1.22514154e+00  1.59629311e-02  7.07754111e-03\n",
      "  1.24414917e-03 -9.45394728e-03  1.01417628e-01  9.54555555e-02\n",
      "  1.99825478e-03 -1.15735153e-03 -1.69898443e-01 -6.25052592e-04\n",
      "  7.44017125e-05]\n"
     ]
    },
    {
     "name": "stderr",
     "output_type": "stream",
     "text": [
      "d:\\Anaconda3\\lib\\site-packages\\sklearn\\model_selection\\_search.py:814: DeprecationWarning: The default of the `iid` parameter will change from True to False in version 0.22 and will be removed in 0.24. This will change numeric results when test-set sizes are unequal.\n",
      "  DeprecationWarning)\n"
     ]
    }
   ],
   "source": [
    "coef_list=dict([])\n",
    "y_signal= \"ret.\" + str(period)+\".004\"\n",
    "for product in product_list[0:3]:\n",
    "    train_mat = load(HEAD_PATH+\"/train test mat/\"+product+\".train.mat.pkl\")\n",
    "    x_train = train_mat.iloc[:, :n_signal].values\n",
    "    y_train = train_mat.loc[:, y_signal].values\n",
    "    scaler =  StandardScaler(copy=True, with_mean=False, with_std=True)\n",
    "    scaler.fit(x_train)\n",
    "    x_std = np.sqrt(scaler.var_)\n",
    "    y_std = np.std(y_train)\n",
    "    x_train_normal = scaler.transform(x_train)\n",
    "    model = RidgeCV(fit_intercept=False, cv=5).fit(x_train_normal, y_train/y_std)\n",
    "    coef = model.coef_/x_std*y_std\n",
    "    print(product)\n",
    "    print(coef)\n",
    "    coef_list[product] = coef\n",
    "\n",
    "# IF\n",
    "# [-4.73012272e-03 -3.94525592e-03 -4.58967561e-02 -3.16602343e-02\n",
    "#   1.90575126e-03 -6.00875478e-04 -4.88238949e-02  5.21036021e-04\n",
    "#  -1.00774965e-03  3.54145595e-04  1.72313258e-04 -8.84883221e-04\n",
    "#   5.90067185e-03  2.00150493e-04  6.71851466e-06 -2.06170730e-03\n",
    "#  -6.12473624e-05  4.02101843e-05 -2.31777980e-03 -9.02990241e-04\n",
    "#   7.78987643e-03 -9.70072065e-03 -1.28441742e-03  4.51844578e-04\n",
    "#  -8.37123369e-03  1.44888030e-04 -7.32245514e-05  7.19038559e-02\n",
    "#   1.05533016e-02  1.54182092e-01 -2.17012134e-01  1.76695241e-02\n",
    "#  -4.87374578e-03 -1.21810015e+00 -2.52252314e-03  3.41700655e-04\n",
    "#   1.01930910e-02 -4.11421337e-03  3.45151659e-02 -7.63510065e-03\n",
    "#  -1.68879015e-03 -3.68019879e-04  7.58581458e-02 -8.45420304e-05\n",
    "#   1.70435748e-03]\n",
    "# IH\n",
    "# [ 3.10628399e-02 -2.07102390e-02  6.75283943e-02  6.25192477e-03\n",
    "#  -6.57625983e-03  4.28291980e-04 -1.61361749e-01  2.50459930e-03\n",
    "#   2.97542205e-04 -2.18981531e-03  6.04830375e-04  5.56847732e-04\n",
    "#   6.02907880e-03 -1.49373574e-04  1.19687453e-05 -3.15043869e-03\n",
    "#  -4.27708936e-05 -6.46160248e-05 -1.27860800e-03  1.35212278e-03\n",
    "#   1.26526121e-04 -2.96277009e-02  8.97448114e-04  3.69831876e-04\n",
    "#  -1.11144256e-02 -1.80425677e-04  3.60805530e-05  4.88261818e-04\n",
    "#   4.05567077e-02 -4.99100418e-01  1.36052005e-01  4.67994735e-03\n",
    "#  -1.20079167e-02  1.99182878e+00  7.39125950e-03  3.80271999e-03\n",
    "#   2.25595003e-02 -6.49257507e-03  1.90518916e-02 -6.71682313e-03\n",
    "#   5.45630742e-03  3.17856604e-04 -5.60142472e-02 -2.26434151e-03\n",
    "#  -8.98887374e-04]\n",
    "# IC\n",
    "# [ 1.57286976e-02  2.34427969e-03 -6.46901692e-02 -1.11062939e-01\n",
    "#   3.52314824e-03 -4.91545038e-04  5.70930668e-01 -2.93364835e-04\n",
    "#  -1.66699895e-03  2.40249364e-04 -1.37825348e-04  8.22145697e-04\n",
    "#   3.00491952e-03 -4.28051371e-05  1.23430657e-05 -2.07374817e-03\n",
    "#  -3.66086920e-05 -1.06142966e-05  4.55602274e-04 -3.59455833e-05\n",
    "#  -1.14718257e-03 -2.28975352e-02 -4.92935164e-04  2.10167325e-04\n",
    "#   3.68001910e-03  7.87950417e-06  8.03022741e-05 -1.39845052e-01\n",
    "#   7.52437159e-03 -1.90273233e-01  1.05918813e+00  1.57449376e-02\n",
    "#  -1.53863122e-02 -1.22514154e+00  1.59629311e-02  7.07754111e-03\n",
    "#   1.24414917e-03 -9.45394728e-03  1.01417628e-01  9.54555555e-02\n",
    "#   1.99825478e-03 -1.15735153e-03 -1.69898443e-01 -6.25052592e-04\n",
    "#   7.44017125e-05]\n"
   ]
  },
  {
   "cell_type": "code",
   "execution_count": 69,
   "metadata": {},
   "outputs": [],
   "source": [
    "save(coef_list, SAVE_PATH+\"/coef.ridge.004.pkl\")"
   ]
  },
  {
   "cell_type": "code",
   "execution_count": 70,
   "metadata": {},
   "outputs": [],
   "source": [
    "strat = \"ridge.004.\"+str(period)\n",
    "for product in product_list:\n",
    "    os.makedirs(\"e:/intern\"+\"/tmp pkl/\"+product+\"/\"+strat, exist_ok=True)"
   ]
  },
  {
   "cell_type": "code",
   "execution_count": 75,
   "metadata": {},
   "outputs": [
    {
     "name": "stdout",
     "output_type": "stream",
     "text": [
      "IH\n",
      "IC\n",
      "Wall time: 9min 31s\n"
     ]
    }
   ],
   "source": [
    "%%time\n",
    "for product in product_list[0:3]:\n",
    "    print(product)\n",
    "    coef = coef_list[product]\n",
    "    parLapply(CORE_NUM, all_dates, par_get_daily_pred, \n",
    "              product=product, coef=coef, strat=strat, HEAD_PATH=\"e:/intern\")\n",
    "\n",
    "# IH\n",
    "# IC\n",
    "# Wall time: 9min 31s\n"
   ]
  },
  {
   "cell_type": "code",
   "execution_count": 76,
   "metadata": {},
   "outputs": [
    {
     "name": "stdout",
     "output_type": "stream",
     "text": [
      "Wall time: 1min 22s\n"
     ]
    }
   ],
   "source": [
    "%%time\n",
    "for product in product_list[0:3]:\n",
    "    par_get_all_signal(strat, all_dates, product, 4096, SAVE_PATH=\"e:/intern\")\n",
    "    \n",
    "# Wall time: 1min 22s"
   ]
  },
  {
   "cell_type": "code",
   "execution_count": 1,
   "metadata": {},
   "outputs": [
    {
     "ename": "NameError",
     "evalue": "name 'product_list' is not defined",
     "output_type": "error",
     "traceback": [
      "\u001b[1;31m---------------------------------------------------------------------------\u001b[0m",
      "\u001b[1;31mNameError\u001b[0m                                 Traceback (most recent call last)",
      "\u001b[1;32m<timed exec>\u001b[0m in \u001b[0;36m<module>\u001b[1;34m\u001b[0m\n",
      "\u001b[1;31mNameError\u001b[0m: name 'product_list' is not defined"
     ]
    }
   ],
   "source": [
    "%%time\n",
    "SAVE_PATH = \"e:/intern\"\n",
    "for product in product_list[0:3]:\n",
    "    spread = product_info[product][\"spread\"]\n",
    "    \n",
    "    evaluate_signal(\"ridge.004\", all_dates, product, 2, 20, \n",
    "                    CORE_NUM, HEAD_PATH, SAVE_PATH, period=4096, split_str=\"2018\", tranct=1.1e-4, \n",
    "                    max_spread=spread*1.1, tranct_ratio=True, atr_filter=20, save_path=\"signal result atr\",reverse=1)\n",
    "\n",
    "# reverse=1\n",
    "# reverse=1\n",
    "# reverse=1\n",
    "# reverse=1\n",
    "# reverse=1\n",
    "# Wall time: 12min 24s\n"
   ]
  },
  {
   "cell_type": "code",
   "execution_count": 78,
   "metadata": {},
   "outputs": [
    {
     "name": "stdout",
     "output_type": "stream",
     "text": [
      "IF train sharpe  1.1256008516593825 test sharpe  0.3279416615240679\n",
      "IH train sharpe  0.329997631526421 test sharpe  -0.20150813062206632\n",
      "IC train sharpe  1.0575468135255637 test sharpe  -0.2268920156552622\n",
      "train sharpe:  1.386340803967788 test sharpe:  -0.10058636245181198\n"
     ]
    },
    {
     "data": {
      "image/png": "[encoded data removed]",
      "text/plain": [
       "<Figure size 1152x720 with 1 Axes>"
      ]
     },
     "metadata": {
      "needs_background": "light"
     },
     "output_type": "display_data"
    }
   ],
   "source": [
    "i = 0\n",
    "strat = \"ridge.004.4096\"\n",
    "test_all_pnl = np.zeros([sum(test_sample), len(product_list)])\n",
    "train_all_pnl = np.zeros([sum(train_sample), len(product_list)])\n",
    "min_pnl = 2\n",
    "min_num = 10\n",
    "for product in product_list[0:3]:\n",
    "    spread = product_info[product][\"spread\"]\n",
    "    signal_stat = load(HEAD_PATH+\"/signal result atr/\"+product+\".\"+strat+\".trend.pkl\")\n",
    "    train_stat = signal_stat[\"train.stat\"]\n",
    "    good_strat = (train_stat[\"final.result\"][\"avg.pnl\"]>min_pnl*spread) & (train_stat[\"final.result\"][\"num\"]>min_num)\n",
    "    train_pnl = train_stat[\"daily.ret\"].loc[:, good_strat].sum(axis=1)/sum(good_strat)\n",
    "    test_stat = signal_stat[\"test.stat\"]\n",
    "    test_pnl = test_stat[\"daily.ret\"].loc[:, good_strat].sum(axis=1)/sum(good_strat)\n",
    "    print(product, \"train sharpe \", sharpe(train_pnl), \"test sharpe \", sharpe(test_pnl))\n",
    "    test_all_pnl[:,i] = test_pnl\n",
    "    train_all_pnl[:,i] = train_pnl\n",
    "    i = i+1\n",
    "train_portfolio = np.array(np.mean(train_all_pnl, axis=1))\n",
    "test_portfolio = np.array(np.mean(test_all_pnl, axis=1))\n",
    "all_portfolio = np.append(train_portfolio, test_portfolio)\n",
    "plt.figure(1, figsize=(16, 10));\n",
    "plt.title(\"\");\n",
    "plt.xlabel(\"date\");\n",
    "plt.ylabel(\"pnl\");\n",
    "plt.title(\"portfolio\");\n",
    "plt.plot(format_dates, all_portfolio.cumsum());\n",
    "plt.plot(format_dates[test_sample], all_portfolio.cumsum()[test_sample])\n",
    "print(\"train sharpe: \", sharpe(train_portfolio), \"test sharpe: \", sharpe(test_portfolio))    \n",
    "\n",
    "# IF train sharpe  1.1256008516593825 test sharpe  0.3279416615240679\n",
    "# IH train sharpe  0.329997631526421 test sharpe  -0.20150813062206632\n",
    "# IC train sharpe  1.0575468135255637 test sharpe  -0.2268920156552622\n",
    "# train sharpe:  1.386340803967788 test sharpe:  -0.10058636245181198\n",
    "\n",
    "\n"
   ]
  },
  {
   "cell_type": "code",
   "execution_count": 79,
   "metadata": {},
   "outputs": [],
   "source": [
    "from sklearn.linear_model import ElasticNetCV"
   ]
  },
  {
   "cell_type": "code",
   "execution_count": 80,
   "metadata": {},
   "outputs": [],
   "source": [
    "strat = \"elastic.004.\"+str(period)"
   ]
  },
  {
   "cell_type": "code",
   "execution_count": 81,
   "metadata": {},
   "outputs": [],
   "source": [
    "for product in product_list:\n",
    "    os.makedirs(SAVE_PATH+\"/tmp pkl/\"+product+\"/\"+strat, exist_ok=True)"
   ]
  },
  {
   "cell_type": "code",
   "execution_count": 93,
   "metadata": {},
   "outputs": [],
   "source": [
    "train_mat = load(HEAD_PATH+\"/train test mat/\"+product+\".train.mat.pkl\")\n",
    "x_train = train_mat.iloc[:, :n_signal].values\n",
    "y_train = train_mat.loc[:, y_signal].values\n"
   ]
  },
  {
   "cell_type": "code",
   "execution_count": 96,
   "metadata": {},
   "outputs": [
    {
     "name": "stdout",
     "output_type": "stream",
     "text": [
      "IF\n",
      "[-0.         -0.00100694  0.         -0.         -0.         -0.\n",
      " -0.          0.         -0.         -0.         -0.          0.\n",
      "  0.00109761  0.         -0.         -0.          0.          0.\n",
      " -0.         -0.00027825  0.          0.         -0.         -0.\n",
      " -0.          0.         -0.         -0.         -0.          0.\n",
      " -0.         -0.         -0.         -0.01047768 -0.         -0.\n",
      " -0.         -0.          0.01090034  0.          0.          0.\n",
      "  0.          0.          0.        ]\n",
      "IH\n",
      "[-0.00000000e+00 -0.00000000e+00  0.00000000e+00  0.00000000e+00\n",
      " -0.00000000e+00  0.00000000e+00 -0.00000000e+00  0.00000000e+00\n",
      "  0.00000000e+00 -1.88386764e-19 -0.00000000e+00 -0.00000000e+00\n",
      "  0.00000000e+00 -0.00000000e+00 -0.00000000e+00 -0.00000000e+00\n",
      " -0.00000000e+00 -0.00000000e+00 -0.00000000e+00 -0.00000000e+00\n",
      " -0.00000000e+00 -0.00000000e+00 -0.00000000e+00 -0.00000000e+00\n",
      " -0.00000000e+00 -0.00000000e+00 -0.00000000e+00 -0.00000000e+00\n",
      " -0.00000000e+00 -0.00000000e+00  0.00000000e+00  0.00000000e+00\n",
      "  0.00000000e+00 -0.00000000e+00  0.00000000e+00  0.00000000e+00\n",
      " -0.00000000e+00 -0.00000000e+00 -0.00000000e+00  0.00000000e+00\n",
      "  0.00000000e+00  0.00000000e+00 -0.00000000e+00  0.00000000e+00\n",
      " -0.00000000e+00]\n",
      "IC\n",
      "[ 0.00000000e+00  0.00000000e+00  0.00000000e+00  0.00000000e+00\n",
      "  0.00000000e+00  4.68279571e-06  2.46748244e-02  0.00000000e+00\n",
      "  0.00000000e+00 -0.00000000e+00 -0.00000000e+00 -0.00000000e+00\n",
      " -0.00000000e+00 -0.00000000e+00  0.00000000e+00 -2.61936948e-04\n",
      " -0.00000000e+00 -2.22598926e-06 -2.91589979e-04 -4.42223599e-05\n",
      " -0.00000000e+00 -5.34365144e-03 -0.00000000e+00  3.17510713e-05\n",
      " -0.00000000e+00 -0.00000000e+00 -0.00000000e+00 -0.00000000e+00\n",
      " -0.00000000e+00 -0.00000000e+00  0.00000000e+00 -0.00000000e+00\n",
      "  0.00000000e+00 -0.00000000e+00  0.00000000e+00 -0.00000000e+00\n",
      " -0.00000000e+00 -0.00000000e+00  0.00000000e+00  1.67594274e-02\n",
      "  0.00000000e+00  0.00000000e+00 -0.00000000e+00 -0.00000000e+00\n",
      " -0.00000000e+00]\n"
     ]
    }
   ],
   "source": [
    "coef_list=dict([])\n",
    "y_signal= \"ret.\" + str(period)+\".004\"\n",
    "for product in product_list[0:3]:\n",
    "    train_mat = load(HEAD_PATH+\"/train test mat/\"+product+\".train.mat.pkl\")\n",
    "    x_train = train_mat.iloc[:, :n_signal].values\n",
    "    y_train = train_mat.loc[:, y_signal].values\n",
    "    scaler =  StandardScaler(copy=True, with_mean=False, with_std=True)\n",
    "    scaler.fit(x_train)\n",
    "    x_std = np.sqrt(scaler.var_)\n",
    "    y_std = np.std(y_train)\n",
    "    x_train_normal = scaler.transform(x_train)\n",
    "    model = ElasticNetCV(n_alphas=100, l1_ratio=0.5, fit_intercept=False, cv=5, max_iter=10000).fit(x_train_normal, y_train/y_std)\n",
    "    coef = model.coef_/x_std*y_std\n",
    "    print(product)\n",
    "    print(coef)\n",
    "    coef_list[product] = coef\n",
    "\n",
    "coef_list=dict([])\n",
    "\n",
    "y_signal= \"ret.\" + str(period)+\".004\"\n",
    "\n",
    "for product in product_list[0:3]:\n",
    "    train_mat = load(HEAD_PATH+\"/train test mat/\"+product+\".train.mat.pkl\")\n",
    "    x_train = train_mat.iloc[:, :n_signal].values\n",
    "    y_train = train_mat.loc[:, y_signal].values\n",
    "    scaler =  StandardScaler(copy=True, with_mean=False, with_std=True)\n",
    "    scaler.fit(x_train)\n",
    "    x_std = np.sqrt(scaler.var_)\n",
    "    y_std = np.std(y_train)\n",
    "    x_train_normal = scaler.transform(x_train)\n",
    "    model = ElasticNetCV(n_alphas=100, l1_ratio=0.5, fit_intercept=False, cv=5, max_iter=10000).fit(x_train_normal, y_train/y_std)\n",
    "    coef = model.coef_/x_std*y_std\n",
    "    print(product)\n",
    "    print(coef)\n",
    "    coef_list[product] = coef\n",
    "\n",
    "\n",
    "# IF\n",
    "# [-0.         -0.00100694  0.         -0.         -0.         -0.\n",
    "#  -0.          0.         -0.         -0.         -0.          0.\n",
    "#   0.00109761  0.         -0.         -0.          0.          0.\n",
    "#  -0.         -0.00027825  0.          0.         -0.         -0.\n",
    "#  -0.          0.         -0.         -0.         -0.          0.\n",
    "#  -0.         -0.         -0.         -0.01047768 -0.         -0.\n",
    "#  -0.         -0.          0.01090034  0.          0.          0.\n",
    "#   0.          0.          0.        ]\n",
    "# IH\n",
    "# [-0.00000000e+00 -0.00000000e+00  0.00000000e+00  0.00000000e+00\n",
    "#  -0.00000000e+00  0.00000000e+00 -0.00000000e+00  0.00000000e+00\n",
    "#   0.00000000e+00 -1.88386764e-19 -0.00000000e+00 -0.00000000e+00\n",
    "#   0.00000000e+00 -0.00000000e+00 -0.00000000e+00 -0.00000000e+00\n",
    "#  -0.00000000e+00 -0.00000000e+00 -0.00000000e+00 -0.00000000e+00\n",
    "#  -0.00000000e+00 -0.00000000e+00 -0.00000000e+00 -0.00000000e+00\n",
    "#  -0.00000000e+00 -0.00000000e+00 -0.00000000e+00 -0.00000000e+00\n",
    "#  -0.00000000e+00 -0.00000000e+00  0.00000000e+00  0.00000000e+00\n",
    "#   0.00000000e+00 -0.00000000e+00  0.00000000e+00  0.00000000e+00\n",
    "#  -0.00000000e+00 -0.00000000e+00 -0.00000000e+00  0.00000000e+00\n",
    "#   0.00000000e+00  0.00000000e+00 -0.00000000e+00  0.00000000e+00\n",
    "#  -0.00000000e+00]\n",
    "# IC\n",
    "# [ 0.00000000e+00  0.00000000e+00  0.00000000e+00  0.00000000e+00\n",
    "#   0.00000000e+00  4.68279571e-06  2.46748244e-02  0.00000000e+00\n",
    "#   0.00000000e+00 -0.00000000e+00 -0.00000000e+00 -0.00000000e+00\n",
    "#  -0.00000000e+00 -0.00000000e+00  0.00000000e+00 -2.61936948e-04\n",
    "#  -0.00000000e+00 -2.22598926e-06 -2.91589979e-04 -4.42223599e-05\n",
    "#  -0.00000000e+00 -5.34365144e-03 -0.00000000e+00  3.17510713e-05\n",
    "#  -0.00000000e+00 -0.00000000e+00 -0.00000000e+00 -0.00000000e+00\n",
    "#  -0.00000000e+00 -0.00000000e+00  0.00000000e+00 -0.00000000e+00\n",
    "#   0.00000000e+00 -0.00000000e+00  0.00000000e+00 -0.00000000e+00\n",
    "#  -0.00000000e+00 -0.00000000e+00  0.00000000e+00  1.67594274e-02\n",
    "#   0.00000000e+00  0.00000000e+00 -0.00000000e+00 -0.00000000e+00\n",
    "#  -0.00000000e+00]\n"
   ]
  },
  {
   "cell_type": "code",
   "execution_count": 97,
   "metadata": {},
   "outputs": [],
   "source": [
    "save(coef_list, SAVE_PATH+\"/coef.elastic.004.pkl\")"
   ]
  },
  {
   "cell_type": "code",
   "execution_count": 98,
   "metadata": {},
   "outputs": [],
   "source": [
    "strat = \"elastic.004.\"+str(period)\n",
    "for product in product_list:\n",
    "    os.makedirs(\"e:/intern\"+\"/tmp pkl/\"+product+\"/\"+strat, exist_ok=True)"
   ]
  },
  {
   "cell_type": "code",
   "execution_count": 99,
   "metadata": {},
   "outputs": [
    {
     "name": "stdout",
     "output_type": "stream",
     "text": [
      "IF\n",
      "IC\n",
      "Wall time: 10min 8s\n"
     ]
    }
   ],
   "source": [
    "%%time\n",
    "for product in [\"IF\", \"IC\"]:\n",
    "    print(product)\n",
    "    coef = coef_list[product]\n",
    "    parLapply(CORE_NUM, all_dates, par_get_daily_pred, \n",
    "              product=product, coef=coef, strat=strat, HEAD_PATH=\"e:/intern\")\n",
    "    \n",
    "# IF\n",
    "# IC\n",
    "# Wall time: 10min 8s\n",
    "\n"
   ]
  },
  {
   "cell_type": "code",
   "execution_count": 101,
   "metadata": {},
   "outputs": [
    {
     "name": "stdout",
     "output_type": "stream",
     "text": [
      "Wall time: 18.4 s\n"
     ]
    }
   ],
   "source": [
    "%%time\n",
    "for product in [\"IF\", \"IC\"]:\n",
    "    par_get_all_signal(strat, all_dates, product, 4096, SAVE_PATH=\"e:/intern\")\n",
    "    \n",
    "# Wall time: 1min 20s\n"
   ]
  },
  {
   "cell_type": "code",
   "execution_count": 102,
   "metadata": {},
   "outputs": [
    {
     "name": "stdout",
     "output_type": "stream",
     "text": [
      "reverse=1\n",
      "reverse=1\n",
      "Wall time: 3min 34s\n"
     ]
    }
   ],
   "source": [
    "%%time\n",
    "SAVE_PATH = \"e:/intern\"\n",
    "for product in [\"IF\", \"IC\"]:\n",
    "    spread = product_info[product][\"spread\"]\n",
    "    evaluate_signal(\"elastic.004\", all_dates, product, 2, 20, \n",
    "                    CORE_NUM, HEAD_PATH, SAVE_PATH, period=4096, split_str=\"2018\", tranct=1.1e-4, \n",
    "                    max_spread=spread*1.1, tranct_ratio=True, atr_filter=20, save_path=\"signal result atr\",reverse=1)\n",
    "    \n",
    "# reverse=1\n",
    "# reverse=1\n",
    "# Wall time: 3min 34s\n",
    "\n"
   ]
  },
  {
   "cell_type": "code",
   "execution_count": 103,
   "metadata": {},
   "outputs": [
    {
     "name": "stdout",
     "output_type": "stream",
     "text": [
      "IF train sharpe  0.5300121887950476 test sharpe  0.4903980675034343\n",
      "IC train sharpe  0.2089555968655139 test sharpe  -0.6706049344406237\n",
      "train sharpe:  0.3798357211148903 test sharpe:  -0.2939600000751591\n"
     ]
    },
    {
     "data": {
      "image/png": "[encoded data removed]",
      "text/plain": [
       "<Figure size 1152x720 with 1 Axes>"
      ]
     },
     "metadata": {
      "needs_background": "light"
     },
     "output_type": "display_data"
    }
   ],
   "source": [
    "i = 0\n",
    "strat = \"elastic.004.4096\"\n",
    "test_all_pnl = np.zeros([sum(test_sample), 4])\n",
    "train_all_pnl = np.zeros([sum(train_sample), 4])\n",
    "min_pnl = 2\n",
    "min_num = 10\n",
    "for product in [\"IF\",\"IC\"]:\n",
    "    spread = product_info[product][\"spread\"]\n",
    "    signal_stat = load(HEAD_PATH+\"/signal result atr/\"+product+\".\"+strat+\".trend.pkl\")\n",
    "    train_stat = signal_stat[\"train.stat\"]\n",
    "    good_strat = (train_stat[\"final.result\"][\"avg.pnl\"]>min_pnl*spread) & (train_stat[\"final.result\"][\"num\"]>min_num)\n",
    "    train_pnl = train_stat[\"daily.ret\"].loc[:, good_strat].sum(axis=1)/sum(good_strat)\n",
    "    test_stat = signal_stat[\"test.stat\"]\n",
    "    test_pnl = test_stat[\"daily.ret\"].loc[:, good_strat].sum(axis=1)/sum(good_strat)\n",
    "    print(product, \"train sharpe \", sharpe(train_pnl), \"test sharpe \", sharpe(test_pnl))\n",
    "    test_all_pnl[:,i] = test_pnl\n",
    "    train_all_pnl[:,i] = train_pnl\n",
    "    i = i+1\n",
    "train_portfolio = np.array(np.mean(train_all_pnl, axis=1))\n",
    "test_portfolio = np.array(np.mean(test_all_pnl, axis=1))\n",
    "all_portfolio = np.append(train_portfolio, test_portfolio)\n",
    "plt.figure(1, figsize=(16, 10));\n",
    "plt.title(\"\");\n",
    "plt.xlabel(\"date\");\n",
    "plt.ylabel(\"pnl\");\n",
    "plt.title(\"portfolio\");\n",
    "plt.plot(format_dates, all_portfolio.cumsum());\n",
    "plt.plot(format_dates[test_sample], all_portfolio.cumsum()[test_sample])\n",
    "print(\"train sharpe: \", sharpe(train_portfolio), \"test sharpe: \", sharpe(test_portfolio))   \n",
    "\n",
    "# IF train sharpe  0.5300121887950476 test sharpe  0.4903980675034343\n",
    "# IC train sharpe  0.2089555968655139 test sharpe  -0.6706049344406237\n",
    "# train sharpe:  0.3798357211148903 test sharpe:  -0.2939600000751591\n"
   ]
  },
  {
   "cell_type": "markdown",
   "metadata": {},
   "source": [
    "- output to txt file"
   ]
  },
  {
   "cell_type": "code",
   "execution_count": 126,
   "metadata": {},
   "outputs": [],
   "source": [
    "os.makedirs(\"d:/intern/input\", exist_ok=True)\n",
    "np.set_printoptions(suppress=True)"
   ]
  },
  {
   "cell_type": "code",
   "execution_count": 127,
   "metadata": {},
   "outputs": [],
   "source": [
    "for product in product_list:\n",
    "    file_name = \"d:/intern/input/\"+product+\".signal.txt\"\n",
    "    fo = open(file_name, \"w\")\n",
    "    fo.writelines(\"signal coef\\n\")\n",
    "    chosen_signal = coef_list[product]!=0\n",
    "    for i in np.where(chosen_signal)[0]:\n",
    "        fo.writelines(signal_list[i]+\" \"+str(coef_list[product][i])+\"\\n\")\n",
    "    fo.close()"
   ]
  },
  {
   "cell_type": "code",
   "execution_count": null,
   "metadata": {},
   "outputs": [],
   "source": []
  }
 ],
 "metadata": {
  "kernelspec": {
   "display_name": "Python 3",
   "language": "python",
   "name": "python3"
  },
  "language_info": {
   "codemirror_mode": {
    "name": "ipython",
    "version": 3
   },
   "file_extension": ".py",
   "mimetype": "text/x-python",
   "name": "python",
   "nbconvert_exporter": "python",
   "pygments_lexer": "ipython3",
   "version": "3.7.4"
  }
 },
 "nbformat": 4,
 "nbformat_minor": 2
}
