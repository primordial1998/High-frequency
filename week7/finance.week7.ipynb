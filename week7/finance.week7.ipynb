{
 "cells": [
  {
   "cell_type": "markdown",
   "metadata": {},
   "source": [
    "\n",
    "\n",
    "The most simple linear regression without regularization"
   ]
  },
  {
   "cell_type": "code",
   "execution_count": 256,
   "metadata": {},
   "outputs": [
    {
     "data": {
      "text/plain": [
       "<module 'stats' from 'C:\\\\Users\\\\dell\\\\stats.py'>"
      ]
     },
     "execution_count": 256,
     "metadata": {},
     "output_type": "execute_result"
    }
   ],
   "source": [
    "from helper import *\n",
    "from stats import *\n",
    "from imp import reload   \n",
    "import helper\n",
    "import stats\n",
    "import  sklearn.preprocessing\n",
    "reload(helper)\n",
    "reload(stats)\n"
   ]
  },
  {
   "cell_type": "code",
   "execution_count": 257,
   "metadata": {},
   "outputs": [
    {
     "data": {
      "text/plain": [
       "16"
      ]
     },
     "execution_count": 257,
     "metadata": {},
     "output_type": "execute_result"
    }
   ],
   "source": [
    "CORE_NUM = int(os.environ['NUMBER_OF_PROCESSORS'])\n",
    "CORE_NUM "
   ]
  },
  {
   "cell_type": "markdown",
   "metadata": {},
   "source": [
    "- number of cores, set this number according to your computer"
   ]
  },
  {
   "cell_type": "markdown",
   "metadata": {},
   "source": [
    "- sample period"
   ]
  },
  {
   "cell_type": "code",
   "execution_count": 258,
   "metadata": {},
   "outputs": [],
   "source": [
    "period = 4096\n",
    "product_list = [\"IF\", \"IH\", \"IC\", \"T\", \"TF\"]"
   ]
  },
  {
   "cell_type": "markdown",
   "metadata": {},
   "source": [
    "- get all of the days"
   ]
  },
  {
   "cell_type": "code",
   "execution_count": 259,
   "metadata": {},
   "outputs": [],
   "source": [
    "import dask\n",
    "from dask import compute, delayed"
   ]
  },
  {
   "cell_type": "code",
   "execution_count": 260,
   "metadata": {},
   "outputs": [
    {
     "data": {
      "text/plain": [
       "1092"
      ]
     },
     "execution_count": 260,
     "metadata": {},
     "output_type": "execute_result"
    }
   ],
   "source": [
    "all_dates = os.listdir(DATA_PATH + product_list[0])\n",
    "all_dates.sort()\n",
    "all_dates = np.array(all_dates)\n",
    "n_days = len(all_dates)\n",
    "n_days\n",
    "## 1092"
   ]
  },
  {
   "cell_type": "code",
   "execution_count": 261,
   "metadata": {},
   "outputs": [],
   "source": [
    "SAVE_PATH = \"e:/intern\"\n",
    "train_sample = all_dates<\"2018\"\n",
    "test_sample = all_dates>\"2018\"\n",
    "date_str = [n[0:8] for n in all_dates]\n",
    "format_dates = np.array([pd.to_datetime(d) for d in date_str])"
   ]
  },
  {
   "cell_type": "code",
   "execution_count": 262,
   "metadata": {},
   "outputs": [],
   "source": [
    "os.makedirs(HEAD_PATH+\"/all signal\", exist_ok=True)\n",
    "dire_signal_list = [\"trade.imb\", \"total.trade.imb\", \"nr\", \"dbook\", \"range.pos\", \"price.osci\", \"ma.dif.10\", \"kdj.k\", \"kdj.j\"]\n",
    "range_signal_list = [\"\", \"range\", \"std\", \"volume.open.ratio\", \"trend.index\"]\n",
    "all_signal_list = np.array([])\n",
    "for range_signal in range_signal_list:\n",
    "    for dire_signal in dire_signal_list:\n",
    "        if len(range_signal)==0:\n",
    "            signal_name = dire_signal\n",
    "        else:\n",
    "            signal_name = dire_signal+\".\"+range_signal\n",
    "        all_signal_list = np.append(all_signal_list,signal_name)\n",
    "signal_list = [signal+\".4096\" for signal in all_signal_list]"
   ]
  },
  {
   "cell_type": "code",
   "execution_count": 263,
   "metadata": {},
   "outputs": [
    {
     "data": {
      "text/plain": [
       "array(['trade.imb.4096', 'total.trade.imb.4096', 'nr.4096', 'dbook.4096',\n",
       "       'range.pos.4096', 'price.osci.4096', 'ma.dif.10.4096',\n",
       "       'kdj.k.4096', 'kdj.j.4096', 'trade.imb.range.4096',\n",
       "       'total.trade.imb.range.4096', 'nr.range.4096', 'dbook.range.4096',\n",
       "       'range.pos.range.4096', 'price.osci.range.4096',\n",
       "       'ma.dif.10.range.4096', 'kdj.k.range.4096', 'kdj.j.range.4096',\n",
       "       'trade.imb.std.4096', 'total.trade.imb.std.4096', 'nr.std.4096',\n",
       "       'dbook.std.4096', 'range.pos.std.4096', 'price.osci.std.4096',\n",
       "       'ma.dif.10.std.4096', 'kdj.k.std.4096', 'kdj.j.std.4096',\n",
       "       'trade.imb.volume.open.ratio.4096',\n",
       "       'total.trade.imb.volume.open.ratio.4096',\n",
       "       'nr.volume.open.ratio.4096', 'dbook.volume.open.ratio.4096',\n",
       "       'range.pos.volume.open.ratio.4096',\n",
       "       'price.osci.volume.open.ratio.4096',\n",
       "       'ma.dif.10.volume.open.ratio.4096', 'kdj.k.volume.open.ratio.4096',\n",
       "       'kdj.j.volume.open.ratio.4096', 'trade.imb.trend.index.4096',\n",
       "       'total.trade.imb.trend.index.4096', 'nr.trend.index.4096',\n",
       "       'dbook.trend.index.4096', 'range.pos.trend.index.4096',\n",
       "       'price.osci.trend.index.4096', 'ma.dif.10.trend.index.4096',\n",
       "       'kdj.k.trend.index.4096', 'kdj.j.trend.index.4096', 'ret.4096',\n",
       "       'ret.4096.001', 'ret.4096.002'], dtype='<U38')"
      ]
     },
     "execution_count": 263,
     "metadata": {},
     "output_type": "execute_result"
    }
   ],
   "source": [
    "np.append(signal_list, [\"ret.4096\", \"ret.4096.001\", \"ret.4096.002\"])"
   ]
  },
  {
   "cell_type": "code",
   "execution_count": 264,
   "metadata": {},
   "outputs": [],
   "source": [
    "data = load(DATA_PATH+product_list[0]+\"/\"+all_dates[9])"
   ]
  },
  {
   "cell_type": "markdown",
   "metadata": {},
   "source": [
    "- let's begin with week 7 "
   ]
  },
  {
   "cell_type": "markdown",
   "metadata": {},
   "source": [
    "- to build up a regression model, we need predictors and response variables\n",
    "- the previous signals can be predictors\n",
    "- now we need to create a response"
   ]
  },
  {
   "cell_type": "markdown",
   "metadata": {},
   "source": [
    "- for example, we can use future log returns as response"
   ]
  },
  {
   "cell_type": "markdown",
   "metadata": {},
   "source": [
    "- here fcum means the future sum of data\n",
    "- for example"
   ]
  },
  {
   "cell_type": "code",
   "execution_count": 265,
   "metadata": {},
   "outputs": [],
   "source": [
    "sample_y = fcum(data[\"ret\"], period)"
   ]
  },
  {
   "cell_type": "code",
   "execution_count": 266,
   "metadata": {},
   "outputs": [
    {
     "data": {
      "image/png": "[encoded data removed]",
      "text/plain": [
       "<Figure size 1152x720 with 1 Axes>"
      ]
     },
     "metadata": {
      "needs_background": "light"
     },
     "output_type": "display_data"
    }
   ],
   "source": [
    "plt.figure(1, figsize=(16, 10))\n",
    "plt.plot(sample_y[data[\"good\"]].values);"
   ]
  },
  {
   "cell_type": "code",
   "execution_count": 267,
   "metadata": {},
   "outputs": [
    {
     "data": {
      "text/plain": [
       "2.4794545454512655"
      ]
     },
     "execution_count": 267,
     "metadata": {},
     "output_type": "execute_result"
    }
   ],
   "source": [
    "kurtosis(sample_y[data[\"good\"]], fisher=False)\n",
    "## 2.4794545454512655"
   ]
  },
  {
   "cell_type": "markdown",
   "metadata": {},
   "source": [
    "- the response has quite high kurtosis, it means the response has fat tails\n",
    "\n",
    "\n",
    "- we can check the result"
   ]
  },
  {
   "cell_type": "code",
   "execution_count": 268,
   "metadata": {
    "scrolled": true
   },
   "outputs": [
    {
     "data": {
      "text/plain": [
       "0.002470774245956856"
      ]
     },
     "execution_count": 268,
     "metadata": {},
     "output_type": "execute_result"
    }
   ],
   "source": [
    "np.sum(data[\"ret\"][3000:(3000+period)])\n",
    "## 0.002470774245956856"
   ]
  },
  {
   "cell_type": "code",
   "execution_count": 269,
   "metadata": {},
   "outputs": [
    {
     "data": {
      "text/plain": [
       "0.0024707742459568627"
      ]
     },
     "execution_count": 269,
     "metadata": {},
     "output_type": "execute_result"
    }
   ],
   "source": [
    "sample_y[2999]\n",
    "## 0.0024707742459568627"
   ]
  },
  {
   "cell_type": "markdown",
   "metadata": {},
   "source": [
    "- so fcum means future sume, and ys is the future price return"
   ]
  },
  {
   "cell_type": "markdown",
   "metadata": {},
   "source": [
    "- now we create directory for this response signal"
   ]
  },
  {
   "cell_type": "code",
   "execution_count": 270,
   "metadata": {},
   "outputs": [],
   "source": [
    "## calculate future return\n",
    "class foctor_ret_period(factor_template):\n",
    "    factor_name = \"ret.period\"\n",
    "    \n",
    "    params = OrderedDict([\n",
    "        (\"period\", np.power(2, range(10,13)))\n",
    "    ])\n",
    "    \n",
    "    def formula(self, data, period):\n",
    "        return fcum(data[\"ret\"],period).values\n",
    "    \n",
    "y = foctor_ret_period()\n",
    "\n"
   ]
  },
  {
   "cell_type": "code",
   "execution_count": 271,
   "metadata": {},
   "outputs": [
    {
     "name": "stdout",
     "output_type": "stream",
     "text": [
      "e:/intern/tmp pkl/IF/ret.1024\n",
      "e:/intern/tmp pkl/IF/ret.2048\n",
      "e:/intern/tmp pkl/IF/ret.4096\n",
      "e:/intern/tmp pkl/IH/ret.1024\n",
      "e:/intern/tmp pkl/IH/ret.2048\n",
      "e:/intern/tmp pkl/IH/ret.4096\n",
      "e:/intern/tmp pkl/IC/ret.1024\n",
      "e:/intern/tmp pkl/IC/ret.2048\n",
      "e:/intern/tmp pkl/IC/ret.4096\n",
      "e:/intern/tmp pkl/T/ret.1024\n",
      "e:/intern/tmp pkl/T/ret.2048\n",
      "e:/intern/tmp pkl/T/ret.4096\n",
      "e:/intern/tmp pkl/TF/ret.1024\n",
      "e:/intern/tmp pkl/TF/ret.2048\n",
      "e:/intern/tmp pkl/TF/ret.4096\n"
     ]
    }
   ],
   "source": [
    "for product in product_list:\n",
    "    create_signal_path(y, product,SAVE_PATH);"
   ]
  },
  {
   "cell_type": "code",
   "execution_count": 26,
   "metadata": {},
   "outputs": [
    {
     "name": "stdout",
     "output_type": "stream",
     "text": [
      "Wall time: 16min 21s\n"
     ]
    },
    {
     "data": {
      "text/plain": [
       "''"
      ]
     },
     "execution_count": 26,
     "metadata": {},
     "output_type": "execute_result"
    }
   ],
   "source": [
    "%%time\n",
    "for product in product_list:\n",
    "    file_list = list(map(lambda x: DATA_PATH+product+\"/\"+x, os.listdir(DATA_PATH + product)))\n",
    "    parLapply(CORE_NUM, file_list, build_composite_signal,signal_list=y, product=product, HEAD_PATH=SAVE_PATH)\n",
    ";\n",
    "# Wall time: 16min 21s\n",
    "\n"
   ]
  },
  {
   "cell_type": "markdown",
   "metadata": {},
   "source": [
    "- now let's see how it looks like"
   ]
  },
  {
   "cell_type": "code",
   "execution_count": 272,
   "metadata": {},
   "outputs": [],
   "source": [
    "SAVE_PATH = \"e:/intern\""
   ]
  },
  {
   "cell_type": "code",
   "execution_count": 27,
   "metadata": {},
   "outputs": [
    {
     "name": "stdout",
     "output_type": "stream",
     "text": [
      "Wall time: 2min 58s\n"
     ]
    }
   ],
   "source": [
    "%%time\n",
    "for product in product_list:\n",
    "    parLapply(CORE_NUM, [\"ret.4096\"], par_get_all_signal, file_list=all_dates, product=product, period=4096, SAVE_PATH = SAVE_PATH);\n",
    "\n",
    "# Wall time: 2min 58s"
   ]
  },
  {
   "cell_type": "code",
   "execution_count": 273,
   "metadata": {},
   "outputs": [],
   "source": [
    "all_signal = load(SAVE_PATH+\"/all signal/\"+ product_list[0]+ \".ret.\"+str(period)+\".pkl\")"
   ]
  },
  {
   "cell_type": "markdown",
   "metadata": {},
   "source": [
    "- plot the signal"
   ]
  },
  {
   "cell_type": "code",
   "execution_count": 274,
   "metadata": {},
   "outputs": [
    {
     "data": {
      "image/png": "[encoded data removed]",
      "text/plain": [
       "<Figure size 1152x720 with 1 Axes>"
      ]
     },
     "metadata": {
      "needs_background": "light"
     },
     "output_type": "display_data"
    }
   ],
   "source": [
    "plt.figure(1, figsize=(16, 10))\n",
    "plt.plot(all_signal);"
   ]
  },
  {
   "cell_type": "markdown",
   "metadata": {},
   "source": [
    "- check the statistics of the signal"
   ]
  },
  {
   "cell_type": "code",
   "execution_count": 275,
   "metadata": {},
   "outputs": [
    {
     "name": "stdout",
     "output_type": "stream",
     "text": [
      "kurtosis= 8.531024960127679  skew= -0.18608983129396112\n"
     ]
    }
   ],
   "source": [
    "print(\"kurtosis=\", kurtosis(all_signal, fisher=False), \" skew=\", skew(all_signal))\n",
    "## kurtosis= 8.531024960127679  skew= -0.18608983129396112\n",
    "## we can see it has very fat tails\n",
    "## usually we don't adjust for response because we want to profit from the fat tails"
   ]
  },
  {
   "cell_type": "markdown",
   "metadata": {},
   "source": [
    "- let's try some vanish signal"
   ]
  },
  {
   "cell_type": "code",
   "execution_count": 276,
   "metadata": {},
   "outputs": [
    {
     "name": "stdout",
     "output_type": "stream",
     "text": [
      "kurtosis= 6.231741293113087  skew= 0.04706924460768927\n"
     ]
    },
    {
     "data": {
      "image/png": "[encoded data removed]",
      "text/plain": [
       "<Figure size 1152x720 with 1 Axes>"
      ]
     },
     "metadata": {
      "needs_background": "light"
     },
     "output_type": "display_data"
    }
   ],
   "source": [
    "all_signal = load(SAVE_PATH+\"/all signal/\"+ product_list[0]+ \".ret.\"+str(period)+\".pkl\")\n",
    "vanish_signal = vanish_thre(all_signal, 0.041)\n",
    "print(\"kurtosis=\", kurtosis(vanish_signal, fisher=False), \" skew=\", skew(vanish_signal))\n",
    "## kurtosis= 6.231741293113087  skew= 0.04706924460768927\n",
    "plt.figure(1, figsize=(16, 10))\n",
    "plt.plot(vanish_signal);"
   ]
  },
  {
   "cell_type": "code",
   "execution_count": 277,
   "metadata": {},
   "outputs": [
    {
     "name": "stdout",
     "output_type": "stream",
     "text": [
      "kurtosis= 5.822801418710083  skew= 0.04869705892622108\n"
     ]
    },
    {
     "data": {
      "image/png": "[encoded data removed]",
      "text/plain": [
       "<Figure size 1152x720 with 1 Axes>"
      ]
     },
     "metadata": {
      "needs_background": "light"
     },
     "output_type": "display_data"
    }
   ],
   "source": [
    "all_signal = load(SAVE_PATH+\"/all signal/\"+ product_list[0]+ \".ret.\"+str(period)+\".pkl\")\n",
    "vanish_signal = vanish_thre(all_signal, 0.021)\n",
    "print(\"kurtosis=\", kurtosis(vanish_signal, fisher=False), \" skew=\", skew(vanish_signal))\n",
    "plt.figure(1, figsize=(16, 10))\n",
    "plt.plot(vanish_signal);\n",
    "## kurtosis= 5.822801418710083  skew= 0.04869705892622108"
   ]
  },
  {
   "cell_type": "code",
   "execution_count": 278,
   "metadata": {},
   "outputs": [
    {
     "name": "stdout",
     "output_type": "stream",
     "text": [
      "kurtosis= 3.805994417959  skew= 0.1329732011138275\n"
     ]
    },
    {
     "data": {
      "image/png": "[encoded data removed]",
      "text/plain": [
       "<Figure size 1152x720 with 1 Axes>"
      ]
     },
     "metadata": {
      "needs_background": "light"
     },
     "output_type": "display_data"
    }
   ],
   "source": [
    "all_signal = load(SAVE_PATH+\"/all signal/\"+ product_list[0]+ \".ret.\"+str(period)+\".pkl\")\n",
    "vanish_signal = vanish_thre(all_signal, 0.011)\n",
    "print(\"kurtosis=\", kurtosis(vanish_signal, fisher=False), \" skew=\", skew(vanish_signal))\n",
    "plt.figure(1, figsize=(16, 10))\n",
    "plt.plot(vanish_signal);\n",
    "## kurtosis= 3.805994417959  skew= 0.1329732011138275"
   ]
  },
  {
   "cell_type": "markdown",
   "metadata": {},
   "source": [
    "- it seems 0.01 fits our previous standard for predictive signals\n",
    "- but now we works for response so there may be some differences\n",
    "\n",
    "\n",
    "- let's create signals with vanish as well\n",
    "- our function can support only one parameter so we create twice"
   ]
  },
  {
   "cell_type": "code",
   "execution_count": 34,
   "metadata": {},
   "outputs": [],
   "source": [
    "class foctor_ret_period_004(factor_template):\n",
    "    factor_name = \"ret.period.004\"\n",
    "    \n",
    "    params = OrderedDict([\n",
    "        (\"period\", np.power(2, range(10,13)))\n",
    "    ])\n",
    "    \n",
    "    def formula(self, data, period):\n",
    "        return vanish_thre(fcum(data[\"ret\"],period), 0.041).values\n",
    "    \n",
    "y4 = foctor_ret_period_004()\n",
    "\n"
   ]
  },
  {
   "cell_type": "code",
   "execution_count": 35,
   "metadata": {},
   "outputs": [],
   "source": [
    "class foctor_ret_period_002(factor_template):\n",
    "    factor_name = \"ret.period.002\"\n",
    "    \n",
    "    params = OrderedDict([\n",
    "        (\"period\", np.power(2, range(10,13)))\n",
    "    ])\n",
    "    \n",
    "    def formula(self, data, period):\n",
    "        return vanish_thre(fcum(data[\"ret\"],period), 0.021).values\n",
    "    \n",
    "y2 = foctor_ret_period_002()\n",
    "\n"
   ]
  },
  {
   "cell_type": "code",
   "execution_count": 36,
   "metadata": {},
   "outputs": [
    {
     "name": "stdout",
     "output_type": "stream",
     "text": [
      "e:/intern/tmp pkl/IF/ret.1024.004\n",
      "e:/intern/tmp pkl/IF/ret.2048.004\n",
      "e:/intern/tmp pkl/IF/ret.4096.004\n",
      "e:/intern/tmp pkl/IH/ret.1024.004\n",
      "e:/intern/tmp pkl/IH/ret.2048.004\n",
      "e:/intern/tmp pkl/IH/ret.4096.004\n",
      "e:/intern/tmp pkl/IC/ret.1024.004\n",
      "e:/intern/tmp pkl/IC/ret.2048.004\n",
      "e:/intern/tmp pkl/IC/ret.4096.004\n",
      "e:/intern/tmp pkl/T/ret.1024.004\n",
      "e:/intern/tmp pkl/T/ret.2048.004\n",
      "e:/intern/tmp pkl/T/ret.4096.004\n",
      "e:/intern/tmp pkl/TF/ret.1024.004\n",
      "e:/intern/tmp pkl/TF/ret.2048.004\n",
      "e:/intern/tmp pkl/TF/ret.4096.004\n"
     ]
    }
   ],
   "source": [
    "for product in product_list:\n",
    "    create_signal_path(y4, product, SAVE_PATH)"
   ]
  },
  {
   "cell_type": "code",
   "execution_count": 37,
   "metadata": {},
   "outputs": [
    {
     "name": "stdout",
     "output_type": "stream",
     "text": [
      "e:/intern/tmp pkl/IF/ret.1024.002\n",
      "e:/intern/tmp pkl/IF/ret.2048.002\n",
      "e:/intern/tmp pkl/IF/ret.4096.002\n",
      "e:/intern/tmp pkl/IH/ret.1024.002\n",
      "e:/intern/tmp pkl/IH/ret.2048.002\n",
      "e:/intern/tmp pkl/IH/ret.4096.002\n",
      "e:/intern/tmp pkl/IC/ret.1024.002\n",
      "e:/intern/tmp pkl/IC/ret.2048.002\n",
      "e:/intern/tmp pkl/IC/ret.4096.002\n",
      "e:/intern/tmp pkl/T/ret.1024.002\n",
      "e:/intern/tmp pkl/T/ret.2048.002\n",
      "e:/intern/tmp pkl/T/ret.4096.002\n",
      "e:/intern/tmp pkl/TF/ret.1024.002\n",
      "e:/intern/tmp pkl/TF/ret.2048.002\n",
      "e:/intern/tmp pkl/TF/ret.4096.002\n"
     ]
    }
   ],
   "source": [
    "for product in product_list:\n",
    "    create_signal_path(y2, product, SAVE_PATH)"
   ]
  },
  {
   "cell_type": "code",
   "execution_count": 38,
   "metadata": {
    "scrolled": true
   },
   "outputs": [
    {
     "name": "stdout",
     "output_type": "stream",
     "text": [
      "Wall time: 9min 30s\n"
     ]
    },
    {
     "data": {
      "text/plain": [
       "''"
      ]
     },
     "execution_count": 38,
     "metadata": {},
     "output_type": "execute_result"
    }
   ],
   "source": [
    "%%time\n",
    "for product in product_list:\n",
    "    file_list = list(map(lambda x: DATA_PATH+product+\"/\"+x, os.listdir(DATA_PATH + product)))\n",
    "    parLapply(CORE_NUM, file_list, build_composite_signal,signal_list=y4, product=product, HEAD_PATH=SAVE_PATH)\n",
    ";\n",
    "## Wall time: 9min 30s"
   ]
  },
  {
   "cell_type": "code",
   "execution_count": 39,
   "metadata": {},
   "outputs": [
    {
     "name": "stdout",
     "output_type": "stream",
     "text": [
      "Wall time: 5min 31s\n"
     ]
    },
    {
     "data": {
      "text/plain": [
       "''"
      ]
     },
     "execution_count": 39,
     "metadata": {},
     "output_type": "execute_result"
    }
   ],
   "source": [
    "%%time\n",
    "for product in product_list:\n",
    "    file_list = list(map(lambda x: DATA_PATH+product+\"/\"+x, os.listdir(DATA_PATH + product)))\n",
    "    parLapply(CORE_NUM, file_list, build_composite_signal,signal_list=y2, product=product, HEAD_PATH=SAVE_PATH)\n",
    ";\n",
    "## Wall time: 5min 31s"
   ]
  },
  {
   "cell_type": "code",
   "execution_count": 40,
   "metadata": {},
   "outputs": [],
   "source": [
    "class foctor_ret_period_001(factor_template):\n",
    "    factor_name = \"ret.period.001\"\n",
    "    \n",
    "    params = OrderedDict([\n",
    "        (\"period\", np.power(2, range(10,13)))\n",
    "    ])\n",
    "    \n",
    "    def formula(self, data, period):\n",
    "        return vanish_thre(fcum(data[\"ret\"],period), 0.011).values\n",
    "    \n",
    "y1 = foctor_ret_period_001()\n"
   ]
  },
  {
   "cell_type": "code",
   "execution_count": 41,
   "metadata": {},
   "outputs": [
    {
     "name": "stdout",
     "output_type": "stream",
     "text": [
      "e:/intern/tmp pkl/IF/ret.1024.001\n",
      "e:/intern/tmp pkl/IF/ret.2048.001\n",
      "e:/intern/tmp pkl/IF/ret.4096.001\n",
      "e:/intern/tmp pkl/IH/ret.1024.001\n",
      "e:/intern/tmp pkl/IH/ret.2048.001\n",
      "e:/intern/tmp pkl/IH/ret.4096.001\n",
      "e:/intern/tmp pkl/IC/ret.1024.001\n",
      "e:/intern/tmp pkl/IC/ret.2048.001\n",
      "e:/intern/tmp pkl/IC/ret.4096.001\n",
      "e:/intern/tmp pkl/T/ret.1024.001\n",
      "e:/intern/tmp pkl/T/ret.2048.001\n",
      "e:/intern/tmp pkl/T/ret.4096.001\n",
      "e:/intern/tmp pkl/TF/ret.1024.001\n",
      "e:/intern/tmp pkl/TF/ret.2048.001\n",
      "e:/intern/tmp pkl/TF/ret.4096.001\n"
     ]
    }
   ],
   "source": [
    "for product in product_list:\n",
    "    create_signal_path(y1, product, SAVE_PATH)"
   ]
  },
  {
   "cell_type": "code",
   "execution_count": 42,
   "metadata": {},
   "outputs": [
    {
     "name": "stdout",
     "output_type": "stream",
     "text": [
      "Wall time: 4min 20s\n"
     ]
    },
    {
     "data": {
      "text/plain": [
       "''"
      ]
     },
     "execution_count": 42,
     "metadata": {},
     "output_type": "execute_result"
    }
   ],
   "source": [
    "%%time\n",
    "for product in product_list:\n",
    "    file_list = list(map(lambda x: DATA_PATH+product+\"/\"+x, os.listdir(DATA_PATH + product)))\n",
    "    parLapply(CORE_NUM, file_list, build_composite_signal,signal_list=y1, product=product, HEAD_PATH=SAVE_PATH)\n",
    ";\n",
    "##Wall time:  4min 20s"
   ]
  },
  {
   "cell_type": "markdown",
   "metadata": {},
   "source": [
    "- now we have 3 response values: future return, future return cut off at 0.02, future return cut of at 0.01\n",
    "\n",
    "\n",
    "- let's see how they perform with predictive signals\n",
    "\n",
    "\n",
    "- at first we need to make sum changes \n",
    "- we can check the result"
   ]
  },
  {
   "cell_type": "code",
   "execution_count": 279,
   "metadata": {},
   "outputs": [
    {
     "data": {
      "text/plain": [
       "510"
      ]
     },
     "execution_count": 279,
     "metadata": {},
     "output_type": "execute_result"
    }
   ],
   "source": [
    "sum(train_sample)\n",
    "## 510"
   ]
  },
  {
   "cell_type": "code",
   "execution_count": 280,
   "metadata": {},
   "outputs": [
    {
     "data": {
      "text/plain": [
       "582"
      ]
     },
     "execution_count": 280,
     "metadata": {},
     "output_type": "execute_result"
    }
   ],
   "source": [
    "sum(test_sample)\n",
    "## 582"
   ]
  },
  {
   "cell_type": "markdown",
   "metadata": {},
   "source": [
    "- at first we fit a linear regression model without any regularization\n",
    "- we need to know the length of each day"
   ]
  },
  {
   "cell_type": "code",
   "execution_count": 45,
   "metadata": {},
   "outputs": [],
   "source": [
    "## coutn the number of signals of every day\n",
    "def count_daily_num(x, period):\n",
    "    data = load(x)\n",
    "    return np.floor(sum(data[\"good\"])/period)"
   ]
  },
  {
   "cell_type": "code",
   "execution_count": 46,
   "metadata": {},
   "outputs": [],
   "source": [
    "os.makedirs(HEAD_PATH+\"/daily num\", exist_ok=True)"
   ]
  },
  {
   "cell_type": "code",
   "execution_count": 47,
   "metadata": {},
   "outputs": [
    {
     "name": "stdout",
     "output_type": "stream",
     "text": [
      "Wall time: 9min 33s\n"
     ]
    }
   ],
   "source": [
    "%%time\n",
    "for product in product_list:\n",
    "    file_list = list(map(lambda x: DATA_PATH+product+\"/\"+x, os.listdir(DATA_PATH + product)))\n",
    "    daily_num = pd.Series(parLapply(CORE_NUM, file_list, count_daily_num, period=period))\n",
    "    save(daily_num, HEAD_PATH+\"/daily num/\"+product+\".pkl\")\n",
    "    \n",
    "# Wall time: 9min 33s\n"
   ]
  },
  {
   "cell_type": "markdown",
   "metadata": {},
   "source": [
    "- we don't need to do it every time"
   ]
  },
  {
   "cell_type": "code",
   "execution_count": 281,
   "metadata": {},
   "outputs": [],
   "source": [
    "daily_num = load(HEAD_PATH+\"/daily num/\"+product+\".pkl\")"
   ]
  },
  {
   "cell_type": "markdown",
   "metadata": {},
   "source": [
    "- we get the number of independent training samples"
   ]
  },
  {
   "cell_type": "code",
   "execution_count": 282,
   "metadata": {},
   "outputs": [
    {
     "data": {
      "text/plain": [
       "1069.0"
      ]
     },
     "execution_count": 282,
     "metadata": {},
     "output_type": "execute_result"
    }
   ],
   "source": [
    "n_train = sum(daily_num[train_sample])\n",
    "n_train\n",
    "## 1069.0"
   ]
  },
  {
   "cell_type": "markdown",
   "metadata": {},
   "source": [
    "- we can see there there are not many samples\n",
    "- but they are independent signals because we choose one sample out of every period samples\n",
    "- for every tick, we predict the price return of next 4096 ticks\n",
    "- so only 1/4096 of them are independent"
   ]
  },
  {
   "cell_type": "markdown",
   "metadata": {},
   "source": [
    "- number of signals"
   ]
  },
  {
   "cell_type": "code",
   "execution_count": 283,
   "metadata": {},
   "outputs": [
    {
     "data": {
      "text/plain": [
       "45"
      ]
     },
     "execution_count": 283,
     "metadata": {},
     "output_type": "execute_result"
    }
   ],
   "source": [
    "n_signal = len(signal_list)\n",
    "n_signal\n",
    "## 45"
   ]
  },
  {
   "cell_type": "code",
   "execution_count": 73,
   "metadata": {},
   "outputs": [],
   "source": [
    "## construct the signal matrix\n",
    "## we want to put multiple signals into a matrix\n",
    "def get_sample_signal(good_night_files, sample, product, signal_list, period, daily_num):\n",
    "    n_samples = sum(daily_num[sample]) ## tottal number of samples\n",
    "    n_days = sum(sample)  ## number of days\n",
    "    n_signal = len(signal_list) ## number of signals, the matrix would be n_samples*n_signal\n",
    "    all_signal =  np.ndarray(shape=(int(n_samples),n_signal))\n",
    "    cur = 0\n",
    "    for file in good_night_files[sample]:\n",
    "        #data = load(HEAD_PATH+\"/pkl tick/\"+product+\"/\"+file)\n",
    "        good = load(SAVE_PATH + \"/good pkl/\" + product +\"/\"+file)\n",
    "        chosen = (np.arange(sum(good))+1) % period==0\n",
    "        n_chosen = sum(chosen)\n",
    "        for i in range(n_signal):\n",
    "            signal_name = signal_list[i]\n",
    "            S = load(SAVE_PATH+\"/tmp pkl/\"+product+\"/\"+signal_name+\"/\"+file)\n",
    "            S = S[good]\n",
    "            signal = S[(np.arange(len(S))+1) % period == 0]\n",
    "            signal[np.isnan(signal)] = 0 ## the ret.cor has some bad records\n",
    "            signal[np.isinf(signal)] = 0 ## the ret.cor has some bad records\n",
    "            all_signal[cur:(cur+n_chosen),i] = signal\n",
    "        cur = cur+n_chosen\n",
    "    all_signal = pd.DataFrame(all_signal, columns=signal_list)\n",
    "    return all_signal"
   ]
  },
  {
   "cell_type": "markdown",
   "metadata": {},
   "source": [
    "- Now we get the train and test samples"
   ]
  },
  {
   "cell_type": "code",
   "execution_count": 63,
   "metadata": {},
   "outputs": [],
   "source": [
    "os.makedirs(HEAD_PATH+\"/train test mat/\", exist_ok=True)"
   ]
  },
  {
   "cell_type": "code",
   "execution_count": 74,
   "metadata": {},
   "outputs": [
    {
     "name": "stdout",
     "output_type": "stream",
     "text": [
      "IF\n",
      "IH\n",
      "IC\n",
      "T\n",
      "TF\n",
      "Wall time: 31min 25s\n"
     ]
    }
   ],
   "source": [
    "%%time\n",
    "for product in product_list:\n",
    "    print(product)\n",
    "    daily_num = load(HEAD_PATH+\"/daily num/\"+product+\".pkl\")\n",
    "    train_mat = get_sample_signal(all_dates, train_sample, product, \n",
    "                                  np.append(signal_list, [\"ret.\"+str(period),  \"ret.\"+str(period)+\".001\",\"ret.\"+str(period)+\".002\",\"ret.\"+str(period)+\".004\" ]), \n",
    "                                  period, daily_num)\n",
    "    os.makedirs(HEAD_PATH+\"/train test mat/\"+product, exist_ok=True)\n",
    "    save(train_mat, HEAD_PATH+\"/train test mat/\"+product+\".train.mat.pkl\")\n",
    "    \n",
    "# IF\n",
    "# IH\n",
    "# IC\n",
    "# T\n",
    "# TF\n",
    "# Wall time: 31min 25s"
   ]
  },
  {
   "cell_type": "code",
   "execution_count": 284,
   "metadata": {},
   "outputs": [],
   "source": [
    "import  sklearn.preprocessing"
   ]
  },
  {
   "cell_type": "code",
   "execution_count": 285,
   "metadata": {},
   "outputs": [
    {
     "data": {
      "text/plain": [
       "Index(['trade.imb.4096', 'total.trade.imb.4096', 'nr.4096', 'dbook.4096',\n",
       "       'range.pos.4096', 'price.osci.4096', 'ma.dif.10.4096', 'kdj.k.4096',\n",
       "       'kdj.j.4096', 'trade.imb.range.4096', 'total.trade.imb.range.4096',\n",
       "       'nr.range.4096', 'dbook.range.4096', 'range.pos.range.4096',\n",
       "       'price.osci.range.4096', 'ma.dif.10.range.4096', 'kdj.k.range.4096',\n",
       "       'kdj.j.range.4096', 'trade.imb.std.4096', 'total.trade.imb.std.4096',\n",
       "       'nr.std.4096', 'dbook.std.4096', 'range.pos.std.4096',\n",
       "       'price.osci.std.4096', 'ma.dif.10.std.4096', 'kdj.k.std.4096',\n",
       "       'kdj.j.std.4096', 'trade.imb.volume.open.ratio.4096',\n",
       "       'total.trade.imb.volume.open.ratio.4096', 'nr.volume.open.ratio.4096',\n",
       "       'dbook.volume.open.ratio.4096', 'range.pos.volume.open.ratio.4096',\n",
       "       'price.osci.volume.open.ratio.4096', 'ma.dif.10.volume.open.ratio.4096',\n",
       "       'kdj.k.volume.open.ratio.4096', 'kdj.j.volume.open.ratio.4096',\n",
       "       'trade.imb.trend.index.4096', 'total.trade.imb.trend.index.4096',\n",
       "       'nr.trend.index.4096', 'dbook.trend.index.4096',\n",
       "       'range.pos.trend.index.4096', 'price.osci.trend.index.4096',\n",
       "       'ma.dif.10.trend.index.4096', 'kdj.k.trend.index.4096',\n",
       "       'kdj.j.trend.index.4096', 'ret.4096', 'ret.4096.001', 'ret.4096.002',\n",
       "       'ret.4096.004'],\n",
       "      dtype='object')"
      ]
     },
     "execution_count": 285,
     "metadata": {},
     "output_type": "execute_result"
    }
   ],
   "source": [
    "ori_mat = load(HEAD_PATH+\"/train test mat/\"+product_list[0]+\".train.mat.pkl\")\n",
    "ori_mat.columns"
   ]
  },
  {
   "cell_type": "markdown",
   "metadata": {},
   "source": [
    "- we add the y signal"
   ]
  },
  {
   "cell_type": "markdown",
   "metadata": {},
   "source": [
    "- we can check the names"
   ]
  },
  {
   "cell_type": "code",
   "execution_count": 286,
   "metadata": {},
   "outputs": [
    {
     "name": "stdout",
     "output_type": "stream",
     "text": [
      "IF (2045, 49)\n",
      "IH (1431, 49)\n",
      "IC (2048, 49)\n"
     ]
    }
   ],
   "source": [
    "train_mat = load(HEAD_PATH+\"/train test mat/\"+product_list[0]+\".train.mat.pkl\")\n",
    "train_mat = pd.DataFrame(data=sklearn.preprocessing.scale(train_mat, with_mean=False), columns=ori_mat.columns)\n",
    "print(product_list[0], train_mat.shape)\n",
    "for product in product_list[1:3]:\n",
    "    cur_mat = load(HEAD_PATH+\"/train test mat/\"+product+\".train.mat.pkl\")\n",
    "    ## standardize the matrix before combination, with_mean=False,we don't use intercept\n",
    "    cur_mat = pd.DataFrame(data=sklearn.preprocessing.scale(cur_mat, with_mean=False), columns=ori_mat.columns)\n",
    "    print(product, cur_mat.shape)\n",
    "    train_mat = train_mat.append(cur_mat)\n",
    "    \n",
    "# IF (2045, 49)\n",
    "# IH (1431, 49)\n",
    "# IC (2048, 49)\n"
   ]
  },
  {
   "cell_type": "code",
   "execution_count": 287,
   "metadata": {
    "scrolled": true
   },
   "outputs": [
    {
     "data": {
      "text/plain": [
       "(5524, 49)"
      ]
     },
     "execution_count": 287,
     "metadata": {},
     "output_type": "execute_result"
    }
   ],
   "source": [
    "train_mat.shape\n",
    "\n",
    "# (5524, 49)"
   ]
  },
  {
   "cell_type": "markdown",
   "metadata": {},
   "source": [
    "- at first we can fit a linear regression to calcualte t-statistics "
   ]
  },
  {
   "cell_type": "code",
   "execution_count": 288,
   "metadata": {},
   "outputs": [],
   "source": [
    "import statsmodels.formula.api as smf"
   ]
  },
  {
   "cell_type": "code",
   "execution_count": 291,
   "metadata": {},
   "outputs": [
    {
     "data": {
      "text/plain": [
       "\"train_mat['ret.4096'] ~ train_mat['nr.4096'] + 0\""
      ]
     },
     "execution_count": 291,
     "metadata": {},
     "output_type": "execute_result"
    }
   ],
   "source": [
    "formula = \"train_mat['ret.\"+str(period)+\"'] ~ train_mat['nr.\"+str(period)+\"'] + 0\"\n",
    "formula\n",
    "## \"train_mat['ret.4096'] ~ train_mat['nr.4096'] + 0\""
   ]
  },
  {
   "cell_type": "code",
   "execution_count": 292,
   "metadata": {},
   "outputs": [
    {
     "name": "stdout",
     "output_type": "stream",
     "text": [
      "                                  OLS Regression Results                                  \n",
      "==========================================================================================\n",
      "Dep. Variable:     train_mat['ret.4096']   R-squared (uncentered):                   0.000\n",
      "Model:                               OLS   Adj. R-squared (uncentered):             -0.000\n",
      "Method:                    Least Squares   F-statistic:                            0.08203\n",
      "Date:                   Fri, 17 Jul 2020   Prob (F-statistic):                       0.775\n",
      "Time:                           08:43:43   Log-Likelihood:                         -7839.7\n",
      "No. Observations:                   5524   AIC:                                  1.568e+04\n",
      "Df Residuals:                       5523   BIC:                                  1.569e+04\n",
      "Df Model:                              1                                                  \n",
      "Covariance Type:               nonrobust                                                  \n",
      "========================================================================================\n",
      "                           coef    std err          t      P>|t|      [0.025      0.975]\n",
      "----------------------------------------------------------------------------------------\n",
      "train_mat['nr.4096']     0.0038      0.013      0.286      0.775      -0.022       0.030\n",
      "==============================================================================\n",
      "Omnibus:                     1941.545   Durbin-Watson:                   2.079\n",
      "Prob(Omnibus):                  0.000   Jarque-Bera (JB):            48211.212\n",
      "Skew:                          -1.117   Prob(JB):                         0.00\n",
      "Kurtosis:                      17.299   Cond. No.                         1.00\n",
      "==============================================================================\n",
      "\n",
      "Warnings:\n",
      "[1] Standard Errors assume that the covariance matrix of the errors is correctly specified.\n"
     ]
    }
   ],
   "source": [
    "fit_one_lm = smf.ols(formula=formula, data=train_mat[train_mat.columns[:-2]]).fit()\n",
    "print(fit_one_lm.summary())\n",
    "\n",
    "#    OLS Regression Results                                  \n",
    "# ==========================================================================================\n",
    "# Dep. Variable:     train_mat['ret.4096']   R-squared (uncentered):                   0.000\n",
    "# Model:                               OLS   Adj. R-squared (uncentered):             -0.000\n",
    "# Method:                    Least Squares   F-statistic:                            0.08203\n",
    "# Date:                   Fri, 17 Jul 2020   Prob (F-statistic):                       0.775\n",
    "# Time:                           08:43:43   Log-Likelihood:                         -7839.7\n",
    "# No. Observations:                   5524   AIC:                                  1.568e+04\n",
    "# Df Residuals:                       5523   BIC:                                  1.569e+04\n",
    "# Df Model:                              1                                                  \n",
    "# Covariance Type:               nonrobust                                                  \n",
    "# ========================================================================================\n",
    "#                            coef    std err          t      P>|t|      [0.025      0.975]\n",
    "# ----------------------------------------------------------------------------------------\n",
    "# train_mat['nr.4096']     0.0038      0.013      0.286      0.775      -0.022       0.030\n",
    "# ==============================================================================\n",
    "# Omnibus:                     1941.545   Durbin-Watson:                   2.079\n",
    "# Prob(Omnibus):                  0.000   Jarque-Bera (JB):            48211.212\n",
    "# Skew:                          -1.117   Prob(JB):                         0.00\n",
    "# Kurtosis:                      17.299   Cond. No.                         1.00\n",
    "# ==============================================================================\n",
    "\n",
    "# Warnings:\n",
    "# [1] Standard Errors assume that the covariance matrix of the errors is correctly specified."
   ]
  },
  {
   "cell_type": "code",
   "execution_count": 293,
   "metadata": {},
   "outputs": [],
   "source": [
    "## function to calculate t-stat\n",
    "def get_t_value(train_mat, signal, response):\n",
    "    beta = np.sum(train_mat[signal]*train_mat[response])/sum(train_mat[signal]**2) ## regressio coef\n",
    "    sigma = np.sqrt(np.sum((train_mat[signal]*beta-train_mat[response])**2) / (len(train_mat)-1)) \n",
    "    v = np.sqrt(np.sum(train_mat[signal]**2)) ## sigma/v is the standard devication of beta_hat\n",
    "    return beta/sigma*v"
   ]
  },
  {
   "cell_type": "markdown",
   "metadata": {},
   "source": [
    "- we can see our function is correct\n",
    "- now let's use this function to calcualte all t-stat of each variable"
   ]
  },
  {
   "cell_type": "code",
   "execution_count": 294,
   "metadata": {},
   "outputs": [
    {
     "data": {
      "text/plain": [
       "[-1.1220892965224458,\n",
       " -1.3718134821680819,\n",
       " 0.28640750256501585,\n",
       " -0.5313382267966861,\n",
       " 0.24459535805302515,\n",
       " 0.48803080689261136,\n",
       " -0.4277925475449082,\n",
       " 0.7599254494758654,\n",
       " 0.3194593929612323,\n",
       " -2.6495300025412276,\n",
       " -2.677901458623847,\n",
       " -1.4379553006711998,\n",
       " -1.0222819187780277,\n",
       " -0.8562620718346114,\n",
       " -0.31265447995105106,\n",
       " -2.091041091157486,\n",
       " -0.6466068690265188,\n",
       " -0.9990674179312914,\n",
       " -2.7959525884699445,\n",
       " -2.748721824127822,\n",
       " -1.3228002464811608,\n",
       " -1.5686403928538217,\n",
       " -0.9483095618484573,\n",
       " -0.05604445539261336,\n",
       " -2.0327162170128403,\n",
       " -0.522608946166791,\n",
       " -0.9393516639511645,\n",
       " -1.3661090276432317,\n",
       " -1.2287410642157575,\n",
       " -0.4082021785211094,\n",
       " -0.6019610606801686,\n",
       " -0.028817989666848887,\n",
       " 0.19334908026230144,\n",
       " -1.1324541736451117,\n",
       " 0.5564800411127467,\n",
       " 0.1773190492168976,\n",
       " -1.543038433069078,\n",
       " -1.595231409606205,\n",
       " 0.5068212917007838,\n",
       " -0.11531856590594204,\n",
       " 0.6178846408027762,\n",
       " 0.8361862257544428,\n",
       " -0.453536842592083,\n",
       " 0.7946987323546352,\n",
       " 0.6613019091416268]"
      ]
     },
     "execution_count": 294,
     "metadata": {},
     "output_type": "execute_result"
    }
   ],
   "source": [
    "signal_list = np.array(signal_list)\n",
    "t_stat = list(map(lambda x: get_t_value(train_mat=train_mat, signal=x, response=\"ret.\"+str(period)), signal_list))\n",
    "t_stat\n",
    "\n",
    "# [-1.1220892965224458,\n",
    "#  -1.3718134821680819,\n",
    "#  0.28640750256501585,\n",
    "#  -0.5313382267966861,\n",
    "#  0.24459535805302515,\n",
    "#  0.48803080689261136,\n",
    "#  -0.4277925475449082,\n",
    "#  0.7599254494758654,\n",
    "#  0.3194593929612323,\n",
    "#  -2.6495300025412276,\n",
    "#  -2.677901458623847,\n",
    "#  -1.4379553006711998,\n",
    "#  -1.0222819187780277,\n",
    "#  -0.8562620718346114,\n",
    "#  -0.31265447995105106,\n",
    "#  -2.091041091157486,\n",
    "#  -0.6466068690265188,\n",
    "#  -0.9990674179312914,\n",
    "#  -2.7959525884699445,\n",
    "#  -2.748721824127822,\n",
    "#  -1.3228002464811608,\n",
    "#  -1.5686403928538217,\n",
    "#  -0.9483095618484573,\n",
    "#  -0.05604445539261336,\n",
    "#  -2.0327162170128403,\n",
    "#  -0.522608946166791,\n",
    "#  -0.9393516639511645,\n",
    "#  -1.3661090276432317,\n",
    "#  -1.2287410642157575,\n",
    "#  -0.4082021785211094,\n",
    "#  -0.6019610606801686,\n",
    "#  -0.028817989666848887,\n",
    "#  0.19334908026230144,\n",
    "#  -1.1324541736451117,\n",
    "#  0.5564800411127467,\n",
    "#  0.1773190492168976,\n",
    "#  -1.543038433069078,\n",
    "#  -1.595231409606205,\n",
    "#  0.5068212917007838,\n",
    "#  -0.11531856590594204,\n",
    "#  0.6178846408027762,\n",
    "#  0.8361862257544428,\n",
    "#  -0.453536842592083,\n",
    "#  0.7946987323546352,\n",
    "#  0.6613019091416268]"
   ]
  },
  {
   "cell_type": "markdown",
   "metadata": {},
   "source": [
    "- if we use t.stat value of 2 to filter out good signals, we have"
   ]
  },
  {
   "cell_type": "code",
   "execution_count": 295,
   "metadata": {},
   "outputs": [
    {
     "data": {
      "text/plain": [
       "array(['trade.imb.range.4096', 'total.trade.imb.range.4096',\n",
       "       'ma.dif.10.range.4096', 'trade.imb.std.4096',\n",
       "       'total.trade.imb.std.4096', 'ma.dif.10.std.4096'], dtype='<U38')"
      ]
     },
     "execution_count": 295,
     "metadata": {},
     "output_type": "execute_result"
    }
   ],
   "source": [
    "signal_list[np.where(np.abs(t_stat)>2)]\n",
    "# array(['dbook.4096', 'dbook.range.4096', 'range.pos.range.4096',\n",
    "#        'dbook.std.4096', 'range.pos.std.4096',\n",
    "#        'dbook.volume.open.ratio.4096', 'dbook.trend.index.4096'],\n",
    "#       dtype='<U33')"
   ]
  },
  {
   "cell_type": "code",
   "execution_count": 296,
   "metadata": {},
   "outputs": [
    {
     "data": {
      "text/plain": [
       "array(['trade.imb.range.4096', 'total.trade.imb.range.4096',\n",
       "       'ma.dif.10.range.4096', 'trade.imb.std.4096',\n",
       "       'total.trade.imb.std.4096', 'ma.dif.10.std.4096'], dtype='<U38')"
      ]
     },
     "execution_count": 296,
     "metadata": {},
     "output_type": "execute_result"
    }
   ],
   "source": [
    "good_index = signal_list[np.abs(t_stat)>2]\n",
    "good_index\n",
    "# array(['trade.imb.range.4096', 'total.trade.imb.range.4096',\n",
    "#        'ma.dif.10.range.4096', 'trade.imb.std.4096',\n",
    "#        'total.trade.imb.std.4096', 'ma.dif.10.std.4096'], dtype='<U38')"
   ]
  },
  {
   "cell_type": "markdown",
   "metadata": {},
   "source": [
    "- but we know a single signal works well doesn't mean it works well when combined with other signals\n",
    "- signals have correlation, if 10 highly correlated signals together would not make prediction better"
   ]
  },
  {
   "cell_type": "code",
   "execution_count": 297,
   "metadata": {},
   "outputs": [
    {
     "data": {
      "text/html": [
       "<div>\n",
       "<style scoped>\n",
       "    .dataframe tbody tr th:only-of-type {\n",
       "        vertical-align: middle;\n",
       "    }\n",
       "\n",
       "    .dataframe tbody tr th {\n",
       "        vertical-align: top;\n",
       "    }\n",
       "\n",
       "    .dataframe thead th {\n",
       "        text-align: right;\n",
       "    }\n",
       "</style>\n",
       "<table border=\"1\" class=\"dataframe\">\n",
       "  <thead>\n",
       "    <tr style=\"text-align: right;\">\n",
       "      <th></th>\n",
       "      <th>trade.imb.range.4096</th>\n",
       "      <th>total.trade.imb.range.4096</th>\n",
       "      <th>ma.dif.10.range.4096</th>\n",
       "      <th>trade.imb.std.4096</th>\n",
       "      <th>total.trade.imb.std.4096</th>\n",
       "      <th>ma.dif.10.std.4096</th>\n",
       "    </tr>\n",
       "  </thead>\n",
       "  <tbody>\n",
       "    <tr>\n",
       "      <th>trade.imb.range.4096</th>\n",
       "      <td>1.000000</td>\n",
       "      <td>0.894080</td>\n",
       "      <td>0.429414</td>\n",
       "      <td>0.970139</td>\n",
       "      <td>0.868005</td>\n",
       "      <td>0.421171</td>\n",
       "    </tr>\n",
       "    <tr>\n",
       "      <th>total.trade.imb.range.4096</th>\n",
       "      <td>0.894080</td>\n",
       "      <td>1.000000</td>\n",
       "      <td>0.565590</td>\n",
       "      <td>0.860695</td>\n",
       "      <td>0.970430</td>\n",
       "      <td>0.562286</td>\n",
       "    </tr>\n",
       "    <tr>\n",
       "      <th>ma.dif.10.range.4096</th>\n",
       "      <td>0.429414</td>\n",
       "      <td>0.565590</td>\n",
       "      <td>1.000000</td>\n",
       "      <td>0.438599</td>\n",
       "      <td>0.595579</td>\n",
       "      <td>0.983326</td>\n",
       "    </tr>\n",
       "    <tr>\n",
       "      <th>trade.imb.std.4096</th>\n",
       "      <td>0.970139</td>\n",
       "      <td>0.860695</td>\n",
       "      <td>0.438599</td>\n",
       "      <td>1.000000</td>\n",
       "      <td>0.890591</td>\n",
       "      <td>0.427867</td>\n",
       "    </tr>\n",
       "    <tr>\n",
       "      <th>total.trade.imb.std.4096</th>\n",
       "      <td>0.868005</td>\n",
       "      <td>0.970430</td>\n",
       "      <td>0.595579</td>\n",
       "      <td>0.890591</td>\n",
       "      <td>1.000000</td>\n",
       "      <td>0.594257</td>\n",
       "    </tr>\n",
       "    <tr>\n",
       "      <th>ma.dif.10.std.4096</th>\n",
       "      <td>0.421171</td>\n",
       "      <td>0.562286</td>\n",
       "      <td>0.983326</td>\n",
       "      <td>0.427867</td>\n",
       "      <td>0.594257</td>\n",
       "      <td>1.000000</td>\n",
       "    </tr>\n",
       "  </tbody>\n",
       "</table>\n",
       "</div>"
      ],
      "text/plain": [
       "                            trade.imb.range.4096  total.trade.imb.range.4096  \\\n",
       "trade.imb.range.4096                    1.000000                    0.894080   \n",
       "total.trade.imb.range.4096              0.894080                    1.000000   \n",
       "ma.dif.10.range.4096                    0.429414                    0.565590   \n",
       "trade.imb.std.4096                      0.970139                    0.860695   \n",
       "total.trade.imb.std.4096                0.868005                    0.970430   \n",
       "ma.dif.10.std.4096                      0.421171                    0.562286   \n",
       "\n",
       "                            ma.dif.10.range.4096  trade.imb.std.4096  \\\n",
       "trade.imb.range.4096                    0.429414            0.970139   \n",
       "total.trade.imb.range.4096              0.565590            0.860695   \n",
       "ma.dif.10.range.4096                    1.000000            0.438599   \n",
       "trade.imb.std.4096                      0.438599            1.000000   \n",
       "total.trade.imb.std.4096                0.595579            0.890591   \n",
       "ma.dif.10.std.4096                      0.983326            0.427867   \n",
       "\n",
       "                            total.trade.imb.std.4096  ma.dif.10.std.4096  \n",
       "trade.imb.range.4096                        0.868005            0.421171  \n",
       "total.trade.imb.range.4096                  0.970430            0.562286  \n",
       "ma.dif.10.range.4096                        0.595579            0.983326  \n",
       "trade.imb.std.4096                          0.890591            0.427867  \n",
       "total.trade.imb.std.4096                    1.000000            0.594257  \n",
       "ma.dif.10.std.4096                          0.594257            1.000000  "
      ]
     },
     "execution_count": 297,
     "metadata": {},
     "output_type": "execute_result"
    }
   ],
   "source": [
    "train_mat[good_index].corr()\n",
    "\n",
    "#  trade.imb.range.4096 \ttotal.trade.imb.range.4096 \tma.dif.10.range.4096 \ttrade.imb.std.4096 \ttotal.trade.imb.std.4096 \tma.dif.10.std.4096\n",
    "# trade.imb.range.4096 \t1.000000 \t0.894080 \t0.429414 \t0.970139 \t0.868005 \t0.421171\n",
    "# total.trade.imb.range.4096 \t0.894080 \t1.000000 \t0.565590 \t0.860695 \t0.970430 \t0.562286\n",
    "# ma.dif.10.range.4096 \t0.429414 \t0.565590 \t1.000000 \t0.438599 \t0.595579 \t0.983326\n",
    "# trade.imb.std.4096 \t0.970139 \t0.860695 \t0.438599 \t1.000000 \t0.890591 \t0.427867\n",
    "# total.trade.imb.std.4096 \t0.868005 \t0.970430 \t0.595579 \t0.890591 \t1.000000 \t0.594257\n",
    "# ma.dif.10.std.4096 \t0.421171 \t0.562286 \t0.983326 \t0.427867 \t0.594257 \t1.000000"
   ]
  },
  {
   "cell_type": "code",
   "execution_count": 97,
   "metadata": {},
   "outputs": [],
   "source": [
    "corr = train_mat[good_index].corr()"
   ]
  },
  {
   "cell_type": "code",
   "execution_count": 98,
   "metadata": {},
   "outputs": [
    {
     "data": {
      "image/png": "[encoded data removed]",
      "text/plain": [
       "<Figure size 1152x720 with 2 Axes>"
      ]
     },
     "metadata": {
      "needs_background": "light"
     },
     "output_type": "display_data"
    }
   ],
   "source": [
    "import seaborn as sns\n",
    "plt.figure(figsize=(16,10)) \n",
    "sns.heatmap(corr, xticklabels=corr.columns, yticklabels=corr.columns);"
   ]
  },
  {
   "cell_type": "markdown",
   "metadata": {},
   "source": [
    "- we can see that some of them has very high correlation\n",
    "\n",
    "- we can add each signal one by one to a model and check how the performance envolves"
   ]
  },
  {
   "cell_type": "code",
   "execution_count": 298,
   "metadata": {},
   "outputs": [
    {
     "data": {
      "text/plain": [
       "18"
      ]
     },
     "execution_count": 298,
     "metadata": {},
     "output_type": "execute_result"
    }
   ],
   "source": [
    "np.argmax(np.abs(t_stat))\n",
    "## [1] 18"
   ]
  },
  {
   "cell_type": "code",
   "execution_count": 299,
   "metadata": {},
   "outputs": [
    {
     "data": {
      "text/plain": [
       "'trade.imb.std.4096'"
      ]
     },
     "execution_count": 299,
     "metadata": {},
     "output_type": "execute_result"
    }
   ],
   "source": [
    "signal_list[np.argmax(np.abs(t_stat))]\n",
    "## 'trade.imb.std.4096'"
   ]
  },
  {
   "cell_type": "markdown",
   "metadata": {},
   "source": [
    "- the first signal is the signal dbook.std.4096\n",
    "\n",
    "\n",
    "- to select the second signal, we can use forward selction"
   ]
  },
  {
   "cell_type": "code",
   "execution_count": 300,
   "metadata": {},
   "outputs": [],
   "source": [
    "import statsmodels.formula.api as smf\n",
    "\n",
    "## forward selection of signals\n",
    "def forward_selected(data, response):\n",
    "    \"\"\"Linear model designed by forward selection.\n",
    "\n",
    "    Parameters:\n",
    "    -----------\n",
    "    data : pandas DataFrame with all possible predictors and response\n",
    "\n",
    "    response: string, name of response column in data\n",
    "\n",
    "    Returns:\n",
    "    --------\n",
    "    model: an \"optimal\" fitted statsmodels linear model\n",
    "           with an intercept\n",
    "           selected by forward selection\n",
    "           evaluated by adjusted R-squared\n",
    "    \"\"\"\n",
    "    remaining = set(data.columns)\n",
    "    remaining.remove(response)\n",
    "    selected = []\n",
    "    current_score, best_new_score = 0.0, 0.0\n",
    "    chosen_signals = []\n",
    "    while remaining and current_score == best_new_score:\n",
    "        scores_with_candidates = []\n",
    "        for candidate in remaining:\n",
    "            formula = \"{} ~ {} - 1\".format(\"data['\"+response+\"']\",\n",
    "                                           ' + '.join(selected + [\"data['\"+candidate+\"']\"]))\n",
    "            score = smf.ols(formula, data).fit().rsquared_adj\n",
    "            scores_with_candidates.append((score, candidate))\n",
    "        scores_with_candidates.sort()\n",
    "        best_new_score, best_candidate = scores_with_candidates.pop()\n",
    "        if current_score < best_new_score:\n",
    "            remaining.remove(best_candidate)\n",
    "            selected.append(\"data['\"+best_candidate+\"']\")\n",
    "            current_score = best_new_score\n",
    "            chosen_signals.append(best_candidate)\n",
    "    formula = \"{} ~ {} - 1\".format(\"data['\"+response+\"']\",\n",
    "                                   ' + '.join(selected))\n",
    "    model = smf.ols(formula, data).fit()\n",
    "    return OrderedDict([(\"model\", model), (\"chosen.signals\", chosen_signals)])"
   ]
  },
  {
   "cell_type": "code",
   "execution_count": 301,
   "metadata": {},
   "outputs": [],
   "source": [
    "result = forward_selected(train_mat[train_mat.columns[:-3]], \"ret.\"+str(period))"
   ]
  },
  {
   "cell_type": "code",
   "execution_count": 302,
   "metadata": {},
   "outputs": [],
   "source": [
    "save(result, HEAD_PATH+\"/index_all_forwatd_select.pkl\")"
   ]
  },
  {
   "cell_type": "code",
   "execution_count": 303,
   "metadata": {},
   "outputs": [],
   "source": [
    "result = load(HEAD_PATH+\"/index_all_forwatd_select.pkl\");"
   ]
  },
  {
   "cell_type": "code",
   "execution_count": 304,
   "metadata": {},
   "outputs": [
    {
     "data": {
      "text/plain": [
       "\"data['ret.4096'] ~ data['trade.imb.std.4096'] + data['trade.imb.volume.open.ratio.4096'] + data['kdj.k.trend.index.4096'] + data['kdj.j.range.4096'] + data['price.osci.std.4096'] + data['ma.dif.10.std.4096'] + data['price.osci.4096'] + data['total.trade.imb.range.4096'] + data['price.osci.range.4096'] + data['kdj.j.std.4096'] + data['trade.imb.range.4096'] - 1\""
      ]
     },
     "execution_count": 304,
     "metadata": {},
     "output_type": "execute_result"
    }
   ],
   "source": [
    "result[\"model\"].model.formula\n",
    "# \"data['ret.4096'] ~ data['trade.imb.std.4096'] + data['trade.imb.volume.open.ratio.4096'] + data['kdj.k.trend.index.4096'] + data['kdj.j.range.4096'] + data['price.osci.std.4096'] + data['ma.dif.10.std.4096'] + data['price.osci.4096'] + data['total.trade.imb.range.4096'] + data['price.osci.range.4096'] + data['kdj.j.std.4096'] + data['trade.imb.range.4096'] - 1\""
   ]
  },
  {
   "cell_type": "code",
   "execution_count": 305,
   "metadata": {},
   "outputs": [
    {
     "data": {
      "text/plain": [
       "['trade.imb.std.4096',\n",
       " 'trade.imb.volume.open.ratio.4096',\n",
       " 'kdj.k.trend.index.4096',\n",
       " 'kdj.j.range.4096',\n",
       " 'price.osci.std.4096',\n",
       " 'ma.dif.10.std.4096',\n",
       " 'price.osci.4096',\n",
       " 'total.trade.imb.range.4096',\n",
       " 'price.osci.range.4096',\n",
       " 'kdj.j.std.4096',\n",
       " 'trade.imb.range.4096']"
      ]
     },
     "execution_count": 305,
     "metadata": {},
     "output_type": "execute_result"
    }
   ],
   "source": [
    "result[\"chosen.signals\"]\n",
    "\n",
    "# ['trade.imb.std.4096',\n",
    "#  'trade.imb.volume.open.ratio.4096',\n",
    "#  'kdj.k.trend.index.4096',\n",
    "#  'kdj.j.range.4096',\n",
    "#  'price.osci.std.4096',\n",
    "#  'ma.dif.10.std.4096',\n",
    "#  'price.osci.4096',\n",
    "#  'total.trade.imb.range.4096',\n",
    "#  'price.osci.range.4096',\n",
    "#  'kdj.j.std.4096',\n",
    "#  'trade.imb.range.4096']"
   ]
  },
  {
   "cell_type": "markdown",
   "metadata": {},
   "source": [
    "- now we can check each model to see how the pnl evolves\n",
    "\n",
    "\n",
    "- we can also get the test signals\n",
    "\n",
    "\n",
    "- we can get the test samples first"
   ]
  },
  {
   "cell_type": "code",
   "execution_count": 108,
   "metadata": {},
   "outputs": [
    {
     "name": "stdout",
     "output_type": "stream",
     "text": [
      "IF\n",
      "IH\n",
      "IC\n",
      "T\n",
      "TF\n",
      "Wall time: 56min 30s\n"
     ]
    }
   ],
   "source": [
    "%%time\n",
    "for product in product_list:\n",
    "    print(product)\n",
    "    daily_num = load(HEAD_PATH+\"/daily num/\"+product+\".pkl\")\n",
    "    test_mat = get_sample_signal(all_dates, test_sample, product, \n",
    "                                  np.append(signal_list, [\"ret.\"+str(period),  \"ret.\"+str(period)+\".001\",\"ret.\"+str(period)+\".002\",\"ret.\"+str(period)+\".004\"]), \n",
    "                                  period, daily_num)\n",
    "    os.makedirs(HEAD_PATH+\"/train test mat/\"+product, exist_ok=True)\n",
    "    save(test_mat, HEAD_PATH+\"/train test mat/\"+product+\".test.mat.pkl\")\n",
    "    \n",
    "# IF\n",
    "# IH\n",
    "# IC\n",
    "# T\n",
    "# TF\n",
    "# Wall time: 56min 30s\n",
    "\n"
   ]
  },
  {
   "cell_type": "markdown",
   "metadata": {},
   "source": [
    "- now let's fit the first model"
   ]
  },
  {
   "cell_type": "code",
   "execution_count": 306,
   "metadata": {},
   "outputs": [
    {
     "data": {
      "text/plain": [
       "\"train_mat['ret.4096'] ~ train_mat['trade.imb.std.4096']+0\""
      ]
     },
     "execution_count": 306,
     "metadata": {},
     "output_type": "execute_result"
    }
   ],
   "source": [
    "first_signal = \"trade.imb.std.\"+str(period)\n",
    "y_signal = \"ret.\"+str(period)\n",
    "formula = \"train_mat['\" + y_signal+\"'] ~ train_mat['\"+first_signal+\"']+0\"\n",
    "formula\n",
    "\n",
    "# \"train_mat['ret.4096'] ~ train_mat[''trade.imb.std.4096']+0\""
   ]
  },
  {
   "cell_type": "code",
   "execution_count": 307,
   "metadata": {},
   "outputs": [
    {
     "name": "stdout",
     "output_type": "stream",
     "text": [
      "                                  OLS Regression Results                                  \n",
      "==========================================================================================\n",
      "Dep. Variable:     train_mat['ret.4096']   R-squared (uncentered):                   0.001\n",
      "Model:                               OLS   Adj. R-squared (uncentered):              0.001\n",
      "Method:                    Least Squares   F-statistic:                              7.817\n",
      "Date:                   Fri, 17 Jul 2020   Prob (F-statistic):                     0.00519\n",
      "Time:                           08:45:58   Log-Likelihood:                         -7835.8\n",
      "No. Observations:                   5524   AIC:                                  1.567e+04\n",
      "Df Residuals:                       5523   BIC:                                  1.568e+04\n",
      "Df Model:                              1                                                  \n",
      "Covariance Type:               nonrobust                                                  \n",
      "===================================================================================================\n",
      "                                      coef    std err          t      P>|t|      [0.025      0.975]\n",
      "---------------------------------------------------------------------------------------------------\n",
      "train_mat['trade.imb.std.4096']    -0.0303      0.011     -2.796      0.005      -0.052      -0.009\n",
      "==============================================================================\n",
      "Omnibus:                     1990.354   Durbin-Watson:                   2.050\n",
      "Prob(Omnibus):                  0.000   Jarque-Bera (JB):            48851.408\n",
      "Skew:                          -1.163   Prob(JB):                         0.00\n",
      "Kurtosis:                      17.382   Cond. No.                         1.00\n",
      "==============================================================================\n",
      "\n",
      "Warnings:\n",
      "[1] Standard Errors assume that the covariance matrix of the errors is correctly specified.\n"
     ]
    }
   ],
   "source": [
    "fit1_lm = smf.ols(formula=formula, data=train_mat[train_mat.columns[:-3]]).fit()\n",
    "print(fit1_lm.summary())\n",
    "\n",
    "#  OLS Regression Results                                  \n",
    "# ==========================================================================================\n",
    "# Dep. Variable:     train_mat['ret.4096']   R-squared (uncentered):                   0.001\n",
    "# Model:                               OLS   Adj. R-squared (uncentered):              0.001\n",
    "# Method:                    Least Squares   F-statistic:                              7.817\n",
    "# Date:                   Thu, 16 Jul 2020   Prob (F-statistic):                     0.00519\n",
    "# Time:                           14:58:28   Log-Likelihood:                         -7835.8\n",
    "# No. Observations:                   5524   AIC:                                  1.567e+04\n",
    "# Df Residuals:                       5523   BIC:                                  1.568e+04\n",
    "# Df Model:                              1                                                  \n",
    "# Covariance Type:               nonrobust                                                  \n",
    "# ===================================================================================================\n",
    "#                                       coef    std err          t      P>|t|      [0.025      0.975]\n",
    "# ---------------------------------------------------------------------------------------------------\n",
    "# train_mat['trade.imb.std.4096']    -0.0303      0.011     -2.796      0.005      -0.052      -0.009\n",
    "# ==============================================================================\n",
    "# Omnibus:                     1990.354   Durbin-Watson:                   2.050\n",
    "# Prob(Omnibus):                  0.000   Jarque-Bera (JB):            48851.408\n",
    "# Skew:                          -1.163   Prob(JB):                         0.00\n",
    "# Kurtosis:                      17.382   Cond. No.                         1.00\n",
    "# ==============================================================================\n",
    "\n",
    "# Warnings:\n",
    "# [1] Standard Errors assume that the covariance matrix of the errors is correctly specified."
   ]
  },
  {
   "cell_type": "markdown",
   "metadata": {},
   "source": [
    "- we can see that the single R-square is already 0.0005814431935065034\n",
    "\n",
    "\n",
    "- now we want to get the prediction value"
   ]
  },
  {
   "cell_type": "code",
   "execution_count": 308,
   "metadata": {},
   "outputs": [],
   "source": [
    "strat = \"one.\"+str(period)"
   ]
  },
  {
   "cell_type": "markdown",
   "metadata": {},
   "source": [
    "- create a directory for the first strate"
   ]
  },
  {
   "cell_type": "code",
   "execution_count": 309,
   "metadata": {},
   "outputs": [],
   "source": [
    "for product in product_list:\n",
    "    os.makedirs(SAVE_PATH+\"/tmp pkl/\"+product+\"/\"+strat, exist_ok=True)"
   ]
  },
  {
   "cell_type": "markdown",
   "metadata": {},
   "source": [
    "- we get the coefficiton of fit1.lm"
   ]
  },
  {
   "cell_type": "code",
   "execution_count": 310,
   "metadata": {
    "scrolled": true
   },
   "outputs": [
    {
     "data": {
      "text/plain": [
       "array([-0.03033512])"
      ]
     },
     "execution_count": 310,
     "metadata": {},
     "output_type": "execute_result"
    }
   ],
   "source": [
    "fit_coef = fit1_lm.params.values\n",
    "fit_coef\n",
    "# array([-0.03033512])\n",
    "\n"
   ]
  },
  {
   "cell_type": "markdown",
   "metadata": {},
   "source": [
    "- but since we have standardize the training samples before regrssion\n",
    "- we must revert the result to original scale"
   ]
  },
  {
   "cell_type": "code",
   "execution_count": 311,
   "metadata": {},
   "outputs": [],
   "source": [
    "train_std = dict([])\n",
    "for product in product_list:\n",
    "    cur_mat = load(HEAD_PATH+\"/train test mat/\"+product+\".train.mat.pkl\")\n",
    "    train_std[product] = np.std(cur_mat)"
   ]
  },
  {
   "cell_type": "code",
   "execution_count": 312,
   "metadata": {},
   "outputs": [
    {
     "data": {
      "text/plain": [
       "array([-0.00087249])"
      ]
     },
     "execution_count": 312,
     "metadata": {},
     "output_type": "execute_result"
    }
   ],
   "source": [
    "coef = fit_coef*train_std[product_list[0]][y_signal]/train_std[product_list[0]][first_signal]\n",
    "coef\n",
    "## array([-0.00087249])"
   ]
  },
  {
   "cell_type": "code",
   "execution_count": 117,
   "metadata": {},
   "outputs": [
    {
     "name": "stdout",
     "output_type": "stream",
     "text": [
      "Wall time: 2min 24s\n"
     ]
    },
    {
     "data": {
      "text/plain": [
       "''"
      ]
     },
     "execution_count": 117,
     "metadata": {},
     "output_type": "execute_result"
    }
   ],
   "source": [
    "%%time\n",
    "for product in product_list[:3]:\n",
    "    coef = fit_coef*train_std[product][y_signal]/train_std[product][first_signal]\n",
    "    parLapply(CORE_NUM, all_dates, get_daily_pred, \n",
    "              product=product, signal_list=[first_signal], coef=coef, strat=strat, HEAD_PATH=SAVE_PATH)\n",
    ";\n",
    "\n",
    "## Wall time: 2min 24s"
   ]
  },
  {
   "cell_type": "code",
   "execution_count": 119,
   "metadata": {},
   "outputs": [
    {
     "name": "stdout",
     "output_type": "stream",
     "text": [
      "Wall time: 59.2 s\n"
     ]
    }
   ],
   "source": [
    "%%time\n",
    "for product in product_list[:3]:\n",
    "    par_get_all_signal(\"one.4096\", all_dates, product, 4096, SAVE_PATH=SAVE_PATH)\n",
    "## Wall time: 59.2 s"
   ]
  },
  {
   "cell_type": "code",
   "execution_count": 120,
   "metadata": {},
   "outputs": [
    {
     "name": "stdout",
     "output_type": "stream",
     "text": [
      "reverse=1\n",
      "reverse=1\n",
      "reverse=1\n",
      "Wall time: 6min 43s\n"
     ]
    }
   ],
   "source": [
    "%%time\n",
    "for product in product_list[:3]:\n",
    "    spread = product_info[product][\"spread\"]\n",
    "    tranct_ratio = product_info[product][\"tranct.ratio\"]\n",
    "    tranct = product_info[product][\"tranct\"]\n",
    "    evaluate_signal(\"one\", all_dates, product, 2, 20,\n",
    "                    CORE_NUM,  HEAD_PATH, SAVE_PATH, period=4096, split_str=\"2018\", tranct=tranct, \n",
    "                    max_spread=spread*1.1, tranct_ratio=tranct_ratio, atr_filter=20, save_path=\"signal result atr\",reverse=1)\n",
    "\n",
    "# reverse=1\n",
    "# reverse=1\n",
    "# reverse=1\n",
    "# Wall time: 6min 43s\n"
   ]
  },
  {
   "cell_type": "code",
   "execution_count": 123,
   "metadata": {},
   "outputs": [
    {
     "data": {
      "text/plain": [
       "0"
      ]
     },
     "execution_count": 123,
     "metadata": {},
     "output_type": "execute_result"
    }
   ],
   "source": [
    "product = \"IF\"\n",
    "spread = product_info[product][\"spread\"]\n",
    "signal_stat = load(HEAD_PATH+\"/signal result atr/\"+product+\".\"+\"one.4096\"+\".trend.pkl\")\n",
    "train_stat = signal_stat[\"train.stat\"]\n",
    "good_strat = (train_stat[\"final.result\"][\"avg.pnl\"]>2*spread)\n",
    "sum(good_strat)"
   ]
  },
  {
   "cell_type": "code",
   "execution_count": 121,
   "metadata": {},
   "outputs": [
    {
     "name": "stdout",
     "output_type": "stream",
     "text": [
      "IF train sharpe  nan test sharpe  nan\n",
      "IH train sharpe  0.6938150356814716 test sharpe  1.063853128797169\n",
      "IC train sharpe  nan test sharpe  nan\n"
     ]
    }
   ],
   "source": [
    "for product in product_list[:3]:\n",
    "    spread = product_info[product][\"spread\"]\n",
    "    signal_stat = load(HEAD_PATH+\"/signal result atr/\"+product+\".\"+\"one.4096\"+\".trend.pkl\")\n",
    "    train_stat = signal_stat[\"train.stat\"]\n",
    "    good_strat = (train_stat[\"final.result\"][\"avg.pnl\"]>2*spread)\n",
    "    train_pnl = train_stat[\"daily.ret\"].loc[:, good_strat].sum(axis=1)/sum(good_strat)\n",
    "    test_stat = signal_stat[\"test.stat\"]\n",
    "    test_pnl = test_stat[\"daily.ret\"].loc[:, good_strat].sum(axis=1)/sum(good_strat)\n",
    "    print(product, \"train sharpe \", sharpe(train_pnl), \"test sharpe \", sharpe(test_pnl))\n",
    "\n",
    "# IF train sharpe  nan test sharpe  nan\n",
    "# IH train sharpe  0.6938150356814716 test sharpe  1.063853128797169\n",
    "# IC train sharpe  nan test sharpe  nan\n"
   ]
  },
  {
   "cell_type": "markdown",
   "metadata": {},
   "source": [
    "- then we work similar to previous common signals"
   ]
  },
  {
   "cell_type": "markdown",
   "metadata": {},
   "source": [
    "- now we try to add a few new signal"
   ]
  },
  {
   "cell_type": "code",
   "execution_count": 313,
   "metadata": {},
   "outputs": [
    {
     "data": {
      "text/plain": [
       "\"train_mat['ret.4096'] ~ +train_mat['trade.imb.std.4096']+train_mat['trade.imb.volume.open.ratio.4096']+train_mat['kdj.k.trend.index.4096']+train_mat['kdj.j.range.4096']+train_mat['price.osci.std.4096']+0\""
      ]
     },
     "execution_count": 313,
     "metadata": {},
     "output_type": "execute_result"
    }
   ],
   "source": [
    "y_signal = \"ret.\"+str(period)\n",
    "formula = \"train_mat['\" + y_signal+\"'] ~ \"\n",
    "n_signal = int(len(result[\"chosen.signals\"])/2)\n",
    "for signal in result[\"chosen.signals\"][:n_signal]:\n",
    "    formula = formula+\"+train_mat['\"+signal+\"']\"\n",
    "formula+=\"+0\"\n",
    "formula\n",
    "\n",
    "## \"train_mat['ret.4096'] ~ +train_mat['trade.imb.std.4096']+train_mat['trade.imb.volume.open.ratio.4096']+train_mat['kdj.k.trend.index.4096']+train_mat['kdj.j.range.4096']+train_mat['price.osci.std.4096']+0\""
   ]
  },
  {
   "cell_type": "code",
   "execution_count": 314,
   "metadata": {},
   "outputs": [
    {
     "name": "stdout",
     "output_type": "stream",
     "text": [
      "                                  OLS Regression Results                                  \n",
      "==========================================================================================\n",
      "Dep. Variable:     train_mat['ret.4096']   R-squared (uncentered):                   0.003\n",
      "Model:                               OLS   Adj. R-squared (uncentered):              0.002\n",
      "Method:                    Least Squares   F-statistic:                              3.439\n",
      "Date:                   Fri, 17 Jul 2020   Prob (F-statistic):                     0.00419\n",
      "Time:                           08:46:27   Log-Likelihood:                         -7831.1\n",
      "No. Observations:                   5524   AIC:                                  1.567e+04\n",
      "Df Residuals:                       5519   BIC:                                  1.571e+04\n",
      "Df Model:                              5                                                  \n",
      "Covariance Type:               nonrobust                                                  \n",
      "=================================================================================================================\n",
      "                                                    coef    std err          t      P>|t|      [0.025      0.975]\n",
      "-----------------------------------------------------------------------------------------------------------------\n",
      "train_mat['trade.imb.std.4096']                  -0.0552      0.020     -2.745      0.006      -0.095      -0.016\n",
      "train_mat['trade.imb.volume.open.ratio.4096']     0.0255      0.017      1.535      0.125      -0.007       0.058\n",
      "train_mat['kdj.k.trend.index.4096']               0.0363      0.022      1.681      0.093      -0.006       0.079\n",
      "train_mat['kdj.j.range.4096']                    -0.0641      0.028     -2.249      0.025      -0.120      -0.008\n",
      "train_mat['price.osci.std.4096']                  0.0390      0.027      1.443      0.149      -0.014       0.092\n",
      "==============================================================================\n",
      "Omnibus:                     2002.609   Durbin-Watson:                   2.055\n",
      "Prob(Omnibus):                  0.000   Jarque-Bera (JB):            49104.068\n",
      "Skew:                          -1.173   Prob(JB):                         0.00\n",
      "Kurtosis:                      17.416   Cond. No.                         5.11\n",
      "==============================================================================\n",
      "\n",
      "Warnings:\n",
      "[1] Standard Errors assume that the covariance matrix of the errors is correctly specified.\n"
     ]
    }
   ],
   "source": [
    "fit_half_lm  = smf.ols(formula=formula, data=train_mat[train_mat.columns[:-3]]).fit()\n",
    "print(fit_half_lm.summary())\n",
    "\n",
    "#   OLS Regression Results                                  \n",
    "# ==========================================================================================\n",
    "# Dep. Variable:     train_mat['ret.4096']   R-squared (uncentered):                   0.003\n",
    "# Model:                               OLS   Adj. R-squared (uncentered):              0.002\n",
    "# Method:                    Least Squares   F-statistic:                              3.439\n",
    "# Date:                   Fri, 17 Jul 2020   Prob (F-statistic):                     0.00419\n",
    "# Time:                           08:46:27   Log-Likelihood:                         -7831.1\n",
    "# No. Observations:                   5524   AIC:                                  1.567e+04\n",
    "# Df Residuals:                       5519   BIC:                                  1.571e+04\n",
    "# Df Model:                              5                                                  \n",
    "# Covariance Type:               nonrobust                                                  \n",
    "# =================================================================================================================\n",
    "#                                                     coef    std err          t      P>|t|      [0.025      0.975]\n",
    "# -----------------------------------------------------------------------------------------------------------------\n",
    "# train_mat['trade.imb.std.4096']                  -0.0552      0.020     -2.745      0.006      -0.095      -0.016\n",
    "# train_mat['trade.imb.volume.open.ratio.4096']     0.0255      0.017      1.535      0.125      -0.007       0.058\n",
    "# train_mat['kdj.k.trend.index.4096']               0.0363      0.022      1.681      0.093      -0.006       0.079\n",
    "# train_mat['kdj.j.range.4096']                    -0.0641      0.028     -2.249      0.025      -0.120      -0.008\n",
    "# train_mat['price.osci.std.4096']                  0.0390      0.027      1.443      0.149      -0.014       0.092\n",
    "# ==============================================================================\n",
    "# Omnibus:                     2002.609   Durbin-Watson:                   2.055\n",
    "# Prob(Omnibus):                  0.000   Jarque-Bera (JB):            49104.068\n",
    "# Skew:                          -1.173   Prob(JB):                         0.00\n",
    "# Kurtosis:                      17.416   Cond. No.                         5.11\n",
    "# ==============================================================================\n",
    "\n",
    "# Warnings:\n",
    "# [1] Standard Errors assume that the covariance matrix of the errors is correctly specified."
   ]
  },
  {
   "cell_type": "code",
   "execution_count": 315,
   "metadata": {},
   "outputs": [
    {
     "data": {
      "text/plain": [
       "array([-0.05517363,  0.02547844,  0.0362655 , -0.06406452,  0.03897671])"
      ]
     },
     "execution_count": 315,
     "metadata": {},
     "output_type": "execute_result"
    }
   ],
   "source": [
    "strat = \"half.\"+str(period)\n",
    "os.makedirs(HEAD_PATH+\"/tmp pkl/\"+product+\"/\"+strat, exist_ok=True)\n",
    "fit_coef = fit_half_lm.params.values\n",
    "fit_coef\n",
    "# array([-0.05517363,  0.02547844,  0.0362655 , -0.06406452,  0.03897671])"
   ]
  },
  {
   "cell_type": "code",
   "execution_count": 316,
   "metadata": {},
   "outputs": [],
   "source": [
    "train_std_mat = dict([])\n",
    "for product in product_list[0:3]:\n",
    "    cur_mat = load(HEAD_PATH+\"/train test mat/\"+product+\".train.mat.pkl\")\n",
    "    train_std_mat[product] = np.std(cur_mat)"
   ]
  },
  {
   "cell_type": "code",
   "execution_count": 317,
   "metadata": {},
   "outputs": [],
   "source": [
    "for product in product_list:\n",
    "    os.makedirs(SAVE_PATH+\"/tmp pkl/\"+product+\"/\"+strat, exist_ok=True)"
   ]
  },
  {
   "cell_type": "code",
   "execution_count": 318,
   "metadata": {},
   "outputs": [
    {
     "name": "stdout",
     "output_type": "stream",
     "text": [
      "Wall time: 1min\n"
     ]
    },
    {
     "data": {
      "text/plain": [
       "''"
      ]
     },
     "execution_count": 318,
     "metadata": {},
     "output_type": "execute_result"
    }
   ],
   "source": [
    "%%time\n",
    "for product in product_list[0:3]:\n",
    "    coef = fit_coef*train_std_mat[product][y_signal]/train_std_mat[product][result[\"chosen.signals\"][:n_signal]]\n",
    "    parLapply(CORE_NUM, all_dates, get_daily_pred, \n",
    "              product=product, signal_list=result[\"chosen.signals\"][:n_signal], coef=coef, strat=strat, HEAD_PATH=SAVE_PATH)\n",
    ";\n",
    "# Wall time:  4min 30s"
   ]
  },
  {
   "cell_type": "code",
   "execution_count": 319,
   "metadata": {},
   "outputs": [
    {
     "name": "stdout",
     "output_type": "stream",
     "text": [
      "Wall time: 27 s\n"
     ]
    }
   ],
   "source": [
    "%%time\n",
    "for product in product_list[0:3]:\n",
    "    par_get_all_signal(\"half.4096\", all_dates, product, 4096, SAVE_PATH=\"e:/intern\")\n",
    "## Wall time: 26.9 s"
   ]
  },
  {
   "cell_type": "code",
   "execution_count": 320,
   "metadata": {},
   "outputs": [
    {
     "name": "stdout",
     "output_type": "stream",
     "text": [
      "reverse=1\n",
      "reverse=1\n",
      "reverse=1\n",
      "Wall time: 5min 13s\n"
     ]
    }
   ],
   "source": [
    "%%time\n",
    "SAVE_PATH = \"e:/intern\"\n",
    "for product in product_list[0:3]:\n",
    "    spread = product_info[product][\"spread\"]\n",
    "    tranct = product_info[product][\"tranct\"]\n",
    "    tranct_ratio = product_info[product][\"tranct.ratio\"]\n",
    "    evaluate_signal(\"half\", all_dates, product, 2, 20, \n",
    "                    CORE_NUM, HEAD_PATH, SAVE_PATH, period=4096, split_str=\"2018\", tranct=tranct, \n",
    "                    max_spread=spread*1.1, tranct_ratio=tranct_ratio, atr_filter=20, save_path=\"signal result atr\",reverse=1)\n",
    "\n",
    "# reverse=1\n",
    "# reverse=1\n",
    "# reverse=1\n",
    "# Wall time: 5min 13s\n",
    "\n"
   ]
  },
  {
   "cell_type": "code",
   "execution_count": 321,
   "metadata": {},
   "outputs": [
    {
     "name": "stdout",
     "output_type": "stream",
     "text": [
      "IF train sharpe  nan test sharpe  nan\n",
      "IH train sharpe  0.2589940820255803 test sharpe  -0.5370049335926701\n",
      "IC train sharpe  0.14234337497465366 test sharpe  0.13496819089995118\n"
     ]
    }
   ],
   "source": [
    "for product in product_list[0:3]:\n",
    "    spread = product_info[product][\"spread\"]\n",
    "    signal_stat = load(HEAD_PATH+\"/signal result atr/\"+product+\".\"+\"half.4096\"+\".trend.pkl\")\n",
    "    train_stat = signal_stat[\"train.stat\"]\n",
    "    good_strat = (train_stat[\"final.result\"][\"avg.pnl\"]>2*spread)\n",
    "    train_pnl = train_stat[\"daily.ret\"].loc[:, good_strat].sum(axis=1)/sum(good_strat)\n",
    "    test_stat = signal_stat[\"test.stat\"]\n",
    "    test_pnl = test_stat[\"daily.ret\"].loc[:, good_strat].sum(axis=1)/sum(good_strat)\n",
    "    print(product, \"train sharpe \", sharpe(train_pnl), \"test sharpe \", sharpe(test_pnl))\n",
    "\n",
    "# IF train sharpe  nan test sharpe  nan\n",
    "# IH train sharpe  0.2589940820255803 test sharpe  -0.5370049335926701\n",
    "# IC train sharpe  0.14234337497465366 test sharpe  0.13496819089995118\n",
    "\n",
    "\n",
    "\n"
   ]
  },
  {
   "cell_type": "code",
   "execution_count": 322,
   "metadata": {},
   "outputs": [
    {
     "data": {
      "text/plain": [
       "\"train_mat['ret.4096'] ~ +train_mat['trade.imb.std.4096']+train_mat['trade.imb.volume.open.ratio.4096']+train_mat['kdj.k.trend.index.4096']+train_mat['kdj.j.range.4096']+train_mat['price.osci.std.4096']+train_mat['ma.dif.10.std.4096']+train_mat['price.osci.4096']+train_mat['total.trade.imb.range.4096']+train_mat['price.osci.range.4096']+train_mat['kdj.j.std.4096']+train_mat['trade.imb.range.4096']+0\""
      ]
     },
     "execution_count": 322,
     "metadata": {},
     "output_type": "execute_result"
    }
   ],
   "source": [
    "y_signal = \"ret.\"+str(period)\n",
    "formula = \"train_mat['\" + y_signal+\"'] ~ \"\n",
    "for signal in result[\"chosen.signals\"]:\n",
    "    formula = formula+\"+train_mat['\"+signal+\"']\"\n",
    "formula+=\"+0\"\n",
    "formula\n",
    "\n",
    "# \"train_mat['ret.4096'] ~ +train_mat['dbook.volume.open.ratio.4096']+train_mat['trade.imb.std.4096']+train_mat['trade.imb.range.4096']+train_mat['range.pos.range.4096']+train_mat['nr.trend.index.4096']+train_mat['ma.dif.10.range.4096']+train_mat['nr.range.4096']+train_mat['price.osci.std.4096']+train_mat['price.osci.volume.open.ratio.4096']+train_mat['kdj.j.std.4096']+train_mat['nr.4096']+train_mat['kdj.j.volume.open.ratio.4096']+train_mat['range.pos.volume.open.ratio.4096']+train_mat['nr.volume.open.ratio.4096']+train_mat['ma.dif.10.std.4096']+train_mat['nr.std.4096']+train_mat['price.osci.range.4096']+train_mat['ma.dif.10.4096']+train_mat['dbook.4096']+train_mat['trade.imb.4096']+train_mat['dbook.range.4096']+train_mat['kdj.j.range.4096']+train_mat['kdj.k.4096']+0\""
   ]
  },
  {
   "cell_type": "code",
   "execution_count": 323,
   "metadata": {},
   "outputs": [
    {
     "data": {
      "text/plain": [
       "(5524, 49)"
      ]
     },
     "execution_count": 323,
     "metadata": {},
     "output_type": "execute_result"
    }
   ],
   "source": [
    "np.shape(train_mat)"
   ]
  },
  {
   "cell_type": "markdown",
   "metadata": {},
   "source": [
    "- now we look at the full model"
   ]
  },
  {
   "cell_type": "code",
   "execution_count": 324,
   "metadata": {},
   "outputs": [
    {
     "name": "stdout",
     "output_type": "stream",
     "text": [
      "                                  OLS Regression Results                                  \n",
      "==========================================================================================\n",
      "Dep. Variable:     train_mat['ret.4096']   R-squared (uncentered):                   0.006\n",
      "Model:                               OLS   Adj. R-squared (uncentered):              0.004\n",
      "Method:                    Least Squares   F-statistic:                              3.176\n",
      "Date:                   Fri, 17 Jul 2020   Prob (F-statistic):                    0.000262\n",
      "Time:                           09:06:01   Log-Likelihood:                         -7822.3\n",
      "No. Observations:                   5524   AIC:                                  1.567e+04\n",
      "Df Residuals:                       5513   BIC:                                  1.574e+04\n",
      "Df Model:                             11                                                  \n",
      "Covariance Type:               nonrobust                                                  \n",
      "=================================================================================================================\n",
      "                                                    coef    std err          t      P>|t|      [0.025      0.975]\n",
      "-----------------------------------------------------------------------------------------------------------------\n",
      "train_mat['trade.imb.std.4096']                  -0.0935      0.062     -1.512      0.131      -0.215       0.028\n",
      "train_mat['trade.imb.volume.open.ratio.4096']     0.0109      0.018      0.603      0.547      -0.025       0.046\n",
      "train_mat['kdj.k.trend.index.4096']               0.0222      0.025      0.898      0.369      -0.026       0.071\n",
      "train_mat['kdj.j.range.4096']                     0.2086      0.118      1.770      0.077      -0.022       0.440\n",
      "train_mat['price.osci.std.4096']                  0.5740      0.159      3.615      0.000       0.263       0.885\n",
      "train_mat['ma.dif.10.std.4096']                  -0.1132      0.041     -2.751      0.006      -0.194      -0.033\n",
      "train_mat['price.osci.4096']                     -0.0517      0.037     -1.394      0.163      -0.124       0.021\n",
      "train_mat['total.trade.imb.range.4096']          -0.0429      0.036     -1.182      0.237      -0.114       0.028\n",
      "train_mat['price.osci.range.4096']               -0.3721      0.155     -2.407      0.016      -0.675      -0.069\n",
      "train_mat['kdj.j.std.4096']                      -0.2784      0.131     -2.127      0.033      -0.535      -0.022\n",
      "train_mat['trade.imb.range.4096']                 0.0998      0.073      1.368      0.171      -0.043       0.243\n",
      "==============================================================================\n",
      "Omnibus:                     1999.984   Durbin-Watson:                   2.051\n",
      "Prob(Omnibus):                  0.000   Jarque-Bera (JB):            48991.148\n",
      "Skew:                          -1.171   Prob(JB):                         0.00\n",
      "Kurtosis:                      17.400   Cond. No.                         54.6\n",
      "==============================================================================\n",
      "\n",
      "Warnings:\n",
      "[1] Standard Errors assume that the covariance matrix of the errors is correctly specified.\n"
     ]
    }
   ],
   "source": [
    "fit_full_lm  = smf.ols(formula=formula, data=train_mat[train_mat.columns[:-3]]).fit()\n",
    "print(fit_full_lm.summary())\n",
    "\n",
    "# OLS Regression Results                                  \n",
    "# ==========================================================================================\n",
    "# Dep. Variable:     train_mat['ret.4096']   R-squared (uncentered):                   0.006\n",
    "# Model:                               OLS   Adj. R-squared (uncentered):              0.004\n",
    "# Method:                    Least Squares   F-statistic:                              3.176\n",
    "# Date:                   Thu, 16 Jul 2020   Prob (F-statistic):                    0.000262\n",
    "# Time:                           16:56:14   Log-Likelihood:                         -7822.3\n",
    "# No. Observations:                   5524   AIC:                                  1.567e+04\n",
    "# Df Residuals:                       5513   BIC:                                  1.574e+04\n",
    "# Df Model:                             11                                                  \n",
    "# Covariance Type:               nonrobust                                                  \n",
    "# =================================================================================================================\n",
    "#                                                     coef    std err          t      P>|t|      [0.025      0.975]\n",
    "# -----------------------------------------------------------------------------------------------------------------\n",
    "# train_mat['trade.imb.std.4096']                  -0.0935      0.062     -1.512      0.131      -0.215       0.028\n",
    "# train_mat['trade.imb.volume.open.ratio.4096']     0.0109      0.018      0.603      0.547      -0.025       0.046\n",
    "# train_mat['kdj.k.trend.index.4096']               0.0222      0.025      0.898      0.369      -0.026       0.071\n",
    "# train_mat['kdj.j.range.4096']                     0.2086      0.118      1.770      0.077      -0.022       0.440\n",
    "# train_mat['price.osci.std.4096']                  0.5740      0.159      3.615      0.000       0.263       0.885\n",
    "# train_mat['ma.dif.10.std.4096']                  -0.1132      0.041     -2.751      0.006      -0.194      -0.033\n",
    "# train_mat['price.osci.4096']                     -0.0517      0.037     -1.394      0.163      -0.124       0.021\n",
    "# train_mat['total.trade.imb.range.4096']          -0.0429      0.036     -1.182      0.237      -0.114       0.028\n",
    "# train_mat['price.osci.range.4096']               -0.3721      0.155     -2.407      0.016      -0.675      -0.069\n",
    "# train_mat['kdj.j.std.4096']                      -0.2784      0.131     -2.127      0.033      -0.535      -0.022\n",
    "# train_mat['trade.imb.range.4096']                 0.0998      0.073      1.368      0.171      -0.043       0.243\n",
    "# ==============================================================================\n",
    "# Omnibus:                     1999.984   Durbin-Watson:                   2.051\n",
    "# Prob(Omnibus):                  0.000   Jarque-Bera (JB):            48991.148\n",
    "# Skew:                          -1.171   Prob(JB):                         0.00\n",
    "# Kurtosis:                      17.400   Cond. No.                         54.6\n",
    "# ==============================================================================\n",
    "\n",
    "# Warnings:\n",
    "# [1] Standard Errors assume that the covariance matrix of the errors is correctly specified."
   ]
  },
  {
   "cell_type": "code",
   "execution_count": 325,
   "metadata": {},
   "outputs": [
    {
     "data": {
      "text/plain": [
       "array([-0.09353492,  0.0108895 ,  0.02221689,  0.20859455,  0.57403256,\n",
       "       -0.11317795, -0.05165849, -0.04288293, -0.37211168, -0.27844569,\n",
       "        0.09978319])"
      ]
     },
     "execution_count": 325,
     "metadata": {},
     "output_type": "execute_result"
    }
   ],
   "source": [
    "strat = \"full.\"+str(period)\n",
    "os.makedirs(SAVE_PATH+\"/tmp pkl/\"+product+\"/\"+strat, exist_ok=True)\n",
    "fit_coef = fit_full_lm.params.values\n",
    "fit_coef\n",
    "\n",
    "# array([-0.09353492,  0.0108895 ,  0.02221689,  0.20859455,  0.57403256,\n",
    "#        -0.11317795, -0.05165849, -0.04288293, -0.37211168, -0.27844569,\n",
    "#         0.09978319])"
   ]
  },
  {
   "cell_type": "code",
   "execution_count": 326,
   "metadata": {},
   "outputs": [],
   "source": [
    "for product in product_list:\n",
    "    os.makedirs(SAVE_PATH+\"/tmp pkl/\"+product+\"/\"+strat, exist_ok=True)"
   ]
  },
  {
   "cell_type": "code",
   "execution_count": 327,
   "metadata": {},
   "outputs": [
    {
     "name": "stdout",
     "output_type": "stream",
     "text": [
      "IF\n",
      "IH\n",
      "IC\n",
      "Wall time: 4min 18s\n"
     ]
    }
   ],
   "source": [
    "%%time\n",
    "for product in product_list[0:3]:\n",
    "    print(product)\n",
    "    coef = fit_coef*train_std_mat[product][y_signal]/train_std_mat[product][result[\"chosen.signals\"]]\n",
    "    parLapply(CORE_NUM, all_dates, get_daily_pred, \n",
    "              product=product, signal_list=result[\"chosen.signals\"], coef=coef, strat=\"full.4096\", HEAD_PATH=SAVE_PATH)\n",
    "    \n",
    "# IF\n",
    "# IH\n",
    "# IC\n",
    "# Wall time: 5min 22s\n",
    "\n"
   ]
  },
  {
   "cell_type": "code",
   "execution_count": 328,
   "metadata": {},
   "outputs": [
    {
     "name": "stdout",
     "output_type": "stream",
     "text": [
      "Wall time: 27 s\n"
     ]
    }
   ],
   "source": [
    "%%time\n",
    "for product in product_list[0:3]:\n",
    "    par_get_all_signal(\"full.4096\", all_dates, product, 4096, SAVE_PATH=SAVE_PATH)\n",
    "## Wall time: 26.9 s\n",
    "\n"
   ]
  },
  {
   "cell_type": "code",
   "execution_count": 329,
   "metadata": {},
   "outputs": [
    {
     "name": "stdout",
     "output_type": "stream",
     "text": [
      "reverse=1\n",
      "reverse=1\n",
      "reverse=1\n",
      "Wall time: 7min 27s\n"
     ]
    }
   ],
   "source": [
    "%%time\n",
    "for product in product_list[0:3]:\n",
    "    spread = product_info[product][\"spread\"]\n",
    "    tranct = product_info[product][\"tranct\"]\n",
    "    tranct_ratio = product_info[product][\"tranct.ratio\"] \n",
    "    evaluate_signal(\"full\", all_dates, product, 2, 20, \n",
    "                    CORE_NUM, HEAD_PATH, SAVE_PATH,period=4096, split_str=\"2018\", tranct=tranct, \n",
    "                    max_spread=spread*1.1, tranct_ratio=tranct_ratio, atr_filter=20, save_path=\"signal result atr\",reverse=1)\n",
    "\n",
    "# reverse=1\n",
    "# reverse=1\n",
    "# reverse=1\n",
    "# Wall time: 7min 42s\n",
    "\n"
   ]
  },
  {
   "cell_type": "code",
   "execution_count": 333,
   "metadata": {},
   "outputs": [
    {
     "name": "stdout",
     "output_type": "stream",
     "text": [
      "IF train sharpe  0.4982541328255545 test sharpe  0.8939045222957637\n",
      "IH train sharpe  0.21747502986522438 test sharpe  0.19000986556739546\n",
      "IC train sharpe  0.5704744572663202 test sharpe  0.9975516857023627\n"
     ]
    }
   ],
   "source": [
    "for product in product_list[0:3]:\n",
    "    spread = product_info[product][\"spread\"]\n",
    "    signal_stat = load(HEAD_PATH+\"/signal result atr/\"+product+\".\"+\"full.4096\"+\".trend.pkl\")\n",
    "    train_stat = signal_stat[\"train.stat\"]\n",
    "    good_strat = (train_stat[\"final.result\"][\"avg.pnl\"]>2*spread)\n",
    "    train_pnl = train_stat[\"daily.ret\"].loc[:, good_strat].sum(axis=1)/sum(good_strat)\n",
    "    test_stat = signal_stat[\"test.stat\"]\n",
    "    test_pnl = test_stat[\"daily.ret\"].loc[:, good_strat].sum(axis=1)/sum(good_strat)\n",
    "    print(product, \"train sharpe \", sharpe(train_pnl), \"test sharpe \", sharpe(test_pnl))\n",
    "\n",
    "# IF train sharpe  0.4982541328255545 test sharpe  0.8939045222957637\n",
    "# IH train sharpe  0.21747502986522438 test sharpe  0.19000986556739546\n",
    "# IC train sharpe  0.5704744572663202 test sharpe  0.9975516857023627\n",
    "\n"
   ]
  },
  {
   "cell_type": "code",
   "execution_count": 336,
   "metadata": {},
   "outputs": [
    {
     "name": "stdout",
     "output_type": "stream",
     "text": [
      "IF train sharpe  0.4982541328255545 test sharpe  0.8939045222957637\n",
      "IH train sharpe  0.3240357152467307 test sharpe  0.03931881379682338\n",
      "IC train sharpe  0.64708946143278 test sharpe  0.9611452048379978\n"
     ]
    }
   ],
   "source": [
    "for product in product_list[0:3]:\n",
    "    spread = product_info[product][\"spread\"]\n",
    "    signal_stat = load(HEAD_PATH+\"/signal result atr/\"+product+\".\"+\"full.4096\"+\".trend.pkl\")\n",
    "    train_stat = signal_stat[\"train.stat\"]\n",
    "    good_strat = (train_stat[\"final.result\"][\"avg.pnl\"]>6*spread)\n",
    "    train_pnl = train_stat[\"daily.ret\"].loc[:, good_strat].sum(axis=1)/sum(good_strat)\n",
    "    test_stat = signal_stat[\"test.stat\"]\n",
    "    test_pnl = test_stat[\"daily.ret\"].loc[:, good_strat].sum(axis=1)/sum(good_strat)\n",
    "    print(product, \"train sharpe \", sharpe(train_pnl), \"test sharpe \", sharpe(test_pnl))\n",
    "\n",
    "# IF train sharpe  0.4982541328255545 test sharpe  0.8939045222957637\n",
    "# IH train sharpe  0.3240357152467307 test sharpe  0.03931881379682338\n",
    "# IC train sharpe  0.64708946143278 test sharpe  0.9611452048379978"
   ]
  },
  {
   "cell_type": "code",
   "execution_count": 181,
   "metadata": {},
   "outputs": [
    {
     "data": {
      "text/plain": [
       "\"train_mat['ret.4096.004'] ~ +train_mat['trade.imb.std.4096']+train_mat['trade.imb.volume.open.ratio.4096']+train_mat['kdj.k.trend.index.4096']+train_mat['kdj.j.range.4096']+train_mat['price.osci.std.4096']+train_mat['ma.dif.10.std.4096']+train_mat['price.osci.4096']+train_mat['total.trade.imb.range.4096']+train_mat['price.osci.range.4096']+train_mat['kdj.j.std.4096']+train_mat['trade.imb.range.4096']+0\""
      ]
     },
     "execution_count": 181,
     "metadata": {},
     "output_type": "execute_result"
    }
   ],
   "source": [
    "y_signal = \"ret.\"+str(period)+\".004\"\n",
    "formula = \"train_mat['\" + y_signal+\"'] ~ \"\n",
    "for signal in result[\"chosen.signals\"]:\n",
    "    formula = formula+\"+train_mat['\"+signal+\"']\"\n",
    "formula+=\"+0\"\n",
    "formula\n",
    "\n",
    "## \"train_mat['ret.4096.004'] ~ +train_mat['trade.imb.std.4096']+train_mat['trade.imb.volume.open.ratio.4096']+train_mat['kdj.k.trend.index.4096']+train_mat['kdj.j.range.4096']+train_mat['price.osci.std.4096']+train_mat['ma.dif.10.std.4096']+train_mat['price.osci.4096']+train_mat['total.trade.imb.range.4096']+train_mat['price.osci.range.4096']+train_mat['kdj.j.std.4096']+train_mat['trade.imb.range.4096']+0\""
   ]
  },
  {
   "cell_type": "code",
   "execution_count": 182,
   "metadata": {},
   "outputs": [
    {
     "data": {
      "text/plain": [
       "array([-0.06988272,  0.00931464,  0.01709805,  0.16282351,  0.52789228,\n",
       "       -0.13321547, -0.07395245, -0.05171357, -0.27143965, -0.23616145,\n",
       "        0.07378305])"
      ]
     },
     "execution_count": 182,
     "metadata": {},
     "output_type": "execute_result"
    }
   ],
   "source": [
    "fit_004_lm  = smf.ols(formula=formula, data=train_mat[train_mat.columns[:-3]]).fit()\n",
    "strat = \"full.004.\"+str(period)\n",
    "for product in product_list:\n",
    "    os.makedirs(SAVE_PATH+\"/tmp pkl/\"+product+\"/\"+strat, exist_ok=True)\n",
    "fit_coef = fit_004_lm.params.values\n",
    "fit_coef\n",
    "\n",
    "# array([-0.06988272,  0.00931464,  0.01709805,  0.16282351,  0.52789228,\n",
    "#        -0.13321547, -0.07395245, -0.05171357, -0.27143965, -0.23616145,\n",
    "#         0.07378305])"
   ]
  },
  {
   "cell_type": "code",
   "execution_count": 183,
   "metadata": {},
   "outputs": [
    {
     "name": "stdout",
     "output_type": "stream",
     "text": [
      "IF\n",
      "trade.imb.std.4096                 -0.001920\n",
      "trade.imb.volume.open.ratio.4096    0.017469\n",
      "kdj.k.trend.index.4096              0.000248\n",
      "kdj.j.range.4096                    0.000062\n",
      "price.osci.std.4096                 0.000818\n",
      "ma.dif.10.std.4096                 -0.013392\n",
      "price.osci.4096                    -0.000799\n",
      "total.trade.imb.range.4096         -0.000157\n",
      "price.osci.range.4096              -0.000103\n",
      "kdj.j.std.4096                     -0.000375\n",
      "trade.imb.range.4096                0.000463\n",
      "dtype: float64\n",
      "IH\n",
      "trade.imb.std.4096                 -0.004314\n",
      "trade.imb.volume.open.ratio.4096    0.017410\n",
      "kdj.k.trend.index.4096              0.000274\n",
      "kdj.j.range.4096                    0.000092\n",
      "price.osci.std.4096                 0.001229\n",
      "ma.dif.10.std.4096                 -0.019589\n",
      "price.osci.4096                    -0.000899\n",
      "total.trade.imb.range.4096         -0.000277\n",
      "price.osci.range.4096              -0.000155\n",
      "kdj.j.std.4096                     -0.000539\n",
      "trade.imb.range.4096                0.001066\n",
      "dtype: float64\n",
      "IC\n",
      "trade.imb.std.4096                 -0.000963\n",
      "trade.imb.volume.open.ratio.4096    0.020816\n",
      "kdj.k.trend.index.4096              0.000320\n",
      "kdj.j.range.4096                    0.000033\n",
      "price.osci.std.4096                 0.000431\n",
      "ma.dif.10.std.4096                 -0.004773\n",
      "price.osci.4096                    -0.001010\n",
      "total.trade.imb.range.4096         -0.000084\n",
      "price.osci.range.4096              -0.000055\n",
      "kdj.j.std.4096                     -0.000192\n",
      "trade.imb.range.4096                0.000261\n",
      "dtype: float64\n",
      "Wall time: 1min 21s\n"
     ]
    }
   ],
   "source": [
    "%%time\n",
    "for product in product_list[0:3]:\n",
    "    print(product)\n",
    "    coef = fit_coef*train_std_mat[product][y_signal]/train_std_mat[product][result[\"chosen.signals\"][:n_signal]]\n",
    "    print(coef)\n",
    "    parLapply(CORE_NUM, all_dates, get_daily_pred, \n",
    "              product=product, signal_list=result[\"chosen.signals\"][:n_signal], \n",
    "              coef=coef, strat=strat, HEAD_PATH=SAVE_PATH)\n",
    "    \n",
    "# IF\n",
    "# trade.imb.std.4096                 -0.001920\n",
    "# trade.imb.volume.open.ratio.4096    0.017469\n",
    "# kdj.k.trend.index.4096              0.000248\n",
    "# kdj.j.range.4096                    0.000062\n",
    "# price.osci.std.4096                 0.000818\n",
    "# ma.dif.10.std.4096                 -0.013392\n",
    "# price.osci.4096                    -0.000799\n",
    "# total.trade.imb.range.4096         -0.000157\n",
    "# price.osci.range.4096              -0.000103\n",
    "# kdj.j.std.4096                     -0.000375\n",
    "# trade.imb.range.4096                0.000463\n",
    "# dtype: float64\n",
    "# IH\n",
    "# trade.imb.std.4096                 -0.004314\n",
    "# trade.imb.volume.open.ratio.4096    0.017410\n",
    "# kdj.k.trend.index.4096              0.000274\n",
    "# kdj.j.range.4096                    0.000092\n",
    "# price.osci.std.4096                 0.001229\n",
    "# ma.dif.10.std.4096                 -0.019589\n",
    "# price.osci.4096                    -0.000899\n",
    "# total.trade.imb.range.4096         -0.000277\n",
    "# price.osci.range.4096              -0.000155\n",
    "# kdj.j.std.4096                     -0.000539\n",
    "# trade.imb.range.4096                0.001066\n",
    "# dtype: float64\n",
    "# IC\n",
    "# trade.imb.std.4096                 -0.000963\n",
    "# trade.imb.volume.open.ratio.4096    0.020816\n",
    "# kdj.k.trend.index.4096              0.000320\n",
    "# kdj.j.range.4096                    0.000033\n",
    "# price.osci.std.4096                 0.000431\n",
    "# ma.dif.10.std.4096                 -0.004773\n",
    "# price.osci.4096                    -0.001010\n",
    "# total.trade.imb.range.4096         -0.000084\n",
    "# price.osci.range.4096              -0.000055\n",
    "# kdj.j.std.4096                     -0.000192\n",
    "# trade.imb.range.4096                0.000261\n",
    "# dtype: float64\n",
    "# Wall time: 1min 21s"
   ]
  },
  {
   "cell_type": "code",
   "execution_count": 185,
   "metadata": {},
   "outputs": [
    {
     "name": "stdout",
     "output_type": "stream",
     "text": [
      "Wall time: 26.9 s\n"
     ]
    }
   ],
   "source": [
    "%%time\n",
    "for product in product_list[0:3]:\n",
    "    par_get_all_signal(\"full.004.4096\", all_dates, product, 4096)\n",
    "\n",
    "## Wall time: 26.9 s"
   ]
  },
  {
   "cell_type": "code",
   "execution_count": 186,
   "metadata": {},
   "outputs": [
    {
     "name": "stdout",
     "output_type": "stream",
     "text": [
      "reverse=1\n",
      "reverse=1\n",
      "reverse=1\n",
      "Wall time: 7min 34s\n"
     ]
    }
   ],
   "source": [
    "%%time\n",
    "for product in product_list[0:3]:\n",
    "    spread = product_info[product][\"spread\"]\n",
    "    tranct = product_info[product][\"tranct\"]\n",
    "    tranct_ratio = product_info[product][\"tranct.ratio\"] \n",
    "    evaluate_signal(\"full.004\", all_dates, product, 2, 20, \n",
    "                    CORE_NUM, HEAD_PATH, SAVE_PATH,period=4096, split_str=\"2018\", tranct=tranct, \n",
    "                    max_spread=spread*1.1, tranct_ratio=tranct_ratio, atr_filter=20, save_path=\"signal result atr\",reverse=1)\n",
    "    \n",
    "# reverse=1\n",
    "# reverse=1\n",
    "# reverse=1\n",
    "# Wall time: 7min 34s\n"
   ]
  },
  {
   "cell_type": "code",
   "execution_count": 187,
   "metadata": {},
   "outputs": [
    {
     "name": "stdout",
     "output_type": "stream",
     "text": [
      "IF train sharpe  0.47643126300422955 test sharpe  0.8341947229426923\n",
      "IH train sharpe  0.26710057710930923 test sharpe  0.3447237723037833\n",
      "IC train sharpe  0.4940957389645839 test sharpe  1.00886456632605\n"
     ]
    }
   ],
   "source": [
    "for product in product_list[0:3]:\n",
    "    spread = product_info[product][\"spread\"]\n",
    "    signal_stat = load(HEAD_PATH+\"/signal result atr/\"+product+\".\"+\"full.004.4096\"+\".trend.pkl\")\n",
    "    train_stat = signal_stat[\"train.stat\"]\n",
    "    good_strat = (train_stat[\"final.result\"][\"avg.pnl\"]>2*spread)\n",
    "    train_pnl = train_stat[\"daily.ret\"].loc[:, good_strat].sum(axis=1)/sum(good_strat)\n",
    "    train_std = np.std(train_pnl)\n",
    "    train_pnl = train_pnl/train_std\n",
    "    test_stat = signal_stat[\"test.stat\"]\n",
    "    test_pnl = test_stat[\"daily.ret\"].loc[:, good_strat].sum(axis=1)/sum(good_strat)/train_std\n",
    "    print(product, \"train sharpe \", sharpe(train_pnl), \"test sharpe \", sharpe(test_pnl))\n",
    "\n",
    "# IF train sharpe  0.47643126300422955 test sharpe  0.8341947229426923\n",
    "# IH train sharpe  0.26710057710930923 test sharpe  0.3447237723037833\n",
    "# IC train sharpe  0.4940957389645839 test sharpe  1.00886456632605\n",
    "\n"
   ]
  },
  {
   "cell_type": "code",
   "execution_count": 188,
   "metadata": {},
   "outputs": [
    {
     "data": {
      "text/plain": [
       "\"train_mat['ret.4096.002'] ~ +train_mat['trade.imb.std.4096']+train_mat['trade.imb.volume.open.ratio.4096']+train_mat['kdj.k.trend.index.4096']+train_mat['kdj.j.range.4096']+train_mat['price.osci.std.4096']+train_mat['ma.dif.10.std.4096']+train_mat['price.osci.4096']+train_mat['total.trade.imb.range.4096']+train_mat['price.osci.range.4096']+train_mat['kdj.j.std.4096']+train_mat['trade.imb.range.4096']+0\""
      ]
     },
     "execution_count": 188,
     "metadata": {},
     "output_type": "execute_result"
    }
   ],
   "source": [
    "y_signal = \"ret.\"+str(period)+\".002\"\n",
    "formula = \"train_mat['\" + y_signal+\"'] ~ \"\n",
    "for signal in result[\"chosen.signals\"]:\n",
    "    formula = formula+\"+train_mat['\"+signal+\"']\"\n",
    "formula+=\"+0\"\n",
    "formula\n",
    "# \"train_mat['ret.4096.002'] ~ +train_mat['trade.imb.std.4096']+train_mat['trade.imb.volume.open.ratio.4096']+train_mat['kdj.k.trend.index.4096']+train_mat['kdj.j.range.4096']+train_mat['price.osci.std.4096']+train_mat['ma.dif.10.std.4096']+train_mat['price.osci.4096']+train_mat['total.trade.imb.range.4096']+train_mat['price.osci.range.4096']+train_mat['kdj.j.std.4096']+train_mat['trade.imb.range.4096']+0\""
   ]
  },
  {
   "cell_type": "code",
   "execution_count": 189,
   "metadata": {},
   "outputs": [
    {
     "data": {
      "text/plain": [
       "array([-0.08071327,  0.0239987 ,  0.04017221,  0.17733378,  0.52808262,\n",
       "       -0.07864863, -0.04797233, -0.05104639, -0.36791892, -0.24694516,\n",
       "        0.04592686])"
      ]
     },
     "execution_count": 189,
     "metadata": {},
     "output_type": "execute_result"
    }
   ],
   "source": [
    "fit_002_lm  = smf.ols(formula=formula, data=train_mat[train_mat.columns[:-2]]).fit()\n",
    "strat = \"full.002.\"+str(period)\n",
    "for product in product_list:\n",
    "    os.makedirs(SAVE_PATH+\"/tmp pkl/\"+product+\"/\"+strat, exist_ok=True)\n",
    "fit_coef = fit_002_lm.params.values\n",
    "fit_coef\n",
    "\n",
    "# array([-0.08071327,  0.0239987 ,  0.04017221,  0.17733378,  0.52808262,\n",
    "#        -0.07864863, -0.04797233, -0.05104639, -0.36791892, -0.24694516,\n",
    "#         0.04592686])"
   ]
  },
  {
   "cell_type": "code",
   "execution_count": 192,
   "metadata": {
    "scrolled": false
   },
   "outputs": [
    {
     "name": "stdout",
     "output_type": "stream",
     "text": [
      "IF\n",
      "trade.imb.std.4096                 -0.002082\n",
      "trade.imb.volume.open.ratio.4096    0.042249\n",
      "kdj.k.trend.index.4096              0.000547\n",
      "kdj.j.range.4096                    0.000064\n",
      "price.osci.std.4096                 0.000768\n",
      "ma.dif.10.std.4096                 -0.007422\n",
      "price.osci.4096                    -0.000486\n",
      "total.trade.imb.range.4096         -0.000146\n",
      "price.osci.range.4096              -0.000132\n",
      "kdj.j.std.4096                     -0.000368\n",
      "trade.imb.range.4096                0.000271\n",
      "dtype: float64\n",
      "IH\n",
      "trade.imb.std.4096                 -0.004567\n",
      "trade.imb.volume.open.ratio.4096    0.041116\n",
      "kdj.k.trend.index.4096              0.000590\n",
      "kdj.j.range.4096                    0.000092\n",
      "price.osci.std.4096                 0.001127\n",
      "ma.dif.10.std.4096                 -0.010601\n",
      "price.osci.4096                    -0.000534\n",
      "total.trade.imb.range.4096         -0.000251\n",
      "price.osci.range.4096              -0.000193\n",
      "kdj.j.std.4096                     -0.000517\n",
      "trade.imb.range.4096                0.000608\n",
      "dtype: float64\n",
      "IC\n",
      "trade.imb.std.4096                 -0.000943\n",
      "trade.imb.volume.open.ratio.4096    0.045472\n",
      "kdj.k.trend.index.4096              0.000637\n",
      "kdj.j.range.4096                    0.000031\n",
      "price.osci.std.4096                 0.000366\n",
      "ma.dif.10.std.4096                 -0.002389\n",
      "price.osci.4096                    -0.000555\n",
      "total.trade.imb.range.4096         -0.000070\n",
      "price.osci.range.4096              -0.000064\n",
      "kdj.j.std.4096                     -0.000170\n",
      "trade.imb.range.4096                0.000138\n",
      "dtype: float64\n",
      "Wall time: 1min 24s\n"
     ]
    },
    {
     "data": {
      "text/plain": [
       "''"
      ]
     },
     "execution_count": 192,
     "metadata": {},
     "output_type": "execute_result"
    }
   ],
   "source": [
    "%%time\n",
    "for product in product_list[0:3]:\n",
    "    print(product)\n",
    "    coef = fit_coef*train_std_mat[product][y_signal]/train_std_mat[product][result[\"chosen.signals\"]]\n",
    "    print(coef)\n",
    "    parLapply(CORE_NUM, all_dates, get_daily_pred, \n",
    "              product=product, signal_list=result[\"chosen.signals\"], \n",
    "              coef=coef, strat=strat, HEAD_PATH=SAVE_PATH)\n",
    ";\n",
    "\n",
    "# IF\n",
    "# trade.imb.std.4096                 -0.002082\n",
    "# trade.imb.volume.open.ratio.4096    0.042249\n",
    "# kdj.k.trend.index.4096              0.000547\n",
    "# kdj.j.range.4096                    0.000064\n",
    "# price.osci.std.4096                 0.000768\n",
    "# ma.dif.10.std.4096                 -0.007422\n",
    "# price.osci.4096                    -0.000486\n",
    "# total.trade.imb.range.4096         -0.000146\n",
    "# price.osci.range.4096              -0.000132\n",
    "# kdj.j.std.4096                     -0.000368\n",
    "# trade.imb.range.4096                0.000271\n",
    "# dtype: float64\n",
    "# IH\n",
    "# trade.imb.std.4096                 -0.004567\n",
    "# trade.imb.volume.open.ratio.4096    0.041116\n",
    "# kdj.k.trend.index.4096              0.000590\n",
    "# kdj.j.range.4096                    0.000092\n",
    "# price.osci.std.4096                 0.001127\n",
    "# ma.dif.10.std.4096                 -0.010601\n",
    "# price.osci.4096                    -0.000534\n",
    "# total.trade.imb.range.4096         -0.000251\n",
    "# price.osci.range.4096              -0.000193\n",
    "# kdj.j.std.4096                     -0.000517\n",
    "# trade.imb.range.4096                0.000608\n",
    "# dtype: float64\n",
    "# IC\n",
    "# trade.imb.std.4096                 -0.000943\n",
    "# trade.imb.volume.open.ratio.4096    0.045472\n",
    "# kdj.k.trend.index.4096              0.000637\n",
    "# kdj.j.range.4096                    0.000031\n",
    "# price.osci.std.4096                 0.000366\n",
    "# ma.dif.10.std.4096                 -0.002389\n",
    "# price.osci.4096                    -0.000555\n",
    "# total.trade.imb.range.4096         -0.000070\n",
    "# price.osci.range.4096              -0.000064\n",
    "# kdj.j.std.4096                     -0.000170\n",
    "# trade.imb.range.4096                0.000138\n",
    "# dtype: float64\n",
    "# Wall time: 1min 24s"
   ]
  },
  {
   "cell_type": "markdown",
   "metadata": {},
   "source": [
    "- now we try the ret.4096.002 as response"
   ]
  },
  {
   "cell_type": "code",
   "execution_count": 193,
   "metadata": {},
   "outputs": [
    {
     "name": "stdout",
     "output_type": "stream",
     "text": [
      "Wall time: 26.7 s\n"
     ]
    }
   ],
   "source": [
    "%%time\n",
    "for product in product_list[0:3]:\n",
    "    par_get_all_signal(\"full.002.4096\", all_dates, product, 4096)\n",
    "    \n",
    "## Wall time: 26.7 s\n"
   ]
  },
  {
   "cell_type": "code",
   "execution_count": 195,
   "metadata": {},
   "outputs": [
    {
     "name": "stdout",
     "output_type": "stream",
     "text": [
      "reverse=1\n",
      "reverse=1\n",
      "reverse=1\n",
      "Wall time: 31min 12s\n"
     ]
    }
   ],
   "source": [
    "%%time\n",
    "for product in product_list[0:3]:\n",
    "    spread = product_info[product][\"spread\"]\n",
    "    tranct = product_info[product][\"tranct\"]\n",
    "    tranct_ratio = product_info[product][\"tranct.ratio\"] \n",
    "    evaluate_signal(\"full.002\", all_dates, product, 2, 20, \n",
    "                    CORE_NUM, HEAD_PATH, SAVE_PATH,period=4096, split_str=\"2018\", tranct=tranct, \n",
    "                    max_spread=spread*1.1, tranct_ratio=tranct_ratio, atr_filter=20, save_path=\"signal result atr\",reverse=1)\n",
    "# reverse=1\n",
    "# reverse=1\n",
    "# reverse=1\n",
    "# reverse=1\n",
    "# Wall time: 6min 21s"
   ]
  },
  {
   "cell_type": "code",
   "execution_count": 196,
   "metadata": {},
   "outputs": [
    {
     "name": "stdout",
     "output_type": "stream",
     "text": [
      "IF train sharpe  0.33564776186891654 test sharpe  0.5582032102222334\n",
      "IH train sharpe  0.25432021970320245 test sharpe  0.02621074747861621\n",
      "IC train sharpe  nan test sharpe  nan\n"
     ]
    }
   ],
   "source": [
    "for product in product_list[0:3]:\n",
    "    spread = product_info[product][\"spread\"]\n",
    "    signal_stat = load(HEAD_PATH+\"/signal result atr/\"+product+\".\"+\"full.002.4096\"+\".trend.pkl\")\n",
    "    train_stat = signal_stat[\"train.stat\"]\n",
    "    good_strat = (train_stat[\"final.result\"][\"avg.pnl\"]>2*spread)\n",
    "    train_pnl = train_stat[\"daily.ret\"].loc[:, good_strat].sum(axis=1)/sum(good_strat)\n",
    "    test_stat = signal_stat[\"test.stat\"]\n",
    "    test_pnl = test_stat[\"daily.ret\"].loc[:, good_strat].sum(axis=1)/sum(good_strat)\n",
    "    print(product, \"train sharpe \", sharpe(train_pnl), \"test sharpe \", sharpe(test_pnl))\n",
    "\n",
    "## full.002\n",
    "# IF train sharpe  0.33564776186891654 test sharpe  0.5582032102222334\n",
    "# IH train sharpe  0.25432021970320245 test sharpe  0.02621074747861621\n",
    "# IC train sharpe  nan test sharpe  nan\n",
    "\n"
   ]
  },
  {
   "cell_type": "markdown",
   "metadata": {},
   "source": [
    "- now we try to use ret.001"
   ]
  },
  {
   "cell_type": "code",
   "execution_count": 197,
   "metadata": {},
   "outputs": [
    {
     "data": {
      "text/plain": [
       "array([-0.10486639,  0.01208159,  0.03208513,  0.25702868,  0.41385186,\n",
       "       -0.04727161, -0.06018811, -0.08956433, -0.30951457, -0.27876429,\n",
       "        0.14466355])"
      ]
     },
     "execution_count": 197,
     "metadata": {},
     "output_type": "execute_result"
    }
   ],
   "source": [
    "y_signal = \"ret.\"+str(period)+\".001\"\n",
    "formula = \"train_mat['\" + y_signal+\"'] ~ \"\n",
    "for signal in result[\"chosen.signals\"]:\n",
    "    formula = formula+\"+train_mat['\"+signal+\"']\"\n",
    "formula+=\"+0\"\n",
    "formula\n",
    "fit_001_lm  = smf.ols(formula=formula, data=train_mat[train_mat.columns[:-2]]).fit()\n",
    "strat = \"full.001.\"+str(period)\n",
    "for product in product_list:\n",
    "    os.makedirs(SAVE_PATH+\"/tmp pkl/\"+product+\"/\"+strat, exist_ok=True)\n",
    "fit_coef = fit_001_lm.params.values\n",
    "fit_coef\n",
    "\n",
    "# array([-0.10486639,  0.01208159,  0.03208513,  0.25702868,  0.41385186,\n",
    "#        -0.04727161, -0.06018811, -0.08956433, -0.30951457, -0.27876429,\n",
    "#         0.14466355])"
   ]
  },
  {
   "cell_type": "code",
   "execution_count": 198,
   "metadata": {
    "scrolled": false
   },
   "outputs": [
    {
     "name": "stdout",
     "output_type": "stream",
     "text": [
      "IF\n",
      "trade.imb.std.4096                 -0.002125\n",
      "trade.imb.volume.open.ratio.4096    0.016711\n",
      "kdj.k.trend.index.4096              0.000343\n",
      "kdj.j.range.4096                    0.000073\n",
      "price.osci.std.4096                 0.000473\n",
      "ma.dif.10.std.4096                 -0.003505\n",
      "price.osci.4096                    -0.000479\n",
      "total.trade.imb.range.4096         -0.000201\n",
      "price.osci.range.4096              -0.000087\n",
      "kdj.j.std.4096                     -0.000327\n",
      "trade.imb.range.4096                0.000670\n",
      "dtype: float64\n",
      "IH\n",
      "trade.imb.std.4096                 -0.004657\n",
      "trade.imb.volume.open.ratio.4096    0.016247\n",
      "kdj.k.trend.index.4096              0.000370\n",
      "kdj.j.range.4096                    0.000105\n",
      "price.osci.std.4096                 0.000693\n",
      "ma.dif.10.std.4096                 -0.005001\n",
      "price.osci.4096                    -0.000526\n",
      "total.trade.imb.range.4096         -0.000345\n",
      "price.osci.range.4096              -0.000127\n",
      "kdj.j.std.4096                     -0.000458\n",
      "trade.imb.range.4096                0.001503\n",
      "dtype: float64\n",
      "IC\n",
      "trade.imb.std.4096                 -0.000908\n",
      "trade.imb.volume.open.ratio.4096    0.016966\n",
      "kdj.k.trend.index.4096              0.000377\n",
      "kdj.j.range.4096                    0.000033\n",
      "price.osci.std.4096                 0.000212\n",
      "ma.dif.10.std.4096                 -0.001064\n",
      "price.osci.4096                    -0.000516\n",
      "total.trade.imb.range.4096         -0.000091\n",
      "price.osci.range.4096              -0.000040\n",
      "kdj.j.std.4096                     -0.000142\n",
      "trade.imb.range.4096                0.000322\n",
      "dtype: float64\n",
      "Wall time: 6min 11s\n"
     ]
    },
    {
     "data": {
      "text/plain": [
       "''"
      ]
     },
     "execution_count": 198,
     "metadata": {},
     "output_type": "execute_result"
    }
   ],
   "source": [
    "%%time\n",
    "for product in product_list[0:3]:\n",
    "    print(product)\n",
    "    coef = fit_coef*train_std_mat[product][y_signal]/train_std_mat[product][result[\"chosen.signals\"]]\n",
    "    print(coef)\n",
    "    parLapply(CORE_NUM, all_dates, get_daily_pred, \n",
    "              product=product, signal_list=result[\"chosen.signals\"], \n",
    "              coef=coef, strat=strat, HEAD_PATH=SAVE_PATH)\n",
    ";\n",
    "\n",
    "# IF\n",
    "# trade.imb.std.4096                 -0.002125\n",
    "# trade.imb.volume.open.ratio.4096    0.016711\n",
    "# kdj.k.trend.index.4096              0.000343\n",
    "# kdj.j.range.4096                    0.000073\n",
    "# price.osci.std.4096                 0.000473\n",
    "# ma.dif.10.std.4096                 -0.003505\n",
    "# price.osci.4096                    -0.000479\n",
    "# total.trade.imb.range.4096         -0.000201\n",
    "# price.osci.range.4096              -0.000087\n",
    "# kdj.j.std.4096                     -0.000327\n",
    "# trade.imb.range.4096                0.000670\n",
    "# dtype: float64\n",
    "# IH\n",
    "# trade.imb.std.4096                 -0.004657\n",
    "# trade.imb.volume.open.ratio.4096    0.016247\n",
    "# kdj.k.trend.index.4096              0.000370\n",
    "# kdj.j.range.4096                    0.000105\n",
    "# price.osci.std.4096                 0.000693\n",
    "# ma.dif.10.std.4096                 -0.005001\n",
    "# price.osci.4096                    -0.000526\n",
    "# total.trade.imb.range.4096         -0.000345\n",
    "# price.osci.range.4096              -0.000127\n",
    "# kdj.j.std.4096                     -0.000458\n",
    "# trade.imb.range.4096                0.001503\n",
    "# dtype: float64\n",
    "# IC\n",
    "# trade.imb.std.4096                 -0.000908\n",
    "# trade.imb.volume.open.ratio.4096    0.016966\n",
    "# kdj.k.trend.index.4096              0.000377\n",
    "# kdj.j.range.4096                    0.000033\n",
    "# price.osci.std.4096                 0.000212\n",
    "# ma.dif.10.std.4096                 -0.001064\n",
    "# price.osci.4096                    -0.000516\n",
    "# total.trade.imb.range.4096         -0.000091\n",
    "# price.osci.range.4096              -0.000040\n",
    "# kdj.j.std.4096                     -0.000142\n",
    "# trade.imb.range.4096                0.000322\n",
    "# dtype: float64\n",
    "# Wall time: 6min 11s"
   ]
  },
  {
   "cell_type": "code",
   "execution_count": 199,
   "metadata": {},
   "outputs": [
    {
     "name": "stdout",
     "output_type": "stream",
     "text": [
      "Wall time: 57.9 s\n"
     ]
    }
   ],
   "source": [
    "%%time\n",
    "for product in product_list[0:3]:\n",
    "    par_get_all_signal(\"full.001.4096\", all_dates, product, 4096)\n",
    "\n",
    "## Wall time:  57.9 s"
   ]
  },
  {
   "cell_type": "code",
   "execution_count": 200,
   "metadata": {},
   "outputs": [
    {
     "name": "stdout",
     "output_type": "stream",
     "text": [
      "reverse=1\n",
      "reverse=1\n",
      "reverse=1\n",
      "Wall time: 23min 1s\n"
     ]
    }
   ],
   "source": [
    "%%time\n",
    "for product in product_list[0:3]:\n",
    "    spread = product_info[product][\"spread\"]\n",
    "    tranct = product_info[product][\"tranct\"]\n",
    "    tranct_ratio = product_info[product][\"tranct.ratio\"] \n",
    "    evaluate_signal(\"full.001\", all_dates, product, 2, 20, \n",
    "                    CORE_NUM, HEAD_PATH, SAVE_PATH,period=4096, split_str=\"2018\", tranct=tranct, \n",
    "                    max_spread=spread*1.1, tranct_ratio=tranct_ratio, atr_filter=20, save_path=\"signal result atr\",reverse=1)\n",
    "    \n",
    "# reverse=1\n",
    "# reverse=1\n",
    "# reverse=1\n",
    "# Wall time: 23min 1s\n",
    "\n"
   ]
  },
  {
   "cell_type": "code",
   "execution_count": 343,
   "metadata": {},
   "outputs": [
    {
     "name": "stdout",
     "output_type": "stream",
     "text": [
      "IF train sharpe  0.4316236827423578 test sharpe  1.190738921325829\n",
      "IH train sharpe  0.643648354996422 test sharpe  -0.2844719259497797\n",
      "IC train sharpe  nan test sharpe  nan\n",
      "Wall time: 63 ms\n"
     ]
    }
   ],
   "source": [
    "%%time\n",
    "for product in product_list[0:3]:\n",
    "    spread = product_info[product][\"spread\"]\n",
    "    signal_stat = load(HEAD_PATH+\"/signal result atr/\"+product+\".\"+\"full.001.4096\"+\".trend.pkl\")\n",
    "    train_stat = signal_stat[\"train.stat\"]\n",
    "    good_strat = (train_stat[\"final.result\"][\"avg.pnl\"]>6*spread)\n",
    "    train_pnl = train_stat[\"daily.ret\"].loc[:, good_strat].sum(axis=1)/sum(good_strat)\n",
    "    test_stat = signal_stat[\"test.stat\"]\n",
    "    test_pnl = test_stat[\"daily.ret\"].loc[:, good_strat].sum(axis=1)/sum(good_strat)\n",
    "    print(product, \"train sharpe \", sharpe(train_pnl), \"test sharpe \", sharpe(test_pnl))\n",
    "\n",
    "## full.001\n",
    "# IF train sharpe  0.41837205143258777 test sharpe  1.1802703667585477\n",
    "# IH train sharpe  0.4684780442931347 test sharpe  -0.3105269082625235\n",
    "# IC train sharpe  0.14649207849214702 test sharpe  1.050219788618738\n",
    "# Wall time: 88.5 ms\n",
    "\n",
    "\n",
    "## full.002\n",
    "# IF train sharpe  0.33564776186891654 test sharpe  0.5582032102222334\n",
    "# IH train sharpe  0.25432021970320245 test sharpe  0.02621074747861621\n",
    "# IC train sharpe  nan test sharpe  nan\n",
    "\n",
    "\n",
    "## full.004\n",
    "# IF train sharpe  0.47643126300422955 test sharpe  0.8341947229426923\n",
    "# IH train sharpe  0.26710057710930923 test sharpe  0.3447237723037833\n",
    "# IC train sharpe  0.4940957389645839 test sharpe  1.00886456632605\n",
    "\n",
    "## original full\n",
    "# IF train sharpe  0.4982541328255545 test sharpe  0.8939045222957637\n",
    "# IH train sharpe  0.21747502986522438 test sharpe  0.19000986556739546\n",
    "# IC train sharpe  0.5704744572663202 test sharpe  0.9975516857023627\n",
    "\n",
    "\n"
   ]
  },
  {
   "cell_type": "code",
   "execution_count": 339,
   "metadata": {},
   "outputs": [
    {
     "data": {
      "text/plain": [
       "[<matplotlib.lines.Line2D at 0x19b5919f668>]"
      ]
     },
     "execution_count": 339,
     "metadata": {},
     "output_type": "execute_result"
    },
    {
     "data": {
      "image/png": "[encoded data removed]",
      "text/plain": [
       "<Figure size 432x288 with 1 Axes>"
      ]
     },
     "metadata": {
      "needs_background": "light"
     },
     "output_type": "display_data"
    }
   ],
   "source": [
    "plt.plot(train_pnl)"
   ]
  },
  {
   "cell_type": "code",
   "execution_count": 202,
   "metadata": {},
   "outputs": [],
   "source": [
    "\n",
    "import statsmodels.formula.api as smf\n",
    "def step_aic(model, exog, endog, **kwargs):\n",
    "    \"\"\"\n",
    "    This select the best exogenous variables with AIC\n",
    "    Both exog and endog values can be either str or list.\n",
    "    (Endog list is for the Binomial family.)\n",
    "\n",
    "    Note: This adopt only \"forward\" selection\n",
    "\n",
    "    Args:\n",
    "        model: model from statsmodels.formula.api\n",
    "        exog (str or list): exogenous variables\n",
    "        endog (str or list): endogenous variables\n",
    "        kwargs: extra keyword argments for model (e.g., data, family)\n",
    "\n",
    "    Returns:\n",
    "        model: a model that seems to have the smallest AIC\n",
    "    \"\"\"\n",
    "    for key in kwargs.keys():\n",
    "        df = kwargs[key]\n",
    "    df_name = \"df\"    \n",
    "    remaining = set(exog)\n",
    "    \n",
    "    exog = [df_name+\"['\"+s+\"']\" for s in exog]\n",
    "    endog = [df_name+\"['\"+s+\"']\" for s in endog]\n",
    "    \n",
    "        \n",
    "    # exog, endogは強制的にリスト形式に変換しておく\n",
    "    exog = np.r_[[exog]].flatten()\n",
    "    endog = np.r_[[endog]].flatten()\n",
    "    selected = []  # 採用が確定された要因\n",
    "    chosen_signals = []\n",
    "    # 定数項のみのAICを計算\n",
    "    formula_head = ' + '.join(endog) + ' ~ '\n",
    "    formula = formula_head + '1'\n",
    "    #aic = model(formula=formula, **kwargs).fit().aic\n",
    "    aic = model(formula=formula, data=df).fit().aic\n",
    "    print('AIC: {}, formula: {}'.format(round(aic, 3), formula))\n",
    "\n",
    "    current_score, best_new_score = np.ones(2) * aic\n",
    "\n",
    "    # 全要因を採択するか，どの要因を追加してもAICが上がらなければ終了\n",
    "    while remaining and current_score == best_new_score:\n",
    "        scores_with_candidates = []\n",
    "        for candidate in remaining:\n",
    "\n",
    "            # 残っている要因を1つずつ追加したときのAICを計算\n",
    "            formula_tail = ' + '.join(selected + [df_name+\"['\"+candidate+\"']\"])\n",
    "            formula = formula_head + formula_tail\n",
    "            #aic = model(formula=formula, **kwargs).fit().aic\n",
    "            aic = model(formula=formula, data=df).fit().aic\n",
    "            print('AIC: {}, formula: {}'.format(round(aic, 3), formula))\n",
    "\n",
    "            scores_with_candidates.append((aic, candidate))\n",
    "\n",
    "        # 最もAICが小さかった要因をbest_candidateとする\n",
    "        scores_with_candidates.sort()\n",
    "        scores_with_candidates.reverse()\n",
    "        best_new_score, best_candidate = scores_with_candidates.pop()\n",
    "\n",
    "        # 候補要因追加でAICが下がったならば，それを確定要因として追加する\n",
    "        \n",
    "        if best_new_score < current_score:\n",
    "            remaining.remove(best_candidate)\n",
    "            selected.append(df_name+\"['\"+best_candidate+\"']\")\n",
    "            chosen_signals.append(best_candidate)\n",
    "            current_score = best_new_score\n",
    "\n",
    "    formula = formula_head + ' + '.join(selected)\n",
    "    print('The best formula: {}'.format(formula))\n",
    "    #return model(formula, **kwargs).fit()\n",
    "    result = OrderedDict([(\"model\", model), (\"chosen.signals\", chosen_signals)])\n",
    "    #return model(formula, data=df).fit()\n",
    "    return result"
   ]
  },
  {
   "cell_type": "code",
   "execution_count": 203,
   "metadata": {},
   "outputs": [
    {
     "name": "stdout",
     "output_type": "stream",
     "text": [
      "AIC: 15678.566, formula: df['ret.4096'] ~ 1\n",
      "AIC: 15680.059, formula: df['ret.4096'] ~ df['kdj.k.range.4096']\n",
      "AIC: 15680.45, formula: df['ret.4096'] ~ df['dbook.4096']\n",
      "AIC: 15680.054, formula: df['ret.4096'] ~ df['kdj.k.4096']\n",
      "AIC: 15680.502, formula: df['ret.4096'] ~ df['total.trade.imb.4096']\n",
      "AIC: 15680.423, formula: df['ret.4096'] ~ df['nr.trend.index.4096']\n",
      "AIC: 15680.545, formula: df['ret.4096'] ~ df['range.pos.volume.open.ratio.4096']\n",
      "AIC: 15680.539, formula: df['ret.4096'] ~ df['nr.4096']\n",
      "AIC: 15680.292, formula: df['ret.4096'] ~ df['nr.volume.open.ratio.4096']\n",
      "AIC: 15680.342, formula: df['ret.4096'] ~ df['kdj.k.volume.open.ratio.4096']\n",
      "AIC: 15680.387, formula: df['ret.4096'] ~ df['total.trade.imb.volume.open.ratio.4096']\n",
      "AIC: 15680.307, formula: df['ret.4096'] ~ df['ma.dif.10.4096']\n",
      "AIC: 15680.41, formula: df['ret.4096'] ~ df['dbook.volume.open.ratio.4096']\n",
      "AIC: 15680.255, formula: df['ret.4096'] ~ df['trade.imb.trend.index.4096']\n",
      "AIC: 15678.685, formula: df['ret.4096'] ~ df['nr.std.4096']\n",
      "AIC: 15675.653, formula: df['ret.4096'] ~ df['trade.imb.std.4096']\n",
      "AIC: 15679.978, formula: df['ret.4096'] ~ df['total.trade.imb.trend.index.4096']\n",
      "AIC: 15680.543, formula: df['ret.4096'] ~ df['price.osci.std.4096']\n",
      "AIC: 15680.565, formula: df['ret.4096'] ~ df['dbook.trend.index.4096']\n",
      "AIC: 15679.103, formula: df['ret.4096'] ~ df['ma.dif.10.volume.open.ratio.4096']\n",
      "AIC: 15680.325, formula: df['ret.4096'] ~ df['range.pos.trend.index.4096']\n",
      "AIC: 15680.564, formula: df['ret.4096'] ~ df['price.osci.volume.open.ratio.4096']\n",
      "AIC: 15676.388, formula: df['ret.4096'] ~ df['ma.dif.10.std.4096']\n",
      "AIC: 15679.859, formula: df['ret.4096'] ~ df['dbook.range.4096']\n",
      "AIC: 15680.266, formula: df['ret.4096'] ~ df['kdj.j.trend.index.4096']\n",
      "AIC: 15680.543, formula: df['ret.4096'] ~ df['range.pos.4096']\n",
      "AIC: 15680.256, formula: df['ret.4096'] ~ df['ma.dif.10.trend.index.4096']\n",
      "AIC: 15680.561, formula: df['ret.4096'] ~ df['kdj.j.volume.open.ratio.4096']\n",
      "AIC: 15680.526, formula: df['ret.4096'] ~ df['trade.imb.volume.open.ratio.4096']\n",
      "AIC: 15680.21, formula: df['ret.4096'] ~ df['kdj.k.std.4096']\n",
      "AIC: 15679.737, formula: df['ret.4096'] ~ df['range.pos.range.4096']\n",
      "AIC: 15676.186, formula: df['ret.4096'] ~ df['ma.dif.10.range.4096']\n",
      "AIC: 15680.071, formula: df['ret.4096'] ~ df['kdj.k.trend.index.4096']\n",
      "AIC: 15676.438, formula: df['ret.4096'] ~ df['trade.imb.range.4096']\n",
      "AIC: 15678.641, formula: df['ret.4096'] ~ df['dbook.std.4096']\n",
      "AIC: 15679.541, formula: df['ret.4096'] ~ df['range.pos.std.4096']\n",
      "AIC: 15680.445, formula: df['ret.4096'] ~ df['price.osci.4096']\n",
      "AIC: 15680.093, formula: df['ret.4096'] ~ df['price.osci.trend.index.4096']\n",
      "AIC: 15678.384, formula: df['ret.4096'] ~ df['nr.range.4096']\n",
      "AIC: 15676.232, formula: df['ret.4096'] ~ df['total.trade.imb.range.4096']\n",
      "AIC: 15680.395, formula: df['ret.4096'] ~ df['trade.imb.4096']\n",
      "AIC: 15679.426, formula: df['ret.4096'] ~ df['kdj.j.range.4096']\n",
      "AIC: 15679.528, formula: df['ret.4096'] ~ df['kdj.j.std.4096']\n",
      "AIC: 15680.501, formula: df['ret.4096'] ~ df['kdj.j.4096']\n",
      "AIC: 15680.407, formula: df['ret.4096'] ~ df['price.osci.range.4096']\n",
      "AIC: 15675.843, formula: df['ret.4096'] ~ df['total.trade.imb.std.4096']\n",
      "AIC: 15677.652, formula: df['ret.4096'] ~ df['trade.imb.std.4096'] + df['kdj.k.range.4096']\n",
      "AIC: 15677.467, formula: df['ret.4096'] ~ df['trade.imb.std.4096'] + df['dbook.4096']\n",
      "AIC: 15676.151, formula: df['ret.4096'] ~ df['trade.imb.std.4096'] + df['kdj.k.4096']\n",
      "AIC: 15676.857, formula: df['ret.4096'] ~ df['trade.imb.std.4096'] + df['total.trade.imb.4096']\n",
      "AIC: 15676.437, formula: df['ret.4096'] ~ df['trade.imb.std.4096'] + df['nr.trend.index.4096']\n",
      "AIC: 15677.477, formula: df['ret.4096'] ~ df['trade.imb.std.4096'] + df['range.pos.volume.open.ratio.4096']\n",
      "AIC: 15676.719, formula: df['ret.4096'] ~ df['trade.imb.std.4096'] + df['nr.4096']\n",
      "AIC: 15677.574, formula: df['ret.4096'] ~ df['trade.imb.std.4096'] + df['nr.volume.open.ratio.4096']\n",
      "AIC: 15676.657, formula: df['ret.4096'] ~ df['trade.imb.std.4096'] + df['kdj.k.volume.open.ratio.4096']\n",
      "AIC: 15677.316, formula: df['ret.4096'] ~ df['trade.imb.std.4096'] + df['total.trade.imb.volume.open.ratio.4096']\n",
      "AIC: 15677.576, formula: df['ret.4096'] ~ df['trade.imb.std.4096'] + df['ma.dif.10.4096']\n",
      "AIC: 15677.447, formula: df['ret.4096'] ~ df['trade.imb.std.4096'] + df['dbook.volume.open.ratio.4096']\n",
      "AIC: 15676.776, formula: df['ret.4096'] ~ df['trade.imb.std.4096'] + df['trade.imb.trend.index.4096']\n",
      "AIC: 15677.488, formula: df['ret.4096'] ~ df['trade.imb.std.4096'] + df['nr.std.4096']\n",
      "AIC: 15677.497, formula: df['ret.4096'] ~ df['trade.imb.std.4096'] + df['total.trade.imb.trend.index.4096']\n",
      "AIC: 15677.201, formula: df['ret.4096'] ~ df['trade.imb.std.4096'] + df['price.osci.std.4096']\n",
      "AIC: 15676.948, formula: df['ret.4096'] ~ df['trade.imb.std.4096'] + df['dbook.trend.index.4096']\n",
      "AIC: 15677.434, formula: df['ret.4096'] ~ df['trade.imb.std.4096'] + df['ma.dif.10.volume.open.ratio.4096']\n",
      "AIC: 15676.601, formula: df['ret.4096'] ~ df['trade.imb.std.4096'] + df['range.pos.trend.index.4096']\n",
      "AIC: 15677.304, formula: df['ret.4096'] ~ df['trade.imb.std.4096'] + df['price.osci.volume.open.ratio.4096']\n",
      "AIC: 15676.182, formula: df['ret.4096'] ~ df['trade.imb.std.4096'] + df['ma.dif.10.std.4096']\n",
      "AIC: 15677.516, formula: df['ret.4096'] ~ df['trade.imb.std.4096'] + df['dbook.range.4096']\n",
      "AIC: 15676.602, formula: df['ret.4096'] ~ df['trade.imb.std.4096'] + df['kdj.j.trend.index.4096']\n",
      "AIC: 15677.204, formula: df['ret.4096'] ~ df['trade.imb.std.4096'] + df['range.pos.4096']\n",
      "AIC: 15677.636, formula: df['ret.4096'] ~ df['trade.imb.std.4096'] + df['ma.dif.10.trend.index.4096']\n",
      "AIC: 15677.322, formula: df['ret.4096'] ~ df['trade.imb.std.4096'] + df['kdj.j.volume.open.ratio.4096']\n",
      "AIC: 15673.588, formula: df['ret.4096'] ~ df['trade.imb.std.4096'] + df['trade.imb.volume.open.ratio.4096']\n",
      "AIC: 15677.637, formula: df['ret.4096'] ~ df['trade.imb.std.4096'] + df['kdj.k.std.4096']\n",
      "AIC: 15677.634, formula: df['ret.4096'] ~ df['trade.imb.std.4096'] + df['range.pos.range.4096']\n",
      "AIC: 15676.096, formula: df['ret.4096'] ~ df['trade.imb.std.4096'] + df['ma.dif.10.range.4096']\n",
      "AIC: 15676.203, formula: df['ret.4096'] ~ df['trade.imb.std.4096'] + df['kdj.k.trend.index.4096']\n",
      "AIC: 15677.413, formula: df['ret.4096'] ~ df['trade.imb.std.4096'] + df['trade.imb.range.4096']\n",
      "AIC: 15677.609, formula: df['ret.4096'] ~ df['trade.imb.std.4096'] + df['dbook.std.4096']\n",
      "AIC: 15677.61, formula: df['ret.4096'] ~ df['trade.imb.std.4096'] + df['range.pos.std.4096']\n",
      "AIC: 15676.88, formula: df['ret.4096'] ~ df['trade.imb.std.4096'] + df['price.osci.4096']\n",
      "AIC: 15676.24, formula: df['ret.4096'] ~ df['trade.imb.std.4096'] + df['price.osci.trend.index.4096']\n",
      "AIC: 15677.405, formula: df['ret.4096'] ~ df['trade.imb.std.4096'] + df['nr.range.4096']\n",
      "AIC: 15677.536, formula: df['ret.4096'] ~ df['trade.imb.std.4096'] + df['total.trade.imb.range.4096']\n",
      "AIC: 15672.131, formula: df['ret.4096'] ~ df['trade.imb.std.4096'] + df['trade.imb.4096']\n",
      "AIC: 15677.508, formula: df['ret.4096'] ~ df['trade.imb.std.4096'] + df['kdj.j.range.4096']\n",
      "AIC: 15677.555, formula: df['ret.4096'] ~ df['trade.imb.std.4096'] + df['kdj.j.std.4096']\n",
      "AIC: 15677.148, formula: df['ret.4096'] ~ df['trade.imb.std.4096'] + df['kdj.j.4096']\n",
      "AIC: 15677.479, formula: df['ret.4096'] ~ df['trade.imb.std.4096'] + df['price.osci.range.4096']\n",
      "AIC: 15677.461, formula: df['ret.4096'] ~ df['trade.imb.std.4096'] + df['total.trade.imb.std.4096']\n",
      "AIC: 15673.961, formula: df['ret.4096'] ~ df['trade.imb.std.4096'] + df['trade.imb.4096'] + df['kdj.k.range.4096']\n",
      "AIC: 15673.654, formula: df['ret.4096'] ~ df['trade.imb.std.4096'] + df['trade.imb.4096'] + df['dbook.4096']\n",
      "AIC: 15673.789, formula: df['ret.4096'] ~ df['trade.imb.std.4096'] + df['trade.imb.4096'] + df['kdj.k.4096']\n",
      "AIC: 15672.617, formula: df['ret.4096'] ~ df['trade.imb.std.4096'] + df['trade.imb.4096'] + df['total.trade.imb.4096']\n",
      "AIC: 15673.72, formula: df['ret.4096'] ~ df['trade.imb.std.4096'] + df['trade.imb.4096'] + df['nr.trend.index.4096']\n",
      "AIC: 15674.13, formula: df['ret.4096'] ~ df['trade.imb.std.4096'] + df['trade.imb.4096'] + df['range.pos.volume.open.ratio.4096']\n",
      "AIC: 15673.959, formula: df['ret.4096'] ~ df['trade.imb.std.4096'] + df['trade.imb.4096'] + df['nr.4096']\n",
      "AIC: 15674.112, formula: df['ret.4096'] ~ df['trade.imb.std.4096'] + df['trade.imb.4096'] + df['nr.volume.open.ratio.4096']\n",
      "AIC: 15673.935, formula: df['ret.4096'] ~ df['trade.imb.std.4096'] + df['trade.imb.4096'] + df['kdj.k.volume.open.ratio.4096']\n",
      "AIC: 15673.98, formula: df['ret.4096'] ~ df['trade.imb.std.4096'] + df['trade.imb.4096'] + df['total.trade.imb.volume.open.ratio.4096']\n",
      "AIC: 15674.129, formula: df['ret.4096'] ~ df['trade.imb.std.4096'] + df['trade.imb.4096'] + df['ma.dif.10.4096']\n",
      "AIC: 15673.899, formula: df['ret.4096'] ~ df['trade.imb.std.4096'] + df['trade.imb.4096'] + df['dbook.volume.open.ratio.4096']\n",
      "AIC: 15674.021, formula: df['ret.4096'] ~ df['trade.imb.std.4096'] + df['trade.imb.4096'] + df['trade.imb.trend.index.4096']\n",
      "AIC: 15673.879, formula: df['ret.4096'] ~ df['trade.imb.std.4096'] + df['trade.imb.4096'] + df['nr.std.4096']\n",
      "AIC: 15673.352, formula: df['ret.4096'] ~ df['trade.imb.std.4096'] + df['trade.imb.4096'] + df['total.trade.imb.trend.index.4096']\n",
      "AIC: 15674.03, formula: df['ret.4096'] ~ df['trade.imb.std.4096'] + df['trade.imb.4096'] + df['price.osci.std.4096']\n",
      "AIC: 15674.131, formula: df['ret.4096'] ~ df['trade.imb.std.4096'] + df['trade.imb.4096'] + df['dbook.trend.index.4096']\n",
      "AIC: 15673.691, formula: df['ret.4096'] ~ df['trade.imb.std.4096'] + df['trade.imb.4096'] + df['ma.dif.10.volume.open.ratio.4096']\n",
      "AIC: 15673.843, formula: df['ret.4096'] ~ df['trade.imb.std.4096'] + df['trade.imb.4096'] + df['range.pos.trend.index.4096']\n",
      "AIC: 15674.124, formula: df['ret.4096'] ~ df['trade.imb.std.4096'] + df['trade.imb.4096'] + df['price.osci.volume.open.ratio.4096']\n",
      "AIC: 15672.837, formula: df['ret.4096'] ~ df['trade.imb.std.4096'] + df['trade.imb.4096'] + df['ma.dif.10.std.4096']\n",
      "AIC: 15674.111, formula: df['ret.4096'] ~ df['trade.imb.std.4096'] + df['trade.imb.4096'] + df['dbook.range.4096']\n",
      "AIC: 15673.876, formula: df['ret.4096'] ~ df['trade.imb.std.4096'] + df['trade.imb.4096'] + df['kdj.j.trend.index.4096']\n",
      "AIC: 15674.106, formula: df['ret.4096'] ~ df['trade.imb.std.4096'] + df['trade.imb.4096'] + df['range.pos.4096']\n",
      "AIC: 15674.115, formula: df['ret.4096'] ~ df['trade.imb.std.4096'] + df['trade.imb.4096'] + df['ma.dif.10.trend.index.4096']\n",
      "AIC: 15674.12, formula: df['ret.4096'] ~ df['trade.imb.std.4096'] + df['trade.imb.4096'] + df['kdj.j.volume.open.ratio.4096']\n",
      "AIC: 15673.973, formula: df['ret.4096'] ~ df['trade.imb.std.4096'] + df['trade.imb.4096'] + df['trade.imb.volume.open.ratio.4096']\n",
      "AIC: 15674.071, formula: df['ret.4096'] ~ df['trade.imb.std.4096'] + df['trade.imb.4096'] + df['kdj.k.std.4096']\n",
      "AIC: 15673.969, formula: df['ret.4096'] ~ df['trade.imb.std.4096'] + df['trade.imb.4096'] + df['range.pos.range.4096']\n",
      "AIC: 15672.736, formula: df['ret.4096'] ~ df['trade.imb.std.4096'] + df['trade.imb.4096'] + df['ma.dif.10.range.4096']\n",
      "AIC: 15673.731, formula: df['ret.4096'] ~ df['trade.imb.std.4096'] + df['trade.imb.4096'] + df['kdj.k.trend.index.4096']\n",
      "AIC: 15674.128, formula: df['ret.4096'] ~ df['trade.imb.std.4096'] + df['trade.imb.4096'] + df['trade.imb.range.4096']\n",
      "AIC: 15673.701, formula: df['ret.4096'] ~ df['trade.imb.std.4096'] + df['trade.imb.4096'] + df['dbook.std.4096']\n",
      "AIC: 15673.92, formula: df['ret.4096'] ~ df['trade.imb.std.4096'] + df['trade.imb.4096'] + df['range.pos.std.4096']\n",
      "AIC: 15674.033, formula: df['ret.4096'] ~ df['trade.imb.std.4096'] + df['trade.imb.4096'] + df['price.osci.4096']\n",
      "AIC: 15673.676, formula: df['ret.4096'] ~ df['trade.imb.std.4096'] + df['trade.imb.4096'] + df['price.osci.trend.index.4096']\n",
      "AIC: 15673.76, formula: df['ret.4096'] ~ df['trade.imb.std.4096'] + df['trade.imb.4096'] + df['nr.range.4096']\n",
      "AIC: 15673.246, formula: df['ret.4096'] ~ df['trade.imb.std.4096'] + df['trade.imb.4096'] + df['total.trade.imb.range.4096']\n",
      "AIC: 15673.657, formula: df['ret.4096'] ~ df['trade.imb.std.4096'] + df['trade.imb.4096'] + df['kdj.j.range.4096']\n",
      "AIC: 15673.768, formula: df['ret.4096'] ~ df['trade.imb.std.4096'] + df['trade.imb.4096'] + df['kdj.j.std.4096']\n",
      "AIC: 15674.105, formula: df['ret.4096'] ~ df['trade.imb.std.4096'] + df['trade.imb.4096'] + df['kdj.j.4096']\n",
      "AIC: 15674.129, formula: df['ret.4096'] ~ df['trade.imb.std.4096'] + df['trade.imb.4096'] + df['price.osci.range.4096']\n",
      "AIC: 15673.4, formula: df['ret.4096'] ~ df['trade.imb.std.4096'] + df['trade.imb.4096'] + df['total.trade.imb.std.4096']\n",
      "The best formula: df['ret.4096'] ~ df['trade.imb.std.4096'] + df['trade.imb.4096']\n"
     ]
    }
   ],
   "source": [
    "fwd_model = step_aic(smf.ols, train_mat.columns[:-4], [\"ret.\"+str(period)], data=train_mat)\n",
    "## The best formula: The best formula: df['ret.4096'] ~ df['trade.imb.std.4096'] + df['trade.imb.4096']"
   ]
  },
  {
   "cell_type": "code",
   "execution_count": 204,
   "metadata": {},
   "outputs": [
    {
     "data": {
      "text/plain": [
       "\"train_mat['ret.4096'] ~ +train_mat['trade.imb.std.4096']+train_mat['trade.imb.4096']+0\""
      ]
     },
     "execution_count": 204,
     "metadata": {},
     "output_type": "execute_result"
    }
   ],
   "source": [
    "y_signal = \"ret.\"+str(period)\n",
    "formula = \"train_mat['\" + y_signal+\"'] ~ \"\n",
    "for signal in fwd_model[\"chosen.signals\"]:\n",
    "    formula = formula+\"+train_mat['\"+signal+\"']\"\n",
    "formula+=\"+0\"\n",
    "formula\n",
    "## \"train_mat['ret.4096'] ~ +train_mat['trade.imb.std.4096']+train_mat['trade.imb.4096']+0\"96']+0\"\n",
    "\n"
   ]
  },
  {
   "cell_type": "code",
   "execution_count": 206,
   "metadata": {},
   "outputs": [
    {
     "name": "stdout",
     "output_type": "stream",
     "text": [
      "                                  OLS Regression Results                                  \n",
      "==========================================================================================\n",
      "Dep. Variable:     train_mat['ret.4096']   R-squared (uncentered):                   0.002\n",
      "Model:                               OLS   Adj. R-squared (uncentered):              0.002\n",
      "Method:                    Least Squares   F-statistic:                              5.322\n",
      "Date:                   Thu, 16 Jul 2020   Prob (F-statistic):                     0.00491\n",
      "Time:                           19:40:56   Log-Likelihood:                         -7834.4\n",
      "No. Observations:                   5524   AIC:                                  1.567e+04\n",
      "Df Residuals:                       5522   BIC:                                  1.569e+04\n",
      "Df Model:                              2                                                  \n",
      "Covariance Type:               nonrobust                                                  \n",
      "===================================================================================================\n",
      "                                      coef    std err          t      P>|t|      [0.025      0.975]\n",
      "---------------------------------------------------------------------------------------------------\n",
      "train_mat['trade.imb.std.4096']    -0.0530      0.017     -3.063      0.002      -0.087      -0.019\n",
      "train_mat['trade.imb.4096']         0.0203      0.012      1.681      0.093      -0.003       0.044\n",
      "==============================================================================\n",
      "Omnibus:                     2008.537   Durbin-Watson:                   2.045\n",
      "Prob(Omnibus):                  0.000   Jarque-Bera (JB):            49040.806\n",
      "Skew:                          -1.180   Prob(JB):                         0.00\n",
      "Kurtosis:                      17.405   Cond. No.                         3.07\n",
      "==============================================================================\n",
      "\n",
      "Warnings:\n",
      "[1] Standard Errors assume that the covariance matrix of the errors is correctly specified.\n"
     ]
    }
   ],
   "source": [
    "formula\n",
    "fit_lm  = smf.ols(formula=formula, data=train_mat[train_mat.columns]).fit()\n",
    "print(fit_lm.summary())\n",
    "\n",
    "#    OLS Regression Results                                  \n",
    "# ==========================================================================================\n",
    "# Dep. Variable:     train_mat['ret.4096']   R-squared (uncentered):                   0.002\n",
    "# Model:                               OLS   Adj. R-squared (uncentered):              0.002\n",
    "# Method:                    Least Squares   F-statistic:                              5.322\n",
    "# Date:                   Thu, 16 Jul 2020   Prob (F-statistic):                     0.00491\n",
    "# Time:                           19:40:56   Log-Likelihood:                         -7834.4\n",
    "# No. Observations:                   5524   AIC:                                  1.567e+04\n",
    "# Df Residuals:                       5522   BIC:                                  1.569e+04\n",
    "# Df Model:                              2                                                  \n",
    "# Covariance Type:               nonrobust                                                  \n",
    "# ===================================================================================================\n",
    "#                                       coef    std err          t      P>|t|      [0.025      0.975]\n",
    "# ---------------------------------------------------------------------------------------------------\n",
    "# train_mat['trade.imb.std.4096']    -0.0530      0.017     -3.063      0.002      -0.087      -0.019\n",
    "# train_mat['trade.imb.4096']         0.0203      0.012      1.681      0.093      -0.003       0.044\n",
    "# ==============================================================================\n",
    "# Omnibus:                     2008.537   Durbin-Watson:                   2.045\n",
    "# Prob(Omnibus):                  0.000   Jarque-Bera (JB):            49040.806\n",
    "# Skew:                          -1.180   Prob(JB):                         0.00\n",
    "# Kurtosis:                      17.405   Cond. No.                         3.07\n",
    "# ==============================================================================\n",
    "\n",
    "# Warnings:\n",
    "# [1] Standard Errors assume that the covariance matrix of the errors is correctly specified."
   ]
  },
  {
   "cell_type": "code",
   "execution_count": 207,
   "metadata": {},
   "outputs": [
    {
     "data": {
      "text/plain": [
       "array([-0.05295827,  0.02028363])"
      ]
     },
     "execution_count": 207,
     "metadata": {},
     "output_type": "execute_result"
    }
   ],
   "source": [
    "strat = \"full.\"+str(period)\n",
    "for product in product_list:\n",
    "    os.makedirs(HEAD_PATH+\"/tmp pkl/\"+product+\"/\"+strat, exist_ok=True)\n",
    "fit_coef = fit_lm.params.values\n",
    "fit_coef\n",
    "\n",
    "## array([-0.05295827,  0.02028363])"
   ]
  },
  {
   "cell_type": "code",
   "execution_count": 208,
   "metadata": {},
   "outputs": [
    {
     "name": "stdout",
     "output_type": "stream",
     "text": [
      "IF\n",
      "trade.imb.std.4096   -0.001523\n",
      "trade.imb.4096        0.006299\n",
      "dtype: float64\n",
      "IH\n",
      "trade.imb.std.4096   -0.003341\n",
      "trade.imb.4096        0.007236\n",
      "dtype: float64\n",
      "IC\n",
      "trade.imb.std.4096   -0.000812\n",
      "trade.imb.4096        0.010247\n",
      "dtype: float64\n",
      "Wall time: 1min 36s\n"
     ]
    },
    {
     "data": {
      "text/plain": [
       "''"
      ]
     },
     "execution_count": 208,
     "metadata": {},
     "output_type": "execute_result"
    }
   ],
   "source": [
    "%%time\n",
    "for product in product_list[0:3]:\n",
    "    print(product)\n",
    "    coef = fit_coef*train_std_mat[product][y_signal]/train_std_mat[product][fwd_model[\"chosen.signals\"]]\n",
    "    print(coef)\n",
    "    parLapply(CORE_NUM, all_dates, get_daily_pred, \n",
    "              product=product, signal_list=fwd_model[\"chosen.signals\"], \n",
    "              coef=coef, strat=strat, HEAD_PATH=SAVE_PATH)\n",
    ";\n",
    "\n",
    "# IF\n",
    "# trade.imb.std.4096   -0.001523\n",
    "# trade.imb.4096        0.006299\n",
    "# dtype: float64\n",
    "# IH\n",
    "# trade.imb.std.4096   -0.003341\n",
    "# trade.imb.4096        0.007236\n",
    "# dtype: float64\n",
    "# IC\n",
    "# trade.imb.std.4096   -0.000812\n",
    "# trade.imb.4096        0.010247\n",
    "# dtype: float64\n",
    "# Wall time: 1min 36s\n"
   ]
  },
  {
   "cell_type": "markdown",
   "metadata": {},
   "source": [
    "- the result is worse than original ret.4096\n",
    "- we can use machine learning models next week\n"
   ]
  },
  {
   "cell_type": "code",
   "execution_count": 210,
   "metadata": {},
   "outputs": [
    {
     "name": "stdout",
     "output_type": "stream",
     "text": [
      "Wall time: 27.2 s\n"
     ]
    }
   ],
   "source": [
    "%%time\n",
    "for product in product_list[0:3]:\n",
    "    par_get_all_signal(\"full.4096\", all_dates, product, 4096)\n",
    "\n",
    "# Wall time: 1min 5s\n",
    "\n",
    "    "
   ]
  },
  {
   "cell_type": "code",
   "execution_count": 211,
   "metadata": {},
   "outputs": [
    {
     "name": "stdout",
     "output_type": "stream",
     "text": [
      "reverse=1\n",
      "reverse=1\n",
      "reverse=1\n",
      "Wall time: 5min 2s\n"
     ]
    }
   ],
   "source": [
    "%%time\n",
    "for product in product_list[0:3]:\n",
    "    spread = product_info[product][\"spread\"]\n",
    "    tranct = product_info[product][\"tranct\"]\n",
    "    tranct_ratio = product_info[product][\"tranct.ratio\"] \n",
    "    evaluate_signal(\"full\", all_dates, product, 2, 20, \n",
    "                    CORE_NUM, HEAD_PATH, SAVE_PATH,period=4096, split_str=\"2018\", tranct=tranct, \n",
    "                    max_spread=spread*1.1, tranct_ratio=tranct_ratio, atr_filter=20, save_path=\"signal result atr\",reverse=1)\n",
    "    \n",
    "# reverse=1\n",
    "# reverse=1\n",
    "# reverse=1\n",
    "# reverse=1\n",
    "# reverse=1\n",
    "# Wall time: 12min 12s\n",
    "\n"
   ]
  },
  {
   "cell_type": "code",
   "execution_count": 212,
   "metadata": {},
   "outputs": [
    {
     "name": "stdout",
     "output_type": "stream",
     "text": [
      "IF train sharpe  0.06883626194042759 test sharpe  -0.6713226838487464\n",
      "IH train sharpe  0.2392879506710839 test sharpe  -0.44305823063348854\n",
      "IC train sharpe  nan test sharpe  nan\n"
     ]
    }
   ],
   "source": [
    "for product in product_list[0:3]:\n",
    "    spread = product_info[product][\"spread\"]\n",
    "    signal_stat = load(HEAD_PATH+\"/signal result atr/\"+product+\".\"+\"full.4096\"+\".trend.pkl\")\n",
    "    train_stat = signal_stat[\"train.stat\"]\n",
    "    good_strat = (train_stat[\"final.result\"][\"avg.pnl\"]>2*spread)\n",
    "    train_pnl = train_stat[\"daily.ret\"].loc[:, good_strat].sum(axis=1)/sum(good_strat)\n",
    "    test_stat = signal_stat[\"test.stat\"]\n",
    "    test_pnl = test_stat[\"daily.ret\"].loc[:, good_strat].sum(axis=1)/sum(good_strat)\n",
    "    print(product, \"train sharpe \", sharpe(train_pnl), \"test sharpe \", sharpe(test_pnl))\n",
    "    \n",
    "# IF train sharpe  0.06883626194042759 test sharpe  -0.6713226838487464\n",
    "# IH train sharpe  0.2392879506710839 test sharpe  -0.44305823063348854\n",
    "# IC train sharpe  nan test sharpe  nan\n",
    "\n"
   ]
  },
  {
   "cell_type": "markdown",
   "metadata": {},
   "source": [
    "- The result is not good\n",
    "- Now we use another method of training\n",
    "- we train each product with separate models\n"
   ]
  },
  {
   "cell_type": "code",
   "execution_count": 213,
   "metadata": {},
   "outputs": [],
   "source": [
    "coef_list = dict([])\n",
    "each_signal = dict([])\n",
    "for product in product_list[0:3]:\n",
    "    train_mat = load(HEAD_PATH+\"/train test mat/\"+product+\".train.mat.pkl\")\n",
    "    result = forward_selected(train_mat[train_mat.columns[:-3]], \"ret.\"+str(period))\n",
    "    y_signal = \"ret.\"+str(period)\n",
    "    formula = \"train_mat['\" + y_signal+\"'] ~ \"\n",
    "    for signal in result[\"chosen.signals\"]:\n",
    "        formula = formula+\"+train_mat['\"+signal+\"']\"\n",
    "    formula+=\"+0\"\n",
    "    fit_lm = smf.ols(formula=formula, data=train_mat[train_mat.columns[:-3]]).fit()\n",
    "    coef = fit_lm.params.values\n",
    "    coef_list[product] = coef\n",
    "    each_signal[product] = result[\"chosen.signals\"]\n",
    "    "
   ]
  },
  {
   "cell_type": "code",
   "execution_count": 214,
   "metadata": {},
   "outputs": [],
   "source": [
    "save([coef_list, each_signal], HEAD_PATH+\"/index.each_coef.pkl\")"
   ]
  },
  {
   "cell_type": "code",
   "execution_count": 215,
   "metadata": {},
   "outputs": [],
   "source": [
    "coef_list, each_signal = load(HEAD_PATH+\"/index.each_coef.pkl\")"
   ]
  },
  {
   "cell_type": "code",
   "execution_count": 216,
   "metadata": {
    "scrolled": true
   },
   "outputs": [
    {
     "name": "stdout",
     "output_type": "stream",
     "text": [
      "IF\n",
      "[ 8.53302721e-03 -1.66792792e-03 -6.82704619e-03 -9.36785516e-01\n",
      " -5.96318477e-02  1.98072479e-02  5.15393102e-04 -2.98073188e-03\n",
      " -2.15657829e-02 -2.02466744e-02  2.42368457e-01]\n",
      "IH\n",
      "[-6.42891547e-03  7.24596777e-04 -7.03034124e-05  1.70404434e+00\n",
      " -1.60170789e-04  1.98101246e-03 -1.50139676e-02 -1.25044673e-03\n",
      "  9.44496131e-03]\n",
      "IC\n",
      "[-3.31190939e-02  1.47577526e-01  5.71499405e-03 -1.84064073e-03\n",
      " -1.27783240e-04  2.95454118e-04  2.16835153e-02  1.07408866e+00\n",
      " -1.96074479e+00 -3.53046450e-04  5.62628747e-04 -5.50655375e-01\n",
      " -1.32143940e-02  1.38414043e-02  1.96327195e-01 -1.44507778e-01]\n",
      "Wall time: 9min 37s\n"
     ]
    },
    {
     "data": {
      "text/plain": [
       "''"
      ]
     },
     "execution_count": 216,
     "metadata": {},
     "output_type": "execute_result"
    }
   ],
   "source": [
    "%%time\n",
    "strat = \"each.4096\"\n",
    "\n",
    "for product in product_list[0:3]:\n",
    "    os.makedirs(SAVE_PATH+\"/tmp pkl/\"+product+\"/\"+strat, exist_ok=True)\n",
    "    print(product)\n",
    "    coef = coef_list[product]\n",
    "    print(coef)\n",
    "    parLapply(CORE_NUM, all_dates, get_daily_pred, product=product, signal_list=each_signal[product], \n",
    "              coef=coef, strat=strat, HEAD_PATH=SAVE_PATH)\n",
    ";\n",
    "\n",
    "# IF\n",
    "# [ 8.53302721e-03 -1.66792792e-03 -6.82704619e-03 -9.36785516e-01\n",
    "#  -5.96318477e-02  1.98072479e-02  5.15393102e-04 -2.98073188e-03\n",
    "#  -2.15657829e-02 -2.02466744e-02  2.42368457e-01]\n",
    "# IH\n",
    "# [-6.42891547e-03  7.24596777e-04 -7.03034124e-05  1.70404434e+00\n",
    "#  -1.60170789e-04  1.98101246e-03 -1.50139676e-02 -1.25044673e-03\n",
    "#   9.44496131e-03]\n",
    "# IC\n",
    "# [-3.31190939e-02  1.47577526e-01  5.71499405e-03 -1.84064073e-03\n",
    "#  -1.27783240e-04  2.95454118e-04  2.16835153e-02  1.07408866e+00\n",
    "#  -1.96074479e+00 -3.53046450e-04  5.62628747e-04 -5.50655375e-01\n",
    "#  -1.32143940e-02  1.38414043e-02  1.96327195e-01 -1.44507778e-01]\n",
    "# Wall time: 9min 37s\n"
   ]
  },
  {
   "cell_type": "code",
   "execution_count": 220,
   "metadata": {},
   "outputs": [
    {
     "name": "stdout",
     "output_type": "stream",
     "text": [
      "Wall time: 26.8 s\n"
     ]
    }
   ],
   "source": [
    "%%time\n",
    "for product in product_list[0:3]:\n",
    "    par_get_all_signal(\"each.4096\", all_dates, product, 4096)\n",
    "# Wall time: 26.8 s"
   ]
  },
  {
   "cell_type": "code",
   "execution_count": 221,
   "metadata": {},
   "outputs": [
    {
     "name": "stdout",
     "output_type": "stream",
     "text": [
      "reverse=1\n",
      "reverse=1\n",
      "reverse=1\n",
      "Wall time: 6min 36s\n"
     ]
    }
   ],
   "source": [
    "%%time\n",
    "for product in product_list[0:3]:\n",
    "    spread = product_info[product][\"spread\"]\n",
    "    tranct = product_info[product][\"tranct\"]\n",
    "    tranct_ratio = product_info[product][\"tranct.ratio\"] \n",
    "    evaluate_signal(\"each\", all_dates, product, 2, 20, \n",
    "                    CORE_NUM, HEAD_PATH, SAVE_PATH,period=4096, split_str=\"2018\", tranct=tranct, \n",
    "                    max_spread=spread*1.1, tranct_ratio=tranct_ratio, atr_filter=20, save_path=\"signal result atr\",reverse=1)\n",
    "    \n",
    "# reverse=1\n",
    "# reverse=1\n",
    "# reverse=1\n",
    "# Wall time: 6min 36s\n",
    "\n"
   ]
  },
  {
   "cell_type": "code",
   "execution_count": 345,
   "metadata": {
    "scrolled": true
   },
   "outputs": [
    {
     "name": "stdout",
     "output_type": "stream",
     "text": [
      "IF train sharpe  1.0153759557653659 test sharpe  0.29087739699914444\n",
      "IH train sharpe  0.23485962451655262 test sharpe  1.3900762853781556\n",
      "IC train sharpe  1.0240050870714414 test sharpe  -0.04410124249869273\n"
     ]
    }
   ],
   "source": [
    "for product in product_list[0:3]:\n",
    "    spread = product_info[product][\"spread\"]\n",
    "    signal_stat = load(HEAD_PATH+\"/signal result atr/\"+product+\".\"+\"each.4096\"+\".trend.pkl\")\n",
    "    train_stat = signal_stat[\"train.stat\"]\n",
    "    good_strat = (train_stat[\"final.result\"][\"avg.pnl\"]>6*spread)\n",
    "    train_pnl = train_stat[\"daily.ret\"].loc[:, good_strat].sum(axis=1)/sum(good_strat)\n",
    "    test_stat = signal_stat[\"test.stat\"]\n",
    "    test_pnl = test_stat[\"daily.ret\"].loc[:, good_strat].sum(axis=1)/sum(good_strat)\n",
    "    print(product, \"train sharpe \", sharpe(train_pnl), \"test sharpe \", sharpe(test_pnl))\n",
    "\n",
    "    \n",
    "# IF train sharpe  1.0153759557653659 test sharpe  0.29087739699914444\n",
    "# IH train sharpe  0.21876773904066704 test sharpe  1.3872334143409275\n",
    "# IC train sharpe  1.0227104354804133 test sharpe  -0.037669959530865646\n",
    "\n",
    "\n"
   ]
  },
  {
   "cell_type": "markdown",
   "metadata": {},
   "source": [
    "Conclusion\n",
    "\n",
    "- we can use a linear model for T,TF\n"
   ]
  },
  {
   "cell_type": "code",
   "execution_count": null,
   "metadata": {},
   "outputs": [],
   "source": []
  }
 ],
 "metadata": {
  "kernelspec": {
   "display_name": "Python 3",
   "language": "python",
   "name": "python3"
  },
  "language_info": {
   "codemirror_mode": {
    "name": "ipython",
    "version": 3
   },
   "file_extension": ".py",
   "mimetype": "text/x-python",
   "name": "python",
   "nbconvert_exporter": "python",
   "pygments_lexer": "ipython3",
   "version": "3.7.4"
  }
 },
 "nbformat": 4,
 "nbformat_minor": 2
}
