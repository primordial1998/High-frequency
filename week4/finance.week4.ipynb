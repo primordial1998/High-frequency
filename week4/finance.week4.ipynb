{
 "cells": [
  {
   "cell_type": "markdown",
   "metadata": {},
   "source": []
  },
  {
   "cell_type": "code",
   "execution_count": 4,
   "metadata": {
    "scrolled": true
   },
   "outputs": [
    {
     "data": {
      "text/plain": [
       "<function helper.par_get_all_signal(signal_name, file_list, product, period, HEAD_PATH='d:/intern', SAVE_PATH='e:/intern', DATA_PATH='d:/intern')>"
      ]
     },
     "execution_count": 4,
     "metadata": {},
     "output_type": "execute_result"
    }
   ],
   "source": [
    "from helper import *\n",
    "from stats import *\n",
    "from imp import reload   \n",
    "import helper\n",
    "import stats\n",
    "reload(helper)\n",
    "reload(stats)\n",
    "par_get_all_signal"
   ]
  },
  {
   "cell_type": "markdown",
   "metadata": {},
   "source": []
  },
  {
   "cell_type": "code",
   "execution_count": 5,
   "metadata": {},
   "outputs": [
    {
     "data": {
      "text/plain": [
       "16"
      ]
     },
     "execution_count": 5,
     "metadata": {},
     "output_type": "execute_result"
    }
   ],
   "source": [
    "CORE_NUM = int(os.environ['NUMBER_OF_PROCESSORS'])\n",
    "CORE_NUM"
   ]
  },
  {
   "cell_type": "markdown",
   "metadata": {},
   "source": [
    "- sample product, you can change to your specific product symbol"
   ]
  },
  {
   "cell_type": "code",
   "execution_count": 6,
   "metadata": {},
   "outputs": [],
   "source": [
    "product_list = [\"IF\", \"IH\", \"IC\", \"T\", \"TF\"]"
   ]
  },
  {
   "cell_type": "code",
   "execution_count": 7,
   "metadata": {},
   "outputs": [],
   "source": [
    "import dask\n",
    "from dask import compute, delayed"
   ]
  },
  {
   "cell_type": "markdown",
   "metadata": {},
   "source": [
    "- sample period"
   ]
  },
  {
   "cell_type": "code",
   "execution_count": 8,
   "metadata": {},
   "outputs": [],
   "source": [
    "period = 4096"
   ]
  },
  {
   "cell_type": "code",
   "execution_count": 9,
   "metadata": {},
   "outputs": [
    {
     "data": {
      "text/plain": [
       "1092"
      ]
     },
     "execution_count": 9,
     "metadata": {},
     "output_type": "execute_result"
    }
   ],
   "source": [
    "all_dates = os.listdir(DATA_PATH + product_list[0])\n",
    "all_dates.sort()\n",
    "all_dates = np.array(all_dates)\n",
    "n_days = len(all_dates)\n",
    "n_days"
   ]
  },
  {
   "cell_type": "markdown",
   "metadata": {},
   "source": [
    "- choose an example day"
   ]
  },
  {
   "cell_type": "code",
   "execution_count": 23,
   "metadata": {},
   "outputs": [],
   "source": [
    "train_sample = all_dates<\"2018\"\n",
    "\n",
    "test_sample = all_dates>\"2018\"\n"
   ]
  },
  {
   "cell_type": "code",
   "execution_count": 24,
   "metadata": {},
   "outputs": [],
   "source": [
    "date_str = [n[0:8] for n in all_dates]\n",
    "format_dates = np.array([pd.to_datetime(d) for d in date_str])\n",
    "SAVE_PATH = \"e:/intern\""
   ]
  },
  {
   "cell_type": "markdown",
   "metadata": {},
   "source": [
    "- at last we plot the selected pnl"
   ]
  },
  {
   "cell_type": "markdown",
   "metadata": {},
   "source": [
    "- now we can see that the number of signals are not very big\n",
    "- and the quality is not so good\n",
    "- we can propose a systematic method to generate a large number of signals then\n",
    "- we can choose good ones from them\n",
    "\n",
    "- for example, we can first generate some signals about volatility without direction\n",
    "- there are some ideas about it\n",
    "\n",
    "- standard deviation\n",
    "- range of price\n",
    "- ratio of volume to turnover\n",
    "\n",
    "- then we can generate some signals with direction\n",
    "- actually all of our previous signals have direction\n",
    "- but some of them are good and some of them are bad\n",
    "- we can focus on some good and simple ones, such as\n",
    "\n",
    "- normalized return\n",
    "- rsi\n",
    "- dbook\n",
    "\n",
    "- let's try to generate range signals first"
   ]
  },
  {
   "cell_type": "code",
   "execution_count": 12,
   "metadata": {},
   "outputs": [],
   "source": [
    "## calculate rolling standard deviation\n",
    "from collections import OrderedDict\n",
    "class foctor_std_period(factor_template):\n",
    "    factor_name = \"std.period\"\n",
    "    \n",
    "    params = OrderedDict([\n",
    "        (\"period\", np.power(2, range(10,13)))\n",
    "    ])\n",
    "    \n",
    "    def formula(self, data, period):\n",
    "        return np.sqrt(fast_roll_var(data[\"wpr\"], period))"
   ]
  },
  {
   "cell_type": "code",
   "execution_count": 13,
   "metadata": {},
   "outputs": [],
   "source": [
    "## calcualte rolling variance\n",
    "def fast_roll_var(x, period):\n",
    "      x_ma = cum(x,period)/period ## roling first moment\n",
    "      x2 = x*x\n",
    "      x2_ma = cum(x2,period)/period ## rolling second moment\n",
    "      var_x = x2_ma-x_ma*x_ma ## rolling variance\n",
    "      return(var_x)"
   ]
  },
  {
   "cell_type": "code",
   "execution_count": 21,
   "metadata": {},
   "outputs": [
    {
     "name": "stdout",
     "output_type": "stream",
     "text": [
      "e:/intern/tmp pkl/IF/std.1024\n",
      "e:/intern/tmp pkl/IF/std.2048\n",
      "e:/intern/tmp pkl/IF/std.4096\n",
      "e:/intern/tmp pkl/IH/std.1024\n",
      "e:/intern/tmp pkl/IH/std.2048\n",
      "e:/intern/tmp pkl/IH/std.4096\n",
      "e:/intern/tmp pkl/IC/std.1024\n",
      "e:/intern/tmp pkl/IC/std.2048\n",
      "e:/intern/tmp pkl/IC/std.4096\n",
      "e:/intern/tmp pkl/T/std.1024\n",
      "e:/intern/tmp pkl/T/std.2048\n",
      "e:/intern/tmp pkl/T/std.4096\n",
      "e:/intern/tmp pkl/TF/std.1024\n",
      "e:/intern/tmp pkl/TF/std.2048\n",
      "e:/intern/tmp pkl/TF/std.4096\n"
     ]
    }
   ],
   "source": [
    "x20 = foctor_std_period()\n",
    "for product in product_list:\n",
    "    create_signal_path(x20, product, SAVE_PATH);"
   ]
  },
  {
   "cell_type": "code",
   "execution_count": 22,
   "metadata": {},
   "outputs": [],
   "source": [
    "## rolling price range\n",
    "from collections import OrderedDict\n",
    "class foctor_range_period(factor_template):\n",
    "    factor_name = \"range.period\"\n",
    "    \n",
    "    params = OrderedDict([\n",
    "        (\"period\", np.power(2, range(10,13)))\n",
    "    ])\n",
    "    \n",
    "    def formula(self, data, period):\n",
    "        return data[\"max.\"+str(period)]-data[\"min.\"+str(period)]"
   ]
  },
  {
   "cell_type": "code",
   "execution_count": 23,
   "metadata": {},
   "outputs": [
    {
     "name": "stdout",
     "output_type": "stream",
     "text": [
      "e:/intern/tmp pkl/IF/range.1024\n",
      "e:/intern/tmp pkl/IF/range.2048\n",
      "e:/intern/tmp pkl/IF/range.4096\n",
      "e:/intern/tmp pkl/IH/range.1024\n",
      "e:/intern/tmp pkl/IH/range.2048\n",
      "e:/intern/tmp pkl/IH/range.4096\n",
      "e:/intern/tmp pkl/IC/range.1024\n",
      "e:/intern/tmp pkl/IC/range.2048\n",
      "e:/intern/tmp pkl/IC/range.4096\n",
      "e:/intern/tmp pkl/T/range.1024\n",
      "e:/intern/tmp pkl/T/range.2048\n",
      "e:/intern/tmp pkl/T/range.4096\n",
      "e:/intern/tmp pkl/TF/range.1024\n",
      "e:/intern/tmp pkl/TF/range.2048\n",
      "e:/intern/tmp pkl/TF/range.4096\n"
     ]
    }
   ],
   "source": [
    "x21 = foctor_range_period()\n",
    "for product in product_list:\n",
    "    create_signal_path(x21, product, SAVE_PATH);"
   ]
  },
  {
   "cell_type": "code",
   "execution_count": 24,
   "metadata": {},
   "outputs": [],
   "source": [
    "## rolling volume/open interest\n",
    "from collections import OrderedDict\n",
    "class foctor_volume_open_ratio_period(factor_template):\n",
    "    factor_name = \"volume.open.ratio.period\"\n",
    "    \n",
    "    params = OrderedDict([\n",
    "        (\"period\", np.power(2, range(10,13)))\n",
    "    ])\n",
    "    \n",
    "    def formula(self, data, period):\n",
    "        return zero_divide(cum(data[\"qty\"],period), cum(data[\"cum.open.int\"]/period,period))"
   ]
  },
  {
   "cell_type": "code",
   "execution_count": 25,
   "metadata": {
    "scrolled": true
   },
   "outputs": [
    {
     "name": "stdout",
     "output_type": "stream",
     "text": [
      "e:/intern/tmp pkl/IF/volume.open.ratio.1024\n",
      "e:/intern/tmp pkl/IF/volume.open.ratio.2048\n",
      "e:/intern/tmp pkl/IF/volume.open.ratio.4096\n",
      "e:/intern/tmp pkl/IH/volume.open.ratio.1024\n",
      "e:/intern/tmp pkl/IH/volume.open.ratio.2048\n",
      "e:/intern/tmp pkl/IH/volume.open.ratio.4096\n",
      "e:/intern/tmp pkl/IC/volume.open.ratio.1024\n",
      "e:/intern/tmp pkl/IC/volume.open.ratio.2048\n",
      "e:/intern/tmp pkl/IC/volume.open.ratio.4096\n",
      "e:/intern/tmp pkl/T/volume.open.ratio.1024\n",
      "e:/intern/tmp pkl/T/volume.open.ratio.2048\n",
      "e:/intern/tmp pkl/T/volume.open.ratio.4096\n",
      "e:/intern/tmp pkl/TF/volume.open.ratio.1024\n",
      "e:/intern/tmp pkl/TF/volume.open.ratio.2048\n",
      "e:/intern/tmp pkl/TF/volume.open.ratio.4096\n"
     ]
    }
   ],
   "source": [
    "x22 = foctor_volume_open_ratio_period()\n",
    "for product in product_list:\n",
    "    create_signal_path(x22, product, SAVE_PATH);\n"
   ]
  },
  {
   "cell_type": "code",
   "execution_count": 26,
   "metadata": {},
   "outputs": [],
   "source": [
    "## rolling trend index\n",
    "from collections import OrderedDict\n",
    "class foctor_trend_index_period(factor_template):\n",
    "    factor_name = \"trend.index.period\"\n",
    "    \n",
    "    params = OrderedDict([\n",
    "        (\"period\", np.power(2, range(10,13)))\n",
    "    ])\n",
    "    \n",
    "    def formula(self, data, period):\n",
    "        aa = zero_divide(abs(data[\"wpr\"]-data[\"wpr\"].shift(period)), data[\"max.\"+str(period)]-data[\"min.\"+str(period)])\n",
    "        aa[0:period]=0\n",
    "        return aa"
   ]
  },
  {
   "cell_type": "code",
   "execution_count": 27,
   "metadata": {},
   "outputs": [
    {
     "name": "stdout",
     "output_type": "stream",
     "text": [
      "e:/intern/tmp pkl/IF/trend.index.1024\n",
      "e:/intern/tmp pkl/IF/trend.index.2048\n",
      "e:/intern/tmp pkl/IF/trend.index.4096\n",
      "e:/intern/tmp pkl/IH/trend.index.1024\n",
      "e:/intern/tmp pkl/IH/trend.index.2048\n",
      "e:/intern/tmp pkl/IH/trend.index.4096\n",
      "e:/intern/tmp pkl/IC/trend.index.1024\n",
      "e:/intern/tmp pkl/IC/trend.index.2048\n",
      "e:/intern/tmp pkl/IC/trend.index.4096\n",
      "e:/intern/tmp pkl/T/trend.index.1024\n",
      "e:/intern/tmp pkl/T/trend.index.2048\n",
      "e:/intern/tmp pkl/T/trend.index.4096\n",
      "e:/intern/tmp pkl/TF/trend.index.1024\n",
      "e:/intern/tmp pkl/TF/trend.index.2048\n",
      "e:/intern/tmp pkl/TF/trend.index.4096\n"
     ]
    }
   ],
   "source": [
    "x23 = foctor_trend_index_period()\n",
    "for product in product_list:\n",
    "    create_signal_path(x23, product, SAVE_PATH);\n"
   ]
  },
  {
   "cell_type": "markdown",
   "metadata": {},
   "source": [
    "- Then we construt these range signals "
   ]
  },
  {
   "cell_type": "code",
   "execution_count": 28,
   "metadata": {},
   "outputs": [
    {
     "name": "stdout",
     "output_type": "stream",
     "text": [
      "Wall time: 6min 10s\n"
     ]
    },
    {
     "data": {
      "text/plain": [
       "''"
      ]
     },
     "execution_count": 28,
     "metadata": {},
     "output_type": "execute_result"
    }
   ],
   "source": [
    "%%time\n",
    "for product in product_list:\n",
    "    file_list = list(map(lambda x: DATA_PATH+product+\"/\"+x, os.listdir(DATA_PATH + product)))\n",
    "    parLapply(CORE_NUM, file_list, build_composite_signal,signal_list=x20, product=product, HEAD_PATH=SAVE_PATH)\n",
    ";\n",
    "# Wall time: 6min 10s\n"
   ]
  },
  {
   "cell_type": "code",
   "execution_count": 29,
   "metadata": {},
   "outputs": [
    {
     "name": "stdout",
     "output_type": "stream",
     "text": [
      "Wall time: 2min 30s\n"
     ]
    },
    {
     "data": {
      "text/plain": [
       "''"
      ]
     },
     "execution_count": 29,
     "metadata": {},
     "output_type": "execute_result"
    }
   ],
   "source": [
    "%%time\n",
    "for product in product_list:\n",
    "    file_list = list(map(lambda x: DATA_PATH+product+\"/\"+x, os.listdir(DATA_PATH + product)))\n",
    "    parLapply(CORE_NUM, file_list, build_composite_signal,signal_list=x21, product=product, HEAD_PATH=SAVE_PATH)\n",
    ";\n",
    "\n",
    "#Wall time: 2min 30s"
   ]
  },
  {
   "cell_type": "code",
   "execution_count": 30,
   "metadata": {},
   "outputs": [
    {
     "name": "stdout",
     "output_type": "stream",
     "text": [
      "Wall time: 3min 17s\n"
     ]
    },
    {
     "data": {
      "text/plain": [
       "''"
      ]
     },
     "execution_count": 30,
     "metadata": {},
     "output_type": "execute_result"
    }
   ],
   "source": [
    "%%time\n",
    "for product in product_list:\n",
    "    file_list = list(map(lambda x: DATA_PATH+product+\"/\"+x, os.listdir(DATA_PATH + product)))\n",
    "    parLapply(CORE_NUM, file_list, build_composite_signal,signal_list=x22, product=product, HEAD_PATH=SAVE_PATH)\n",
    ";\n",
    "# Wall time: 3min 17s\n",
    "\n"
   ]
  },
  {
   "cell_type": "code",
   "execution_count": 31,
   "metadata": {},
   "outputs": [
    {
     "name": "stdout",
     "output_type": "stream",
     "text": [
      "Wall time: 4min 8s\n"
     ]
    },
    {
     "data": {
      "text/plain": [
       "''"
      ]
     },
     "execution_count": 31,
     "metadata": {},
     "output_type": "execute_result"
    }
   ],
   "source": [
    "%%time\n",
    "for product in product_list:\n",
    "    file_list = list(map(lambda x: DATA_PATH+product+\"/\"+x, os.listdir(DATA_PATH + product)))\n",
    "    parLapply(CORE_NUM, file_list, build_composite_signal,signal_list=x23, product=product, HEAD_PATH=SAVE_PATH)\n",
    ";\n",
    "\n",
    "## Wall time: 4min 8s"
   ]
  },
  {
   "cell_type": "markdown",
   "metadata": {},
   "source": [
    "- Now we can combine directional signals and range signals together to become new direction signals\n",
    "\n",
    "- For example, we have n directional signals, and m range signals, \n",
    "- then we can generate new n*m directional signals"
   ]
  },
  {
   "cell_type": "code",
   "execution_count": 32,
   "metadata": {},
   "outputs": [],
   "source": [
    "## generate composite signal: trend signal * range signal = new trend signal\n",
    "def construct_composite_signal(dire_signal, range_signal, period_list, date_list, product_list, HEAD_PATH):\n",
    "    from collections import OrderedDict\n",
    "    class foctor_xx_period(factor_template):\n",
    "        factor_name = dire_signal+\".\"+range_signal+\".period\" ## name of new signal\n",
    "        params = OrderedDict([\n",
    "            (\"period\", period_list)\n",
    "        ])\n",
    "        def formula(self, data, period):\n",
    "            return (data[dire_signal+\".\"+str(period)]*data[range_signal+\".\"+str(period)]).values ## calculation of new signal\n",
    "    xx = foctor_xx_period()\n",
    "    for product in product_list:\n",
    "        create_signal_path(xx, product, HEAD_PATH)\n",
    "        file_list = [DATA_PATH+product+\"/\"+date for date in date_list]\n",
    "        parLapply(CORE_NUM, file_list, build_composite_signal,signal_list=xx, product=product, HEAD_PATH=HEAD_PATH)"
   ]
  },
  {
   "cell_type": "code",
   "execution_count": 33,
   "metadata": {},
   "outputs": [],
   "source": [
    "dire_signal_list = [\"trade.imb\",\"total.trade.imb\", \"nr\", \"dbook\", \"range.pos\", \"price.osci\", \"ma.dif.10\", \"kdj.k\", \"kdj.j\"]\n",
    "range_signal_list = [\"range\", \"std\", \"volume.open.ratio\", \"trend.index\"]\n",
    "period_list = np.power(2, range(10,13))"
   ]
  },
  {
   "cell_type": "code",
   "execution_count": 34,
   "metadata": {
    "scrolled": true
   },
   "outputs": [
    {
     "name": "stdout",
     "output_type": "stream",
     "text": [
      "e:/intern/tmp pkl/IF/trade.imb.range.1024\n",
      "e:/intern/tmp pkl/IF/trade.imb.range.2048\n",
      "e:/intern/tmp pkl/IF/trade.imb.range.4096\n",
      "e:/intern/tmp pkl/IH/trade.imb.range.1024\n",
      "e:/intern/tmp pkl/IH/trade.imb.range.2048\n",
      "e:/intern/tmp pkl/IH/trade.imb.range.4096\n",
      "e:/intern/tmp pkl/IC/trade.imb.range.1024\n",
      "e:/intern/tmp pkl/IC/trade.imb.range.2048\n",
      "e:/intern/tmp pkl/IC/trade.imb.range.4096\n",
      "e:/intern/tmp pkl/T/trade.imb.range.1024\n",
      "e:/intern/tmp pkl/T/trade.imb.range.2048\n",
      "e:/intern/tmp pkl/T/trade.imb.range.4096\n",
      "e:/intern/tmp pkl/TF/trade.imb.range.1024\n",
      "e:/intern/tmp pkl/TF/trade.imb.range.2048\n",
      "e:/intern/tmp pkl/TF/trade.imb.range.4096\n",
      "e:/intern/tmp pkl/IF/total.trade.imb.range.1024\n",
      "e:/intern/tmp pkl/IF/total.trade.imb.range.2048\n",
      "e:/intern/tmp pkl/IF/total.trade.imb.range.4096\n",
      "e:/intern/tmp pkl/IH/total.trade.imb.range.1024\n",
      "e:/intern/tmp pkl/IH/total.trade.imb.range.2048\n",
      "e:/intern/tmp pkl/IH/total.trade.imb.range.4096\n",
      "e:/intern/tmp pkl/IC/total.trade.imb.range.1024\n",
      "e:/intern/tmp pkl/IC/total.trade.imb.range.2048\n",
      "e:/intern/tmp pkl/IC/total.trade.imb.range.4096\n",
      "e:/intern/tmp pkl/T/total.trade.imb.range.1024\n",
      "e:/intern/tmp pkl/T/total.trade.imb.range.2048\n",
      "e:/intern/tmp pkl/T/total.trade.imb.range.4096\n",
      "e:/intern/tmp pkl/TF/total.trade.imb.range.1024\n",
      "e:/intern/tmp pkl/TF/total.trade.imb.range.2048\n",
      "e:/intern/tmp pkl/TF/total.trade.imb.range.4096\n",
      "e:/intern/tmp pkl/IF/nr.range.1024\n",
      "e:/intern/tmp pkl/IF/nr.range.2048\n",
      "e:/intern/tmp pkl/IF/nr.range.4096\n",
      "e:/intern/tmp pkl/IH/nr.range.1024\n",
      "e:/intern/tmp pkl/IH/nr.range.2048\n",
      "e:/intern/tmp pkl/IH/nr.range.4096\n",
      "e:/intern/tmp pkl/IC/nr.range.1024\n",
      "e:/intern/tmp pkl/IC/nr.range.2048\n",
      "e:/intern/tmp pkl/IC/nr.range.4096\n",
      "e:/intern/tmp pkl/T/nr.range.1024\n",
      "e:/intern/tmp pkl/T/nr.range.2048\n",
      "e:/intern/tmp pkl/T/nr.range.4096\n",
      "e:/intern/tmp pkl/TF/nr.range.1024\n",
      "e:/intern/tmp pkl/TF/nr.range.2048\n",
      "e:/intern/tmp pkl/TF/nr.range.4096\n",
      "e:/intern/tmp pkl/IF/dbook.range.1024\n",
      "e:/intern/tmp pkl/IF/dbook.range.2048\n",
      "e:/intern/tmp pkl/IF/dbook.range.4096\n",
      "e:/intern/tmp pkl/IH/dbook.range.1024\n",
      "e:/intern/tmp pkl/IH/dbook.range.2048\n",
      "e:/intern/tmp pkl/IH/dbook.range.4096\n",
      "e:/intern/tmp pkl/IC/dbook.range.1024\n",
      "e:/intern/tmp pkl/IC/dbook.range.2048\n",
      "e:/intern/tmp pkl/IC/dbook.range.4096\n",
      "e:/intern/tmp pkl/T/dbook.range.1024\n",
      "e:/intern/tmp pkl/T/dbook.range.2048\n",
      "e:/intern/tmp pkl/T/dbook.range.4096\n",
      "e:/intern/tmp pkl/TF/dbook.range.1024\n",
      "e:/intern/tmp pkl/TF/dbook.range.2048\n",
      "e:/intern/tmp pkl/TF/dbook.range.4096\n",
      "e:/intern/tmp pkl/IF/range.pos.range.1024\n",
      "e:/intern/tmp pkl/IF/range.pos.range.2048\n",
      "e:/intern/tmp pkl/IF/range.pos.range.4096\n",
      "e:/intern/tmp pkl/IH/range.pos.range.1024\n",
      "e:/intern/tmp pkl/IH/range.pos.range.2048\n",
      "e:/intern/tmp pkl/IH/range.pos.range.4096\n",
      "e:/intern/tmp pkl/IC/range.pos.range.1024\n",
      "e:/intern/tmp pkl/IC/range.pos.range.2048\n",
      "e:/intern/tmp pkl/IC/range.pos.range.4096\n",
      "e:/intern/tmp pkl/T/range.pos.range.1024\n",
      "e:/intern/tmp pkl/T/range.pos.range.2048\n",
      "e:/intern/tmp pkl/T/range.pos.range.4096\n",
      "e:/intern/tmp pkl/TF/range.pos.range.1024\n",
      "e:/intern/tmp pkl/TF/range.pos.range.2048\n",
      "e:/intern/tmp pkl/TF/range.pos.range.4096\n",
      "e:/intern/tmp pkl/IF/price.osci.range.1024\n",
      "e:/intern/tmp pkl/IF/price.osci.range.2048\n",
      "e:/intern/tmp pkl/IF/price.osci.range.4096\n",
      "e:/intern/tmp pkl/IH/price.osci.range.1024\n",
      "e:/intern/tmp pkl/IH/price.osci.range.2048\n",
      "e:/intern/tmp pkl/IH/price.osci.range.4096\n",
      "e:/intern/tmp pkl/IC/price.osci.range.1024\n",
      "e:/intern/tmp pkl/IC/price.osci.range.2048\n",
      "e:/intern/tmp pkl/IC/price.osci.range.4096\n",
      "e:/intern/tmp pkl/T/price.osci.range.1024\n",
      "e:/intern/tmp pkl/T/price.osci.range.2048\n",
      "e:/intern/tmp pkl/T/price.osci.range.4096\n",
      "e:/intern/tmp pkl/TF/price.osci.range.1024\n",
      "e:/intern/tmp pkl/TF/price.osci.range.2048\n",
      "e:/intern/tmp pkl/TF/price.osci.range.4096\n",
      "e:/intern/tmp pkl/IF/ma.dif.10.range.1024\n",
      "e:/intern/tmp pkl/IF/ma.dif.10.range.2048\n",
      "e:/intern/tmp pkl/IF/ma.dif.10.range.4096\n",
      "e:/intern/tmp pkl/IH/ma.dif.10.range.1024\n",
      "e:/intern/tmp pkl/IH/ma.dif.10.range.2048\n",
      "e:/intern/tmp pkl/IH/ma.dif.10.range.4096\n",
      "e:/intern/tmp pkl/IC/ma.dif.10.range.1024\n",
      "e:/intern/tmp pkl/IC/ma.dif.10.range.2048\n",
      "e:/intern/tmp pkl/IC/ma.dif.10.range.4096\n",
      "e:/intern/tmp pkl/T/ma.dif.10.range.1024\n",
      "e:/intern/tmp pkl/T/ma.dif.10.range.2048\n",
      "e:/intern/tmp pkl/T/ma.dif.10.range.4096\n",
      "e:/intern/tmp pkl/TF/ma.dif.10.range.1024\n",
      "e:/intern/tmp pkl/TF/ma.dif.10.range.2048\n",
      "e:/intern/tmp pkl/TF/ma.dif.10.range.4096\n",
      "e:/intern/tmp pkl/IF/kdj.k.range.1024\n",
      "e:/intern/tmp pkl/IF/kdj.k.range.2048\n",
      "e:/intern/tmp pkl/IF/kdj.k.range.4096\n",
      "e:/intern/tmp pkl/IH/kdj.k.range.1024\n",
      "e:/intern/tmp pkl/IH/kdj.k.range.2048\n",
      "e:/intern/tmp pkl/IH/kdj.k.range.4096\n",
      "e:/intern/tmp pkl/IC/kdj.k.range.1024\n",
      "e:/intern/tmp pkl/IC/kdj.k.range.2048\n",
      "e:/intern/tmp pkl/IC/kdj.k.range.4096\n",
      "e:/intern/tmp pkl/T/kdj.k.range.1024\n",
      "e:/intern/tmp pkl/T/kdj.k.range.2048\n",
      "e:/intern/tmp pkl/T/kdj.k.range.4096\n",
      "e:/intern/tmp pkl/TF/kdj.k.range.1024\n",
      "e:/intern/tmp pkl/TF/kdj.k.range.2048\n",
      "e:/intern/tmp pkl/TF/kdj.k.range.4096\n",
      "e:/intern/tmp pkl/IF/kdj.j.range.1024\n",
      "e:/intern/tmp pkl/IF/kdj.j.range.2048\n",
      "e:/intern/tmp pkl/IF/kdj.j.range.4096\n",
      "e:/intern/tmp pkl/IH/kdj.j.range.1024\n",
      "e:/intern/tmp pkl/IH/kdj.j.range.2048\n",
      "e:/intern/tmp pkl/IH/kdj.j.range.4096\n",
      "e:/intern/tmp pkl/IC/kdj.j.range.1024\n",
      "e:/intern/tmp pkl/IC/kdj.j.range.2048\n",
      "e:/intern/tmp pkl/IC/kdj.j.range.4096\n",
      "e:/intern/tmp pkl/T/kdj.j.range.1024\n",
      "e:/intern/tmp pkl/T/kdj.j.range.2048\n",
      "e:/intern/tmp pkl/T/kdj.j.range.4096\n",
      "e:/intern/tmp pkl/TF/kdj.j.range.1024\n",
      "e:/intern/tmp pkl/TF/kdj.j.range.2048\n",
      "e:/intern/tmp pkl/TF/kdj.j.range.4096\n",
      "e:/intern/tmp pkl/IF/trade.imb.std.1024\n",
      "e:/intern/tmp pkl/IF/trade.imb.std.2048\n",
      "e:/intern/tmp pkl/IF/trade.imb.std.4096\n",
      "e:/intern/tmp pkl/IH/trade.imb.std.1024\n",
      "e:/intern/tmp pkl/IH/trade.imb.std.2048\n",
      "e:/intern/tmp pkl/IH/trade.imb.std.4096\n",
      "e:/intern/tmp pkl/IC/trade.imb.std.1024\n",
      "e:/intern/tmp pkl/IC/trade.imb.std.2048\n",
      "e:/intern/tmp pkl/IC/trade.imb.std.4096\n",
      "e:/intern/tmp pkl/T/trade.imb.std.1024\n",
      "e:/intern/tmp pkl/T/trade.imb.std.2048\n",
      "e:/intern/tmp pkl/T/trade.imb.std.4096\n",
      "e:/intern/tmp pkl/TF/trade.imb.std.1024\n",
      "e:/intern/tmp pkl/TF/trade.imb.std.2048\n",
      "e:/intern/tmp pkl/TF/trade.imb.std.4096\n",
      "e:/intern/tmp pkl/IF/total.trade.imb.std.1024\n",
      "e:/intern/tmp pkl/IF/total.trade.imb.std.2048\n",
      "e:/intern/tmp pkl/IF/total.trade.imb.std.4096\n",
      "e:/intern/tmp pkl/IH/total.trade.imb.std.1024\n",
      "e:/intern/tmp pkl/IH/total.trade.imb.std.2048\n",
      "e:/intern/tmp pkl/IH/total.trade.imb.std.4096\n",
      "e:/intern/tmp pkl/IC/total.trade.imb.std.1024\n",
      "e:/intern/tmp pkl/IC/total.trade.imb.std.2048\n",
      "e:/intern/tmp pkl/IC/total.trade.imb.std.4096\n",
      "e:/intern/tmp pkl/T/total.trade.imb.std.1024\n",
      "e:/intern/tmp pkl/T/total.trade.imb.std.2048\n",
      "e:/intern/tmp pkl/T/total.trade.imb.std.4096\n",
      "e:/intern/tmp pkl/TF/total.trade.imb.std.1024\n",
      "e:/intern/tmp pkl/TF/total.trade.imb.std.2048\n",
      "e:/intern/tmp pkl/TF/total.trade.imb.std.4096\n",
      "e:/intern/tmp pkl/IF/nr.std.1024\n",
      "e:/intern/tmp pkl/IF/nr.std.2048\n",
      "e:/intern/tmp pkl/IF/nr.std.4096\n",
      "e:/intern/tmp pkl/IH/nr.std.1024\n",
      "e:/intern/tmp pkl/IH/nr.std.2048\n",
      "e:/intern/tmp pkl/IH/nr.std.4096\n",
      "e:/intern/tmp pkl/IC/nr.std.1024\n",
      "e:/intern/tmp pkl/IC/nr.std.2048\n",
      "e:/intern/tmp pkl/IC/nr.std.4096\n",
      "e:/intern/tmp pkl/T/nr.std.1024\n",
      "e:/intern/tmp pkl/T/nr.std.2048\n",
      "e:/intern/tmp pkl/T/nr.std.4096\n",
      "e:/intern/tmp pkl/TF/nr.std.1024\n",
      "e:/intern/tmp pkl/TF/nr.std.2048\n",
      "e:/intern/tmp pkl/TF/nr.std.4096\n",
      "e:/intern/tmp pkl/IF/dbook.std.1024\n",
      "e:/intern/tmp pkl/IF/dbook.std.2048\n",
      "e:/intern/tmp pkl/IF/dbook.std.4096\n",
      "e:/intern/tmp pkl/IH/dbook.std.1024\n",
      "e:/intern/tmp pkl/IH/dbook.std.2048\n",
      "e:/intern/tmp pkl/IH/dbook.std.4096\n",
      "e:/intern/tmp pkl/IC/dbook.std.1024\n",
      "e:/intern/tmp pkl/IC/dbook.std.2048\n",
      "e:/intern/tmp pkl/IC/dbook.std.4096\n",
      "e:/intern/tmp pkl/T/dbook.std.1024\n",
      "e:/intern/tmp pkl/T/dbook.std.2048\n",
      "e:/intern/tmp pkl/T/dbook.std.4096\n",
      "e:/intern/tmp pkl/TF/dbook.std.1024\n",
      "e:/intern/tmp pkl/TF/dbook.std.2048\n",
      "e:/intern/tmp pkl/TF/dbook.std.4096\n",
      "e:/intern/tmp pkl/IF/range.pos.std.1024\n",
      "e:/intern/tmp pkl/IF/range.pos.std.2048\n",
      "e:/intern/tmp pkl/IF/range.pos.std.4096\n",
      "e:/intern/tmp pkl/IH/range.pos.std.1024\n",
      "e:/intern/tmp pkl/IH/range.pos.std.2048\n",
      "e:/intern/tmp pkl/IH/range.pos.std.4096\n",
      "e:/intern/tmp pkl/IC/range.pos.std.1024\n",
      "e:/intern/tmp pkl/IC/range.pos.std.2048\n",
      "e:/intern/tmp pkl/IC/range.pos.std.4096\n",
      "e:/intern/tmp pkl/T/range.pos.std.1024\n",
      "e:/intern/tmp pkl/T/range.pos.std.2048\n",
      "e:/intern/tmp pkl/T/range.pos.std.4096\n",
      "e:/intern/tmp pkl/TF/range.pos.std.1024\n",
      "e:/intern/tmp pkl/TF/range.pos.std.2048\n",
      "e:/intern/tmp pkl/TF/range.pos.std.4096\n",
      "e:/intern/tmp pkl/IF/price.osci.std.1024\n",
      "e:/intern/tmp pkl/IF/price.osci.std.2048\n",
      "e:/intern/tmp pkl/IF/price.osci.std.4096\n",
      "e:/intern/tmp pkl/IH/price.osci.std.1024\n",
      "e:/intern/tmp pkl/IH/price.osci.std.2048\n",
      "e:/intern/tmp pkl/IH/price.osci.std.4096\n",
      "e:/intern/tmp pkl/IC/price.osci.std.1024\n",
      "e:/intern/tmp pkl/IC/price.osci.std.2048\n",
      "e:/intern/tmp pkl/IC/price.osci.std.4096\n",
      "e:/intern/tmp pkl/T/price.osci.std.1024\n",
      "e:/intern/tmp pkl/T/price.osci.std.2048\n",
      "e:/intern/tmp pkl/T/price.osci.std.4096\n",
      "e:/intern/tmp pkl/TF/price.osci.std.1024\n",
      "e:/intern/tmp pkl/TF/price.osci.std.2048\n",
      "e:/intern/tmp pkl/TF/price.osci.std.4096\n",
      "e:/intern/tmp pkl/IF/ma.dif.10.std.1024\n",
      "e:/intern/tmp pkl/IF/ma.dif.10.std.2048\n",
      "e:/intern/tmp pkl/IF/ma.dif.10.std.4096\n",
      "e:/intern/tmp pkl/IH/ma.dif.10.std.1024\n",
      "e:/intern/tmp pkl/IH/ma.dif.10.std.2048\n",
      "e:/intern/tmp pkl/IH/ma.dif.10.std.4096\n",
      "e:/intern/tmp pkl/IC/ma.dif.10.std.1024\n",
      "e:/intern/tmp pkl/IC/ma.dif.10.std.2048\n",
      "e:/intern/tmp pkl/IC/ma.dif.10.std.4096\n",
      "e:/intern/tmp pkl/T/ma.dif.10.std.1024\n",
      "e:/intern/tmp pkl/T/ma.dif.10.std.2048\n",
      "e:/intern/tmp pkl/T/ma.dif.10.std.4096\n",
      "e:/intern/tmp pkl/TF/ma.dif.10.std.1024\n",
      "e:/intern/tmp pkl/TF/ma.dif.10.std.2048\n",
      "e:/intern/tmp pkl/TF/ma.dif.10.std.4096\n",
      "e:/intern/tmp pkl/IF/kdj.k.std.1024\n",
      "e:/intern/tmp pkl/IF/kdj.k.std.2048\n",
      "e:/intern/tmp pkl/IF/kdj.k.std.4096\n",
      "e:/intern/tmp pkl/IH/kdj.k.std.1024\n",
      "e:/intern/tmp pkl/IH/kdj.k.std.2048\n",
      "e:/intern/tmp pkl/IH/kdj.k.std.4096\n",
      "e:/intern/tmp pkl/IC/kdj.k.std.1024\n",
      "e:/intern/tmp pkl/IC/kdj.k.std.2048\n",
      "e:/intern/tmp pkl/IC/kdj.k.std.4096\n",
      "e:/intern/tmp pkl/T/kdj.k.std.1024\n",
      "e:/intern/tmp pkl/T/kdj.k.std.2048\n",
      "e:/intern/tmp pkl/T/kdj.k.std.4096\n",
      "e:/intern/tmp pkl/TF/kdj.k.std.1024\n",
      "e:/intern/tmp pkl/TF/kdj.k.std.2048\n",
      "e:/intern/tmp pkl/TF/kdj.k.std.4096\n",
      "e:/intern/tmp pkl/IF/kdj.j.std.1024\n",
      "e:/intern/tmp pkl/IF/kdj.j.std.2048\n",
      "e:/intern/tmp pkl/IF/kdj.j.std.4096\n",
      "e:/intern/tmp pkl/IH/kdj.j.std.1024\n",
      "e:/intern/tmp pkl/IH/kdj.j.std.2048\n",
      "e:/intern/tmp pkl/IH/kdj.j.std.4096\n",
      "e:/intern/tmp pkl/IC/kdj.j.std.1024\n",
      "e:/intern/tmp pkl/IC/kdj.j.std.2048\n",
      "e:/intern/tmp pkl/IC/kdj.j.std.4096\n",
      "e:/intern/tmp pkl/T/kdj.j.std.1024\n",
      "e:/intern/tmp pkl/T/kdj.j.std.2048\n",
      "e:/intern/tmp pkl/T/kdj.j.std.4096\n",
      "e:/intern/tmp pkl/TF/kdj.j.std.1024\n",
      "e:/intern/tmp pkl/TF/kdj.j.std.2048\n",
      "e:/intern/tmp pkl/TF/kdj.j.std.4096\n",
      "e:/intern/tmp pkl/IF/trade.imb.volume.open.ratio.1024\n",
      "e:/intern/tmp pkl/IF/trade.imb.volume.open.ratio.2048\n",
      "e:/intern/tmp pkl/IF/trade.imb.volume.open.ratio.4096\n",
      "e:/intern/tmp pkl/IH/trade.imb.volume.open.ratio.1024\n",
      "e:/intern/tmp pkl/IH/trade.imb.volume.open.ratio.2048\n",
      "e:/intern/tmp pkl/IH/trade.imb.volume.open.ratio.4096\n",
      "e:/intern/tmp pkl/IC/trade.imb.volume.open.ratio.1024\n",
      "e:/intern/tmp pkl/IC/trade.imb.volume.open.ratio.2048\n",
      "e:/intern/tmp pkl/IC/trade.imb.volume.open.ratio.4096\n",
      "e:/intern/tmp pkl/T/trade.imb.volume.open.ratio.1024\n",
      "e:/intern/tmp pkl/T/trade.imb.volume.open.ratio.2048\n",
      "e:/intern/tmp pkl/T/trade.imb.volume.open.ratio.4096\n",
      "e:/intern/tmp pkl/TF/trade.imb.volume.open.ratio.1024\n",
      "e:/intern/tmp pkl/TF/trade.imb.volume.open.ratio.2048\n",
      "e:/intern/tmp pkl/TF/trade.imb.volume.open.ratio.4096\n",
      "e:/intern/tmp pkl/IF/total.trade.imb.volume.open.ratio.1024\n",
      "e:/intern/tmp pkl/IF/total.trade.imb.volume.open.ratio.2048\n",
      "e:/intern/tmp pkl/IF/total.trade.imb.volume.open.ratio.4096\n",
      "e:/intern/tmp pkl/IH/total.trade.imb.volume.open.ratio.1024\n",
      "e:/intern/tmp pkl/IH/total.trade.imb.volume.open.ratio.2048\n",
      "e:/intern/tmp pkl/IH/total.trade.imb.volume.open.ratio.4096\n",
      "e:/intern/tmp pkl/IC/total.trade.imb.volume.open.ratio.1024\n",
      "e:/intern/tmp pkl/IC/total.trade.imb.volume.open.ratio.2048\n",
      "e:/intern/tmp pkl/IC/total.trade.imb.volume.open.ratio.4096\n",
      "e:/intern/tmp pkl/T/total.trade.imb.volume.open.ratio.1024\n",
      "e:/intern/tmp pkl/T/total.trade.imb.volume.open.ratio.2048\n",
      "e:/intern/tmp pkl/T/total.trade.imb.volume.open.ratio.4096\n",
      "e:/intern/tmp pkl/TF/total.trade.imb.volume.open.ratio.1024\n",
      "e:/intern/tmp pkl/TF/total.trade.imb.volume.open.ratio.2048\n",
      "e:/intern/tmp pkl/TF/total.trade.imb.volume.open.ratio.4096\n",
      "e:/intern/tmp pkl/IF/nr.volume.open.ratio.1024\n",
      "e:/intern/tmp pkl/IF/nr.volume.open.ratio.2048\n",
      "e:/intern/tmp pkl/IF/nr.volume.open.ratio.4096\n",
      "e:/intern/tmp pkl/IH/nr.volume.open.ratio.1024\n",
      "e:/intern/tmp pkl/IH/nr.volume.open.ratio.2048\n",
      "e:/intern/tmp pkl/IH/nr.volume.open.ratio.4096\n",
      "e:/intern/tmp pkl/IC/nr.volume.open.ratio.1024\n",
      "e:/intern/tmp pkl/IC/nr.volume.open.ratio.2048\n",
      "e:/intern/tmp pkl/IC/nr.volume.open.ratio.4096\n",
      "e:/intern/tmp pkl/T/nr.volume.open.ratio.1024\n",
      "e:/intern/tmp pkl/T/nr.volume.open.ratio.2048\n",
      "e:/intern/tmp pkl/T/nr.volume.open.ratio.4096\n",
      "e:/intern/tmp pkl/TF/nr.volume.open.ratio.1024\n",
      "e:/intern/tmp pkl/TF/nr.volume.open.ratio.2048\n",
      "e:/intern/tmp pkl/TF/nr.volume.open.ratio.4096\n",
      "e:/intern/tmp pkl/IF/dbook.volume.open.ratio.1024\n",
      "e:/intern/tmp pkl/IF/dbook.volume.open.ratio.2048\n",
      "e:/intern/tmp pkl/IF/dbook.volume.open.ratio.4096\n",
      "e:/intern/tmp pkl/IH/dbook.volume.open.ratio.1024\n",
      "e:/intern/tmp pkl/IH/dbook.volume.open.ratio.2048\n",
      "e:/intern/tmp pkl/IH/dbook.volume.open.ratio.4096\n",
      "e:/intern/tmp pkl/IC/dbook.volume.open.ratio.1024\n",
      "e:/intern/tmp pkl/IC/dbook.volume.open.ratio.2048\n",
      "e:/intern/tmp pkl/IC/dbook.volume.open.ratio.4096\n",
      "e:/intern/tmp pkl/T/dbook.volume.open.ratio.1024\n",
      "e:/intern/tmp pkl/T/dbook.volume.open.ratio.2048\n",
      "e:/intern/tmp pkl/T/dbook.volume.open.ratio.4096\n",
      "e:/intern/tmp pkl/TF/dbook.volume.open.ratio.1024\n",
      "e:/intern/tmp pkl/TF/dbook.volume.open.ratio.2048\n",
      "e:/intern/tmp pkl/TF/dbook.volume.open.ratio.4096\n",
      "e:/intern/tmp pkl/IF/range.pos.volume.open.ratio.1024\n",
      "e:/intern/tmp pkl/IF/range.pos.volume.open.ratio.2048\n",
      "e:/intern/tmp pkl/IF/range.pos.volume.open.ratio.4096\n",
      "e:/intern/tmp pkl/IH/range.pos.volume.open.ratio.1024\n",
      "e:/intern/tmp pkl/IH/range.pos.volume.open.ratio.2048\n",
      "e:/intern/tmp pkl/IH/range.pos.volume.open.ratio.4096\n",
      "e:/intern/tmp pkl/IC/range.pos.volume.open.ratio.1024\n",
      "e:/intern/tmp pkl/IC/range.pos.volume.open.ratio.2048\n",
      "e:/intern/tmp pkl/IC/range.pos.volume.open.ratio.4096\n",
      "e:/intern/tmp pkl/T/range.pos.volume.open.ratio.1024\n",
      "e:/intern/tmp pkl/T/range.pos.volume.open.ratio.2048\n",
      "e:/intern/tmp pkl/T/range.pos.volume.open.ratio.4096\n",
      "e:/intern/tmp pkl/TF/range.pos.volume.open.ratio.1024\n",
      "e:/intern/tmp pkl/TF/range.pos.volume.open.ratio.2048\n",
      "e:/intern/tmp pkl/TF/range.pos.volume.open.ratio.4096\n",
      "e:/intern/tmp pkl/IF/price.osci.volume.open.ratio.1024\n",
      "e:/intern/tmp pkl/IF/price.osci.volume.open.ratio.2048\n",
      "e:/intern/tmp pkl/IF/price.osci.volume.open.ratio.4096\n",
      "e:/intern/tmp pkl/IH/price.osci.volume.open.ratio.1024\n",
      "e:/intern/tmp pkl/IH/price.osci.volume.open.ratio.2048\n",
      "e:/intern/tmp pkl/IH/price.osci.volume.open.ratio.4096\n",
      "e:/intern/tmp pkl/IC/price.osci.volume.open.ratio.1024\n",
      "e:/intern/tmp pkl/IC/price.osci.volume.open.ratio.2048\n",
      "e:/intern/tmp pkl/IC/price.osci.volume.open.ratio.4096\n",
      "e:/intern/tmp pkl/T/price.osci.volume.open.ratio.1024\n",
      "e:/intern/tmp pkl/T/price.osci.volume.open.ratio.2048\n",
      "e:/intern/tmp pkl/T/price.osci.volume.open.ratio.4096\n",
      "e:/intern/tmp pkl/TF/price.osci.volume.open.ratio.1024\n",
      "e:/intern/tmp pkl/TF/price.osci.volume.open.ratio.2048\n",
      "e:/intern/tmp pkl/TF/price.osci.volume.open.ratio.4096\n",
      "e:/intern/tmp pkl/IF/ma.dif.10.volume.open.ratio.1024\n",
      "e:/intern/tmp pkl/IF/ma.dif.10.volume.open.ratio.2048\n",
      "e:/intern/tmp pkl/IF/ma.dif.10.volume.open.ratio.4096\n",
      "e:/intern/tmp pkl/IH/ma.dif.10.volume.open.ratio.1024\n",
      "e:/intern/tmp pkl/IH/ma.dif.10.volume.open.ratio.2048\n",
      "e:/intern/tmp pkl/IH/ma.dif.10.volume.open.ratio.4096\n",
      "e:/intern/tmp pkl/IC/ma.dif.10.volume.open.ratio.1024\n",
      "e:/intern/tmp pkl/IC/ma.dif.10.volume.open.ratio.2048\n",
      "e:/intern/tmp pkl/IC/ma.dif.10.volume.open.ratio.4096\n",
      "e:/intern/tmp pkl/T/ma.dif.10.volume.open.ratio.1024\n",
      "e:/intern/tmp pkl/T/ma.dif.10.volume.open.ratio.2048\n",
      "e:/intern/tmp pkl/T/ma.dif.10.volume.open.ratio.4096\n",
      "e:/intern/tmp pkl/TF/ma.dif.10.volume.open.ratio.1024\n",
      "e:/intern/tmp pkl/TF/ma.dif.10.volume.open.ratio.2048\n",
      "e:/intern/tmp pkl/TF/ma.dif.10.volume.open.ratio.4096\n",
      "e:/intern/tmp pkl/IF/kdj.k.volume.open.ratio.1024\n",
      "e:/intern/tmp pkl/IF/kdj.k.volume.open.ratio.2048\n",
      "e:/intern/tmp pkl/IF/kdj.k.volume.open.ratio.4096\n",
      "e:/intern/tmp pkl/IH/kdj.k.volume.open.ratio.1024\n",
      "e:/intern/tmp pkl/IH/kdj.k.volume.open.ratio.2048\n",
      "e:/intern/tmp pkl/IH/kdj.k.volume.open.ratio.4096\n",
      "e:/intern/tmp pkl/IC/kdj.k.volume.open.ratio.1024\n",
      "e:/intern/tmp pkl/IC/kdj.k.volume.open.ratio.2048\n",
      "e:/intern/tmp pkl/IC/kdj.k.volume.open.ratio.4096\n",
      "e:/intern/tmp pkl/T/kdj.k.volume.open.ratio.1024\n",
      "e:/intern/tmp pkl/T/kdj.k.volume.open.ratio.2048\n",
      "e:/intern/tmp pkl/T/kdj.k.volume.open.ratio.4096\n",
      "e:/intern/tmp pkl/TF/kdj.k.volume.open.ratio.1024\n",
      "e:/intern/tmp pkl/TF/kdj.k.volume.open.ratio.2048\n",
      "e:/intern/tmp pkl/TF/kdj.k.volume.open.ratio.4096\n",
      "e:/intern/tmp pkl/IF/kdj.j.volume.open.ratio.1024\n",
      "e:/intern/tmp pkl/IF/kdj.j.volume.open.ratio.2048\n",
      "e:/intern/tmp pkl/IF/kdj.j.volume.open.ratio.4096\n",
      "e:/intern/tmp pkl/IH/kdj.j.volume.open.ratio.1024\n",
      "e:/intern/tmp pkl/IH/kdj.j.volume.open.ratio.2048\n",
      "e:/intern/tmp pkl/IH/kdj.j.volume.open.ratio.4096\n",
      "e:/intern/tmp pkl/IC/kdj.j.volume.open.ratio.1024\n",
      "e:/intern/tmp pkl/IC/kdj.j.volume.open.ratio.2048\n",
      "e:/intern/tmp pkl/IC/kdj.j.volume.open.ratio.4096\n",
      "e:/intern/tmp pkl/T/kdj.j.volume.open.ratio.1024\n",
      "e:/intern/tmp pkl/T/kdj.j.volume.open.ratio.2048\n",
      "e:/intern/tmp pkl/T/kdj.j.volume.open.ratio.4096\n",
      "e:/intern/tmp pkl/TF/kdj.j.volume.open.ratio.1024\n",
      "e:/intern/tmp pkl/TF/kdj.j.volume.open.ratio.2048\n",
      "e:/intern/tmp pkl/TF/kdj.j.volume.open.ratio.4096\n",
      "e:/intern/tmp pkl/IF/trade.imb.trend.index.1024\n",
      "e:/intern/tmp pkl/IF/trade.imb.trend.index.2048\n",
      "e:/intern/tmp pkl/IF/trade.imb.trend.index.4096\n",
      "e:/intern/tmp pkl/IH/trade.imb.trend.index.1024\n",
      "e:/intern/tmp pkl/IH/trade.imb.trend.index.2048\n",
      "e:/intern/tmp pkl/IH/trade.imb.trend.index.4096\n",
      "e:/intern/tmp pkl/IC/trade.imb.trend.index.1024\n",
      "e:/intern/tmp pkl/IC/trade.imb.trend.index.2048\n",
      "e:/intern/tmp pkl/IC/trade.imb.trend.index.4096\n",
      "e:/intern/tmp pkl/T/trade.imb.trend.index.1024\n",
      "e:/intern/tmp pkl/T/trade.imb.trend.index.2048\n",
      "e:/intern/tmp pkl/T/trade.imb.trend.index.4096\n",
      "e:/intern/tmp pkl/TF/trade.imb.trend.index.1024\n",
      "e:/intern/tmp pkl/TF/trade.imb.trend.index.2048\n",
      "e:/intern/tmp pkl/TF/trade.imb.trend.index.4096\n",
      "e:/intern/tmp pkl/IF/total.trade.imb.trend.index.1024\n",
      "e:/intern/tmp pkl/IF/total.trade.imb.trend.index.2048\n",
      "e:/intern/tmp pkl/IF/total.trade.imb.trend.index.4096\n",
      "e:/intern/tmp pkl/IH/total.trade.imb.trend.index.1024\n",
      "e:/intern/tmp pkl/IH/total.trade.imb.trend.index.2048\n",
      "e:/intern/tmp pkl/IH/total.trade.imb.trend.index.4096\n",
      "e:/intern/tmp pkl/IC/total.trade.imb.trend.index.1024\n",
      "e:/intern/tmp pkl/IC/total.trade.imb.trend.index.2048\n",
      "e:/intern/tmp pkl/IC/total.trade.imb.trend.index.4096\n",
      "e:/intern/tmp pkl/T/total.trade.imb.trend.index.1024\n",
      "e:/intern/tmp pkl/T/total.trade.imb.trend.index.2048\n",
      "e:/intern/tmp pkl/T/total.trade.imb.trend.index.4096\n",
      "e:/intern/tmp pkl/TF/total.trade.imb.trend.index.1024\n",
      "e:/intern/tmp pkl/TF/total.trade.imb.trend.index.2048\n",
      "e:/intern/tmp pkl/TF/total.trade.imb.trend.index.4096\n",
      "e:/intern/tmp pkl/IF/nr.trend.index.1024\n",
      "e:/intern/tmp pkl/IF/nr.trend.index.2048\n",
      "e:/intern/tmp pkl/IF/nr.trend.index.4096\n",
      "e:/intern/tmp pkl/IH/nr.trend.index.1024\n",
      "e:/intern/tmp pkl/IH/nr.trend.index.2048\n",
      "e:/intern/tmp pkl/IH/nr.trend.index.4096\n",
      "e:/intern/tmp pkl/IC/nr.trend.index.1024\n",
      "e:/intern/tmp pkl/IC/nr.trend.index.2048\n",
      "e:/intern/tmp pkl/IC/nr.trend.index.4096\n",
      "e:/intern/tmp pkl/T/nr.trend.index.1024\n",
      "e:/intern/tmp pkl/T/nr.trend.index.2048\n",
      "e:/intern/tmp pkl/T/nr.trend.index.4096\n",
      "e:/intern/tmp pkl/TF/nr.trend.index.1024\n",
      "e:/intern/tmp pkl/TF/nr.trend.index.2048\n",
      "e:/intern/tmp pkl/TF/nr.trend.index.4096\n",
      "e:/intern/tmp pkl/IF/dbook.trend.index.1024\n",
      "e:/intern/tmp pkl/IF/dbook.trend.index.2048\n",
      "e:/intern/tmp pkl/IF/dbook.trend.index.4096\n",
      "e:/intern/tmp pkl/IH/dbook.trend.index.1024\n",
      "e:/intern/tmp pkl/IH/dbook.trend.index.2048\n",
      "e:/intern/tmp pkl/IH/dbook.trend.index.4096\n",
      "e:/intern/tmp pkl/IC/dbook.trend.index.1024\n",
      "e:/intern/tmp pkl/IC/dbook.trend.index.2048\n",
      "e:/intern/tmp pkl/IC/dbook.trend.index.4096\n",
      "e:/intern/tmp pkl/T/dbook.trend.index.1024\n",
      "e:/intern/tmp pkl/T/dbook.trend.index.2048\n",
      "e:/intern/tmp pkl/T/dbook.trend.index.4096\n",
      "e:/intern/tmp pkl/TF/dbook.trend.index.1024\n",
      "e:/intern/tmp pkl/TF/dbook.trend.index.2048\n",
      "e:/intern/tmp pkl/TF/dbook.trend.index.4096\n",
      "e:/intern/tmp pkl/IF/range.pos.trend.index.1024\n",
      "e:/intern/tmp pkl/IF/range.pos.trend.index.2048\n",
      "e:/intern/tmp pkl/IF/range.pos.trend.index.4096\n",
      "e:/intern/tmp pkl/IH/range.pos.trend.index.1024\n",
      "e:/intern/tmp pkl/IH/range.pos.trend.index.2048\n",
      "e:/intern/tmp pkl/IH/range.pos.trend.index.4096\n",
      "e:/intern/tmp pkl/IC/range.pos.trend.index.1024\n",
      "e:/intern/tmp pkl/IC/range.pos.trend.index.2048\n",
      "e:/intern/tmp pkl/IC/range.pos.trend.index.4096\n",
      "e:/intern/tmp pkl/T/range.pos.trend.index.1024\n",
      "e:/intern/tmp pkl/T/range.pos.trend.index.2048\n",
      "e:/intern/tmp pkl/T/range.pos.trend.index.4096\n",
      "e:/intern/tmp pkl/TF/range.pos.trend.index.1024\n",
      "e:/intern/tmp pkl/TF/range.pos.trend.index.2048\n",
      "e:/intern/tmp pkl/TF/range.pos.trend.index.4096\n",
      "e:/intern/tmp pkl/IF/price.osci.trend.index.1024\n",
      "e:/intern/tmp pkl/IF/price.osci.trend.index.2048\n",
      "e:/intern/tmp pkl/IF/price.osci.trend.index.4096\n",
      "e:/intern/tmp pkl/IH/price.osci.trend.index.1024\n",
      "e:/intern/tmp pkl/IH/price.osci.trend.index.2048\n",
      "e:/intern/tmp pkl/IH/price.osci.trend.index.4096\n",
      "e:/intern/tmp pkl/IC/price.osci.trend.index.1024\n",
      "e:/intern/tmp pkl/IC/price.osci.trend.index.2048\n",
      "e:/intern/tmp pkl/IC/price.osci.trend.index.4096\n",
      "e:/intern/tmp pkl/T/price.osci.trend.index.1024\n",
      "e:/intern/tmp pkl/T/price.osci.trend.index.2048\n",
      "e:/intern/tmp pkl/T/price.osci.trend.index.4096\n",
      "e:/intern/tmp pkl/TF/price.osci.trend.index.1024\n",
      "e:/intern/tmp pkl/TF/price.osci.trend.index.2048\n",
      "e:/intern/tmp pkl/TF/price.osci.trend.index.4096\n",
      "e:/intern/tmp pkl/IF/ma.dif.10.trend.index.1024\n",
      "e:/intern/tmp pkl/IF/ma.dif.10.trend.index.2048\n",
      "e:/intern/tmp pkl/IF/ma.dif.10.trend.index.4096\n",
      "e:/intern/tmp pkl/IH/ma.dif.10.trend.index.1024\n",
      "e:/intern/tmp pkl/IH/ma.dif.10.trend.index.2048\n",
      "e:/intern/tmp pkl/IH/ma.dif.10.trend.index.4096\n",
      "e:/intern/tmp pkl/IC/ma.dif.10.trend.index.1024\n",
      "e:/intern/tmp pkl/IC/ma.dif.10.trend.index.2048\n",
      "e:/intern/tmp pkl/IC/ma.dif.10.trend.index.4096\n",
      "e:/intern/tmp pkl/T/ma.dif.10.trend.index.1024\n",
      "e:/intern/tmp pkl/T/ma.dif.10.trend.index.2048\n",
      "e:/intern/tmp pkl/T/ma.dif.10.trend.index.4096\n",
      "e:/intern/tmp pkl/TF/ma.dif.10.trend.index.1024\n",
      "e:/intern/tmp pkl/TF/ma.dif.10.trend.index.2048\n",
      "e:/intern/tmp pkl/TF/ma.dif.10.trend.index.4096\n",
      "e:/intern/tmp pkl/IF/kdj.k.trend.index.1024\n",
      "e:/intern/tmp pkl/IF/kdj.k.trend.index.2048\n",
      "e:/intern/tmp pkl/IF/kdj.k.trend.index.4096\n",
      "e:/intern/tmp pkl/IH/kdj.k.trend.index.1024\n",
      "e:/intern/tmp pkl/IH/kdj.k.trend.index.2048\n",
      "e:/intern/tmp pkl/IH/kdj.k.trend.index.4096\n",
      "e:/intern/tmp pkl/IC/kdj.k.trend.index.1024\n",
      "e:/intern/tmp pkl/IC/kdj.k.trend.index.2048\n",
      "e:/intern/tmp pkl/IC/kdj.k.trend.index.4096\n",
      "e:/intern/tmp pkl/T/kdj.k.trend.index.1024\n",
      "e:/intern/tmp pkl/T/kdj.k.trend.index.2048\n",
      "e:/intern/tmp pkl/T/kdj.k.trend.index.4096\n",
      "e:/intern/tmp pkl/TF/kdj.k.trend.index.1024\n",
      "e:/intern/tmp pkl/TF/kdj.k.trend.index.2048\n",
      "e:/intern/tmp pkl/TF/kdj.k.trend.index.4096\n",
      "e:/intern/tmp pkl/IF/kdj.j.trend.index.1024\n",
      "e:/intern/tmp pkl/IF/kdj.j.trend.index.2048\n",
      "e:/intern/tmp pkl/IF/kdj.j.trend.index.4096\n",
      "e:/intern/tmp pkl/IH/kdj.j.trend.index.1024\n",
      "e:/intern/tmp pkl/IH/kdj.j.trend.index.2048\n",
      "e:/intern/tmp pkl/IH/kdj.j.trend.index.4096\n",
      "e:/intern/tmp pkl/IC/kdj.j.trend.index.1024\n",
      "e:/intern/tmp pkl/IC/kdj.j.trend.index.2048\n",
      "e:/intern/tmp pkl/IC/kdj.j.trend.index.4096\n",
      "e:/intern/tmp pkl/T/kdj.j.trend.index.1024\n",
      "e:/intern/tmp pkl/T/kdj.j.trend.index.2048\n",
      "e:/intern/tmp pkl/T/kdj.j.trend.index.4096\n",
      "e:/intern/tmp pkl/TF/kdj.j.trend.index.1024\n",
      "e:/intern/tmp pkl/TF/kdj.j.trend.index.2048\n",
      "e:/intern/tmp pkl/TF/kdj.j.trend.index.4096\n",
      "Wall time: 5h 24min 2s\n"
     ]
    }
   ],
   "source": [
    "%%time\n",
    "for range_signal in range_signal_list:\n",
    "    for dire_signal in dire_signal_list:\n",
    "        construct_composite_signal(dire_signal, range_signal, period_list, all_dates, product_list, SAVE_PATH)\n",
    "##　Wall time: 5h 24min 2s"
   ]
  },
  {
   "cell_type": "markdown",
   "metadata": {},
   "source": [
    "- Now we can combine signals of each day in to a vector\n",
    "- here we use 4096 as period\n",
    "- so to keep them independent, we choose 1 out of every 4096 points"
   ]
  },
  {
   "cell_type": "code",
   "execution_count": 25,
   "metadata": {},
   "outputs": [
    {
     "data": {
      "text/plain": [
       "45"
      ]
     },
     "execution_count": 25,
     "metadata": {},
     "output_type": "execute_result"
    }
   ],
   "source": [
    "period = 4096\n",
    "os.makedirs(HEAD_PATH+\"/all signal\", exist_ok=True)\n",
    "dire_signal_list = [\"trade.imb\",\"total.trade.imb\", \"nr\", \"dbook\", \"range.pos\", \"price.osci\", \"ma.dif.10\", \"kdj.k\", \"kdj.j\"]\n",
    "range_signal_list = [\"\", \"range\", \"std\", \"volume.open.ratio\", \"trend.index\"]\n",
    "all_signal_list = np.array([])\n",
    "for range_signal in range_signal_list:\n",
    "    for dire_signal in dire_signal_list:\n",
    "        if len(range_signal)==0:\n",
    "            signal_name = dire_signal\n",
    "        else:\n",
    "            signal_name = dire_signal+\".\"+range_signal\n",
    "        all_signal_list = np.append(all_signal_list,signal_name)\n",
    "all_period_signal = [signal+\".4096\" for signal in all_signal_list]\n",
    "len(all_period_signal)\n",
    "## 45"
   ]
  },
  {
   "cell_type": "markdown",
   "metadata": {},
   "source": [
    "- we have 9 directional (trend) signals and 4 range signals\n",
    "- so we have 36 composite signals \n",
    "- plus the 9 original ones we have 45 signals together\n"
   ]
  },
  {
   "cell_type": "code",
   "execution_count": 36,
   "metadata": {},
   "outputs": [],
   "source": [
    "## save the good column to separte files\n",
    "def get_good(date, product, HEAD_PATH, SAVE_PATH):\n",
    "    data = load(HEAD_PATH+\"/pkl tick/\"+product+\"/\"+date)\n",
    "    good = data[\"good\"]\n",
    "    save(good, SAVE_PATH+\"/good pkl/\"+product+\"/\"+date)  "
   ]
  },
  {
   "cell_type": "code",
   "execution_count": 37,
   "metadata": {},
   "outputs": [],
   "source": [
    "os.makedirs(SAVE_PATH+\"/good pkl\", exist_ok=True)\n",
    "for product in product_list:\n",
    "    os.makedirs(SAVE_PATH+\"/good pkl/\"+product, exist_ok=True)"
   ]
  },
  {
   "cell_type": "code",
   "execution_count": 38,
   "metadata": {},
   "outputs": [
    {
     "name": "stdout",
     "output_type": "stream",
     "text": [
      "Wall time: 5min 13s\n"
     ]
    }
   ],
   "source": [
    "%%time\n",
    "for product in product_list:\n",
    "    parLapply(CORE_NUM, all_dates, get_good, product=product, HEAD_PATH=HEAD_PATH, SAVE_PATH=\"e:/intern\")\n",
    "    \n",
    "# Wall time: 5min 13s\n"
   ]
  },
  {
   "cell_type": "code",
   "execution_count": 39,
   "metadata": {},
   "outputs": [],
   "source": [
    "def moving_average(a, n=3) :\n",
    "    ret_sum = np.cumsum(a, dtype=float)\n",
    "    ret = a\n",
    "    ret[n:] = (ret_sum[n:] - ret_sum[:-n])/n\n",
    "    return ret"
   ]
  },
  {
   "cell_type": "code",
   "execution_count": 40,
   "metadata": {},
   "outputs": [],
   "source": [
    "## parallel generate the distribution of a signal\n",
    "def par_get_all_signal(signal_name, file_list, product, period, HEAD_PATH=\"d:/intern\", SAVE_PATH=\"e:/intern\", DATA_PATH=\"d:/intern\"):\n",
    "    n_files = len(file_list)\n",
    "    all_signal = np.array([])\n",
    "    for file in file_list:\n",
    "        S = load(HEAD_PATH+\"/tmp pkl/\"+product+\"/\"+signal_name+\"/\"+file) ## signal\n",
    "        good = load(DATA_PATH+\"/good pkl/\"+product+\"/\"+file) ## good singal\n",
    "        signal = S[good]\n",
    "        moving_average(signal,period)\n",
    "        chosen = (np.arange(len(signal))+1) % period==0\n",
    "        all_signal = np.concatenate((all_signal, signal[chosen]), axis=0)\n",
    "    save(all_signal, SAVE_PATH+\"/all signal/\"+product+\".\"+signal_name+\".pkl\")"
   ]
  },
  {
   "cell_type": "code",
   "execution_count": 41,
   "metadata": {
    "scrolled": true
   },
   "outputs": [
    {
     "name": "stdout",
     "output_type": "stream",
     "text": [
      "Wall time: 1h 16min 9s\n"
     ]
    }
   ],
   "source": [
    "%%time\n",
    "for product in product_list:\n",
    "    parLapply(CORE_NUM, all_period_signal, par_get_all_signal, file_list=all_dates, product=product, period=4096, HEAD_PATH=SAVE_PATH,\n",
    "             SAVE_PATH = \"e:/intern\", DATA_PATH=\"e:/intern\");\n",
    "## Wall time: 1h 16min 9s\n"
   ]
  },
  {
   "cell_type": "markdown",
   "metadata": {},
   "source": [
    "- then we can backtest our signals \n",
    "- we save the results"
   ]
  },
  {
   "cell_type": "code",
   "execution_count": 42,
   "metadata": {},
   "outputs": [],
   "source": [
    "## this is to evalute the performance of a signal on a product\n",
    "def evaluate_signal(signal, all_dates, product, min_pnl, min_num, \n",
    "                    CORE_NUM, HEAD_PATH=\"d:/intern\", SIGNAL_PATH=\"d:/intern\", period=4096, split_str=\"2018\", tranct=1.1e-4, \n",
    "                    max_spread=0.61, tranct_ratio=True, atr_filter=0, save_path=\"signal result\",reverse=0):\n",
    "    signal_name = signal+\".\"+str(period) ## signal name, with period\n",
    "    all_signal = load(SIGNAL_PATH+\"/all signal/\"+product+\".\"+signal_name+\".pkl\") ## get the distribution of the signal\n",
    "    tranct = product_info[product][\"tranct\"] ## transaction cost of the product\n",
    "    tranct_ratio = product_info[product][\"tranct.ratio\"] ## True: based on notional; False: fixed tranct\n",
    "    open_list = np.quantile(abs(all_signal), np.append(np.arange(0.991,0.999,0.001),np.arange(0.9991,0.9999,0.0001))) ## open threshold\n",
    "    thre_list = []\n",
    "    for cartesian in itertools.product(open_list, np.array([0.2, 0.4, 0.6, 0.8, 1.0])): ## close threshold\n",
    "        thre_list.append((cartesian[0], -cartesian[0] * cartesian[1]))\n",
    "    thre_list = np.array(thre_list)\n",
    "    thre_mat = pd.DataFrame(data=OrderedDict([(\"open\", thre_list[:, 0]), (\"close\", thre_list[:, 1])])) ## threshold matrix\n",
    "    if reverse>=0: ## trending signal\n",
    "        print(\"reverse=1\")\n",
    "        trend_signal_stat = get_signal_stat(signal_name, thre_mat, product, all_dates, CORE_NUM, split_str=\"2018\", reverse=1, tranct=tranct, \n",
    "                                   max_spread=max_spread, tranct_ratio=tranct_ratio, min_pnl=min_pnl, min_num=min_num, atr_filter=atr_filter, HEAD_PATH=HEAD_PATH, SIGNAL_PATH=SIGNAL_PATH)\n",
    "    if reverse<=0: ## reversal signal\n",
    "        print(\"reverse=-1\")\n",
    "        reverse_signal_stat = get_signal_stat(signal_name, thre_mat, product, all_dates, CORE_NUM, split_str=\"2018\", reverse=-1, tranct=tranct, \n",
    "                        max_spread=max_spread, tranct_ratio=tranct_ratio, min_pnl=min_pnl, min_num=min_num, atr_filter=atr_filter, HEAD_PATH=HEAD_PATH, SIGNAL_PATH=SIGNAL_PATH)\n",
    "    if reverse==0: ## both trending and reversal\n",
    "        stat_result = OrderedDict([(\"trend.signal.stat\", trend_signal_stat), (\"reverse.signal.stat\", reverse_signal_stat)])    \n",
    "        save(stat_result, HEAD_PATH+\"/\"+save_path+\"/\"+product+\".\"+signal_name+\".pkl\")\n",
    "    elif reverse==1: ## just trend\n",
    "        save(trend_signal_stat, HEAD_PATH+\"/\"+save_path+\"/\"+product+\".\"+signal_name+\".trend.pkl\")\n",
    "    elif reverse==-1: ## just reversal\n",
    "        save(reverse_signal_stat, HEAD_PATH+\"/\"+save_path+\"/\"+product+\".\"+signal_name+\".reverse.pkl\")"
   ]
  },
  {
   "cell_type": "code",
   "execution_count": 43,
   "metadata": {},
   "outputs": [],
   "source": [
    "## get the statistics of backtesting a signal\n",
    "from collections import OrderedDict\n",
    "def get_signal_stat(signal_name, thre_mat, product, all_dates, CORE_NUM, split_str=\"2018\", reverse=1, tranct=1.1e-4, \n",
    "                    max_spread=0.61, tranct_ratio=True, min_pnl=2, min_num=20, atr_filter=0, HEAD_PATH=\"d:/intern\", SIGNAL_PATH=\"d:/intern\"):\n",
    "    train_sample = all_dates<split_str ## training samples\n",
    "    test_sample = all_dates>split_str ## testing samples\n",
    "    with dask.config.set(scheduler='processes', num_workers=CORE_NUM):\n",
    "        f_par = functools.partial(get_signal_pnl, product=product, signal_name=signal_name, thre_mat=thre_mat,\n",
    "                                 reverse=reverse, tranct=tranct, max_spread=max_spread, tranct_ratio=tranct_ratio, \n",
    "                                  HEAD_PATH=HEAD_PATH, SIGNAL_PATH=SIGNAL_PATH, atr_filter=atr_filter)\n",
    "        train_result = compute([delayed(f_par)(file) for file in all_dates[train_sample]])[0] ## get training result\n",
    "    train_stat = get_hft_summary(train_result, thre_mat, sum(train_sample)) ## get training result statistics\n",
    "    with dask.config.set(scheduler='processes', num_workers=CORE_NUM):\n",
    "        f_par = functools.partial(get_signal_pnl, product=product, signal_name=signal_name, thre_mat=thre_mat,\n",
    "                                  reverse=reverse, tranct=tranct, max_spread=max_spread, tranct_ratio=tranct_ratio, \n",
    "                                  HEAD_PATH=HEAD_PATH, SIGNAL_PATH=SIGNAL_PATH, atr_filter=atr_filter) \n",
    "        test_result = compute([delayed(f_par)(file) for file in all_dates[test_sample]])[0] ## get testing result\n",
    "    test_stat = get_hft_summary(test_result, thre_mat, sum(test_sample)) ## get testing result statistics\n",
    "    return OrderedDict([(\"train.stat\", train_stat), (\"test.stat\", test_stat)])"
   ]
  },
  {
   "cell_type": "code",
   "execution_count": 44,
   "metadata": {
    "scrolled": false
   },
   "outputs": [
    {
     "name": "stdout",
     "output_type": "stream",
     "text": [
      "IF trade.imb\n",
      "reverse=1\n",
      "reverse=-1\n",
      "IF total.trade.imb\n",
      "reverse=1\n",
      "reverse=-1\n",
      "IF nr\n",
      "reverse=1\n",
      "reverse=-1\n",
      "IF dbook\n",
      "reverse=1\n",
      "reverse=-1\n",
      "IF range.pos\n",
      "reverse=1\n",
      "reverse=-1\n",
      "IF price.osci\n",
      "reverse=1\n"
     ]
    },
    {
     "name": "stderr",
     "output_type": "stream",
     "text": [
      "d:\\Anaconda3\\lib\\site-packages\\numpy\\lib\\function_base.py:3826: RuntimeWarning: Invalid value encountered in percentile\n",
      "  interpolation=interpolation)\n"
     ]
    },
    {
     "name": "stdout",
     "output_type": "stream",
     "text": [
      "reverse=-1\n",
      "IF ma.dif.10\n",
      "reverse=1\n",
      "reverse=-1\n",
      "IF kdj.k\n",
      "reverse=1\n",
      "reverse=-1\n",
      "IF kdj.j\n",
      "reverse=1\n",
      "reverse=-1\n",
      "IF trade.imb.range\n",
      "reverse=1\n"
     ]
    },
    {
     "name": "stderr",
     "output_type": "stream",
     "text": [
      "d:\\Anaconda3\\lib\\site-packages\\numpy\\lib\\function_base.py:3826: RuntimeWarning: Invalid value encountered in percentile\n",
      "  interpolation=interpolation)\n"
     ]
    },
    {
     "name": "stdout",
     "output_type": "stream",
     "text": [
      "reverse=-1\n",
      "IF total.trade.imb.range\n",
      "reverse=1\n"
     ]
    },
    {
     "name": "stderr",
     "output_type": "stream",
     "text": [
      "d:\\Anaconda3\\lib\\site-packages\\numpy\\lib\\function_base.py:3826: RuntimeWarning: Invalid value encountered in percentile\n",
      "  interpolation=interpolation)\n"
     ]
    },
    {
     "name": "stdout",
     "output_type": "stream",
     "text": [
      "reverse=-1\n",
      "IF nr.range\n",
      "reverse=1\n"
     ]
    },
    {
     "name": "stderr",
     "output_type": "stream",
     "text": [
      "d:\\Anaconda3\\lib\\site-packages\\numpy\\lib\\function_base.py:3826: RuntimeWarning: Invalid value encountered in percentile\n",
      "  interpolation=interpolation)\n"
     ]
    },
    {
     "name": "stdout",
     "output_type": "stream",
     "text": [
      "reverse=-1\n",
      "IF dbook.range\n",
      "reverse=1\n"
     ]
    },
    {
     "name": "stderr",
     "output_type": "stream",
     "text": [
      "d:\\Anaconda3\\lib\\site-packages\\numpy\\lib\\function_base.py:3826: RuntimeWarning: Invalid value encountered in percentile\n",
      "  interpolation=interpolation)\n"
     ]
    },
    {
     "name": "stdout",
     "output_type": "stream",
     "text": [
      "reverse=-1\n",
      "IF range.pos.range\n",
      "reverse=1\n"
     ]
    },
    {
     "name": "stderr",
     "output_type": "stream",
     "text": [
      "d:\\Anaconda3\\lib\\site-packages\\numpy\\lib\\function_base.py:3826: RuntimeWarning: Invalid value encountered in percentile\n",
      "  interpolation=interpolation)\n"
     ]
    },
    {
     "name": "stdout",
     "output_type": "stream",
     "text": [
      "reverse=-1\n",
      "IF price.osci.range\n",
      "reverse=1\n"
     ]
    },
    {
     "name": "stderr",
     "output_type": "stream",
     "text": [
      "d:\\Anaconda3\\lib\\site-packages\\numpy\\lib\\function_base.py:3826: RuntimeWarning: Invalid value encountered in percentile\n",
      "  interpolation=interpolation)\n"
     ]
    },
    {
     "name": "stdout",
     "output_type": "stream",
     "text": [
      "reverse=-1\n",
      "IF ma.dif.10.range\n",
      "reverse=1\n"
     ]
    },
    {
     "name": "stderr",
     "output_type": "stream",
     "text": [
      "d:\\Anaconda3\\lib\\site-packages\\numpy\\lib\\function_base.py:3826: RuntimeWarning: Invalid value encountered in percentile\n",
      "  interpolation=interpolation)\n"
     ]
    },
    {
     "name": "stdout",
     "output_type": "stream",
     "text": [
      "reverse=-1\n",
      "IF kdj.k.range\n",
      "reverse=1\n"
     ]
    },
    {
     "name": "stderr",
     "output_type": "stream",
     "text": [
      "d:\\Anaconda3\\lib\\site-packages\\numpy\\lib\\function_base.py:3826: RuntimeWarning: Invalid value encountered in percentile\n",
      "  interpolation=interpolation)\n"
     ]
    },
    {
     "name": "stdout",
     "output_type": "stream",
     "text": [
      "reverse=-1\n",
      "IF kdj.j.range\n",
      "reverse=1\n"
     ]
    },
    {
     "name": "stderr",
     "output_type": "stream",
     "text": [
      "d:\\Anaconda3\\lib\\site-packages\\numpy\\lib\\function_base.py:3826: RuntimeWarning: Invalid value encountered in percentile\n",
      "  interpolation=interpolation)\n"
     ]
    },
    {
     "name": "stdout",
     "output_type": "stream",
     "text": [
      "reverse=-1\n",
      "IF trade.imb.std\n",
      "reverse=1\n",
      "reverse=-1\n",
      "IF total.trade.imb.std\n",
      "reverse=1\n",
      "reverse=-1\n",
      "IF nr.std\n",
      "reverse=1\n",
      "reverse=-1\n",
      "IF dbook.std\n",
      "reverse=1\n",
      "reverse=-1\n",
      "IF range.pos.std\n",
      "reverse=1\n",
      "reverse=-1\n",
      "IF price.osci.std\n",
      "reverse=1\n"
     ]
    },
    {
     "name": "stderr",
     "output_type": "stream",
     "text": [
      "d:\\Anaconda3\\lib\\site-packages\\numpy\\lib\\function_base.py:3826: RuntimeWarning: Invalid value encountered in percentile\n",
      "  interpolation=interpolation)\n"
     ]
    },
    {
     "name": "stdout",
     "output_type": "stream",
     "text": [
      "reverse=-1\n",
      "IF ma.dif.10.std\n",
      "reverse=1\n",
      "reverse=-1\n",
      "IF kdj.k.std\n",
      "reverse=1\n",
      "reverse=-1\n",
      "IF kdj.j.std\n",
      "reverse=1\n",
      "reverse=-1\n",
      "IF trade.imb.volume.open.ratio\n",
      "reverse=1\n",
      "reverse=-1\n",
      "IF total.trade.imb.volume.open.ratio\n",
      "reverse=1\n",
      "reverse=-1\n",
      "IF nr.volume.open.ratio\n",
      "reverse=1\n",
      "reverse=-1\n",
      "IF dbook.volume.open.ratio\n",
      "reverse=1\n",
      "reverse=-1\n",
      "IF range.pos.volume.open.ratio\n",
      "reverse=1\n",
      "reverse=-1\n",
      "IF price.osci.volume.open.ratio\n",
      "reverse=1\n"
     ]
    },
    {
     "name": "stderr",
     "output_type": "stream",
     "text": [
      "d:\\Anaconda3\\lib\\site-packages\\numpy\\lib\\function_base.py:3826: RuntimeWarning: Invalid value encountered in percentile\n",
      "  interpolation=interpolation)\n"
     ]
    },
    {
     "name": "stdout",
     "output_type": "stream",
     "text": [
      "reverse=-1\n",
      "IF ma.dif.10.volume.open.ratio\n",
      "reverse=1\n",
      "reverse=-1\n",
      "IF kdj.k.volume.open.ratio\n",
      "reverse=1\n",
      "reverse=-1\n",
      "IF kdj.j.volume.open.ratio\n",
      "reverse=1\n",
      "reverse=-1\n",
      "IF trade.imb.trend.index\n",
      "reverse=1\n"
     ]
    },
    {
     "name": "stderr",
     "output_type": "stream",
     "text": [
      "d:\\Anaconda3\\lib\\site-packages\\numpy\\lib\\function_base.py:3826: RuntimeWarning: Invalid value encountered in percentile\n",
      "  interpolation=interpolation)\n"
     ]
    },
    {
     "name": "stdout",
     "output_type": "stream",
     "text": [
      "reverse=-1\n",
      "IF total.trade.imb.trend.index\n",
      "reverse=1\n"
     ]
    },
    {
     "name": "stderr",
     "output_type": "stream",
     "text": [
      "d:\\Anaconda3\\lib\\site-packages\\numpy\\lib\\function_base.py:3826: RuntimeWarning: Invalid value encountered in percentile\n",
      "  interpolation=interpolation)\n"
     ]
    },
    {
     "name": "stdout",
     "output_type": "stream",
     "text": [
      "reverse=-1\n",
      "IF nr.trend.index\n",
      "reverse=1\n"
     ]
    },
    {
     "name": "stderr",
     "output_type": "stream",
     "text": [
      "d:\\Anaconda3\\lib\\site-packages\\numpy\\lib\\function_base.py:3826: RuntimeWarning: Invalid value encountered in percentile\n",
      "  interpolation=interpolation)\n"
     ]
    },
    {
     "name": "stdout",
     "output_type": "stream",
     "text": [
      "reverse=-1\n",
      "IF dbook.trend.index\n",
      "reverse=1\n"
     ]
    },
    {
     "name": "stderr",
     "output_type": "stream",
     "text": [
      "d:\\Anaconda3\\lib\\site-packages\\numpy\\lib\\function_base.py:3826: RuntimeWarning: Invalid value encountered in percentile\n",
      "  interpolation=interpolation)\n"
     ]
    },
    {
     "name": "stdout",
     "output_type": "stream",
     "text": [
      "reverse=-1\n",
      "IF range.pos.trend.index\n",
      "reverse=1\n"
     ]
    },
    {
     "name": "stderr",
     "output_type": "stream",
     "text": [
      "d:\\Anaconda3\\lib\\site-packages\\numpy\\lib\\function_base.py:3826: RuntimeWarning: Invalid value encountered in percentile\n",
      "  interpolation=interpolation)\n"
     ]
    },
    {
     "name": "stdout",
     "output_type": "stream",
     "text": [
      "reverse=-1\n",
      "IF price.osci.trend.index\n",
      "reverse=1\n"
     ]
    },
    {
     "name": "stderr",
     "output_type": "stream",
     "text": [
      "d:\\Anaconda3\\lib\\site-packages\\numpy\\lib\\function_base.py:3826: RuntimeWarning: Invalid value encountered in percentile\n",
      "  interpolation=interpolation)\n"
     ]
    },
    {
     "name": "stdout",
     "output_type": "stream",
     "text": [
      "reverse=-1\n",
      "IF ma.dif.10.trend.index\n",
      "reverse=1\n"
     ]
    },
    {
     "name": "stderr",
     "output_type": "stream",
     "text": [
      "d:\\Anaconda3\\lib\\site-packages\\numpy\\lib\\function_base.py:3826: RuntimeWarning: Invalid value encountered in percentile\n",
      "  interpolation=interpolation)\n"
     ]
    },
    {
     "name": "stdout",
     "output_type": "stream",
     "text": [
      "reverse=-1\n",
      "IF kdj.k.trend.index\n",
      "reverse=1\n"
     ]
    },
    {
     "name": "stderr",
     "output_type": "stream",
     "text": [
      "d:\\Anaconda3\\lib\\site-packages\\numpy\\lib\\function_base.py:3826: RuntimeWarning: Invalid value encountered in percentile\n",
      "  interpolation=interpolation)\n"
     ]
    },
    {
     "name": "stdout",
     "output_type": "stream",
     "text": [
      "reverse=-1\n",
      "IF kdj.j.trend.index\n",
      "reverse=1\n"
     ]
    },
    {
     "name": "stderr",
     "output_type": "stream",
     "text": [
      "d:\\Anaconda3\\lib\\site-packages\\numpy\\lib\\function_base.py:3826: RuntimeWarning: Invalid value encountered in percentile\n",
      "  interpolation=interpolation)\n"
     ]
    },
    {
     "name": "stdout",
     "output_type": "stream",
     "text": [
      "reverse=-1\n",
      "IH trade.imb\n",
      "reverse=1\n",
      "reverse=-1\n",
      "IH total.trade.imb\n",
      "reverse=1\n",
      "reverse=-1\n",
      "IH nr\n",
      "reverse=1\n",
      "reverse=-1\n",
      "IH dbook\n",
      "reverse=1\n",
      "reverse=-1\n",
      "IH range.pos\n",
      "reverse=1\n",
      "reverse=-1\n",
      "IH price.osci\n",
      "reverse=1\n"
     ]
    },
    {
     "name": "stderr",
     "output_type": "stream",
     "text": [
      "d:\\Anaconda3\\lib\\site-packages\\numpy\\lib\\function_base.py:3826: RuntimeWarning: Invalid value encountered in percentile\n",
      "  interpolation=interpolation)\n"
     ]
    },
    {
     "name": "stdout",
     "output_type": "stream",
     "text": [
      "reverse=-1\n",
      "IH ma.dif.10\n",
      "reverse=1\n",
      "reverse=-1\n",
      "IH kdj.k\n",
      "reverse=1\n",
      "reverse=-1\n",
      "IH kdj.j\n",
      "reverse=1\n",
      "reverse=-1\n",
      "IH trade.imb.range\n",
      "reverse=1\n"
     ]
    },
    {
     "name": "stderr",
     "output_type": "stream",
     "text": [
      "d:\\Anaconda3\\lib\\site-packages\\numpy\\lib\\function_base.py:3826: RuntimeWarning: Invalid value encountered in percentile\n",
      "  interpolation=interpolation)\n"
     ]
    },
    {
     "name": "stdout",
     "output_type": "stream",
     "text": [
      "reverse=-1\n",
      "IH total.trade.imb.range\n",
      "reverse=1\n"
     ]
    },
    {
     "name": "stderr",
     "output_type": "stream",
     "text": [
      "d:\\Anaconda3\\lib\\site-packages\\numpy\\lib\\function_base.py:3826: RuntimeWarning: Invalid value encountered in percentile\n",
      "  interpolation=interpolation)\n"
     ]
    },
    {
     "name": "stdout",
     "output_type": "stream",
     "text": [
      "reverse=-1\n",
      "IH nr.range\n",
      "reverse=1\n"
     ]
    },
    {
     "name": "stderr",
     "output_type": "stream",
     "text": [
      "d:\\Anaconda3\\lib\\site-packages\\numpy\\lib\\function_base.py:3826: RuntimeWarning: Invalid value encountered in percentile\n",
      "  interpolation=interpolation)\n"
     ]
    },
    {
     "name": "stdout",
     "output_type": "stream",
     "text": [
      "reverse=-1\n",
      "IH dbook.range\n",
      "reverse=1\n"
     ]
    },
    {
     "name": "stderr",
     "output_type": "stream",
     "text": [
      "d:\\Anaconda3\\lib\\site-packages\\numpy\\lib\\function_base.py:3826: RuntimeWarning: Invalid value encountered in percentile\n",
      "  interpolation=interpolation)\n"
     ]
    },
    {
     "name": "stdout",
     "output_type": "stream",
     "text": [
      "reverse=-1\n",
      "IH range.pos.range\n",
      "reverse=1\n"
     ]
    },
    {
     "name": "stderr",
     "output_type": "stream",
     "text": [
      "d:\\Anaconda3\\lib\\site-packages\\numpy\\lib\\function_base.py:3826: RuntimeWarning: Invalid value encountered in percentile\n",
      "  interpolation=interpolation)\n"
     ]
    },
    {
     "name": "stdout",
     "output_type": "stream",
     "text": [
      "reverse=-1\n",
      "IH price.osci.range\n",
      "reverse=1\n"
     ]
    },
    {
     "name": "stderr",
     "output_type": "stream",
     "text": [
      "d:\\Anaconda3\\lib\\site-packages\\numpy\\lib\\function_base.py:3826: RuntimeWarning: Invalid value encountered in percentile\n",
      "  interpolation=interpolation)\n"
     ]
    },
    {
     "name": "stdout",
     "output_type": "stream",
     "text": [
      "reverse=-1\n",
      "IH ma.dif.10.range\n",
      "reverse=1\n"
     ]
    },
    {
     "name": "stderr",
     "output_type": "stream",
     "text": [
      "d:\\Anaconda3\\lib\\site-packages\\numpy\\lib\\function_base.py:3826: RuntimeWarning: Invalid value encountered in percentile\n",
      "  interpolation=interpolation)\n"
     ]
    },
    {
     "name": "stdout",
     "output_type": "stream",
     "text": [
      "reverse=-1\n",
      "IH kdj.k.range\n",
      "reverse=1\n"
     ]
    },
    {
     "name": "stderr",
     "output_type": "stream",
     "text": [
      "d:\\Anaconda3\\lib\\site-packages\\numpy\\lib\\function_base.py:3826: RuntimeWarning: Invalid value encountered in percentile\n",
      "  interpolation=interpolation)\n"
     ]
    },
    {
     "name": "stdout",
     "output_type": "stream",
     "text": [
      "reverse=-1\n",
      "IH kdj.j.range\n",
      "reverse=1\n"
     ]
    },
    {
     "name": "stderr",
     "output_type": "stream",
     "text": [
      "d:\\Anaconda3\\lib\\site-packages\\numpy\\lib\\function_base.py:3826: RuntimeWarning: Invalid value encountered in percentile\n",
      "  interpolation=interpolation)\n"
     ]
    },
    {
     "name": "stdout",
     "output_type": "stream",
     "text": [
      "reverse=-1\n",
      "IH trade.imb.std\n",
      "reverse=1\n",
      "reverse=-1\n",
      "IH total.trade.imb.std\n",
      "reverse=1\n",
      "reverse=-1\n",
      "IH nr.std\n",
      "reverse=1\n",
      "reverse=-1\n",
      "IH dbook.std\n",
      "reverse=1\n",
      "reverse=-1\n",
      "IH range.pos.std\n",
      "reverse=1\n",
      "reverse=-1\n",
      "IH price.osci.std\n",
      "reverse=1\n"
     ]
    },
    {
     "name": "stderr",
     "output_type": "stream",
     "text": [
      "d:\\Anaconda3\\lib\\site-packages\\numpy\\lib\\function_base.py:3826: RuntimeWarning: Invalid value encountered in percentile\n",
      "  interpolation=interpolation)\n"
     ]
    },
    {
     "name": "stdout",
     "output_type": "stream",
     "text": [
      "reverse=-1\n",
      "IH ma.dif.10.std\n",
      "reverse=1\n",
      "reverse=-1\n",
      "IH kdj.k.std\n",
      "reverse=1\n",
      "reverse=-1\n",
      "IH kdj.j.std\n",
      "reverse=1\n",
      "reverse=-1\n",
      "IH trade.imb.volume.open.ratio\n",
      "reverse=1\n",
      "reverse=-1\n",
      "IH total.trade.imb.volume.open.ratio\n",
      "reverse=1\n",
      "reverse=-1\n",
      "IH nr.volume.open.ratio\n",
      "reverse=1\n",
      "reverse=-1\n",
      "IH dbook.volume.open.ratio\n",
      "reverse=1\n",
      "reverse=-1\n",
      "IH range.pos.volume.open.ratio\n",
      "reverse=1\n",
      "reverse=-1\n",
      "IH price.osci.volume.open.ratio\n",
      "reverse=1\n"
     ]
    },
    {
     "name": "stderr",
     "output_type": "stream",
     "text": [
      "d:\\Anaconda3\\lib\\site-packages\\numpy\\lib\\function_base.py:3826: RuntimeWarning: Invalid value encountered in percentile\n",
      "  interpolation=interpolation)\n"
     ]
    },
    {
     "name": "stdout",
     "output_type": "stream",
     "text": [
      "reverse=-1\n",
      "IH ma.dif.10.volume.open.ratio\n",
      "reverse=1\n",
      "reverse=-1\n",
      "IH kdj.k.volume.open.ratio\n",
      "reverse=1\n",
      "reverse=-1\n",
      "IH kdj.j.volume.open.ratio\n",
      "reverse=1\n",
      "reverse=-1\n",
      "IH trade.imb.trend.index\n",
      "reverse=1\n"
     ]
    },
    {
     "name": "stderr",
     "output_type": "stream",
     "text": [
      "d:\\Anaconda3\\lib\\site-packages\\numpy\\lib\\function_base.py:3826: RuntimeWarning: Invalid value encountered in percentile\n",
      "  interpolation=interpolation)\n"
     ]
    },
    {
     "name": "stdout",
     "output_type": "stream",
     "text": [
      "reverse=-1\n",
      "IH total.trade.imb.trend.index\n",
      "reverse=1\n"
     ]
    },
    {
     "name": "stderr",
     "output_type": "stream",
     "text": [
      "d:\\Anaconda3\\lib\\site-packages\\numpy\\lib\\function_base.py:3826: RuntimeWarning: Invalid value encountered in percentile\n",
      "  interpolation=interpolation)\n"
     ]
    },
    {
     "name": "stdout",
     "output_type": "stream",
     "text": [
      "reverse=-1\n",
      "IH nr.trend.index\n",
      "reverse=1\n"
     ]
    },
    {
     "name": "stderr",
     "output_type": "stream",
     "text": [
      "d:\\Anaconda3\\lib\\site-packages\\numpy\\lib\\function_base.py:3826: RuntimeWarning: Invalid value encountered in percentile\n",
      "  interpolation=interpolation)\n"
     ]
    },
    {
     "name": "stdout",
     "output_type": "stream",
     "text": [
      "reverse=-1\n",
      "IH dbook.trend.index\n",
      "reverse=1\n"
     ]
    },
    {
     "name": "stderr",
     "output_type": "stream",
     "text": [
      "d:\\Anaconda3\\lib\\site-packages\\numpy\\lib\\function_base.py:3826: RuntimeWarning: Invalid value encountered in percentile\n",
      "  interpolation=interpolation)\n"
     ]
    },
    {
     "name": "stdout",
     "output_type": "stream",
     "text": [
      "reverse=-1\n",
      "IH range.pos.trend.index\n",
      "reverse=1\n"
     ]
    },
    {
     "name": "stderr",
     "output_type": "stream",
     "text": [
      "d:\\Anaconda3\\lib\\site-packages\\numpy\\lib\\function_base.py:3826: RuntimeWarning: Invalid value encountered in percentile\n",
      "  interpolation=interpolation)\n"
     ]
    },
    {
     "name": "stdout",
     "output_type": "stream",
     "text": [
      "reverse=-1\n",
      "IH price.osci.trend.index\n",
      "reverse=1\n"
     ]
    },
    {
     "name": "stderr",
     "output_type": "stream",
     "text": [
      "d:\\Anaconda3\\lib\\site-packages\\numpy\\lib\\function_base.py:3826: RuntimeWarning: Invalid value encountered in percentile\n",
      "  interpolation=interpolation)\n"
     ]
    },
    {
     "name": "stdout",
     "output_type": "stream",
     "text": [
      "reverse=-1\n",
      "IH ma.dif.10.trend.index\n",
      "reverse=1\n"
     ]
    },
    {
     "name": "stderr",
     "output_type": "stream",
     "text": [
      "d:\\Anaconda3\\lib\\site-packages\\numpy\\lib\\function_base.py:3826: RuntimeWarning: Invalid value encountered in percentile\n",
      "  interpolation=interpolation)\n"
     ]
    },
    {
     "name": "stdout",
     "output_type": "stream",
     "text": [
      "reverse=-1\n",
      "IH kdj.k.trend.index\n",
      "reverse=1\n"
     ]
    },
    {
     "name": "stderr",
     "output_type": "stream",
     "text": [
      "d:\\Anaconda3\\lib\\site-packages\\numpy\\lib\\function_base.py:3826: RuntimeWarning: Invalid value encountered in percentile\n",
      "  interpolation=interpolation)\n"
     ]
    },
    {
     "name": "stdout",
     "output_type": "stream",
     "text": [
      "reverse=-1\n",
      "IH kdj.j.trend.index\n",
      "reverse=1\n"
     ]
    },
    {
     "name": "stderr",
     "output_type": "stream",
     "text": [
      "d:\\Anaconda3\\lib\\site-packages\\numpy\\lib\\function_base.py:3826: RuntimeWarning: Invalid value encountered in percentile\n",
      "  interpolation=interpolation)\n"
     ]
    },
    {
     "name": "stdout",
     "output_type": "stream",
     "text": [
      "reverse=-1\n",
      "IC trade.imb\n",
      "reverse=1\n",
      "reverse=-1\n",
      "IC total.trade.imb\n",
      "reverse=1\n",
      "reverse=-1\n",
      "IC nr\n",
      "reverse=1\n",
      "reverse=-1\n",
      "IC dbook\n",
      "reverse=1\n",
      "reverse=-1\n",
      "IC range.pos\n",
      "reverse=1\n",
      "reverse=-1\n",
      "IC price.osci\n",
      "reverse=1\n"
     ]
    },
    {
     "name": "stderr",
     "output_type": "stream",
     "text": [
      "d:\\Anaconda3\\lib\\site-packages\\numpy\\lib\\function_base.py:3826: RuntimeWarning: Invalid value encountered in percentile\n",
      "  interpolation=interpolation)\n"
     ]
    },
    {
     "name": "stdout",
     "output_type": "stream",
     "text": [
      "reverse=-1\n",
      "IC ma.dif.10\n",
      "reverse=1\n",
      "reverse=-1\n",
      "IC kdj.k\n",
      "reverse=1\n",
      "reverse=-1\n",
      "IC kdj.j\n",
      "reverse=1\n",
      "reverse=-1\n",
      "IC trade.imb.range\n",
      "reverse=1\n"
     ]
    },
    {
     "name": "stderr",
     "output_type": "stream",
     "text": [
      "d:\\Anaconda3\\lib\\site-packages\\numpy\\lib\\function_base.py:3826: RuntimeWarning: Invalid value encountered in percentile\n",
      "  interpolation=interpolation)\n"
     ]
    },
    {
     "name": "stdout",
     "output_type": "stream",
     "text": [
      "reverse=-1\n",
      "IC total.trade.imb.range\n",
      "reverse=1\n"
     ]
    },
    {
     "name": "stderr",
     "output_type": "stream",
     "text": [
      "d:\\Anaconda3\\lib\\site-packages\\numpy\\lib\\function_base.py:3826: RuntimeWarning: Invalid value encountered in percentile\n",
      "  interpolation=interpolation)\n"
     ]
    },
    {
     "name": "stdout",
     "output_type": "stream",
     "text": [
      "reverse=-1\n",
      "IC nr.range\n",
      "reverse=1\n"
     ]
    },
    {
     "name": "stderr",
     "output_type": "stream",
     "text": [
      "d:\\Anaconda3\\lib\\site-packages\\numpy\\lib\\function_base.py:3826: RuntimeWarning: Invalid value encountered in percentile\n",
      "  interpolation=interpolation)\n"
     ]
    },
    {
     "name": "stdout",
     "output_type": "stream",
     "text": [
      "reverse=-1\n",
      "IC dbook.range\n",
      "reverse=1\n"
     ]
    },
    {
     "name": "stderr",
     "output_type": "stream",
     "text": [
      "d:\\Anaconda3\\lib\\site-packages\\numpy\\lib\\function_base.py:3826: RuntimeWarning: Invalid value encountered in percentile\n",
      "  interpolation=interpolation)\n"
     ]
    },
    {
     "name": "stdout",
     "output_type": "stream",
     "text": [
      "reverse=-1\n",
      "IC range.pos.range\n",
      "reverse=1\n"
     ]
    },
    {
     "name": "stderr",
     "output_type": "stream",
     "text": [
      "d:\\Anaconda3\\lib\\site-packages\\numpy\\lib\\function_base.py:3826: RuntimeWarning: Invalid value encountered in percentile\n",
      "  interpolation=interpolation)\n"
     ]
    },
    {
     "name": "stdout",
     "output_type": "stream",
     "text": [
      "reverse=-1\n",
      "IC price.osci.range\n",
      "reverse=1\n"
     ]
    },
    {
     "name": "stderr",
     "output_type": "stream",
     "text": [
      "d:\\Anaconda3\\lib\\site-packages\\numpy\\lib\\function_base.py:3826: RuntimeWarning: Invalid value encountered in percentile\n",
      "  interpolation=interpolation)\n"
     ]
    },
    {
     "name": "stdout",
     "output_type": "stream",
     "text": [
      "reverse=-1\n",
      "IC ma.dif.10.range\n",
      "reverse=1\n"
     ]
    },
    {
     "name": "stderr",
     "output_type": "stream",
     "text": [
      "d:\\Anaconda3\\lib\\site-packages\\numpy\\lib\\function_base.py:3826: RuntimeWarning: Invalid value encountered in percentile\n",
      "  interpolation=interpolation)\n"
     ]
    },
    {
     "name": "stdout",
     "output_type": "stream",
     "text": [
      "reverse=-1\n",
      "IC kdj.k.range\n",
      "reverse=1\n"
     ]
    },
    {
     "name": "stderr",
     "output_type": "stream",
     "text": [
      "d:\\Anaconda3\\lib\\site-packages\\numpy\\lib\\function_base.py:3826: RuntimeWarning: Invalid value encountered in percentile\n",
      "  interpolation=interpolation)\n"
     ]
    },
    {
     "name": "stdout",
     "output_type": "stream",
     "text": [
      "reverse=-1\n",
      "IC kdj.j.range\n",
      "reverse=1\n"
     ]
    },
    {
     "name": "stderr",
     "output_type": "stream",
     "text": [
      "d:\\Anaconda3\\lib\\site-packages\\numpy\\lib\\function_base.py:3826: RuntimeWarning: Invalid value encountered in percentile\n",
      "  interpolation=interpolation)\n"
     ]
    },
    {
     "name": "stdout",
     "output_type": "stream",
     "text": [
      "reverse=-1\n",
      "IC trade.imb.std\n",
      "reverse=1\n",
      "reverse=-1\n",
      "IC total.trade.imb.std\n",
      "reverse=1\n",
      "reverse=-1\n",
      "IC nr.std\n",
      "reverse=1\n",
      "reverse=-1\n",
      "IC dbook.std\n",
      "reverse=1\n",
      "reverse=-1\n",
      "IC range.pos.std\n",
      "reverse=1\n",
      "reverse=-1\n",
      "IC price.osci.std\n",
      "reverse=1\n"
     ]
    },
    {
     "name": "stderr",
     "output_type": "stream",
     "text": [
      "d:\\Anaconda3\\lib\\site-packages\\numpy\\lib\\function_base.py:3826: RuntimeWarning: Invalid value encountered in percentile\n",
      "  interpolation=interpolation)\n"
     ]
    },
    {
     "name": "stdout",
     "output_type": "stream",
     "text": [
      "reverse=-1\n",
      "IC ma.dif.10.std\n",
      "reverse=1\n",
      "reverse=-1\n",
      "IC kdj.k.std\n",
      "reverse=1\n",
      "reverse=-1\n",
      "IC kdj.j.std\n",
      "reverse=1\n",
      "reverse=-1\n",
      "IC trade.imb.volume.open.ratio\n",
      "reverse=1\n",
      "reverse=-1\n",
      "IC total.trade.imb.volume.open.ratio\n",
      "reverse=1\n",
      "reverse=-1\n",
      "IC nr.volume.open.ratio\n",
      "reverse=1\n",
      "reverse=-1\n",
      "IC dbook.volume.open.ratio\n",
      "reverse=1\n",
      "reverse=-1\n",
      "IC range.pos.volume.open.ratio\n",
      "reverse=1\n",
      "reverse=-1\n",
      "IC price.osci.volume.open.ratio\n",
      "reverse=1\n"
     ]
    },
    {
     "name": "stderr",
     "output_type": "stream",
     "text": [
      "d:\\Anaconda3\\lib\\site-packages\\numpy\\lib\\function_base.py:3826: RuntimeWarning: Invalid value encountered in percentile\n",
      "  interpolation=interpolation)\n"
     ]
    },
    {
     "name": "stdout",
     "output_type": "stream",
     "text": [
      "reverse=-1\n",
      "IC ma.dif.10.volume.open.ratio\n",
      "reverse=1\n",
      "reverse=-1\n",
      "IC kdj.k.volume.open.ratio\n",
      "reverse=1\n",
      "reverse=-1\n",
      "IC kdj.j.volume.open.ratio\n",
      "reverse=1\n",
      "reverse=-1\n",
      "IC trade.imb.trend.index\n",
      "reverse=1\n"
     ]
    },
    {
     "name": "stderr",
     "output_type": "stream",
     "text": [
      "d:\\Anaconda3\\lib\\site-packages\\numpy\\lib\\function_base.py:3826: RuntimeWarning: Invalid value encountered in percentile\n",
      "  interpolation=interpolation)\n"
     ]
    },
    {
     "name": "stdout",
     "output_type": "stream",
     "text": [
      "reverse=-1\n",
      "IC total.trade.imb.trend.index\n",
      "reverse=1\n"
     ]
    },
    {
     "name": "stderr",
     "output_type": "stream",
     "text": [
      "d:\\Anaconda3\\lib\\site-packages\\numpy\\lib\\function_base.py:3826: RuntimeWarning: Invalid value encountered in percentile\n",
      "  interpolation=interpolation)\n"
     ]
    },
    {
     "name": "stdout",
     "output_type": "stream",
     "text": [
      "reverse=-1\n",
      "IC nr.trend.index\n",
      "reverse=1\n"
     ]
    },
    {
     "name": "stderr",
     "output_type": "stream",
     "text": [
      "d:\\Anaconda3\\lib\\site-packages\\numpy\\lib\\function_base.py:3826: RuntimeWarning: Invalid value encountered in percentile\n",
      "  interpolation=interpolation)\n"
     ]
    },
    {
     "name": "stdout",
     "output_type": "stream",
     "text": [
      "reverse=-1\n",
      "IC dbook.trend.index\n",
      "reverse=1\n"
     ]
    },
    {
     "name": "stderr",
     "output_type": "stream",
     "text": [
      "d:\\Anaconda3\\lib\\site-packages\\numpy\\lib\\function_base.py:3826: RuntimeWarning: Invalid value encountered in percentile\n",
      "  interpolation=interpolation)\n"
     ]
    },
    {
     "name": "stdout",
     "output_type": "stream",
     "text": [
      "reverse=-1\n",
      "IC range.pos.trend.index\n",
      "reverse=1\n"
     ]
    },
    {
     "name": "stderr",
     "output_type": "stream",
     "text": [
      "d:\\Anaconda3\\lib\\site-packages\\numpy\\lib\\function_base.py:3826: RuntimeWarning: Invalid value encountered in percentile\n",
      "  interpolation=interpolation)\n"
     ]
    },
    {
     "name": "stdout",
     "output_type": "stream",
     "text": [
      "reverse=-1\n",
      "IC price.osci.trend.index\n",
      "reverse=1\n"
     ]
    },
    {
     "name": "stderr",
     "output_type": "stream",
     "text": [
      "d:\\Anaconda3\\lib\\site-packages\\numpy\\lib\\function_base.py:3826: RuntimeWarning: Invalid value encountered in percentile\n",
      "  interpolation=interpolation)\n"
     ]
    },
    {
     "name": "stdout",
     "output_type": "stream",
     "text": [
      "reverse=-1\n",
      "IC ma.dif.10.trend.index\n",
      "reverse=1\n"
     ]
    },
    {
     "name": "stderr",
     "output_type": "stream",
     "text": [
      "d:\\Anaconda3\\lib\\site-packages\\numpy\\lib\\function_base.py:3826: RuntimeWarning: Invalid value encountered in percentile\n",
      "  interpolation=interpolation)\n"
     ]
    },
    {
     "name": "stdout",
     "output_type": "stream",
     "text": [
      "reverse=-1\n",
      "IC kdj.k.trend.index\n",
      "reverse=1\n"
     ]
    },
    {
     "name": "stderr",
     "output_type": "stream",
     "text": [
      "d:\\Anaconda3\\lib\\site-packages\\numpy\\lib\\function_base.py:3826: RuntimeWarning: Invalid value encountered in percentile\n",
      "  interpolation=interpolation)\n"
     ]
    },
    {
     "name": "stdout",
     "output_type": "stream",
     "text": [
      "reverse=-1\n",
      "IC kdj.j.trend.index\n",
      "reverse=1\n"
     ]
    },
    {
     "name": "stderr",
     "output_type": "stream",
     "text": [
      "d:\\Anaconda3\\lib\\site-packages\\numpy\\lib\\function_base.py:3826: RuntimeWarning: Invalid value encountered in percentile\n",
      "  interpolation=interpolation)\n"
     ]
    },
    {
     "name": "stdout",
     "output_type": "stream",
     "text": [
      "reverse=-1\n",
      "T trade.imb\n",
      "reverse=1\n",
      "reverse=-1\n",
      "T total.trade.imb\n",
      "reverse=1\n",
      "reverse=-1\n",
      "T nr\n",
      "reverse=1\n",
      "reverse=-1\n",
      "T dbook\n",
      "reverse=1\n",
      "reverse=-1\n",
      "T range.pos\n",
      "reverse=1\n",
      "reverse=-1\n",
      "T price.osci\n",
      "reverse=1\n"
     ]
    },
    {
     "name": "stderr",
     "output_type": "stream",
     "text": [
      "d:\\Anaconda3\\lib\\site-packages\\numpy\\lib\\function_base.py:3826: RuntimeWarning: Invalid value encountered in percentile\n",
      "  interpolation=interpolation)\n"
     ]
    },
    {
     "name": "stdout",
     "output_type": "stream",
     "text": [
      "reverse=-1\n",
      "T ma.dif.10\n",
      "reverse=1\n",
      "reverse=-1\n",
      "T kdj.k\n",
      "reverse=1\n",
      "reverse=-1\n",
      "T kdj.j\n",
      "reverse=1\n",
      "reverse=-1\n",
      "T trade.imb.range\n",
      "reverse=1\n"
     ]
    },
    {
     "name": "stderr",
     "output_type": "stream",
     "text": [
      "d:\\Anaconda3\\lib\\site-packages\\numpy\\lib\\function_base.py:3826: RuntimeWarning: Invalid value encountered in percentile\n",
      "  interpolation=interpolation)\n"
     ]
    },
    {
     "name": "stdout",
     "output_type": "stream",
     "text": [
      "reverse=-1\n",
      "T total.trade.imb.range\n",
      "reverse=1\n"
     ]
    },
    {
     "name": "stderr",
     "output_type": "stream",
     "text": [
      "d:\\Anaconda3\\lib\\site-packages\\numpy\\lib\\function_base.py:3826: RuntimeWarning: Invalid value encountered in percentile\n",
      "  interpolation=interpolation)\n"
     ]
    },
    {
     "name": "stdout",
     "output_type": "stream",
     "text": [
      "reverse=-1\n",
      "T nr.range\n",
      "reverse=1\n"
     ]
    },
    {
     "name": "stderr",
     "output_type": "stream",
     "text": [
      "d:\\Anaconda3\\lib\\site-packages\\numpy\\lib\\function_base.py:3826: RuntimeWarning: Invalid value encountered in percentile\n",
      "  interpolation=interpolation)\n"
     ]
    },
    {
     "name": "stdout",
     "output_type": "stream",
     "text": [
      "reverse=-1\n",
      "T dbook.range\n",
      "reverse=1\n"
     ]
    },
    {
     "name": "stderr",
     "output_type": "stream",
     "text": [
      "d:\\Anaconda3\\lib\\site-packages\\numpy\\lib\\function_base.py:3826: RuntimeWarning: Invalid value encountered in percentile\n",
      "  interpolation=interpolation)\n"
     ]
    },
    {
     "name": "stdout",
     "output_type": "stream",
     "text": [
      "reverse=-1\n",
      "T range.pos.range\n",
      "reverse=1\n"
     ]
    },
    {
     "name": "stderr",
     "output_type": "stream",
     "text": [
      "d:\\Anaconda3\\lib\\site-packages\\numpy\\lib\\function_base.py:3826: RuntimeWarning: Invalid value encountered in percentile\n",
      "  interpolation=interpolation)\n"
     ]
    },
    {
     "name": "stdout",
     "output_type": "stream",
     "text": [
      "reverse=-1\n",
      "T price.osci.range\n",
      "reverse=1\n"
     ]
    },
    {
     "name": "stderr",
     "output_type": "stream",
     "text": [
      "d:\\Anaconda3\\lib\\site-packages\\numpy\\lib\\function_base.py:3826: RuntimeWarning: Invalid value encountered in percentile\n",
      "  interpolation=interpolation)\n"
     ]
    },
    {
     "name": "stdout",
     "output_type": "stream",
     "text": [
      "reverse=-1\n",
      "T ma.dif.10.range\n",
      "reverse=1\n"
     ]
    },
    {
     "name": "stderr",
     "output_type": "stream",
     "text": [
      "d:\\Anaconda3\\lib\\site-packages\\numpy\\lib\\function_base.py:3826: RuntimeWarning: Invalid value encountered in percentile\n",
      "  interpolation=interpolation)\n"
     ]
    },
    {
     "name": "stdout",
     "output_type": "stream",
     "text": [
      "reverse=-1\n",
      "T kdj.k.range\n",
      "reverse=1\n"
     ]
    },
    {
     "name": "stderr",
     "output_type": "stream",
     "text": [
      "d:\\Anaconda3\\lib\\site-packages\\numpy\\lib\\function_base.py:3826: RuntimeWarning: Invalid value encountered in percentile\n",
      "  interpolation=interpolation)\n"
     ]
    },
    {
     "name": "stdout",
     "output_type": "stream",
     "text": [
      "reverse=-1\n",
      "T kdj.j.range\n",
      "reverse=1\n"
     ]
    },
    {
     "name": "stderr",
     "output_type": "stream",
     "text": [
      "d:\\Anaconda3\\lib\\site-packages\\numpy\\lib\\function_base.py:3826: RuntimeWarning: Invalid value encountered in percentile\n",
      "  interpolation=interpolation)\n"
     ]
    },
    {
     "name": "stdout",
     "output_type": "stream",
     "text": [
      "reverse=-1\n",
      "T trade.imb.std\n",
      "reverse=1\n",
      "reverse=-1\n",
      "T total.trade.imb.std\n",
      "reverse=1\n",
      "reverse=-1\n",
      "T nr.std\n",
      "reverse=1\n",
      "reverse=-1\n",
      "T dbook.std\n",
      "reverse=1\n",
      "reverse=-1\n",
      "T range.pos.std\n",
      "reverse=1\n",
      "reverse=-1\n",
      "T price.osci.std\n",
      "reverse=1\n"
     ]
    },
    {
     "name": "stderr",
     "output_type": "stream",
     "text": [
      "d:\\Anaconda3\\lib\\site-packages\\numpy\\lib\\function_base.py:3826: RuntimeWarning: Invalid value encountered in percentile\n",
      "  interpolation=interpolation)\n"
     ]
    },
    {
     "name": "stdout",
     "output_type": "stream",
     "text": [
      "reverse=-1\n",
      "T ma.dif.10.std\n",
      "reverse=1\n",
      "reverse=-1\n",
      "T kdj.k.std\n",
      "reverse=1\n",
      "reverse=-1\n",
      "T kdj.j.std\n",
      "reverse=1\n",
      "reverse=-1\n",
      "T trade.imb.volume.open.ratio\n",
      "reverse=1\n",
      "reverse=-1\n",
      "T total.trade.imb.volume.open.ratio\n",
      "reverse=1\n",
      "reverse=-1\n",
      "T nr.volume.open.ratio\n",
      "reverse=1\n",
      "reverse=-1\n",
      "T dbook.volume.open.ratio\n",
      "reverse=1\n",
      "reverse=-1\n",
      "T range.pos.volume.open.ratio\n",
      "reverse=1\n",
      "reverse=-1\n",
      "T price.osci.volume.open.ratio\n",
      "reverse=1\n"
     ]
    },
    {
     "name": "stderr",
     "output_type": "stream",
     "text": [
      "d:\\Anaconda3\\lib\\site-packages\\numpy\\lib\\function_base.py:3826: RuntimeWarning: Invalid value encountered in percentile\n",
      "  interpolation=interpolation)\n"
     ]
    },
    {
     "name": "stdout",
     "output_type": "stream",
     "text": [
      "reverse=-1\n",
      "T ma.dif.10.volume.open.ratio\n",
      "reverse=1\n",
      "reverse=-1\n",
      "T kdj.k.volume.open.ratio\n",
      "reverse=1\n",
      "reverse=-1\n",
      "T kdj.j.volume.open.ratio\n",
      "reverse=1\n",
      "reverse=-1\n",
      "T trade.imb.trend.index\n",
      "reverse=1\n"
     ]
    },
    {
     "name": "stderr",
     "output_type": "stream",
     "text": [
      "d:\\Anaconda3\\lib\\site-packages\\numpy\\lib\\function_base.py:3826: RuntimeWarning: Invalid value encountered in percentile\n",
      "  interpolation=interpolation)\n"
     ]
    },
    {
     "name": "stdout",
     "output_type": "stream",
     "text": [
      "reverse=-1\n",
      "T total.trade.imb.trend.index\n",
      "reverse=1\n"
     ]
    },
    {
     "name": "stderr",
     "output_type": "stream",
     "text": [
      "d:\\Anaconda3\\lib\\site-packages\\numpy\\lib\\function_base.py:3826: RuntimeWarning: Invalid value encountered in percentile\n",
      "  interpolation=interpolation)\n"
     ]
    },
    {
     "name": "stdout",
     "output_type": "stream",
     "text": [
      "reverse=-1\n",
      "T nr.trend.index\n",
      "reverse=1\n"
     ]
    },
    {
     "name": "stderr",
     "output_type": "stream",
     "text": [
      "d:\\Anaconda3\\lib\\site-packages\\numpy\\lib\\function_base.py:3826: RuntimeWarning: Invalid value encountered in percentile\n",
      "  interpolation=interpolation)\n"
     ]
    },
    {
     "name": "stdout",
     "output_type": "stream",
     "text": [
      "reverse=-1\n",
      "T dbook.trend.index\n",
      "reverse=1\n"
     ]
    },
    {
     "name": "stderr",
     "output_type": "stream",
     "text": [
      "d:\\Anaconda3\\lib\\site-packages\\numpy\\lib\\function_base.py:3826: RuntimeWarning: Invalid value encountered in percentile\n",
      "  interpolation=interpolation)\n"
     ]
    },
    {
     "name": "stdout",
     "output_type": "stream",
     "text": [
      "reverse=-1\n",
      "T range.pos.trend.index\n",
      "reverse=1\n"
     ]
    },
    {
     "name": "stderr",
     "output_type": "stream",
     "text": [
      "d:\\Anaconda3\\lib\\site-packages\\numpy\\lib\\function_base.py:3826: RuntimeWarning: Invalid value encountered in percentile\n",
      "  interpolation=interpolation)\n"
     ]
    },
    {
     "name": "stdout",
     "output_type": "stream",
     "text": [
      "reverse=-1\n",
      "T price.osci.trend.index\n",
      "reverse=1\n"
     ]
    },
    {
     "name": "stderr",
     "output_type": "stream",
     "text": [
      "d:\\Anaconda3\\lib\\site-packages\\numpy\\lib\\function_base.py:3826: RuntimeWarning: Invalid value encountered in percentile\n",
      "  interpolation=interpolation)\n"
     ]
    },
    {
     "name": "stdout",
     "output_type": "stream",
     "text": [
      "reverse=-1\n",
      "T ma.dif.10.trend.index\n",
      "reverse=1\n"
     ]
    },
    {
     "name": "stderr",
     "output_type": "stream",
     "text": [
      "d:\\Anaconda3\\lib\\site-packages\\numpy\\lib\\function_base.py:3826: RuntimeWarning: Invalid value encountered in percentile\n",
      "  interpolation=interpolation)\n"
     ]
    },
    {
     "name": "stdout",
     "output_type": "stream",
     "text": [
      "reverse=-1\n",
      "T kdj.k.trend.index\n",
      "reverse=1\n"
     ]
    },
    {
     "name": "stderr",
     "output_type": "stream",
     "text": [
      "d:\\Anaconda3\\lib\\site-packages\\numpy\\lib\\function_base.py:3826: RuntimeWarning: Invalid value encountered in percentile\n",
      "  interpolation=interpolation)\n"
     ]
    },
    {
     "name": "stdout",
     "output_type": "stream",
     "text": [
      "reverse=-1\n",
      "T kdj.j.trend.index\n",
      "reverse=1\n"
     ]
    },
    {
     "name": "stderr",
     "output_type": "stream",
     "text": [
      "d:\\Anaconda3\\lib\\site-packages\\numpy\\lib\\function_base.py:3826: RuntimeWarning: Invalid value encountered in percentile\n",
      "  interpolation=interpolation)\n"
     ]
    },
    {
     "name": "stdout",
     "output_type": "stream",
     "text": [
      "reverse=-1\n",
      "TF trade.imb\n",
      "reverse=1\n",
      "reverse=-1\n",
      "TF total.trade.imb\n",
      "reverse=1\n",
      "reverse=-1\n",
      "TF nr\n",
      "reverse=1\n",
      "reverse=-1\n",
      "TF dbook\n",
      "reverse=1\n",
      "reverse=-1\n",
      "TF range.pos\n",
      "reverse=1\n",
      "reverse=-1\n",
      "TF price.osci\n",
      "reverse=1\n"
     ]
    },
    {
     "name": "stderr",
     "output_type": "stream",
     "text": [
      "d:\\Anaconda3\\lib\\site-packages\\numpy\\lib\\function_base.py:3826: RuntimeWarning: Invalid value encountered in percentile\n",
      "  interpolation=interpolation)\n"
     ]
    },
    {
     "name": "stdout",
     "output_type": "stream",
     "text": [
      "reverse=-1\n",
      "TF ma.dif.10\n",
      "reverse=1\n",
      "reverse=-1\n",
      "TF kdj.k\n",
      "reverse=1\n",
      "reverse=-1\n",
      "TF kdj.j\n",
      "reverse=1\n",
      "reverse=-1\n",
      "TF trade.imb.range\n",
      "reverse=1\n"
     ]
    },
    {
     "name": "stderr",
     "output_type": "stream",
     "text": [
      "d:\\Anaconda3\\lib\\site-packages\\numpy\\lib\\function_base.py:3826: RuntimeWarning: Invalid value encountered in percentile\n",
      "  interpolation=interpolation)\n"
     ]
    },
    {
     "name": "stdout",
     "output_type": "stream",
     "text": [
      "reverse=-1\n",
      "TF total.trade.imb.range\n",
      "reverse=1\n"
     ]
    },
    {
     "name": "stderr",
     "output_type": "stream",
     "text": [
      "d:\\Anaconda3\\lib\\site-packages\\numpy\\lib\\function_base.py:3826: RuntimeWarning: Invalid value encountered in percentile\n",
      "  interpolation=interpolation)\n"
     ]
    },
    {
     "name": "stdout",
     "output_type": "stream",
     "text": [
      "reverse=-1\n",
      "TF nr.range\n",
      "reverse=1\n"
     ]
    },
    {
     "name": "stderr",
     "output_type": "stream",
     "text": [
      "d:\\Anaconda3\\lib\\site-packages\\numpy\\lib\\function_base.py:3826: RuntimeWarning: Invalid value encountered in percentile\n",
      "  interpolation=interpolation)\n"
     ]
    },
    {
     "name": "stdout",
     "output_type": "stream",
     "text": [
      "reverse=-1\n",
      "TF dbook.range\n",
      "reverse=1\n"
     ]
    },
    {
     "name": "stderr",
     "output_type": "stream",
     "text": [
      "d:\\Anaconda3\\lib\\site-packages\\numpy\\lib\\function_base.py:3826: RuntimeWarning: Invalid value encountered in percentile\n",
      "  interpolation=interpolation)\n"
     ]
    },
    {
     "name": "stdout",
     "output_type": "stream",
     "text": [
      "reverse=-1\n",
      "TF range.pos.range\n",
      "reverse=1\n"
     ]
    },
    {
     "name": "stderr",
     "output_type": "stream",
     "text": [
      "d:\\Anaconda3\\lib\\site-packages\\numpy\\lib\\function_base.py:3826: RuntimeWarning: Invalid value encountered in percentile\n",
      "  interpolation=interpolation)\n"
     ]
    },
    {
     "name": "stdout",
     "output_type": "stream",
     "text": [
      "reverse=-1\n",
      "TF price.osci.range\n",
      "reverse=1\n"
     ]
    },
    {
     "name": "stderr",
     "output_type": "stream",
     "text": [
      "d:\\Anaconda3\\lib\\site-packages\\numpy\\lib\\function_base.py:3826: RuntimeWarning: Invalid value encountered in percentile\n",
      "  interpolation=interpolation)\n"
     ]
    },
    {
     "name": "stdout",
     "output_type": "stream",
     "text": [
      "reverse=-1\n",
      "TF ma.dif.10.range\n",
      "reverse=1\n"
     ]
    },
    {
     "name": "stderr",
     "output_type": "stream",
     "text": [
      "d:\\Anaconda3\\lib\\site-packages\\numpy\\lib\\function_base.py:3826: RuntimeWarning: Invalid value encountered in percentile\n",
      "  interpolation=interpolation)\n"
     ]
    },
    {
     "name": "stdout",
     "output_type": "stream",
     "text": [
      "reverse=-1\n",
      "TF kdj.k.range\n",
      "reverse=1\n"
     ]
    },
    {
     "name": "stderr",
     "output_type": "stream",
     "text": [
      "d:\\Anaconda3\\lib\\site-packages\\numpy\\lib\\function_base.py:3826: RuntimeWarning: Invalid value encountered in percentile\n",
      "  interpolation=interpolation)\n"
     ]
    },
    {
     "name": "stdout",
     "output_type": "stream",
     "text": [
      "reverse=-1\n",
      "TF kdj.j.range\n",
      "reverse=1\n"
     ]
    },
    {
     "name": "stderr",
     "output_type": "stream",
     "text": [
      "d:\\Anaconda3\\lib\\site-packages\\numpy\\lib\\function_base.py:3826: RuntimeWarning: Invalid value encountered in percentile\n",
      "  interpolation=interpolation)\n"
     ]
    },
    {
     "name": "stdout",
     "output_type": "stream",
     "text": [
      "reverse=-1\n",
      "TF trade.imb.std\n",
      "reverse=1\n",
      "reverse=-1\n",
      "TF total.trade.imb.std\n",
      "reverse=1\n",
      "reverse=-1\n",
      "TF nr.std\n",
      "reverse=1\n",
      "reverse=-1\n",
      "TF dbook.std\n",
      "reverse=1\n",
      "reverse=-1\n",
      "TF range.pos.std\n",
      "reverse=1\n",
      "reverse=-1\n",
      "TF price.osci.std\n",
      "reverse=1\n"
     ]
    },
    {
     "name": "stderr",
     "output_type": "stream",
     "text": [
      "d:\\Anaconda3\\lib\\site-packages\\numpy\\lib\\function_base.py:3826: RuntimeWarning: Invalid value encountered in percentile\n",
      "  interpolation=interpolation)\n"
     ]
    },
    {
     "name": "stdout",
     "output_type": "stream",
     "text": [
      "reverse=-1\n",
      "TF ma.dif.10.std\n",
      "reverse=1\n",
      "reverse=-1\n",
      "TF kdj.k.std\n",
      "reverse=1\n",
      "reverse=-1\n",
      "TF kdj.j.std\n",
      "reverse=1\n",
      "reverse=-1\n",
      "TF trade.imb.volume.open.ratio\n",
      "reverse=1\n",
      "reverse=-1\n",
      "TF total.trade.imb.volume.open.ratio\n",
      "reverse=1\n",
      "reverse=-1\n",
      "TF nr.volume.open.ratio\n",
      "reverse=1\n",
      "reverse=-1\n",
      "TF dbook.volume.open.ratio\n",
      "reverse=1\n",
      "reverse=-1\n",
      "TF range.pos.volume.open.ratio\n",
      "reverse=1\n",
      "reverse=-1\n",
      "TF price.osci.volume.open.ratio\n",
      "reverse=1\n"
     ]
    },
    {
     "name": "stderr",
     "output_type": "stream",
     "text": [
      "d:\\Anaconda3\\lib\\site-packages\\numpy\\lib\\function_base.py:3826: RuntimeWarning: Invalid value encountered in percentile\n",
      "  interpolation=interpolation)\n"
     ]
    },
    {
     "name": "stdout",
     "output_type": "stream",
     "text": [
      "reverse=-1\n",
      "TF ma.dif.10.volume.open.ratio\n",
      "reverse=1\n",
      "reverse=-1\n",
      "TF kdj.k.volume.open.ratio\n",
      "reverse=1\n",
      "reverse=-1\n",
      "TF kdj.j.volume.open.ratio\n",
      "reverse=1\n",
      "reverse=-1\n",
      "TF trade.imb.trend.index\n",
      "reverse=1\n"
     ]
    },
    {
     "name": "stderr",
     "output_type": "stream",
     "text": [
      "d:\\Anaconda3\\lib\\site-packages\\numpy\\lib\\function_base.py:3826: RuntimeWarning: Invalid value encountered in percentile\n",
      "  interpolation=interpolation)\n"
     ]
    },
    {
     "name": "stdout",
     "output_type": "stream",
     "text": [
      "reverse=-1\n",
      "TF total.trade.imb.trend.index\n",
      "reverse=1\n"
     ]
    },
    {
     "name": "stderr",
     "output_type": "stream",
     "text": [
      "d:\\Anaconda3\\lib\\site-packages\\numpy\\lib\\function_base.py:3826: RuntimeWarning: Invalid value encountered in percentile\n",
      "  interpolation=interpolation)\n"
     ]
    },
    {
     "name": "stdout",
     "output_type": "stream",
     "text": [
      "reverse=-1\n",
      "TF nr.trend.index\n",
      "reverse=1\n"
     ]
    },
    {
     "name": "stderr",
     "output_type": "stream",
     "text": [
      "d:\\Anaconda3\\lib\\site-packages\\numpy\\lib\\function_base.py:3826: RuntimeWarning: Invalid value encountered in percentile\n",
      "  interpolation=interpolation)\n"
     ]
    },
    {
     "name": "stdout",
     "output_type": "stream",
     "text": [
      "reverse=-1\n",
      "TF dbook.trend.index\n",
      "reverse=1\n"
     ]
    },
    {
     "name": "stderr",
     "output_type": "stream",
     "text": [
      "d:\\Anaconda3\\lib\\site-packages\\numpy\\lib\\function_base.py:3826: RuntimeWarning: Invalid value encountered in percentile\n",
      "  interpolation=interpolation)\n"
     ]
    },
    {
     "name": "stdout",
     "output_type": "stream",
     "text": [
      "reverse=-1\n",
      "TF range.pos.trend.index\n",
      "reverse=1\n"
     ]
    },
    {
     "name": "stderr",
     "output_type": "stream",
     "text": [
      "d:\\Anaconda3\\lib\\site-packages\\numpy\\lib\\function_base.py:3826: RuntimeWarning: Invalid value encountered in percentile\n",
      "  interpolation=interpolation)\n"
     ]
    },
    {
     "name": "stdout",
     "output_type": "stream",
     "text": [
      "reverse=-1\n",
      "TF price.osci.trend.index\n",
      "reverse=1\n"
     ]
    },
    {
     "name": "stderr",
     "output_type": "stream",
     "text": [
      "d:\\Anaconda3\\lib\\site-packages\\numpy\\lib\\function_base.py:3826: RuntimeWarning: Invalid value encountered in percentile\n",
      "  interpolation=interpolation)\n"
     ]
    },
    {
     "name": "stdout",
     "output_type": "stream",
     "text": [
      "reverse=-1\n",
      "TF ma.dif.10.trend.index\n",
      "reverse=1\n"
     ]
    },
    {
     "name": "stderr",
     "output_type": "stream",
     "text": [
      "d:\\Anaconda3\\lib\\site-packages\\numpy\\lib\\function_base.py:3826: RuntimeWarning: Invalid value encountered in percentile\n",
      "  interpolation=interpolation)\n"
     ]
    },
    {
     "name": "stdout",
     "output_type": "stream",
     "text": [
      "reverse=-1\n",
      "TF kdj.k.trend.index\n",
      "reverse=1\n"
     ]
    },
    {
     "name": "stderr",
     "output_type": "stream",
     "text": [
      "d:\\Anaconda3\\lib\\site-packages\\numpy\\lib\\function_base.py:3826: RuntimeWarning: Invalid value encountered in percentile\n",
      "  interpolation=interpolation)\n"
     ]
    },
    {
     "name": "stdout",
     "output_type": "stream",
     "text": [
      "reverse=-1\n",
      "TF kdj.j.trend.index\n",
      "reverse=1\n"
     ]
    },
    {
     "name": "stderr",
     "output_type": "stream",
     "text": [
      "d:\\Anaconda3\\lib\\site-packages\\numpy\\lib\\function_base.py:3826: RuntimeWarning: Invalid value encountered in percentile\n",
      "  interpolation=interpolation)\n"
     ]
    },
    {
     "name": "stdout",
     "output_type": "stream",
     "text": [
      "reverse=-1\n",
      "Wall time: 8h 36min 2s\n"
     ]
    }
   ],
   "source": [
    "%%time\n",
    "SIGNAL_PATH = \"e:/intern\"\n",
    "for product in product_list:\n",
    "    spread = product_info[product][\"spread\"]\n",
    "    tranct = product_info[product][\"tranct\"]\n",
    "    tranct_ratio = product_info[product][\"tranct.ratio\"]\n",
    "    if product==\"IF\" or product==\"IH\" or product==\"IC\":\n",
    "        atr_filter = 100\n",
    "        avg_pnl = 10\n",
    "    else:\n",
    "        atr_filter = 20\n",
    "        avg_pnl = 2\n",
    "    for signal in all_signal_list:\n",
    "        print(product, signal)\n",
    "        evaluate_signal(signal, all_dates, product, avg_pnl, 20, CORE_NUM, HEAD_PATH, SIGNAL_PATH,\n",
    "                period=4096, split_str=\"2018\", tranct=tranct, \n",
    "                max_spread=spread*1.1, tranct_ratio=tranct_ratio, atr_filter=atr_filter, save_path=\"signal result atr\")\n",
    "\n",
    "## Wall time: 8h 36min 2s"
   ]
  },
  {
   "cell_type": "markdown",
   "metadata": {},
   "source": [
    "- we can write a function to get all the signals' performance"
   ]
  },
  {
   "cell_type": "markdown",
   "metadata": {},
   "source": [
    "- we can get the result with atr and without atr separately"
   ]
  },
  {
   "cell_type": "code",
   "execution_count": 43,
   "metadata": {},
   "outputs": [],
   "source": [
    "## get the signal performance\n",
    "## including trend and reverse signals\n",
    "def get_signal_performance_result(all_period_signal, signal_dire, period, product_list, train_sample, test_sample):\n",
    "    trend_signal_result = pd.DataFrame(data=OrderedDict([(\"signal\", all_period_signal), (\"reverse\",1),\n",
    "                               (\"num\", 0), (\"trainSharpe\", 0), (\"testSharpe\", 0)]))\n",
    "    reverse_signal_result = pd.DataFrame(data=OrderedDict([(\"signal\", all_period_signal), (\"reverse\",-1),\n",
    "                               (\"num\", 0), (\"trainSharpe\", 0), (\"testSharpe\", 0)]))\n",
    "    n_signal = len(all_period_signal) ## number of all signals\n",
    "    for k in range(n_signal):\n",
    "        test_all_pnl = np.zeros([sum(test_sample), len(product_list)]) ## test pnl\n",
    "        train_all_pnl = np.zeros([sum(train_sample), len(product_list)]) ## train pnl\n",
    "        signal_name = all_period_signal[k]\n",
    "        i = 0\n",
    "        for product in product_list:\n",
    "            if product==\"IF\" or product==\"IH\" or product==\"IC\":\n",
    "                avg_pnl = 10\n",
    "            else:\n",
    "                avg_pnl = 2\n",
    "            stat_result = load(HEAD_PATH+\"/\" + signal_dire +\"/\"+product+\".\"+signal_name+\".pkl\") ## statistics of signal over a product\n",
    "            trend_signal_stat = stat_result['trend.signal.stat'] ## trending statistics\n",
    "            spread = product_info[product][\"spread\"]\n",
    "            if tuple(trend_signal_stat.keys())[0]=='train.stat':\n",
    "                train_stat = trend_signal_stat[\"train.stat\"]\n",
    "                test_stat = trend_signal_stat[\"test.stat\"]\n",
    "                #good_strat = trend_signal_stat[\"good.strat\"]\n",
    "                good_strat = (train_stat[\"final.result\"][\"avg.pnl\"]>avg_pnl*spread) & (train_stat[\"final.result\"][\"num\"]>10) ## filter criterion\n",
    "                if sum(good_strat)>2:\n",
    "                    train_stat = trend_signal_stat[\"train.stat\"]\n",
    "                    test_stat = trend_signal_stat[\"test.stat\"]\n",
    "                    train_pnl = train_stat[\"daily.ret\"].loc[:, good_strat].sum(axis=1)/sum(good_strat) ## get the daily return\n",
    "                    #train_std = np.std(train_pnl)\n",
    "                    #train_pnl = train_pnl/train_std\n",
    "                    test_pnl = test_stat[\"daily.ret\"].loc[:, good_strat].sum(axis=1)/sum(good_strat)\n",
    "                    #print(product, \"train sharpe \", sharpe(train_pnl), \"test sharpe \", sharpe(test_pnl))\n",
    "                    test_all_pnl[:,i] = test_pnl\n",
    "                    train_all_pnl[:,i] = train_pnl\n",
    "                    i = i+1\n",
    "            if i>0: ## if there are any good products\n",
    "                train_portfolio = np.array(np.mean(train_all_pnl[:,0:i], axis=1)) ## training portfolio\n",
    "                test_portfolio = np.array(np.mean(test_all_pnl[:,0:i], axis=1)) ## testing portfolio\n",
    "                all_portfolio = np.append(train_portfolio, test_portfolio)\n",
    "                trend_signal_result.loc[k, (\"signal\", \"num\", \"trainSharpe\", \"testSharpe\")] = (signal_name, i,  sharpe(train_portfolio),sharpe(test_portfolio))\n",
    "        test_all_pnl = np.zeros([sum(test_sample), len(product_list)])\n",
    "        train_all_pnl = np.zeros([sum(train_sample), len(product_list)])\n",
    "        i = 0\n",
    "        for product in product_list:\n",
    "            stat_result = load(HEAD_PATH+\"/\"+signal_dire+\"/\"+product+\".\"+signal_name+\".pkl\")\n",
    "            reverse_signal_stat = stat_result['reverse.signal.stat']\n",
    "            spread = product_info[product][\"spread\"]\n",
    "            if tuple(reverse_signal_stat.keys())[0]=='train.stat':\n",
    "                #good_strat = reverse_signal_stat[\"good.strat\"]\n",
    "                train_stat = reverse_signal_stat[\"train.stat\"]\n",
    "                test_stat = reverse_signal_stat[\"test.stat\"]\n",
    "                good_strat = (train_stat[\"final.result\"][\"avg.pnl\"]>avg_pnl*spread) & (train_stat[\"final.result\"][\"num\"]>10)\n",
    "                if sum(good_strat)>2:\n",
    "                    train_pnl = train_stat[\"daily.ret\"].loc[:, good_strat].sum(axis=1)/sum(good_strat)\n",
    "                    #train_std = np.std(train_pnl)\n",
    "                    #train_pnl = train_pnl/train_std\n",
    "                    test_pnl = test_stat[\"daily.ret\"].loc[:, good_strat].sum(axis=1)/sum(good_strat)\n",
    "                    test_all_pnl[:,i] = test_pnl\n",
    "                    train_all_pnl[:,i] = train_pnl\n",
    "                    i = i+1\n",
    "            if i>0:\n",
    "                train_portfolio = np.array(np.mean(train_all_pnl[:,0:i], axis=1))\n",
    "                test_portfolio = np.array(np.mean(test_all_pnl[:,0:i], axis=1))\n",
    "                all_portfolio = np.append(train_portfolio, test_portfolio)\n",
    "                reverse_signal_result.loc[k, (\"signal\",\"num\", \"trainSharpe\", \"testSharpe\")] = (signal_name, i, sharpe(train_portfolio),sharpe(test_portfolio))\n",
    "    return OrderedDict([(\"trend.signal.stat\", trend_signal_result), \n",
    "                        (\"reverse.signal.stat\", reverse_signal_result)])\n"
   ]
  },
  {
   "cell_type": "code",
   "execution_count": 44,
   "metadata": {},
   "outputs": [],
   "source": [
    "result_atr = get_signal_performance_result(all_period_signal, \"signal result atr\", 4096, product_list, train_sample, test_sample)"
   ]
  },
  {
   "cell_type": "code",
   "execution_count": 45,
   "metadata": {},
   "outputs": [],
   "source": [
    "def get_single_signal_stat(result_atr, min_num=0, min_sharpe=0.5):\n",
    "    good_trend = (result_atr[\"trend.signal.stat\"][\"num\"]>min_num) & (result_atr[\"trend.signal.stat\"][\"trainSharpe\"]>min_sharpe) & (result_atr[\"trend.signal.stat\"][\"testSharpe\"]>min_sharpe)\n",
    "    good_reverse = (result_atr[\"reverse.signal.stat\"][\"num\"]>min_num) & (result_atr[\"reverse.signal.stat\"][\"trainSharpe\"]>min_sharpe) & (result_atr[\"reverse.signal.stat\"][\"testSharpe\"]>min_sharpe)\n",
    "    print(\"with atr good signals: \"+ str(sum(good_trend | good_reverse)))\n",
    "    train_sharpe = np.mean(np.append(result_atr[\"trend.signal.stat\"][\"trainSharpe\"][good_trend],\n",
    "                      result_atr[\"reverse.signal.stat\"][\"trainSharpe\"][good_reverse]))\n",
    "    test_sharpe = np.mean(np.append(result_atr[\"trend.signal.stat\"][\"testSharpe\"][good_trend],\n",
    "                      result_atr[\"reverse.signal.stat\"][\"testSharpe\"][good_reverse]))\n",
    "    print(\"train sharpe: \", train_sharpe)\n",
    "    print(\"test sharpe: \", test_sharpe)\n",
    "    print(all_signal_list[good_trend])\n",
    "    print(all_signal_list[good_reverse])\n"
   ]
  },
  {
   "cell_type": "code",
   "execution_count": 46,
   "metadata": {},
   "outputs": [
    {
     "name": "stdout",
     "output_type": "stream",
     "text": [
      "with atr good signals: 9\n",
      "train sharpe:  0.8992799496158685\n",
      "test sharpe:  0.7257340111924915\n",
      "['nr' 'dbook' 'kdj.j' 'total.trade.imb.std' 'nr.std']\n",
      "['total.trade.imb' 'dbook' 'trade.imb.std' 'dbook.std'\n",
      " 'kdj.k.volume.open.ratio']\n"
     ]
    }
   ],
   "source": [
    "get_single_signal_stat(result_atr, min_num=0, min_sharpe=0.5)\n",
    "\n",
    "# with atr good signals: 9\n",
    "# train sharpe:  0.8992799496158685\n",
    "# test sharpe:  0.7257340111924915\n",
    "# ['nr' 'dbook' 'kdj.j' 'total.trade.imb.std' 'nr.std']\n",
    "# ['total.trade.imb' 'dbook' 'trade.imb.std' 'dbook.std'\n",
    "#  'kdj.k.volume.open.ratio']\n",
    "\n",
    "\n",
    "\n"
   ]
  },
  {
   "cell_type": "code",
   "execution_count": 47,
   "metadata": {},
   "outputs": [
    {
     "name": "stdout",
     "output_type": "stream",
     "text": [
      "with atr good signals: 7\n",
      "train sharpe:  0.9900414492692252\n",
      "test sharpe:  0.7111257048084579\n",
      "['nr' 'dbook' 'kdj.j' 'total.trade.imb.std' 'nr.std']\n",
      "['trade.imb.std' 'kdj.k.volume.open.ratio']\n"
     ]
    }
   ],
   "source": [
    "get_single_signal_stat(result_atr, min_num=1, min_sharpe=0.5)\n",
    "\n",
    "# with atr good signals: 7\n",
    "# train sharpe:  0.9900414492692252\n",
    "# test sharpe:  0.7111257048084579\n",
    "# ['nr' 'dbook' 'kdj.j' 'total.trade.imb.std' 'nr.std']\n",
    "# ['trade.imb.std' 'kdj.k.volume.open.ratio']\n",
    "\n",
    "\n"
   ]
  },
  {
   "cell_type": "code",
   "execution_count": 30,
   "metadata": {},
   "outputs": [
    {
     "name": "stdout",
     "output_type": "stream",
     "text": [
      "with atr good signals: 5\n",
      "train sharpe:  1.1122554570979415\n",
      "test sharpe:  0.6958291373016495\n",
      "['nr' 'dbook' 'kdj.j' 'total.trade.imb.std' 'nr.std']\n",
      "[]\n"
     ]
    }
   ],
   "source": [
    "get_single_signal_stat(result_atr, min_num=2, min_sharpe=0.5)\n",
    "\n",
    "# with atr good signals: 5\n",
    "# train sharpe:  1.1122554570979415\n",
    "# test sharpe:  0.6958291373016495\n",
    "# ['nr' 'dbook' 'kdj.j' 'total.trade.imb.std' 'nr.std']\n",
    "# []\n",
    "\n"
   ]
  },
  {
   "cell_type": "code",
   "execution_count": 31,
   "metadata": {},
   "outputs": [
    {
     "name": "stdout",
     "output_type": "stream",
     "text": [
      "with atr good signals: 3\n",
      "train sharpe:  1.3090453422897632\n",
      "test sharpe:  0.7333286271985716\n",
      "['kdj.j' 'total.trade.imb.std' 'nr.std']\n",
      "[]\n"
     ]
    }
   ],
   "source": [
    "get_single_signal_stat(result_atr, min_num=3, min_sharpe=0.5)\n",
    "\n",
    "# with atr good signals: 3\n",
    "# train sharpe:  1.3090453422897632\n",
    "# test sharpe:  0.7333286271985716\n",
    "# ['kdj.j' 'total.trade.imb.std' 'nr.std']\n",
    "# []\n",
    "\n",
    "\n",
    "\n"
   ]
  },
  {
   "cell_type": "code",
   "execution_count": 32,
   "metadata": {},
   "outputs": [
    {
     "name": "stdout",
     "output_type": "stream",
     "text": [
      "with atr good signals: 1\n",
      "train sharpe:  1.049611958678093\n",
      "test sharpe:  0.6410314101993153\n",
      "['total.trade.imb.std']\n",
      "[]\n"
     ]
    }
   ],
   "source": [
    "get_single_signal_stat(result_atr, min_num=4, min_sharpe=0.5)\n",
    "\n",
    "# with atr good signals: 1\n",
    "# train sharpe:  1.049611958678093\n",
    "# test sharpe:  0.6410314101993153\n",
    "# ['total.trade.imb.std']\n",
    "# []\n"
   ]
  },
  {
   "cell_type": "markdown",
   "metadata": {},
   "source": [
    "- we can see that their results are very similar"
   ]
  },
  {
   "cell_type": "markdown",
   "metadata": {},
   "source": [
    "- Conclusion\n",
    "- This week we have generated results for all of the 35 signals\n",
    "- We have compared backtest result with and without atr\n",
    "- we find that there is not much difference between them\n",
    "- previously we found that for iorn with atr is better than without atr\n",
    "- that's because we lower the threhsold for number of trades\n",
    "- now we use 20 trades for training maybe for i there are not enough trades\n",
    "- Anyway, currently there are too many signals and hard to tune parameters\n",
    "- in the future, we can use fewer signals so that we can do the research more efficiently"
   ]
  },
  {
   "cell_type": "code",
   "execution_count": null,
   "metadata": {},
   "outputs": [],
   "source": []
  }
 ],
 "metadata": {
  "kernelspec": {
   "display_name": "Python 3",
   "language": "python",
   "name": "python3"
  },
  "language_info": {
   "codemirror_mode": {
    "name": "ipython",
    "version": 3
   },
   "file_extension": ".py",
   "mimetype": "text/x-python",
   "name": "python",
   "nbconvert_exporter": "python",
   "pygments_lexer": "ipython3",
   "version": "3.7.4"
  }
 },
 "nbformat": 4,
 "nbformat_minor": 2
}
